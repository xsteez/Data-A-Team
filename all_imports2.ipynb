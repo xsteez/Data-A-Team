{
 "cells": [
  {
   "cell_type": "code",
   "execution_count": 1,
   "id": "d6153387-8a17-4646-acdc-78995e0d5289",
   "metadata": {},
   "outputs": [],
   "source": [
    "import requests\n",
    "import time\n",
    "import os\n",
    "\n",
    "from zipfile import ZipFile\n",
    "\n",
    "from io import BytesIO"
   ]
  },
  {
   "cell_type": "code",
   "execution_count": 4,
   "id": "6350fa80-28bd-4429-81f2-362c18a6ff1e",
   "metadata": {},
   "outputs": [],
   "source": [
    "def get_fars_data(start_year, end_year=None):\n",
    "\n",
    "    base_url = \"https://www.nhtsa.gov/file-downloads/download\"\n",
    "\n",
    "    if end_year is None:\n",
    "        end_year = start_year\n",
    "    \n",
    "    for year in range(start_year, end_year + 1):\n",
    "\n",
    "        path = f'./data/{year}_fars/'\n",
    "        \n",
    "        # try the request three times before giving up\n",
    "        current_tries = 1\n",
    "        while current_tries < 3:\n",
    "            try:\n",
    "                # get FARS .zip files\n",
    "                res = requests.get(url=base_url, params={\n",
    "                    'p': f\"nhtsa/downloads/FARS/{year}/National/FARS{year}NationalCSV.zip\"\n",
    "                })\n",
    "                assert res.status_code == 200  \n",
    "                \n",
    "                # extract FARS .zip files to folders by year\n",
    "                with ZipFile(BytesIO(res.content)) as zfile:\n",
    "                    zfile.extractall(path)\n",
    "                \n",
    "                break\n",
    "            except:\n",
    "                time.sleep(1)\n",
    "                current_tries += 1\n",
    "        \n",
    "        # same for Auxiliary data\n",
    "        current_tries = 1\n",
    "        while current_tries < 3:\n",
    "            try:\n",
    "                res_aux = requests.get(url=base_url, params={\n",
    "                    'p': f\"nhtsa/downloads/FARS/{year}/National/FARS{year}NationalAuxiliaryCSV.zip\"\n",
    "                })\n",
    "                assert res_aux.status_code == 200  \n",
    "                with ZipFile(BytesIO(res_aux.content)) as zfile:\n",
    "                    zfile.extractall(path)\n",
    "                break\n",
    "            except:\n",
    "                time.sleep(1)\n",
    "                current_tries += 1\n",
    "\n",
    "        # convert filenames to lowercase      \n",
    "        for file in os.listdir(path):\n",
    "            os.rename(path + file, path + file.lower())\n",
    "        \n",
    "        time.sleep(1)"
   ]
  },
  {
   "cell_type": "code",
   "execution_count": 6,
   "id": "25d05d76-6ee2-4b16-88f7-130ee77163c2",
   "metadata": {},
   "outputs": [],
   "source": [
    "get_fars_data(2010, 2020)"
   ]
  },
  {
   "cell_type": "code",
   "execution_count": null,
   "id": "f3c14085-7d29-4be3-a5b0-0bd2aec1f361",
   "metadata": {},
   "outputs": [],
   "source": []
  },
  {
   "cell_type": "code",
   "execution_count": null,
   "id": "3fcbd0d4-694b-43e4-9b38-355f5188303c",
   "metadata": {},
   "outputs": [],
   "source": []
  }
 ],
 "metadata": {
  "kernelspec": {
   "display_name": "Python 3",
   "language": "python",
   "name": "python3"
  },
  "language_info": {
   "codemirror_mode": {
    "name": "ipython",
    "version": 3
   },
   "file_extension": ".py",
   "mimetype": "text/x-python",
   "name": "python",
   "nbconvert_exporter": "python",
   "pygments_lexer": "ipython3",
   "version": "3.8.8"
  }
 },
 "nbformat": 4,
 "nbformat_minor": 5
}
