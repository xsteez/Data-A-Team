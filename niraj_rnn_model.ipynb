{
 "cells": [
  {
   "cell_type": "markdown",
   "metadata": {},
   "source": [
    "# Project5: Niraj \n",
    "## Accident time series \n",
    "\n"
   ]
  },
  {
   "cell_type": "code",
   "execution_count": 517,
   "metadata": {},
   "outputs": [],
   "source": [
    "import numpy as np\n",
    "import pandas as pd\n",
    "import matplotlib.pyplot as plt\n",
    "import seaborn as sns\n",
    "\n",
    "\n",
    "from sklearn.preprocessing import StandardScaler\n",
    "from sklearn.model_selection import train_test_split\n",
    "from sklearn.metrics import accuracy_score\n",
    "from sklearn.metrics import mean_squared_error, mean_absolute_error, mean_absolute_percentage_error\n",
    "from sklearn import metrics \n",
    "\n",
    "from tensorflow.keras.models import Sequential\n",
    "from tensorflow.keras.layers import Dense, Dropout, GRU, LSTM\n",
    "from tensorflow.keras.optimizers import Adam\n",
    "from tensorflow.keras.preprocessing.sequence import TimeseriesGenerator\n",
    "\n",
    "import tensorflow as tf\n",
    "\n",
    "from tensorflow.keras.callbacks import EarlyStopping, ModelCheckpoint, LearningRateScheduler\n",
    "from tensorflow import keras\n",
    "from tensorflow.keras.regularizers import l2\n"
   ]
  },
  {
   "cell_type": "code",
   "execution_count": 518,
   "metadata": {},
   "outputs": [
    {
     "name": "stderr",
     "output_type": "stream",
     "text": [
      "/Users/sarniraj/opt/anaconda3/lib/python3.8/site-packages/IPython/core/interactiveshell.py:3172: DtypeWarning: Columns (3,6,8,11,20,24,26,28,30,32,34,36,38,40,42,44,48,50,52) have mixed types.Specify dtype option on import or set low_memory=False.\n",
      "  has_raised = await self.run_ast_nodes(code_ast.body, cell_name,\n"
     ]
    }
   ],
   "source": [
    "# Read the saved csv from the earlier notebook and set the index to the date_time column\n",
    "\n",
    "df_accident_ts = pd.read_csv(\"./data/accident_ts_10years.csv\", parse_dates= ['date_time'], index_col=\"date_time\")"
   ]
  },
  {
   "cell_type": "code",
   "execution_count": 519,
   "metadata": {},
   "outputs": [],
   "source": [
    "df_accident_ts.reset_index()\n",
    "df_accident_ts.sort_index(inplace=True)"
   ]
  },
  {
   "cell_type": "code",
   "execution_count": 520,
   "metadata": {},
   "outputs": [
    {
     "data": {
      "text/plain": [
       "0"
      ]
     },
     "execution_count": 520,
     "metadata": {},
     "output_type": "execute_result"
    }
   ],
   "source": [
    "df_accident_ts.index.isnull().sum()"
   ]
  },
  {
   "cell_type": "code",
   "execution_count": 521,
   "metadata": {},
   "outputs": [
    {
     "data": {
      "text/html": [
       "<div>\n",
       "<style scoped>\n",
       "    .dataframe tbody tr th:only-of-type {\n",
       "        vertical-align: middle;\n",
       "    }\n",
       "\n",
       "    .dataframe tbody tr th {\n",
       "        vertical-align: top;\n",
       "    }\n",
       "\n",
       "    .dataframe thead th {\n",
       "        text-align: right;\n",
       "    }\n",
       "</style>\n",
       "<table border=\"1\" class=\"dataframe\">\n",
       "  <thead>\n",
       "    <tr style=\"text-align: right;\">\n",
       "      <th></th>\n",
       "      <th>year</th>\n",
       "      <th>month</th>\n",
       "      <th>day_week</th>\n",
       "      <th>hour</th>\n",
       "      <th>minute</th>\n",
       "      <th>day_3hr_window</th>\n",
       "      <th>day_3hr_window_name</th>\n",
       "      <th>fatals</th>\n",
       "      <th>drunk_dr</th>\n",
       "    </tr>\n",
       "    <tr>\n",
       "      <th>date_time</th>\n",
       "      <th></th>\n",
       "      <th></th>\n",
       "      <th></th>\n",
       "      <th></th>\n",
       "      <th></th>\n",
       "      <th></th>\n",
       "      <th></th>\n",
       "      <th></th>\n",
       "      <th></th>\n",
       "    </tr>\n",
       "  </thead>\n",
       "  <tbody>\n",
       "    <tr>\n",
       "      <th>2010-01-01 00:01:00</th>\n",
       "      <td>2010</td>\n",
       "      <td>1</td>\n",
       "      <td>6</td>\n",
       "      <td>0</td>\n",
       "      <td>1</td>\n",
       "      <td>41</td>\n",
       "      <td>NaN</td>\n",
       "      <td>1</td>\n",
       "      <td>1</td>\n",
       "    </tr>\n",
       "    <tr>\n",
       "      <th>2010-01-01 00:07:00</th>\n",
       "      <td>2010</td>\n",
       "      <td>1</td>\n",
       "      <td>6</td>\n",
       "      <td>0</td>\n",
       "      <td>7</td>\n",
       "      <td>41</td>\n",
       "      <td>NaN</td>\n",
       "      <td>2</td>\n",
       "      <td>2</td>\n",
       "    </tr>\n",
       "    <tr>\n",
       "      <th>2010-01-01 00:17:00</th>\n",
       "      <td>2010</td>\n",
       "      <td>1</td>\n",
       "      <td>6</td>\n",
       "      <td>0</td>\n",
       "      <td>17</td>\n",
       "      <td>41</td>\n",
       "      <td>NaN</td>\n",
       "      <td>1</td>\n",
       "      <td>1</td>\n",
       "    </tr>\n",
       "    <tr>\n",
       "      <th>2010-01-01 00:17:00</th>\n",
       "      <td>2010</td>\n",
       "      <td>1</td>\n",
       "      <td>6</td>\n",
       "      <td>0</td>\n",
       "      <td>17</td>\n",
       "      <td>41</td>\n",
       "      <td>NaN</td>\n",
       "      <td>1</td>\n",
       "      <td>1</td>\n",
       "    </tr>\n",
       "    <tr>\n",
       "      <th>2010-01-01 00:19:00</th>\n",
       "      <td>2010</td>\n",
       "      <td>1</td>\n",
       "      <td>6</td>\n",
       "      <td>0</td>\n",
       "      <td>19</td>\n",
       "      <td>41</td>\n",
       "      <td>NaN</td>\n",
       "      <td>1</td>\n",
       "      <td>1</td>\n",
       "    </tr>\n",
       "    <tr>\n",
       "      <th>...</th>\n",
       "      <td>...</td>\n",
       "      <td>...</td>\n",
       "      <td>...</td>\n",
       "      <td>...</td>\n",
       "      <td>...</td>\n",
       "      <td>...</td>\n",
       "      <td>...</td>\n",
       "      <td>...</td>\n",
       "      <td>...</td>\n",
       "    </tr>\n",
       "    <tr>\n",
       "      <th>2020-12-31 23:32:00</th>\n",
       "      <td>2020</td>\n",
       "      <td>12</td>\n",
       "      <td>5</td>\n",
       "      <td>23</td>\n",
       "      <td>32</td>\n",
       "      <td>40</td>\n",
       "      <td>Thursday 21:00 to 24:00</td>\n",
       "      <td>1</td>\n",
       "      <td>0</td>\n",
       "    </tr>\n",
       "    <tr>\n",
       "      <th>2020-12-31 23:36:00</th>\n",
       "      <td>2020</td>\n",
       "      <td>12</td>\n",
       "      <td>5</td>\n",
       "      <td>23</td>\n",
       "      <td>36</td>\n",
       "      <td>40</td>\n",
       "      <td>Thursday 21:00 to 24:00</td>\n",
       "      <td>1</td>\n",
       "      <td>0</td>\n",
       "    </tr>\n",
       "    <tr>\n",
       "      <th>2020-12-31 23:50:00</th>\n",
       "      <td>2020</td>\n",
       "      <td>12</td>\n",
       "      <td>5</td>\n",
       "      <td>23</td>\n",
       "      <td>50</td>\n",
       "      <td>40</td>\n",
       "      <td>Thursday 21:00 to 24:00</td>\n",
       "      <td>1</td>\n",
       "      <td>0</td>\n",
       "    </tr>\n",
       "    <tr>\n",
       "      <th>2020-12-31 23:50:00</th>\n",
       "      <td>2020</td>\n",
       "      <td>12</td>\n",
       "      <td>5</td>\n",
       "      <td>23</td>\n",
       "      <td>50</td>\n",
       "      <td>40</td>\n",
       "      <td>Thursday 21:00 to 24:00</td>\n",
       "      <td>1</td>\n",
       "      <td>0</td>\n",
       "    </tr>\n",
       "    <tr>\n",
       "      <th>2020-12-31 23:51:00</th>\n",
       "      <td>2020</td>\n",
       "      <td>12</td>\n",
       "      <td>5</td>\n",
       "      <td>23</td>\n",
       "      <td>51</td>\n",
       "      <td>40</td>\n",
       "      <td>Thursday 21:00 to 24:00</td>\n",
       "      <td>1</td>\n",
       "      <td>1</td>\n",
       "    </tr>\n",
       "  </tbody>\n",
       "</table>\n",
       "<p>353764 rows × 9 columns</p>\n",
       "</div>"
      ],
      "text/plain": [
       "                     year  month  day_week  hour  minute  day_3hr_window  \\\n",
       "date_time                                                                  \n",
       "2010-01-01 00:01:00  2010      1         6     0       1              41   \n",
       "2010-01-01 00:07:00  2010      1         6     0       7              41   \n",
       "2010-01-01 00:17:00  2010      1         6     0      17              41   \n",
       "2010-01-01 00:17:00  2010      1         6     0      17              41   \n",
       "2010-01-01 00:19:00  2010      1         6     0      19              41   \n",
       "...                   ...    ...       ...   ...     ...             ...   \n",
       "2020-12-31 23:32:00  2020     12         5    23      32              40   \n",
       "2020-12-31 23:36:00  2020     12         5    23      36              40   \n",
       "2020-12-31 23:50:00  2020     12         5    23      50              40   \n",
       "2020-12-31 23:50:00  2020     12         5    23      50              40   \n",
       "2020-12-31 23:51:00  2020     12         5    23      51              40   \n",
       "\n",
       "                         day_3hr_window_name  fatals  drunk_dr  \n",
       "date_time                                                       \n",
       "2010-01-01 00:01:00                      NaN       1         1  \n",
       "2010-01-01 00:07:00                      NaN       2         2  \n",
       "2010-01-01 00:17:00                      NaN       1         1  \n",
       "2010-01-01 00:17:00                      NaN       1         1  \n",
       "2010-01-01 00:19:00                      NaN       1         1  \n",
       "...                                      ...     ...       ...  \n",
       "2020-12-31 23:32:00  Thursday 21:00 to 24:00       1         0  \n",
       "2020-12-31 23:36:00  Thursday 21:00 to 24:00       1         0  \n",
       "2020-12-31 23:50:00  Thursday 21:00 to 24:00       1         0  \n",
       "2020-12-31 23:50:00  Thursday 21:00 to 24:00       1         0  \n",
       "2020-12-31 23:51:00  Thursday 21:00 to 24:00       1         1  \n",
       "\n",
       "[353764 rows x 9 columns]"
      ]
     },
     "execution_count": 521,
     "metadata": {},
     "output_type": "execute_result"
    }
   ],
   "source": [
    "# See relavant accident data \n",
    "df_accident_ts[['year', \"month\", \"day_week\", \"hour\", \"minute\", \"day_3hr_window\", \"day_3hr_window_name\", \"fatals\", \"drunk_dr\"]]\n"
   ]
  },
  {
   "cell_type": "code",
   "execution_count": 522,
   "metadata": {},
   "outputs": [],
   "source": [
    "# Create new df for modeling which has the columns we need, by day \n",
    "# can do by day: 365*11 = 4000 records or by 3 hour windows = 32k records\n",
    "df_model_day = df_accident_ts.resample(\"D\").sum()[[\"fatals\", \"drunk_dr\", \"peds\", \"ve_total\", \"persons\" ]]"
   ]
  },
  {
   "cell_type": "code",
   "execution_count": 523,
   "metadata": {},
   "outputs": [
    {
     "data": {
      "text/html": [
       "<div>\n",
       "<style scoped>\n",
       "    .dataframe tbody tr th:only-of-type {\n",
       "        vertical-align: middle;\n",
       "    }\n",
       "\n",
       "    .dataframe tbody tr th {\n",
       "        vertical-align: top;\n",
       "    }\n",
       "\n",
       "    .dataframe thead th {\n",
       "        text-align: right;\n",
       "    }\n",
       "</style>\n",
       "<table border=\"1\" class=\"dataframe\">\n",
       "  <thead>\n",
       "    <tr style=\"text-align: right;\">\n",
       "      <th></th>\n",
       "      <th>fatals</th>\n",
       "      <th>drunk_dr</th>\n",
       "      <th>peds</th>\n",
       "      <th>ve_total</th>\n",
       "      <th>persons</th>\n",
       "    </tr>\n",
       "    <tr>\n",
       "      <th>date_time</th>\n",
       "      <th></th>\n",
       "      <th></th>\n",
       "      <th></th>\n",
       "      <th></th>\n",
       "      <th></th>\n",
       "    </tr>\n",
       "  </thead>\n",
       "  <tbody>\n",
       "    <tr>\n",
       "      <th>2010-01-01</th>\n",
       "      <td>134</td>\n",
       "      <td>74</td>\n",
       "      <td>19</td>\n",
       "      <td>181</td>\n",
       "      <td>321</td>\n",
       "    </tr>\n",
       "    <tr>\n",
       "      <th>2010-01-02</th>\n",
       "      <td>61</td>\n",
       "      <td>25</td>\n",
       "      <td>9</td>\n",
       "      <td>74</td>\n",
       "      <td>117</td>\n",
       "    </tr>\n",
       "    <tr>\n",
       "      <th>2010-01-03</th>\n",
       "      <td>54</td>\n",
       "      <td>27</td>\n",
       "      <td>3</td>\n",
       "      <td>78</td>\n",
       "      <td>132</td>\n",
       "    </tr>\n",
       "    <tr>\n",
       "      <th>2010-01-04</th>\n",
       "      <td>70</td>\n",
       "      <td>13</td>\n",
       "      <td>9</td>\n",
       "      <td>104</td>\n",
       "      <td>136</td>\n",
       "    </tr>\n",
       "    <tr>\n",
       "      <th>2010-01-05</th>\n",
       "      <td>68</td>\n",
       "      <td>12</td>\n",
       "      <td>19</td>\n",
       "      <td>115</td>\n",
       "      <td>154</td>\n",
       "    </tr>\n",
       "    <tr>\n",
       "      <th>...</th>\n",
       "      <td>...</td>\n",
       "      <td>...</td>\n",
       "      <td>...</td>\n",
       "      <td>...</td>\n",
       "      <td>...</td>\n",
       "    </tr>\n",
       "    <tr>\n",
       "      <th>2020-12-27</th>\n",
       "      <td>98</td>\n",
       "      <td>27</td>\n",
       "      <td>21</td>\n",
       "      <td>128</td>\n",
       "      <td>201</td>\n",
       "    </tr>\n",
       "    <tr>\n",
       "      <th>2020-12-28</th>\n",
       "      <td>98</td>\n",
       "      <td>12</td>\n",
       "      <td>17</td>\n",
       "      <td>140</td>\n",
       "      <td>198</td>\n",
       "    </tr>\n",
       "    <tr>\n",
       "      <th>2020-12-29</th>\n",
       "      <td>88</td>\n",
       "      <td>16</td>\n",
       "      <td>22</td>\n",
       "      <td>126</td>\n",
       "      <td>194</td>\n",
       "    </tr>\n",
       "    <tr>\n",
       "      <th>2020-12-30</th>\n",
       "      <td>96</td>\n",
       "      <td>26</td>\n",
       "      <td>20</td>\n",
       "      <td>129</td>\n",
       "      <td>164</td>\n",
       "    </tr>\n",
       "    <tr>\n",
       "      <th>2020-12-31</th>\n",
       "      <td>105</td>\n",
       "      <td>21</td>\n",
       "      <td>30</td>\n",
       "      <td>158</td>\n",
       "      <td>241</td>\n",
       "    </tr>\n",
       "  </tbody>\n",
       "</table>\n",
       "<p>4018 rows × 5 columns</p>\n",
       "</div>"
      ],
      "text/plain": [
       "            fatals  drunk_dr  peds  ve_total  persons\n",
       "date_time                                            \n",
       "2010-01-01     134        74    19       181      321\n",
       "2010-01-02      61        25     9        74      117\n",
       "2010-01-03      54        27     3        78      132\n",
       "2010-01-04      70        13     9       104      136\n",
       "2010-01-05      68        12    19       115      154\n",
       "...            ...       ...   ...       ...      ...\n",
       "2020-12-27      98        27    21       128      201\n",
       "2020-12-28      98        12    17       140      198\n",
       "2020-12-29      88        16    22       126      194\n",
       "2020-12-30      96        26    20       129      164\n",
       "2020-12-31     105        21    30       158      241\n",
       "\n",
       "[4018 rows x 5 columns]"
      ]
     },
     "execution_count": 523,
     "metadata": {},
     "output_type": "execute_result"
    }
   ],
   "source": [
    "df_model_day"
   ]
  },
  {
   "cell_type": "code",
   "execution_count": 450,
   "metadata": {},
   "outputs": [
    {
     "data": {
      "text/html": [
       "<div>\n",
       "<style scoped>\n",
       "    .dataframe tbody tr th:only-of-type {\n",
       "        vertical-align: middle;\n",
       "    }\n",
       "\n",
       "    .dataframe tbody tr th {\n",
       "        vertical-align: top;\n",
       "    }\n",
       "\n",
       "    .dataframe thead th {\n",
       "        text-align: right;\n",
       "    }\n",
       "</style>\n",
       "<table border=\"1\" class=\"dataframe\">\n",
       "  <thead>\n",
       "    <tr style=\"text-align: right;\">\n",
       "      <th></th>\n",
       "      <th>fatals</th>\n",
       "      <th>drunk_dr</th>\n",
       "      <th>peds</th>\n",
       "      <th>ve_total</th>\n",
       "      <th>persons</th>\n",
       "    </tr>\n",
       "  </thead>\n",
       "  <tbody>\n",
       "    <tr>\n",
       "      <th>count</th>\n",
       "      <td>4018.000000</td>\n",
       "      <td>4018.000000</td>\n",
       "      <td>4018.000000</td>\n",
       "      <td>4018.000000</td>\n",
       "      <td>4018.000000</td>\n",
       "    </tr>\n",
       "    <tr>\n",
       "      <th>mean</th>\n",
       "      <td>95.776257</td>\n",
       "      <td>25.554754</td>\n",
       "      <td>18.878795</td>\n",
       "      <td>136.674465</td>\n",
       "      <td>199.086361</td>\n",
       "    </tr>\n",
       "    <tr>\n",
       "      <th>std</th>\n",
       "      <td>21.590549</td>\n",
       "      <td>12.740223</td>\n",
       "      <td>6.523888</td>\n",
       "      <td>29.669771</td>\n",
       "      <td>50.223789</td>\n",
       "    </tr>\n",
       "    <tr>\n",
       "      <th>min</th>\n",
       "      <td>34.000000</td>\n",
       "      <td>5.000000</td>\n",
       "      <td>3.000000</td>\n",
       "      <td>45.000000</td>\n",
       "      <td>78.000000</td>\n",
       "    </tr>\n",
       "    <tr>\n",
       "      <th>25%</th>\n",
       "      <td>80.000000</td>\n",
       "      <td>16.000000</td>\n",
       "      <td>14.000000</td>\n",
       "      <td>115.000000</td>\n",
       "      <td>161.000000</td>\n",
       "    </tr>\n",
       "    <tr>\n",
       "      <th>50%</th>\n",
       "      <td>93.000000</td>\n",
       "      <td>21.500000</td>\n",
       "      <td>18.000000</td>\n",
       "      <td>135.000000</td>\n",
       "      <td>193.000000</td>\n",
       "    </tr>\n",
       "    <tr>\n",
       "      <th>75%</th>\n",
       "      <td>110.000000</td>\n",
       "      <td>34.000000</td>\n",
       "      <td>23.000000</td>\n",
       "      <td>156.000000</td>\n",
       "      <td>231.000000</td>\n",
       "    </tr>\n",
       "    <tr>\n",
       "      <th>max</th>\n",
       "      <td>184.000000</td>\n",
       "      <td>87.000000</td>\n",
       "      <td>55.000000</td>\n",
       "      <td>276.000000</td>\n",
       "      <td>429.000000</td>\n",
       "    </tr>\n",
       "  </tbody>\n",
       "</table>\n",
       "</div>"
      ],
      "text/plain": [
       "            fatals     drunk_dr         peds     ve_total      persons\n",
       "count  4018.000000  4018.000000  4018.000000  4018.000000  4018.000000\n",
       "mean     95.776257    25.554754    18.878795   136.674465   199.086361\n",
       "std      21.590549    12.740223     6.523888    29.669771    50.223789\n",
       "min      34.000000     5.000000     3.000000    45.000000    78.000000\n",
       "25%      80.000000    16.000000    14.000000   115.000000   161.000000\n",
       "50%      93.000000    21.500000    18.000000   135.000000   193.000000\n",
       "75%     110.000000    34.000000    23.000000   156.000000   231.000000\n",
       "max     184.000000    87.000000    55.000000   276.000000   429.000000"
      ]
     },
     "execution_count": 450,
     "metadata": {},
     "output_type": "execute_result"
    }
   ],
   "source": [
    "df_model_day.describe()"
   ]
  },
  {
   "cell_type": "code",
   "execution_count": 451,
   "metadata": {},
   "outputs": [],
   "source": [
    "# Create new df for modeling which has the columns we need, by 3 hour windows \n",
    "# can do by day: 365*11 = 4000 records or by 3 hour windows = 24k records\n",
    "\n",
    "df_model_3hour = df_accident_ts.resample(\"3H\").sum()[[\"fatals\", \"drunk_dr\", \"peds\", \"ve_total\", \"persons\" ]]"
   ]
  },
  {
   "cell_type": "code",
   "execution_count": 452,
   "metadata": {},
   "outputs": [
    {
     "data": {
      "text/html": [
       "<div>\n",
       "<style scoped>\n",
       "    .dataframe tbody tr th:only-of-type {\n",
       "        vertical-align: middle;\n",
       "    }\n",
       "\n",
       "    .dataframe tbody tr th {\n",
       "        vertical-align: top;\n",
       "    }\n",
       "\n",
       "    .dataframe thead th {\n",
       "        text-align: right;\n",
       "    }\n",
       "</style>\n",
       "<table border=\"1\" class=\"dataframe\">\n",
       "  <thead>\n",
       "    <tr style=\"text-align: right;\">\n",
       "      <th></th>\n",
       "      <th>fatals</th>\n",
       "      <th>drunk_dr</th>\n",
       "      <th>peds</th>\n",
       "      <th>ve_total</th>\n",
       "      <th>persons</th>\n",
       "    </tr>\n",
       "  </thead>\n",
       "  <tbody>\n",
       "    <tr>\n",
       "      <th>count</th>\n",
       "      <td>32144.000000</td>\n",
       "      <td>32144.000000</td>\n",
       "      <td>32144.000000</td>\n",
       "      <td>32144.000000</td>\n",
       "      <td>32144.000000</td>\n",
       "    </tr>\n",
       "    <tr>\n",
       "      <th>mean</th>\n",
       "      <td>11.972032</td>\n",
       "      <td>3.194344</td>\n",
       "      <td>2.359849</td>\n",
       "      <td>17.084308</td>\n",
       "      <td>24.885795</td>\n",
       "    </tr>\n",
       "    <tr>\n",
       "      <th>std</th>\n",
       "      <td>5.901297</td>\n",
       "      <td>3.336050</td>\n",
       "      <td>2.430880</td>\n",
       "      <td>8.737559</td>\n",
       "      <td>14.190159</td>\n",
       "    </tr>\n",
       "    <tr>\n",
       "      <th>min</th>\n",
       "      <td>0.000000</td>\n",
       "      <td>0.000000</td>\n",
       "      <td>0.000000</td>\n",
       "      <td>0.000000</td>\n",
       "      <td>0.000000</td>\n",
       "    </tr>\n",
       "    <tr>\n",
       "      <th>25%</th>\n",
       "      <td>8.000000</td>\n",
       "      <td>1.000000</td>\n",
       "      <td>1.000000</td>\n",
       "      <td>11.000000</td>\n",
       "      <td>14.000000</td>\n",
       "    </tr>\n",
       "    <tr>\n",
       "      <th>50%</th>\n",
       "      <td>11.000000</td>\n",
       "      <td>2.000000</td>\n",
       "      <td>2.000000</td>\n",
       "      <td>16.000000</td>\n",
       "      <td>23.000000</td>\n",
       "    </tr>\n",
       "    <tr>\n",
       "      <th>75%</th>\n",
       "      <td>15.000000</td>\n",
       "      <td>4.000000</td>\n",
       "      <td>3.000000</td>\n",
       "      <td>22.000000</td>\n",
       "      <td>33.000000</td>\n",
       "    </tr>\n",
       "    <tr>\n",
       "      <th>max</th>\n",
       "      <td>44.000000</td>\n",
       "      <td>32.000000</td>\n",
       "      <td>25.000000</td>\n",
       "      <td>94.000000</td>\n",
       "      <td>153.000000</td>\n",
       "    </tr>\n",
       "  </tbody>\n",
       "</table>\n",
       "</div>"
      ],
      "text/plain": [
       "             fatals      drunk_dr          peds      ve_total       persons\n",
       "count  32144.000000  32144.000000  32144.000000  32144.000000  32144.000000\n",
       "mean      11.972032      3.194344      2.359849     17.084308     24.885795\n",
       "std        5.901297      3.336050      2.430880      8.737559     14.190159\n",
       "min        0.000000      0.000000      0.000000      0.000000      0.000000\n",
       "25%        8.000000      1.000000      1.000000     11.000000     14.000000\n",
       "50%       11.000000      2.000000      2.000000     16.000000     23.000000\n",
       "75%       15.000000      4.000000      3.000000     22.000000     33.000000\n",
       "max       44.000000     32.000000     25.000000     94.000000    153.000000"
      ]
     },
     "execution_count": 452,
     "metadata": {},
     "output_type": "execute_result"
    }
   ],
   "source": [
    "df_model_3hour.describe()"
   ]
  },
  {
   "cell_type": "markdown",
   "metadata": {},
   "source": [
    "### Let's Model! \n"
   ]
  },
  {
   "cell_type": "markdown",
   "metadata": {},
   "source": [
    "### Train test Split"
   ]
  },
  {
   "cell_type": "code",
   "execution_count": 453,
   "metadata": {},
   "outputs": [],
   "source": [
    "# Create X and y\n",
    "# maybe add other highly correlated cols like construction zone \n",
    "X = df_model_day.drop(columns = ['fatals'])\n",
    "y = df_model_day['fatals']\n"
   ]
  },
  {
   "cell_type": "code",
   "execution_count": 454,
   "metadata": {},
   "outputs": [],
   "source": [
    "# Train/Test Split\n",
    "X_train, X_test, y_train, y_test = train_test_split(X, y, test_size=0.02, shuffle = False) # keep in chronological order \n",
    "# smaller than we're used to; difficult to predict far out in the future \n",
    "# last 2% is our test\n"
   ]
  },
  {
   "cell_type": "code",
   "execution_count": 456,
   "metadata": {},
   "outputs": [
    {
     "data": {
      "text/plain": [
       "((3937, 4), (81, 4), (3937,), (81,))"
      ]
     },
     "execution_count": 456,
     "metadata": {},
     "output_type": "execute_result"
    }
   ],
   "source": [
    "X_train.shape, X_test.shape, y_train.shape, y_test.shape"
   ]
  },
  {
   "cell_type": "code",
   "execution_count": 457,
   "metadata": {},
   "outputs": [
    {
     "data": {
      "text/plain": [
       "(95.47320294640589, 110.50617283950618)"
      ]
     },
     "execution_count": 457,
     "metadata": {},
     "output_type": "execute_result"
    }
   ],
   "source": [
    "# Check target mean for both train and test\n",
    "y_train.mean(), y_test.mean()"
   ]
  },
  {
   "cell_type": "code",
   "execution_count": 458,
   "metadata": {},
   "outputs": [],
   "source": [
    "# Scale training and testing data\n",
    "sc =StandardScaler()\n",
    "X_train_sc =sc.fit_transform(X_train)\n",
    "X_test_sc = sc.transform(X_test)"
   ]
  },
  {
   "cell_type": "code",
   "execution_count": 460,
   "metadata": {},
   "outputs": [],
   "source": [
    "# Create training sequences\n",
    "\n",
    "# 64 sequences of len=3 fed through our model at a time\n",
    "train_seq = TimeseriesGenerator( X_train_sc, y_train, length = 3, batch_size=16) \n"
   ]
  },
  {
   "cell_type": "code",
   "execution_count": 461,
   "metadata": {},
   "outputs": [
    {
     "data": {
      "text/html": [
       "<div>\n",
       "<style scoped>\n",
       "    .dataframe tbody tr th:only-of-type {\n",
       "        vertical-align: middle;\n",
       "    }\n",
       "\n",
       "    .dataframe tbody tr th {\n",
       "        vertical-align: top;\n",
       "    }\n",
       "\n",
       "    .dataframe thead th {\n",
       "        text-align: right;\n",
       "    }\n",
       "</style>\n",
       "<table border=\"1\" class=\"dataframe\">\n",
       "  <thead>\n",
       "    <tr style=\"text-align: right;\">\n",
       "      <th></th>\n",
       "      <th>drunk_dr</th>\n",
       "      <th>peds</th>\n",
       "      <th>ve_total</th>\n",
       "      <th>persons</th>\n",
       "    </tr>\n",
       "    <tr>\n",
       "      <th>date_time</th>\n",
       "      <th></th>\n",
       "      <th></th>\n",
       "      <th></th>\n",
       "      <th></th>\n",
       "    </tr>\n",
       "  </thead>\n",
       "  <tbody>\n",
       "    <tr>\n",
       "      <th>2010-01-01</th>\n",
       "      <td>74</td>\n",
       "      <td>19</td>\n",
       "      <td>181</td>\n",
       "      <td>321</td>\n",
       "    </tr>\n",
       "    <tr>\n",
       "      <th>2010-01-02</th>\n",
       "      <td>25</td>\n",
       "      <td>9</td>\n",
       "      <td>74</td>\n",
       "      <td>117</td>\n",
       "    </tr>\n",
       "    <tr>\n",
       "      <th>2010-01-03</th>\n",
       "      <td>27</td>\n",
       "      <td>3</td>\n",
       "      <td>78</td>\n",
       "      <td>132</td>\n",
       "    </tr>\n",
       "    <tr>\n",
       "      <th>2010-01-04</th>\n",
       "      <td>13</td>\n",
       "      <td>9</td>\n",
       "      <td>104</td>\n",
       "      <td>136</td>\n",
       "    </tr>\n",
       "    <tr>\n",
       "      <th>2010-01-05</th>\n",
       "      <td>12</td>\n",
       "      <td>19</td>\n",
       "      <td>115</td>\n",
       "      <td>154</td>\n",
       "    </tr>\n",
       "    <tr>\n",
       "      <th>...</th>\n",
       "      <td>...</td>\n",
       "      <td>...</td>\n",
       "      <td>...</td>\n",
       "      <td>...</td>\n",
       "    </tr>\n",
       "    <tr>\n",
       "      <th>2020-10-07</th>\n",
       "      <td>22</td>\n",
       "      <td>26</td>\n",
       "      <td>167</td>\n",
       "      <td>218</td>\n",
       "    </tr>\n",
       "    <tr>\n",
       "      <th>2020-10-08</th>\n",
       "      <td>21</td>\n",
       "      <td>22</td>\n",
       "      <td>169</td>\n",
       "      <td>216</td>\n",
       "    </tr>\n",
       "    <tr>\n",
       "      <th>2020-10-09</th>\n",
       "      <td>34</td>\n",
       "      <td>31</td>\n",
       "      <td>229</td>\n",
       "      <td>303</td>\n",
       "    </tr>\n",
       "    <tr>\n",
       "      <th>2020-10-10</th>\n",
       "      <td>53</td>\n",
       "      <td>23</td>\n",
       "      <td>233</td>\n",
       "      <td>353</td>\n",
       "    </tr>\n",
       "    <tr>\n",
       "      <th>2020-10-11</th>\n",
       "      <td>48</td>\n",
       "      <td>24</td>\n",
       "      <td>185</td>\n",
       "      <td>262</td>\n",
       "    </tr>\n",
       "  </tbody>\n",
       "</table>\n",
       "<p>3937 rows × 4 columns</p>\n",
       "</div>"
      ],
      "text/plain": [
       "            drunk_dr  peds  ve_total  persons\n",
       "date_time                                    \n",
       "2010-01-01        74    19       181      321\n",
       "2010-01-02        25     9        74      117\n",
       "2010-01-03        27     3        78      132\n",
       "2010-01-04        13     9       104      136\n",
       "2010-01-05        12    19       115      154\n",
       "...              ...   ...       ...      ...\n",
       "2020-10-07        22    26       167      218\n",
       "2020-10-08        21    22       169      216\n",
       "2020-10-09        34    31       229      303\n",
       "2020-10-10        53    23       233      353\n",
       "2020-10-11        48    24       185      262\n",
       "\n",
       "[3937 rows x 4 columns]"
      ]
     },
     "execution_count": 461,
     "metadata": {},
     "output_type": "execute_result"
    }
   ],
   "source": [
    "X_train"
   ]
  },
  {
   "cell_type": "code",
   "execution_count": 462,
   "metadata": {},
   "outputs": [
    {
     "data": {
      "text/plain": [
       "array([[[ 3.78561972,  0.04294179,  1.51767441,  2.4346476 ],\n",
       "        [-0.04499528, -1.50808429, -2.10584635, -1.62303778],\n",
       "        [ 0.11135636, -2.43869993, -1.97038763, -1.32467856]],\n",
       "\n",
       "       [[-0.04499528, -1.50808429, -2.10584635, -1.62303778],\n",
       "        [ 0.11135636, -2.43869993, -1.97038763, -1.32467856],\n",
       "        [-0.98310507, -1.50808429, -1.08990595, -1.2451161 ]],\n",
       "\n",
       "       [[ 0.11135636, -2.43869993, -1.97038763, -1.32467856],\n",
       "        [-0.98310507, -1.50808429, -1.08990595, -1.2451161 ],\n",
       "        [-1.06128089,  0.04294179, -0.71739447, -0.88708504]],\n",
       "\n",
       "       [[-0.98310507, -1.50808429, -1.08990595, -1.2451161 ],\n",
       "        [-1.06128089,  0.04294179, -0.71739447, -0.88708504],\n",
       "        [-1.53033579, -1.50808429, -2.03811699, -1.88161577]],\n",
       "\n",
       "       [[-1.06128089,  0.04294179, -0.71739447, -0.88708504],\n",
       "        [-1.53033579, -1.50808429, -2.03811699, -1.88161577],\n",
       "        [-0.82675344, -0.57746864, -0.34488299, -0.13124168]],\n",
       "\n",
       "       [[-1.53033579, -1.50808429, -2.03811699, -1.88161577],\n",
       "        [-0.82675344, -0.57746864, -0.34488299, -0.13124168],\n",
       "        [-0.27952272, -1.04277646, -1.73333487, -1.76227208]],\n",
       "\n",
       "       [[-0.82675344, -0.57746864, -0.34488299, -0.13124168],\n",
       "        [-0.27952272, -1.04277646, -1.73333487, -1.76227208],\n",
       "        [ 0.65858707, -0.73257125, -0.85285319, -0.19091352]],\n",
       "\n",
       "       [[-0.27952272, -1.04277646, -1.73333487, -1.76227208],\n",
       "        [ 0.65858707, -0.73257125, -0.85285319, -0.19091352],\n",
       "        [ 0.42405962, -1.97339211, -1.56401147, -1.18544425]],\n",
       "\n",
       "       [[ 0.65858707, -0.73257125, -0.85285319, -0.19091352],\n",
       "        [ 0.42405962, -1.97339211, -1.56401147, -1.18544425],\n",
       "        [-0.74857762, -0.42236603, -1.49628211, -1.48380347]],\n",
       "\n",
       "       [[ 0.42405962, -1.97339211, -1.56401147, -1.18544425],\n",
       "        [-0.74857762, -0.42236603, -1.49628211, -1.48380347],\n",
       "        [-0.43587436, -0.42236603, -1.22536467, -1.12577241]],\n",
       "\n",
       "       [[-0.74857762, -0.42236603, -1.49628211, -1.48380347],\n",
       "        [-0.43587436, -0.42236603, -1.22536467, -1.12577241],\n",
       "        [-0.90492926, -1.19787907, -0.81898851, -0.80752258]],\n",
       "\n",
       "       [[-0.43587436, -0.42236603, -1.22536467, -1.12577241],\n",
       "        [-0.90492926, -1.19787907, -0.81898851, -0.80752258],\n",
       "        [-0.43587436, -0.73257125,  0.40013997,  0.28646123]],\n",
       "\n",
       "       [[-0.90492926, -1.19787907, -0.81898851, -0.80752258],\n",
       "        [-0.43587436, -0.73257125,  0.40013997,  0.28646123],\n",
       "        [-0.35769854, -0.26726342, -1.32695871, -0.84730381]],\n",
       "\n",
       "       [[-0.43587436, -0.73257125,  0.40013997,  0.28646123],\n",
       "        [-0.35769854, -0.26726342, -1.32695871, -0.84730381],\n",
       "        [-0.12317109,  0.50824962, -0.92058255, -0.50916336]],\n",
       "\n",
       "       [[-0.35769854, -0.26726342, -1.32695871, -0.84730381],\n",
       "        [-0.12317109,  0.50824962, -0.92058255, -0.50916336],\n",
       "        [ 0.42405962, -0.26726342, -1.46241743, -0.5688352 ]],\n",
       "\n",
       "       [[-0.12317109,  0.50824962, -0.92058255, -0.50916336],\n",
       "        [ 0.42405962, -0.26726342, -1.46241743, -0.5688352 ],\n",
       "        [-0.82675344, -0.42236603, -1.02217659, -1.08599118]]])"
      ]
     },
     "execution_count": 462,
     "metadata": {},
     "output_type": "execute_result"
    }
   ],
   "source": [
    "# Create test sequences\n",
    "# one bacth of data (batch of sequences)\n",
    "train_seq[0][0]\n"
   ]
  },
  {
   "cell_type": "code",
   "execution_count": 463,
   "metadata": {},
   "outputs": [
    {
     "data": {
      "text/plain": [
       "array([70, 68, 55, 84, 61, 84, 60, 68, 76, 70, 97, 75, 81, 85, 75, 77])"
      ]
     },
     "execution_count": 463,
     "metadata": {},
     "output_type": "execute_result"
    }
   ],
   "source": [
    "# First batch of target values \n",
    "train_seq[0][1]"
   ]
  },
  {
   "cell_type": "code",
   "execution_count": 464,
   "metadata": {},
   "outputs": [
    {
     "data": {
      "text/plain": [
       "date_time\n",
       "2010-01-01    134\n",
       "2010-01-02     61\n",
       "2010-01-03     54\n",
       "2010-01-04     70\n",
       "2010-01-05     68\n",
       "             ... \n",
       "2020-10-07    114\n",
       "2020-10-08    115\n",
       "2020-10-09    147\n",
       "2020-10-10    168\n",
       "2020-10-11    126\n",
       "Freq: D, Name: fatals, Length: 3937, dtype: int64"
      ]
     },
     "execution_count": 464,
     "metadata": {},
     "output_type": "execute_result"
    }
   ],
   "source": [
    "y_train"
   ]
  },
  {
   "cell_type": "code",
   "execution_count": 465,
   "metadata": {},
   "outputs": [
    {
     "data": {
      "text/plain": [
       "246"
      ]
     },
     "execution_count": 465,
     "metadata": {},
     "output_type": "execute_result"
    }
   ],
   "source": [
    "# how many batches in the whole training set\n",
    "\n",
    "len(train_seq)"
   ]
  },
  {
   "cell_type": "code",
   "execution_count": 466,
   "metadata": {},
   "outputs": [
    {
     "data": {
      "text/html": [
       "<div>\n",
       "<style scoped>\n",
       "    .dataframe tbody tr th:only-of-type {\n",
       "        vertical-align: middle;\n",
       "    }\n",
       "\n",
       "    .dataframe tbody tr th {\n",
       "        vertical-align: top;\n",
       "    }\n",
       "\n",
       "    .dataframe thead th {\n",
       "        text-align: right;\n",
       "    }\n",
       "</style>\n",
       "<table border=\"1\" class=\"dataframe\">\n",
       "  <thead>\n",
       "    <tr style=\"text-align: right;\">\n",
       "      <th></th>\n",
       "      <th>drunk_dr</th>\n",
       "      <th>peds</th>\n",
       "      <th>ve_total</th>\n",
       "      <th>persons</th>\n",
       "    </tr>\n",
       "    <tr>\n",
       "      <th>date_time</th>\n",
       "      <th></th>\n",
       "      <th></th>\n",
       "      <th></th>\n",
       "      <th></th>\n",
       "    </tr>\n",
       "  </thead>\n",
       "  <tbody>\n",
       "    <tr>\n",
       "      <th>2010-01-01</th>\n",
       "      <td>74</td>\n",
       "      <td>19</td>\n",
       "      <td>181</td>\n",
       "      <td>321</td>\n",
       "    </tr>\n",
       "    <tr>\n",
       "      <th>2010-01-02</th>\n",
       "      <td>25</td>\n",
       "      <td>9</td>\n",
       "      <td>74</td>\n",
       "      <td>117</td>\n",
       "    </tr>\n",
       "    <tr>\n",
       "      <th>2010-01-03</th>\n",
       "      <td>27</td>\n",
       "      <td>3</td>\n",
       "      <td>78</td>\n",
       "      <td>132</td>\n",
       "    </tr>\n",
       "    <tr>\n",
       "      <th>2010-01-04</th>\n",
       "      <td>13</td>\n",
       "      <td>9</td>\n",
       "      <td>104</td>\n",
       "      <td>136</td>\n",
       "    </tr>\n",
       "    <tr>\n",
       "      <th>2010-01-05</th>\n",
       "      <td>12</td>\n",
       "      <td>19</td>\n",
       "      <td>115</td>\n",
       "      <td>154</td>\n",
       "    </tr>\n",
       "  </tbody>\n",
       "</table>\n",
       "</div>"
      ],
      "text/plain": [
       "            drunk_dr  peds  ve_total  persons\n",
       "date_time                                    \n",
       "2010-01-01        74    19       181      321\n",
       "2010-01-02        25     9        74      117\n",
       "2010-01-03        27     3        78      132\n",
       "2010-01-04        13     9       104      136\n",
       "2010-01-05        12    19       115      154"
      ]
     },
     "execution_count": 466,
     "metadata": {},
     "output_type": "execute_result"
    }
   ],
   "source": [
    "X_train.head() # 5 columns"
   ]
  },
  {
   "cell_type": "code",
   "execution_count": 467,
   "metadata": {},
   "outputs": [
    {
     "data": {
      "text/html": [
       "<div>\n",
       "<style scoped>\n",
       "    .dataframe tbody tr th:only-of-type {\n",
       "        vertical-align: middle;\n",
       "    }\n",
       "\n",
       "    .dataframe tbody tr th {\n",
       "        vertical-align: top;\n",
       "    }\n",
       "\n",
       "    .dataframe thead th {\n",
       "        text-align: right;\n",
       "    }\n",
       "</style>\n",
       "<table border=\"1\" class=\"dataframe\">\n",
       "  <thead>\n",
       "    <tr style=\"text-align: right;\">\n",
       "      <th></th>\n",
       "      <th>drunk_dr</th>\n",
       "      <th>peds</th>\n",
       "      <th>ve_total</th>\n",
       "      <th>persons</th>\n",
       "    </tr>\n",
       "    <tr>\n",
       "      <th>date_time</th>\n",
       "      <th></th>\n",
       "      <th></th>\n",
       "      <th></th>\n",
       "      <th></th>\n",
       "    </tr>\n",
       "  </thead>\n",
       "  <tbody>\n",
       "    <tr>\n",
       "      <th>2020-10-12</th>\n",
       "      <td>18</td>\n",
       "      <td>21</td>\n",
       "      <td>173</td>\n",
       "      <td>229</td>\n",
       "    </tr>\n",
       "    <tr>\n",
       "      <th>2020-10-13</th>\n",
       "      <td>19</td>\n",
       "      <td>21</td>\n",
       "      <td>155</td>\n",
       "      <td>194</td>\n",
       "    </tr>\n",
       "    <tr>\n",
       "      <th>2020-10-14</th>\n",
       "      <td>15</td>\n",
       "      <td>17</td>\n",
       "      <td>175</td>\n",
       "      <td>219</td>\n",
       "    </tr>\n",
       "    <tr>\n",
       "      <th>2020-10-15</th>\n",
       "      <td>18</td>\n",
       "      <td>25</td>\n",
       "      <td>161</td>\n",
       "      <td>201</td>\n",
       "    </tr>\n",
       "    <tr>\n",
       "      <th>2020-10-16</th>\n",
       "      <td>27</td>\n",
       "      <td>39</td>\n",
       "      <td>190</td>\n",
       "      <td>265</td>\n",
       "    </tr>\n",
       "    <tr>\n",
       "      <th>...</th>\n",
       "      <td>...</td>\n",
       "      <td>...</td>\n",
       "      <td>...</td>\n",
       "      <td>...</td>\n",
       "    </tr>\n",
       "    <tr>\n",
       "      <th>2020-12-27</th>\n",
       "      <td>27</td>\n",
       "      <td>21</td>\n",
       "      <td>128</td>\n",
       "      <td>201</td>\n",
       "    </tr>\n",
       "    <tr>\n",
       "      <th>2020-12-28</th>\n",
       "      <td>12</td>\n",
       "      <td>17</td>\n",
       "      <td>140</td>\n",
       "      <td>198</td>\n",
       "    </tr>\n",
       "    <tr>\n",
       "      <th>2020-12-29</th>\n",
       "      <td>16</td>\n",
       "      <td>22</td>\n",
       "      <td>126</td>\n",
       "      <td>194</td>\n",
       "    </tr>\n",
       "    <tr>\n",
       "      <th>2020-12-30</th>\n",
       "      <td>26</td>\n",
       "      <td>20</td>\n",
       "      <td>129</td>\n",
       "      <td>164</td>\n",
       "    </tr>\n",
       "    <tr>\n",
       "      <th>2020-12-31</th>\n",
       "      <td>21</td>\n",
       "      <td>30</td>\n",
       "      <td>158</td>\n",
       "      <td>241</td>\n",
       "    </tr>\n",
       "  </tbody>\n",
       "</table>\n",
       "<p>81 rows × 4 columns</p>\n",
       "</div>"
      ],
      "text/plain": [
       "            drunk_dr  peds  ve_total  persons\n",
       "date_time                                    \n",
       "2020-10-12        18    21       173      229\n",
       "2020-10-13        19    21       155      194\n",
       "2020-10-14        15    17       175      219\n",
       "2020-10-15        18    25       161      201\n",
       "2020-10-16        27    39       190      265\n",
       "...              ...   ...       ...      ...\n",
       "2020-12-27        27    21       128      201\n",
       "2020-12-28        12    17       140      198\n",
       "2020-12-29        16    22       126      194\n",
       "2020-12-30        26    20       129      164\n",
       "2020-12-31        21    30       158      241\n",
       "\n",
       "[81 rows x 4 columns]"
      ]
     },
     "execution_count": 467,
     "metadata": {},
     "output_type": "execute_result"
    }
   ],
   "source": [
    "X_test # small percentage"
   ]
  },
  {
   "cell_type": "code",
   "execution_count": 468,
   "metadata": {},
   "outputs": [
    {
     "data": {
      "text/plain": [
       "5"
      ]
     },
     "execution_count": 468,
     "metadata": {},
     "output_type": "execute_result"
    }
   ],
   "source": [
    "# Now do for test data, same len and batch_size as train data\n",
    "test_seq = TimeseriesGenerator( X_test_sc, y_test, length = 3, batch_size=16) \n",
    "len(test_seq)"
   ]
  },
  {
   "cell_type": "markdown",
   "metadata": {},
   "source": [
    "## Modeling time!\n",
    "---\n",
    "\n",
    "Now it's time to design our RNN model. We'll have:\n",
    "\n",
    "- 2 [`GRU`](https://www.tensorflow.org/api_docs/python/tf/keras/layers/GRU) layers\n",
    "- 1 `Dense` output layer\n",
    "\n",
    "We're doing a linear regression problem"
   ]
  },
  {
   "cell_type": "code",
   "execution_count": 469,
   "metadata": {},
   "outputs": [
    {
     "data": {
      "text/plain": [
       "(3, 4)"
      ]
     },
     "execution_count": 469,
     "metadata": {},
     "output_type": "execute_result"
    }
   ],
   "source": [
    "## Check shape of a single sequence of data (this will be the input shape for our model)\n",
    "\n",
    "train_seq[0][0][0].shape"
   ]
  },
  {
   "cell_type": "code",
   "execution_count": 508,
   "metadata": {},
   "outputs": [],
   "source": [
    "\n",
    "#The number of hidden nodes should be somewhere between the number of nodes in the input and output layers.* \n",
    "#No of nodes in each layer should be power of 2. \n",
    "\n",
    "\n",
    "# Design RNN\n",
    "model = Sequential()\n",
    "\n",
    "## First GRU layer returns hidden state, passes back into self\n",
    "model.add(GRU(16, input_shape = train_seq[0][0][0].shape, \n",
    "             return_sequences=True))\n",
    "## Second GRU layer passes outputs forward to next layer\n",
    "model.add(GRU(8, return_sequences=False))\n",
    "\n",
    "model.add(Dense(8, activation = 'relu'))\n",
    "\n",
    "model.add(Dense(1)) # output layer\n",
    "\n",
    "model.compile(\n",
    "    optimizer=\"adam\", ## Adam is the most commonly used optimized\n",
    "    loss=\"mean_squared_error\", # or 'mse' is the most common loss function for regression\n",
    "    metrics= [tf.keras.metrics.RootMeanSquaredError(),'mae', 'mape'], # Additional metrics to track - no 'rmse' so instead we can use tensorflow's RMSE function\n",
    ")"
   ]
  },
  {
   "cell_type": "code",
   "execution_count": 509,
   "metadata": {},
   "outputs": [
    {
     "name": "stdout",
     "output_type": "stream",
     "text": [
      "Model: \"sequential_25\"\n",
      "_________________________________________________________________\n",
      " Layer (type)                Output Shape              Param #   \n",
      "=================================================================\n",
      " gru_23 (GRU)                (None, 3, 16)             1056      \n",
      "                                                                 \n",
      " gru_24 (GRU)                (None, 8)                 624       \n",
      "                                                                 \n",
      " dense_53 (Dense)            (None, 8)                 72        \n",
      "                                                                 \n",
      " dense_54 (Dense)            (None, 1)                 9         \n",
      "                                                                 \n",
      "=================================================================\n",
      "Total params: 1,761\n",
      "Trainable params: 1,761\n",
      "Non-trainable params: 0\n",
      "_________________________________________________________________\n"
     ]
    }
   ],
   "source": [
    "model.summary()"
   ]
  },
  {
   "cell_type": "code",
   "execution_count": 510,
   "metadata": {},
   "outputs": [
    {
     "name": "stdout",
     "output_type": "stream",
     "text": [
      "Epoch 1/50\n",
      "246/246 [==============================] - 24s 19ms/step - loss: 9404.5654 - root_mean_squared_error: 96.9771 - mae: 94.5518 - mape: 98.9778 - val_loss: 11774.8896 - val_root_mean_squared_error: 108.5122 - val_mae: 107.0123 - val_mape: 96.5764\n",
      "Epoch 2/50\n",
      "246/246 [==============================] - 2s 7ms/step - loss: 8042.6094 - root_mean_squared_error: 89.6806 - mae: 87.0271 - mape: 90.7087 - val_loss: 9639.3496 - val_root_mean_squared_error: 98.1802 - val_mae: 96.5203 - val_mape: 86.8510\n",
      "Epoch 3/50\n",
      "246/246 [==============================] - 2s 8ms/step - loss: 6050.1768 - root_mean_squared_error: 77.7829 - mae: 74.6070 - mape: 76.9727 - val_loss: 7160.6821 - val_root_mean_squared_error: 84.6208 - val_mae: 82.6893 - val_mape: 74.0301\n",
      "Epoch 4/50\n",
      "246/246 [==============================] - 1s 6ms/step - loss: 4066.9292 - root_mean_squared_error: 63.7725 - mae: 59.7684 - mape: 60.5861 - val_loss: 4840.3467 - val_root_mean_squared_error: 69.5726 - val_mae: 67.2100 - val_mape: 59.6812\n",
      "Epoch 5/50\n",
      "246/246 [==============================] - 2s 6ms/step - loss: 2438.9897 - root_mean_squared_error: 49.3861 - mae: 44.2634 - mape: 43.6230 - val_loss: 2999.0881 - val_root_mean_squared_error: 54.7639 - val_mae: 51.7294 - val_mape: 45.3311\n",
      "Epoch 6/50\n",
      "246/246 [==============================] - 1s 5ms/step - loss: 1352.0458 - root_mean_squared_error: 36.7702 - mae: 30.4542 - mape: 28.9274 - val_loss: 1783.9796 - val_root_mean_squared_error: 42.2372 - val_mae: 38.2207 - val_mape: 32.8089\n",
      "Epoch 7/50\n",
      "246/246 [==============================] - 2s 6ms/step - loss: 781.4278 - root_mean_squared_error: 27.9540 - mae: 21.6603 - mape: 20.6516 - val_loss: 1105.1957 - val_root_mean_squared_error: 33.2445 - val_mae: 28.3808 - val_mape: 23.8585\n",
      "Epoch 8/50\n",
      "246/246 [==============================] - 1s 6ms/step - loss: 552.8547 - root_mean_squared_error: 23.5129 - mae: 18.1538 - mape: 18.2360 - val_loss: 780.9319 - val_root_mean_squared_error: 27.9452 - val_mae: 22.6722 - val_mape: 18.8373\n",
      "Epoch 9/50\n",
      "246/246 [==============================] - 1s 6ms/step - loss: 483.0019 - root_mean_squared_error: 21.9773 - mae: 17.3145 - mape: 18.2701 - val_loss: 636.5193 - val_root_mean_squared_error: 25.2293 - val_mae: 19.8311 - val_mape: 16.4351\n",
      "Epoch 10/50\n",
      "246/246 [==============================] - 2s 7ms/step - loss: 467.2643 - root_mean_squared_error: 21.6163 - mae: 17.2879 - mape: 18.7944 - val_loss: 585.2051 - val_root_mean_squared_error: 24.1910 - val_mae: 18.7705 - val_mape: 15.5621\n",
      "Epoch 11/50\n",
      "246/246 [==============================] - 2s 7ms/step - loss: 464.8370 - root_mean_squared_error: 21.5601 - mae: 17.3589 - mape: 19.1302 - val_loss: 571.8217 - val_root_mean_squared_error: 23.9128 - val_mae: 18.4913 - val_mape: 15.3356\n",
      "Epoch 12/50\n",
      "246/246 [==============================] - 2s 7ms/step - loss: 464.3380 - root_mean_squared_error: 21.5485 - mae: 17.3374 - mape: 19.0769 - val_loss: 559.3590 - val_root_mean_squared_error: 23.6508 - val_mae: 18.2331 - val_mape: 15.1283\n",
      "Epoch 13/50\n",
      "246/246 [==============================] - 2s 7ms/step - loss: 464.2167 - root_mean_squared_error: 21.5457 - mae: 17.3516 - mape: 19.1563 - val_loss: 549.0875 - val_root_mean_squared_error: 23.4326 - val_mae: 18.0166 - val_mape: 14.9547\n",
      "Epoch 14/50\n",
      "246/246 [==============================] - 2s 7ms/step - loss: 464.4951 - root_mean_squared_error: 21.5521 - mae: 17.3796 - mape: 19.2175 - val_loss: 554.0024 - val_root_mean_squared_error: 23.5373 - val_mae: 18.1208 - val_mape: 15.0383\n",
      "Epoch 15/50\n",
      "246/246 [==============================] - 1s 6ms/step - loss: 464.3287 - root_mean_squared_error: 21.5483 - mae: 17.3803 - mape: 19.2221 - val_loss: 550.8373 - val_root_mean_squared_error: 23.4699 - val_mae: 18.0538 - val_mape: 14.9846\n",
      "Epoch 16/50\n",
      "246/246 [==============================] - 1s 6ms/step - loss: 464.3942 - root_mean_squared_error: 21.5498 - mae: 17.3848 - mape: 19.2360 - val_loss: 555.4236 - val_root_mean_squared_error: 23.5674 - val_mae: 18.1508 - val_mape: 15.0623\n",
      "Epoch 17/50\n",
      "246/246 [==============================] - 1s 4ms/step - loss: 464.3935 - root_mean_squared_error: 21.5498 - mae: 17.3741 - mape: 19.2007 - val_loss: 553.7691 - val_root_mean_squared_error: 23.5323 - val_mae: 18.1168 - val_mape: 15.0352\n",
      "Epoch 18/50\n",
      "246/246 [==============================] - 1s 4ms/step - loss: 391.8907 - root_mean_squared_error: 19.7962 - mae: 15.4788 - mape: 16.3967 - val_loss: 450.1815 - val_root_mean_squared_error: 21.2175 - val_mae: 16.3853 - val_mape: 13.8078\n",
      "Epoch 19/50\n",
      "246/246 [==============================] - 2s 7ms/step - loss: 312.3708 - root_mean_squared_error: 17.6740 - mae: 13.6917 - mape: 14.4209 - val_loss: 353.6060 - val_root_mean_squared_error: 18.8044 - val_mae: 14.5776 - val_mape: 12.5612\n",
      "Epoch 20/50\n",
      "246/246 [==============================] - 2s 8ms/step - loss: 283.1035 - root_mean_squared_error: 16.8257 - mae: 13.0845 - mape: 13.9483 - val_loss: 309.1383 - val_root_mean_squared_error: 17.5823 - val_mae: 13.6779 - val_mape: 12.0482\n",
      "Epoch 21/50\n",
      "246/246 [==============================] - 2s 7ms/step - loss: 265.2725 - root_mean_squared_error: 16.2872 - mae: 12.6545 - mape: 13.5735 - val_loss: 290.0854 - val_root_mean_squared_error: 17.0319 - val_mae: 13.2398 - val_mape: 11.7287\n",
      "Epoch 22/50\n",
      "246/246 [==============================] - 2s 6ms/step - loss: 256.1127 - root_mean_squared_error: 16.0035 - mae: 12.4384 - mape: 13.4188 - val_loss: 281.8831 - val_root_mean_squared_error: 16.7894 - val_mae: 13.0457 - val_mape: 11.6880\n",
      "Epoch 23/50\n",
      "246/246 [==============================] - 2s 6ms/step - loss: 249.6551 - root_mean_squared_error: 15.8005 - mae: 12.3041 - mape: 13.3021 - val_loss: 280.0003 - val_root_mean_squared_error: 16.7332 - val_mae: 12.9617 - val_mape: 11.6778\n",
      "Epoch 24/50\n",
      "246/246 [==============================] - 1s 6ms/step - loss: 245.4378 - root_mean_squared_error: 15.6665 - mae: 12.2021 - mape: 13.2084 - val_loss: 272.8441 - val_root_mean_squared_error: 16.5180 - val_mae: 12.8377 - val_mape: 11.6192\n",
      "Epoch 25/50\n",
      "246/246 [==============================] - 2s 9ms/step - loss: 242.3558 - root_mean_squared_error: 15.5678 - mae: 12.1178 - mape: 13.1430 - val_loss: 259.7752 - val_root_mean_squared_error: 16.1175 - val_mae: 12.3309 - val_mape: 11.2374\n",
      "Epoch 26/50\n",
      "246/246 [==============================] - 2s 9ms/step - loss: 239.9949 - root_mean_squared_error: 15.4918 - mae: 12.0745 - mape: 13.1162 - val_loss: 263.3510 - val_root_mean_squared_error: 16.2281 - val_mae: 12.6007 - val_mape: 11.3869\n",
      "Epoch 27/50\n",
      "246/246 [==============================] - 2s 7ms/step - loss: 238.7566 - root_mean_squared_error: 15.4518 - mae: 12.0289 - mape: 13.0632 - val_loss: 258.7435 - val_root_mean_squared_error: 16.0855 - val_mae: 12.3679 - val_mape: 11.2516\n",
      "Epoch 28/50\n",
      "246/246 [==============================] - 2s 8ms/step - loss: 235.7987 - root_mean_squared_error: 15.3557 - mae: 11.9915 - mape: 13.0359 - val_loss: 249.9984 - val_root_mean_squared_error: 15.8113 - val_mae: 12.0322 - val_mape: 11.0704\n",
      "Epoch 29/50\n",
      "246/246 [==============================] - 2s 6ms/step - loss: 235.3384 - root_mean_squared_error: 15.3407 - mae: 11.9536 - mape: 13.0030 - val_loss: 253.8041 - val_root_mean_squared_error: 15.9312 - val_mae: 12.2122 - val_mape: 11.2306\n",
      "Epoch 30/50\n",
      "246/246 [==============================] - 2s 8ms/step - loss: 232.9900 - root_mean_squared_error: 15.2640 - mae: 11.8872 - mape: 12.9483 - val_loss: 256.1162 - val_root_mean_squared_error: 16.0036 - val_mae: 12.3103 - val_mape: 11.2797\n",
      "Epoch 31/50\n",
      "246/246 [==============================] - 2s 10ms/step - loss: 232.0645 - root_mean_squared_error: 15.2337 - mae: 11.8616 - mape: 12.8911 - val_loss: 247.2452 - val_root_mean_squared_error: 15.7240 - val_mae: 11.9400 - val_mape: 11.0335\n",
      "Epoch 32/50\n",
      "246/246 [==============================] - 1s 5ms/step - loss: 231.1480 - root_mean_squared_error: 15.2036 - mae: 11.8524 - mape: 12.9116 - val_loss: 247.6755 - val_root_mean_squared_error: 15.7377 - val_mae: 11.9635 - val_mape: 11.0739\n",
      "Epoch 33/50\n",
      "246/246 [==============================] - 1s 5ms/step - loss: 229.3958 - root_mean_squared_error: 15.1458 - mae: 11.8104 - mape: 12.8452 - val_loss: 251.9219 - val_root_mean_squared_error: 15.8720 - val_mae: 12.0968 - val_mape: 11.2205\n",
      "Epoch 34/50\n",
      "246/246 [==============================] - 2s 10ms/step - loss: 228.2350 - root_mean_squared_error: 15.1074 - mae: 11.7830 - mape: 12.8305 - val_loss: 247.7418 - val_root_mean_squared_error: 15.7398 - val_mae: 12.0887 - val_mape: 11.1014\n",
      "Epoch 35/50\n",
      "246/246 [==============================] - 2s 7ms/step - loss: 227.2399 - root_mean_squared_error: 15.0745 - mae: 11.7607 - mape: 12.8055 - val_loss: 242.9187 - val_root_mean_squared_error: 15.5858 - val_mae: 11.8278 - val_mape: 10.9829\n",
      "Epoch 36/50\n",
      "246/246 [==============================] - 2s 10ms/step - loss: 226.0603 - root_mean_squared_error: 15.0353 - mae: 11.7153 - mape: 12.7542 - val_loss: 243.0858 - val_root_mean_squared_error: 15.5912 - val_mae: 11.8591 - val_mape: 10.8900\n",
      "Epoch 37/50\n",
      "246/246 [==============================] - 2s 6ms/step - loss: 225.8199 - root_mean_squared_error: 15.0273 - mae: 11.7305 - mape: 12.7867 - val_loss: 248.9044 - val_root_mean_squared_error: 15.7767 - val_mae: 12.1498 - val_mape: 11.0936\n",
      "Epoch 38/50\n",
      "246/246 [==============================] - 2s 8ms/step - loss: 223.7875 - root_mean_squared_error: 14.9595 - mae: 11.6549 - mape: 12.6979 - val_loss: 240.6894 - val_root_mean_squared_error: 15.5142 - val_mae: 11.8903 - val_mape: 10.8828\n",
      "Epoch 39/50\n",
      "246/246 [==============================] - 2s 6ms/step - loss: 222.2326 - root_mean_squared_error: 14.9075 - mae: 11.6582 - mape: 12.6986 - val_loss: 237.5371 - val_root_mean_squared_error: 15.4122 - val_mae: 11.7679 - val_mape: 10.7334\n",
      "Epoch 40/50\n",
      "246/246 [==============================] - 1s 6ms/step - loss: 221.7134 - root_mean_squared_error: 14.8900 - mae: 11.6342 - mape: 12.6685 - val_loss: 235.5509 - val_root_mean_squared_error: 15.3477 - val_mae: 11.6337 - val_mape: 10.7225\n",
      "Epoch 41/50\n",
      "246/246 [==============================] - 1s 6ms/step - loss: 220.9885 - root_mean_squared_error: 14.8657 - mae: 11.6020 - mape: 12.6430 - val_loss: 238.6603 - val_root_mean_squared_error: 15.4486 - val_mae: 11.7332 - val_mape: 10.7874\n",
      "Epoch 42/50\n",
      "246/246 [==============================] - 2s 7ms/step - loss: 219.7428 - root_mean_squared_error: 14.8237 - mae: 11.5608 - mape: 12.6035 - val_loss: 241.1838 - val_root_mean_squared_error: 15.5301 - val_mae: 11.9499 - val_mape: 10.8783\n",
      "Epoch 43/50\n",
      "246/246 [==============================] - 2s 7ms/step - loss: 220.2254 - root_mean_squared_error: 14.8400 - mae: 11.6000 - mape: 12.6325 - val_loss: 240.9147 - val_root_mean_squared_error: 15.5214 - val_mae: 11.8680 - val_mape: 10.8426\n",
      "Epoch 44/50\n",
      "246/246 [==============================] - 2s 7ms/step - loss: 219.3033 - root_mean_squared_error: 14.8089 - mae: 11.5907 - mape: 12.6449 - val_loss: 238.9786 - val_root_mean_squared_error: 15.4589 - val_mae: 11.8688 - val_mape: 10.8219\n",
      "Epoch 45/50\n",
      "246/246 [==============================] - 2s 8ms/step - loss: 218.1370 - root_mean_squared_error: 14.7695 - mae: 11.5522 - mape: 12.5974 - val_loss: 246.1002 - val_root_mean_squared_error: 15.6876 - val_mae: 12.0728 - val_mape: 10.9424\n",
      "Epoch 46/50\n",
      "246/246 [==============================] - 2s 8ms/step - loss: 217.6034 - root_mean_squared_error: 14.7514 - mae: 11.5360 - mape: 12.5877 - val_loss: 242.1237 - val_root_mean_squared_error: 15.5603 - val_mae: 11.9020 - val_mape: 10.8369\n",
      "Epoch 47/50\n",
      "246/246 [==============================] - 2s 9ms/step - loss: 217.0446 - root_mean_squared_error: 14.7324 - mae: 11.5439 - mape: 12.5832 - val_loss: 248.2965 - val_root_mean_squared_error: 15.7574 - val_mae: 12.1258 - val_mape: 10.9572\n",
      "Epoch 48/50\n",
      "246/246 [==============================] - 2s 7ms/step - loss: 216.7427 - root_mean_squared_error: 14.7222 - mae: 11.5311 - mape: 12.5838 - val_loss: 243.6889 - val_root_mean_squared_error: 15.6105 - val_mae: 11.9581 - val_mape: 10.9188\n",
      "Epoch 49/50\n",
      "246/246 [==============================] - 2s 7ms/step - loss: 215.9632 - root_mean_squared_error: 14.6957 - mae: 11.5099 - mape: 12.5523 - val_loss: 246.6591 - val_root_mean_squared_error: 15.7054 - val_mae: 12.0841 - val_mape: 10.9495\n",
      "Epoch 50/50\n",
      "246/246 [==============================] - 2s 8ms/step - loss: 215.6983 - root_mean_squared_error: 14.6867 - mae: 11.4953 - mape: 12.5180 - val_loss: 234.7335 - val_root_mean_squared_error: 15.3210 - val_mae: 11.7320 - val_mape: 10.8858\n"
     ]
    }
   ],
   "source": [
    "# Fit to training sequences, validate with test sequences\n",
    "\n",
    "history = model.fit(train_seq, epochs = 50, verbose = 1, validation_data=test_seq)"
   ]
  },
  {
   "cell_type": "code",
   "execution_count": 525,
   "metadata": {},
   "outputs": [
    {
     "name": "stdout",
     "output_type": "stream",
     "text": [
      "y_test_baseline: 95.47320294640589, y_train_baseline_mean: 95.47320294640589, baseline_RMSE: 23.24519113999734, baseline MAPE: 0.148302794152187, baseline MAE: 0.148302794152187 \n",
      "Baseline R2 score: 0.0\n",
      "Baseline Training R2 score: -0.7189155360280703\n",
      "Training R2 score: 0.5302380504525666\n",
      "Test R2 score: 0.27362319324258577\n"
     ]
    },
    {
     "data": {
      "text/plain": [
       "<matplotlib.legend.Legend at 0x7f96be223040>"
      ]
     },
     "execution_count": 525,
     "metadata": {},
     "output_type": "execute_result"
    },
    {
     "data": {
      "image/png": "[encoded data removed]",
      "text/plain": [
       "<Figure size 1152x576 with 2 Axes>"
      ]
     },
     "metadata": {
      "needs_background": "light"
     },
     "output_type": "display_data"
    }
   ],
   "source": [
    "# Evaluate the model performance with various metrics\n",
    "\n",
    "y_train_preds = model.predict(train_seq)\n",
    "y_test_preds = model.predict(test_seq)\n",
    "\n",
    "# baseline\n",
    "y_test_baseline = [y_train.mean()]*len(y_test)\n",
    "\n",
    "baseline_RMSE = mean_squared_error(y_test, y_test_baseline)**0.5\n",
    "baseline_mean = y_train.mean()\n",
    "y_train_baseline = [y_train.mean()]*len(y_train)\n",
    "\n",
    "baseline_MAPE = mean_absolute_percentage_error(y_test, y_test_baseline)\n",
    "baseline_MAE = mean_absolute_error (y_test, y_test_baseline)\n",
    "\n",
    "print( f\"y_test_baseline: {y_test_baseline[0]}, y_train_baseline_mean: {baseline_mean}, baseline_RMSE: {baseline_RMSE}, baseline MAPE: {baseline_MAPE}, baseline MAE: {baseline_MAPE} \")\n",
    "\n",
    "\n",
    "print( f\"Baseline R2 score: {metrics.r2_score(y_train, y_train_baseline)}\" )\n",
    "print( f\"Baseline Training R2 score: {metrics.r2_score(y_test, y_test_baseline)}\" )\n",
    "\n",
    "print( f\"Training R2 score: {metrics.r2_score( y_train[3:], y_train_preds)}\")\n",
    "print( f\"Test R2 score: {metrics.r2_score( y_test[3:], y_test_preds[:])}\") \n",
    "\n",
    "y_test_preds_df = pd.DataFrame(data = y_test_preds, index = y_test[3:].index, columns = [\"y_test_preds\"])\n",
    "\n",
    "fig, (ax1, ax2) = plt.subplots(1,2, figsize = (16,8))\n",
    "labels = ['y_test', 'preds']\n",
    "\n",
    "ax1.plot( y_test[3:18], color = 'blue', label=\"y_test\")\n",
    "ax1.plot( y_test_preds_df[:15], color = 'red', label=\"Predicted\")\n",
    "ax1.set_title(\"Predicted vs actual - first 15 days\")\n",
    "ax1.xaxis.set_ticks_position('none')\n",
    "ax1.set_ylabel(\"Count, per day\")\n",
    "ax1.tick_params(labelsize=8)\n",
    "ax1.legend()\n",
    "\n",
    "ax2.plot( y_test[3:], color = 'blue', label=\"y_test\")\n",
    "ax2.plot( y_test_preds_df[:], color = 'red', label=\"Predicted\")\n",
    "ax2.set_title(\"Predicted vs actual - All 81 days\")\n",
    "ax2.set_ylabel(\"Count, per day\")\n",
    "ax2.tick_params(labelsize=8)\n",
    "ax2.legend()"
   ]
  },
  {
   "cell_type": "markdown",
   "metadata": {},
   "source": [
    "#### **Interpretation:**  \n",
    "The predictions are quite good, more so in the first 15 days. Over the total 81 days of predictions, the predictions don't quite match the peaks. In fact, towards the end they overshoot the data considerably. \n"
   ]
  },
  {
   "cell_type": "code",
   "execution_count": 531,
   "metadata": {},
   "outputs": [
    {
     "data": {
      "image/png": "[encoded data removed]",
      "text/plain": [
       "<Figure size 576x288 with 2 Axes>"
      ]
     },
     "metadata": {
      "needs_background": "light"
     },
     "output_type": "display_data"
    }
   ],
   "source": [
    "fig, (ax1, ax2) = plt.subplots(1,2, figsize = (8,4))\n",
    "\n",
    "## Plot Training & Validation Loss\n",
    "ax1.plot(history.history['loss'], label=\"Training Loss\")\n",
    "ax1.plot(history.history['val_loss'], label=\"Testing Loss\")\n",
    "ax1.legend();\n",
    "\n",
    "## Plot Training & Validation Accuracy\n",
    "ax2.plot(history.history['root_mean_squared_error'], label=\"Training RMSE\")\n",
    "ax2.plot(history.history['val_root_mean_squared_error'], label=\"Testing RMSE\")\n",
    "ax2.legend();\n",
    "\n",
    "plt.suptitle(\"Evaluation of RNN model\");"
   ]
  },
  {
   "cell_type": "markdown",
   "metadata": {},
   "source": [
    "#### **Interpretation:**  \n",
    "The graphs are almost perfect! The testing RMSE is marginally higher than the Training RMSE, showing the model is not overfit and should do a good job on predicting new unseen data. "
   ]
  },
  {
   "cell_type": "code",
   "execution_count": 476,
   "metadata": {},
   "outputs": [],
   "source": [
    "# change GRU to LSTM\n",
    "\n",
    "model_2 = Sequential()\n",
    "\n",
    "## First LSTM layer returns hidden state, passes back into self\n",
    "model_2.add(LSTM(16, input_shape = train_seq[0][0][0].shape, \n",
    "             return_sequences=True))\n",
    "## Second LSTM layer passes outputs forward to next layer\n",
    "model_2.add(LSTM(8, return_sequences=False))\n",
    "\n",
    "model_2.add(Dense(8, activation = 'relu'))\n",
    "\n",
    "model_2.add(Dense(1))\n",
    "\n",
    "model_2.compile(\n",
    "    optimizer=\"adam\",\n",
    "    loss=\"mean_squared_error\", \n",
    "    metrics= [tf.keras.metrics.RootMeanSquaredError(),'mae']\n",
    ")\n"
   ]
  },
  {
   "cell_type": "code",
   "execution_count": 477,
   "metadata": {},
   "outputs": [
    {
     "name": "stdout",
     "output_type": "stream",
     "text": [
      "Model: \"sequential_23\"\n",
      "_________________________________________________________________\n",
      " Layer (type)                Output Shape              Param #   \n",
      "=================================================================\n",
      " lstm_26 (LSTM)              (None, 3, 16)             1344      \n",
      "                                                                 \n",
      " lstm_27 (LSTM)              (None, 8)                 800       \n",
      "                                                                 \n",
      " dense_49 (Dense)            (None, 8)                 72        \n",
      "                                                                 \n",
      " dense_50 (Dense)            (None, 1)                 9         \n",
      "                                                                 \n",
      "=================================================================\n",
      "Total params: 2,225\n",
      "Trainable params: 2,225\n",
      "Non-trainable params: 0\n",
      "_________________________________________________________________\n"
     ]
    }
   ],
   "source": [
    "model_2.summary()"
   ]
  },
  {
   "cell_type": "code",
   "execution_count": 478,
   "metadata": {},
   "outputs": [
    {
     "name": "stdout",
     "output_type": "stream",
     "text": [
      "Epoch 1/50\n",
      "246/246 [==============================] - 12s 10ms/step - loss: 8685.9131 - root_mean_squared_error: 93.1982 - mae: 90.5466 - val_loss: 9125.1152 - val_root_mean_squared_error: 95.5255 - val_mae: 93.8181\n",
      "Epoch 2/50\n",
      "246/246 [==============================] - 1s 5ms/step - loss: 4637.7485 - root_mean_squared_error: 68.1010 - mae: 64.0108 - val_loss: 4478.1860 - val_root_mean_squared_error: 66.9193 - val_mae: 64.4583\n",
      "Epoch 3/50\n",
      "246/246 [==============================] - 1s 5ms/step - loss: 1779.0674 - root_mean_squared_error: 42.1790 - mae: 35.9956 - val_loss: 1756.7588 - val_root_mean_squared_error: 41.9137 - val_mae: 37.8632\n",
      "Epoch 4/50\n",
      "246/246 [==============================] - 1s 5ms/step - loss: 679.6533 - root_mean_squared_error: 26.0702 - mae: 20.0730 - val_loss: 825.1624 - val_root_mean_squared_error: 28.7256 - val_mae: 23.4550\n",
      "Epoch 5/50\n",
      "246/246 [==============================] - 1s 6ms/step - loss: 480.6317 - root_mean_squared_error: 21.9233 - mae: 17.3204 - val_loss: 604.0332 - val_root_mean_squared_error: 24.5771 - val_mae: 19.1607\n",
      "Epoch 6/50\n",
      "246/246 [==============================] - 1s 6ms/step - loss: 461.6636 - root_mean_squared_error: 21.4864 - mae: 17.2093 - val_loss: 555.6535 - val_root_mean_squared_error: 23.5723 - val_mae: 18.1689\n",
      "Epoch 7/50\n",
      "246/246 [==============================] - 1s 6ms/step - loss: 448.3626 - root_mean_squared_error: 21.1746 - mae: 16.9815 - val_loss: 544.9446 - val_root_mean_squared_error: 23.3440 - val_mae: 17.9740\n",
      "Epoch 8/50\n",
      "246/246 [==============================] - 2s 7ms/step - loss: 431.7900 - root_mean_squared_error: 20.7796 - mae: 16.5081 - val_loss: 491.3359 - val_root_mean_squared_error: 22.1661 - val_mae: 16.9247\n",
      "Epoch 9/50\n",
      "246/246 [==============================] - 2s 6ms/step - loss: 383.6459 - root_mean_squared_error: 19.5869 - mae: 15.3907 - val_loss: 437.3799 - val_root_mean_squared_error: 20.9136 - val_mae: 16.1565\n",
      "Epoch 10/50\n",
      "246/246 [==============================] - 1s 6ms/step - loss: 315.9282 - root_mean_squared_error: 17.7744 - mae: 13.8704 - val_loss: 339.1898 - val_root_mean_squared_error: 18.4171 - val_mae: 14.2602\n",
      "Epoch 11/50\n",
      "246/246 [==============================] - 2s 8ms/step - loss: 278.7867 - root_mean_squared_error: 16.6969 - mae: 13.0318 - val_loss: 312.6426 - val_root_mean_squared_error: 17.6817 - val_mae: 13.6711\n",
      "Epoch 12/50\n",
      "246/246 [==============================] - 1s 6ms/step - loss: 261.5210 - root_mean_squared_error: 16.1716 - mae: 12.6337 - val_loss: 292.9309 - val_root_mean_squared_error: 17.1152 - val_mae: 13.2027\n",
      "Epoch 13/50\n",
      "246/246 [==============================] - 1s 6ms/step - loss: 251.4702 - root_mean_squared_error: 15.8578 - mae: 12.3861 - val_loss: 299.2536 - val_root_mean_squared_error: 17.2989 - val_mae: 13.4526\n",
      "Epoch 14/50\n",
      "246/246 [==============================] - 1s 4ms/step - loss: 247.0009 - root_mean_squared_error: 15.7163 - mae: 12.2718 - val_loss: 270.7950 - val_root_mean_squared_error: 16.4558 - val_mae: 12.7123\n",
      "Epoch 15/50\n",
      "246/246 [==============================] - 1s 4ms/step - loss: 241.9076 - root_mean_squared_error: 15.5534 - mae: 12.1656 - val_loss: 270.8641 - val_root_mean_squared_error: 16.4579 - val_mae: 12.7019\n",
      "Epoch 16/50\n",
      "246/246 [==============================] - 1s 4ms/step - loss: 238.3748 - root_mean_squared_error: 15.4394 - mae: 12.0584 - val_loss: 269.2151 - val_root_mean_squared_error: 16.4078 - val_mae: 12.6928\n",
      "Epoch 17/50\n",
      "246/246 [==============================] - 1s 5ms/step - loss: 236.4502 - root_mean_squared_error: 15.3769 - mae: 12.0229 - val_loss: 283.6535 - val_root_mean_squared_error: 16.8420 - val_mae: 13.0740\n",
      "Epoch 18/50\n",
      "246/246 [==============================] - 1s 5ms/step - loss: 234.2275 - root_mean_squared_error: 15.3045 - mae: 11.9542 - val_loss: 262.1819 - val_root_mean_squared_error: 16.1920 - val_mae: 12.5197\n",
      "Epoch 19/50\n",
      "246/246 [==============================] - 1s 4ms/step - loss: 231.3058 - root_mean_squared_error: 15.2087 - mae: 11.8796 - val_loss: 267.4990 - val_root_mean_squared_error: 16.3554 - val_mae: 12.7089\n",
      "Epoch 20/50\n",
      "246/246 [==============================] - 2s 7ms/step - loss: 231.1858 - root_mean_squared_error: 15.2048 - mae: 11.8831 - val_loss: 251.7881 - val_root_mean_squared_error: 15.8678 - val_mae: 12.2538\n",
      "Epoch 21/50\n",
      "246/246 [==============================] - 3s 14ms/step - loss: 228.9568 - root_mean_squared_error: 15.1313 - mae: 11.8250 - val_loss: 260.0540 - val_root_mean_squared_error: 16.1262 - val_mae: 12.4133\n",
      "Epoch 22/50\n",
      "246/246 [==============================] - 2s 6ms/step - loss: 226.9997 - root_mean_squared_error: 15.0665 - mae: 11.7727 - val_loss: 256.6195 - val_root_mean_squared_error: 16.0193 - val_mae: 12.3155\n",
      "Epoch 23/50\n",
      "246/246 [==============================] - 1s 6ms/step - loss: 225.1170 - root_mean_squared_error: 15.0039 - mae: 11.7194 - val_loss: 269.0565 - val_root_mean_squared_error: 16.4029 - val_mae: 12.6823\n",
      "Epoch 24/50\n",
      "246/246 [==============================] - 1s 4ms/step - loss: 225.0055 - root_mean_squared_error: 15.0002 - mae: 11.7204 - val_loss: 260.7318 - val_root_mean_squared_error: 16.1472 - val_mae: 12.5314\n",
      "Epoch 25/50\n",
      "246/246 [==============================] - 1s 5ms/step - loss: 224.0505 - root_mean_squared_error: 14.9683 - mae: 11.7011 - val_loss: 261.5547 - val_root_mean_squared_error: 16.1727 - val_mae: 12.5226\n",
      "Epoch 26/50\n",
      "246/246 [==============================] - 1s 5ms/step - loss: 222.5825 - root_mean_squared_error: 14.9192 - mae: 11.6448 - val_loss: 260.8001 - val_root_mean_squared_error: 16.1493 - val_mae: 12.4704\n",
      "Epoch 27/50\n",
      "246/246 [==============================] - 1s 5ms/step - loss: 221.9926 - root_mean_squared_error: 14.8994 - mae: 11.6460 - val_loss: 279.6687 - val_root_mean_squared_error: 16.7233 - val_mae: 12.8849\n",
      "Epoch 28/50\n",
      "246/246 [==============================] - 1s 5ms/step - loss: 221.7549 - root_mean_squared_error: 14.8914 - mae: 11.6501 - val_loss: 264.0149 - val_root_mean_squared_error: 16.2485 - val_mae: 12.5715\n",
      "Epoch 29/50\n",
      "246/246 [==============================] - 1s 5ms/step - loss: 220.7444 - root_mean_squared_error: 14.8575 - mae: 11.5949 - val_loss: 263.7485 - val_root_mean_squared_error: 16.2403 - val_mae: 12.5173\n",
      "Epoch 30/50\n",
      "246/246 [==============================] - 2s 8ms/step - loss: 219.6013 - root_mean_squared_error: 14.8189 - mae: 11.5841 - val_loss: 263.5417 - val_root_mean_squared_error: 16.2340 - val_mae: 12.5979\n",
      "Epoch 31/50\n",
      "246/246 [==============================] - 2s 6ms/step - loss: 219.1848 - root_mean_squared_error: 14.8049 - mae: 11.5558 - val_loss: 290.3398 - val_root_mean_squared_error: 17.0394 - val_mae: 13.3204\n",
      "Epoch 32/50\n",
      "246/246 [==============================] - 1s 6ms/step - loss: 219.1234 - root_mean_squared_error: 14.8028 - mae: 11.5751 - val_loss: 258.6728 - val_root_mean_squared_error: 16.0833 - val_mae: 12.4169\n",
      "Epoch 33/50\n",
      "246/246 [==============================] - 1s 6ms/step - loss: 219.1271 - root_mean_squared_error: 14.8029 - mae: 11.5858 - val_loss: 265.7006 - val_root_mean_squared_error: 16.3003 - val_mae: 12.6049\n",
      "Epoch 34/50\n",
      "246/246 [==============================] - 1s 5ms/step - loss: 217.4691 - root_mean_squared_error: 14.7468 - mae: 11.5368 - val_loss: 281.4114 - val_root_mean_squared_error: 16.7753 - val_mae: 13.0267\n",
      "Epoch 35/50\n",
      "246/246 [==============================] - 1s 5ms/step - loss: 217.3347 - root_mean_squared_error: 14.7423 - mae: 11.5249 - val_loss: 266.5444 - val_root_mean_squared_error: 16.3262 - val_mae: 12.6924\n",
      "Epoch 36/50\n",
      "246/246 [==============================] - 1s 4ms/step - loss: 216.7144 - root_mean_squared_error: 14.7212 - mae: 11.5408 - val_loss: 298.6970 - val_root_mean_squared_error: 17.2829 - val_mae: 13.5461\n",
      "Epoch 37/50\n",
      "246/246 [==============================] - 1s 4ms/step - loss: 217.9300 - root_mean_squared_error: 14.7625 - mae: 11.5660 - val_loss: 267.3272 - val_root_mean_squared_error: 16.3501 - val_mae: 12.6919\n",
      "Epoch 38/50\n",
      "246/246 [==============================] - 1s 4ms/step - loss: 215.7978 - root_mean_squared_error: 14.6901 - mae: 11.5005 - val_loss: 264.7516 - val_root_mean_squared_error: 16.2712 - val_mae: 12.5393\n",
      "Epoch 39/50\n",
      "246/246 [==============================] - 1s 5ms/step - loss: 215.2995 - root_mean_squared_error: 14.6731 - mae: 11.4955 - val_loss: 265.6654 - val_root_mean_squared_error: 16.2992 - val_mae: 12.5075\n",
      "Epoch 40/50\n",
      "246/246 [==============================] - 1s 5ms/step - loss: 215.1695 - root_mean_squared_error: 14.6687 - mae: 11.4847 - val_loss: 256.7849 - val_root_mean_squared_error: 16.0245 - val_mae: 12.3297\n",
      "Epoch 41/50\n",
      "246/246 [==============================] - 1s 4ms/step - loss: 215.6483 - root_mean_squared_error: 14.6850 - mae: 11.5230 - val_loss: 261.4367 - val_root_mean_squared_error: 16.1690 - val_mae: 12.5051\n",
      "Epoch 42/50\n",
      "246/246 [==============================] - 1s 6ms/step - loss: 215.3361 - root_mean_squared_error: 14.6743 - mae: 11.4883 - val_loss: 256.2823 - val_root_mean_squared_error: 16.0088 - val_mae: 12.3385\n",
      "Epoch 43/50\n",
      "246/246 [==============================] - 1s 5ms/step - loss: 215.4790 - root_mean_squared_error: 14.6792 - mae: 11.4978 - val_loss: 264.4408 - val_root_mean_squared_error: 16.2616 - val_mae: 12.6173\n",
      "Epoch 44/50\n",
      "246/246 [==============================] - 1s 4ms/step - loss: 214.4028 - root_mean_squared_error: 14.6425 - mae: 11.4814 - val_loss: 257.6631 - val_root_mean_squared_error: 16.0519 - val_mae: 12.3146\n",
      "Epoch 45/50\n",
      "246/246 [==============================] - 1s 4ms/step - loss: 213.7531 - root_mean_squared_error: 14.6203 - mae: 11.4574 - val_loss: 272.6266 - val_root_mean_squared_error: 16.5114 - val_mae: 12.8325\n",
      "Epoch 46/50\n",
      "246/246 [==============================] - 1s 5ms/step - loss: 213.6419 - root_mean_squared_error: 14.6165 - mae: 11.4573 - val_loss: 261.0791 - val_root_mean_squared_error: 16.1579 - val_mae: 12.5682\n",
      "Epoch 47/50\n",
      "246/246 [==============================] - 1s 5ms/step - loss: 214.0793 - root_mean_squared_error: 14.6315 - mae: 11.4495 - val_loss: 270.9453 - val_root_mean_squared_error: 16.4604 - val_mae: 12.8598\n",
      "Epoch 48/50\n",
      "246/246 [==============================] - 1s 6ms/step - loss: 213.1912 - root_mean_squared_error: 14.6011 - mae: 11.4555 - val_loss: 264.2201 - val_root_mean_squared_error: 16.2548 - val_mae: 12.7034\n",
      "Epoch 49/50\n",
      "246/246 [==============================] - 1s 5ms/step - loss: 212.8925 - root_mean_squared_error: 14.5908 - mae: 11.4510 - val_loss: 256.3442 - val_root_mean_squared_error: 16.0108 - val_mae: 12.4135\n",
      "Epoch 50/50\n",
      "246/246 [==============================] - 1s 4ms/step - loss: 212.0207 - root_mean_squared_error: 14.5609 - mae: 11.4151 - val_loss: 257.9774 - val_root_mean_squared_error: 16.0617 - val_mae: 12.5797\n"
     ]
    }
   ],
   "source": [
    "history_2 = model_2.fit( train_seq, epochs = 50, verbose = 1, validation_data = test_seq)"
   ]
  },
  {
   "cell_type": "code",
   "execution_count": 479,
   "metadata": {},
   "outputs": [
    {
     "data": {
      "image/png": "[encoded data removed]",
      "text/plain": [
       "<Figure size 432x288 with 1 Axes>"
      ]
     },
     "metadata": {
      "needs_background": "light"
     },
     "output_type": "display_data"
    }
   ],
   "source": [
    "## Plot Training & Validation Loss\n",
    "plt.plot(history_2.history['loss'], label=\"Training Loss\")\n",
    "plt.plot(history_2.history['val_loss'], label=\"Testing Loss\")\n",
    "plt.legend();"
   ]
  },
  {
   "cell_type": "code",
   "execution_count": 480,
   "metadata": {},
   "outputs": [
    {
     "data": {
      "image/png": "[encoded data removed]",
      "text/plain": [
       "<Figure size 432x288 with 1 Axes>"
      ]
     },
     "metadata": {
      "needs_background": "light"
     },
     "output_type": "display_data"
    }
   ],
   "source": [
    "## Plot Training & Validation Accuracy\n",
    "plt.plot(history_2.history['root_mean_squared_error'], label=\"Training RMSE\")\n",
    "plt.plot(history_2.history['val_root_mean_squared_error'], label=\"Testing RMSE\")\n",
    "plt.legend();\n"
   ]
  },
  {
   "cell_type": "code",
   "execution_count": 493,
   "metadata": {},
   "outputs": [
    {
     "name": "stdout",
     "output_type": "stream",
     "text": [
      "y_test_baseline: 95.47320294640589, y_train_baseline_mean: 95.47320294640589, baseline_RMSE: 23.24519113999734 \n",
      "0.0\n",
      "-0.7189155360280703\n",
      "Training R2 score: 0.5452752506706826\n",
      "Test R2 score: -0.5988374951471258\n"
     ]
    },
    {
     "data": {
      "image/png": "[encoded data removed]",
      "text/plain": [
       "<Figure size 1008x576 with 2 Axes>"
      ]
     },
     "metadata": {
      "needs_background": "light"
     },
     "output_type": "display_data"
    }
   ],
   "source": [
    "y_train_preds = model_2.predict(train_seq)\n",
    "y_test_preds = model_2.predict(test_seq)\n",
    "\n",
    "# baseline\n",
    "y_test_baseline = [y_train.mean()]*len(y_test)\n",
    "\n",
    "baseline_RMSE = mean_squared_error(y_test, y_test_baseline)**0.5\n",
    "baseline_mean = y_train.mean()\n",
    "y_train_baseline = [y_train.mean()]*len(y_train)\n",
    "\n",
    "print( f\"y_test_baseline: {y_test_baseline[0]}, y_train_baseline_mean: {baseline_mean}, baseline_RMSE: {baseline_RMSE} \")\n",
    "\n",
    "\n",
    "print( metrics.r2_score(y_train, y_train_baseline) )\n",
    "print( metrics.r2_score(y_test, y_test_baseline) )\n",
    "\n",
    "print( f\"Training R2 score: {metrics.r2_score( y_train[3:], y_train_preds)}\")\n",
    "print( f\"Test R2 score: {metrics.r2_score( y_test[-15:], y_test_preds[-15:])}\") # last few days \n",
    "\n",
    "y_test_preds_df = pd.DataFrame(data = y_test_preds, index = y_test[3:].index, columns = [\"y_test_preds\"])\n",
    "\n",
    "fig, (ax1, ax2) = plt.subplots(1,2, figsize = (14,8))\n",
    "\n",
    "ax1.plot( y_test[3:18], color = 'blue')\n",
    "ax1.plot( y_test_preds_df[:15], color = 'red')\n",
    "ax1.set_title(\"Predicted vs actual - first 15 days\")\n",
    "ax1.xaxis.set_ticks_position('none')\n",
    "ax1.tick_params(labelsize=8)\n",
    "\n",
    "ax2.plot( y_test[3:], color = 'blue')\n",
    "ax2.plot( y_test_preds_df[:], color = 'red')\n",
    "ax2.set_title(\"Predicted vs actual - All 81 days\")\n",
    "ax2.tick_params(labelsize=8)\n"
   ]
  },
  {
   "cell_type": "code",
   "execution_count": 487,
   "metadata": {},
   "outputs": [],
   "source": [
    "# 3 - RNN with LSTM and REgularization\n",
    "\n",
    "model_3 = Sequential()\n",
    "\n",
    "## First LSTM layer returns hidden state, passes back into self\n",
    "model_3.add(LSTM(16, input_shape = train_seq[0][0][0].shape, \n",
    "             return_sequences=True))\n",
    "## Second LSTM layer passes outputs forward to next layer\n",
    "model_3.add(LSTM(8, return_sequences=False))\n",
    "\n",
    "model_3.add(Dense(8, activation = 'relu', kernel_regularizer=l2(0.001)))\n",
    "model_3.add(Dropout(0.2))\n",
    "\n",
    "model_3.add(Dense(1))\n",
    "\n",
    "model_3.compile(\n",
    "    optimizer=\"adam\",\n",
    "    loss=\"mean_squared_error\", \n",
    "    metrics= [tf.keras.metrics.RootMeanSquaredError(),'mae']\n",
    ")\n",
    "\n"
   ]
  },
  {
   "cell_type": "code",
   "execution_count": 488,
   "metadata": {},
   "outputs": [
    {
     "name": "stdout",
     "output_type": "stream",
     "text": [
      "Model: \"sequential_24\"\n",
      "_________________________________________________________________\n",
      " Layer (type)                Output Shape              Param #   \n",
      "=================================================================\n",
      " lstm_28 (LSTM)              (None, 3, 16)             1344      \n",
      "                                                                 \n",
      " lstm_29 (LSTM)              (None, 8)                 800       \n",
      "                                                                 \n",
      " dense_51 (Dense)            (None, 8)                 72        \n",
      "                                                                 \n",
      " dropout_13 (Dropout)        (None, 8)                 0         \n",
      "                                                                 \n",
      " dense_52 (Dense)            (None, 1)                 9         \n",
      "                                                                 \n",
      "=================================================================\n",
      "Total params: 2,225\n",
      "Trainable params: 2,225\n",
      "Non-trainable params: 0\n",
      "_________________________________________________________________\n"
     ]
    }
   ],
   "source": [
    "model_3.summary()"
   ]
  },
  {
   "cell_type": "code",
   "execution_count": 489,
   "metadata": {},
   "outputs": [
    {
     "name": "stdout",
     "output_type": "stream",
     "text": [
      "Epoch 1/40\n",
      "246/246 [==============================] - 13s 19ms/step - loss: 8670.5938 - root_mean_squared_error: 93.1160 - mae: 90.3603 - val_loss: 9191.1523 - val_root_mean_squared_error: 95.8704 - val_mae: 94.1688\n",
      "Epoch 2/40\n",
      "246/246 [==============================] - 2s 7ms/step - loss: 4992.4116 - root_mean_squared_error: 70.6568 - mae: 66.4459 - val_loss: 5122.2036 - val_root_mean_squared_error: 71.5694 - val_mae: 69.2734\n",
      "Epoch 3/40\n",
      "246/246 [==============================] - 1s 5ms/step - loss: 2422.7585 - root_mean_squared_error: 49.2211 - mae: 42.4195 - val_loss: 2412.9175 - val_root_mean_squared_error: 49.1210 - val_mae: 45.7127\n",
      "Epoch 4/40\n",
      "246/246 [==============================] - 1s 5ms/step - loss: 1220.8785 - root_mean_squared_error: 34.9403 - mae: 27.4542 - val_loss: 1201.2080 - val_root_mean_squared_error: 34.6576 - val_mae: 29.9442\n",
      "Epoch 5/40\n",
      "246/246 [==============================] - 1s 4ms/step - loss: 956.0872 - root_mean_squared_error: 30.9196 - mae: 24.5000 - val_loss: 816.4672 - val_root_mean_squared_error: 28.5727 - val_mae: 23.3040\n",
      "Epoch 6/40\n",
      "246/246 [==============================] - 1s 5ms/step - loss: 887.3652 - root_mean_squared_error: 29.7876 - mae: 23.5606 - val_loss: 724.7065 - val_root_mean_squared_error: 26.9191 - val_mae: 21.6462\n",
      "Epoch 7/40\n",
      "246/246 [==============================] - 1s 5ms/step - loss: 899.0651 - root_mean_squared_error: 29.9833 - mae: 23.6528 - val_loss: 685.8963 - val_root_mean_squared_error: 26.1883 - val_mae: 20.9093\n",
      "Epoch 8/40\n",
      "246/246 [==============================] - 1s 5ms/step - loss: 833.6619 - root_mean_squared_error: 28.8720 - mae: 22.9010 - val_loss: 640.0524 - val_root_mean_squared_error: 25.2979 - val_mae: 20.0726\n",
      "Epoch 9/40\n",
      "246/246 [==============================] - 1s 4ms/step - loss: 807.6534 - root_mean_squared_error: 28.4180 - mae: 22.0671 - val_loss: 547.8857 - val_root_mean_squared_error: 23.4054 - val_mae: 18.5246\n",
      "Epoch 10/40\n",
      "246/246 [==============================] - 1s 6ms/step - loss: 755.0227 - root_mean_squared_error: 27.4763 - mae: 21.5820 - val_loss: 445.7813 - val_root_mean_squared_error: 21.1117 - val_mae: 16.5014\n",
      "Epoch 11/40\n",
      "246/246 [==============================] - 1s 5ms/step - loss: 734.2733 - root_mean_squared_error: 27.0960 - mae: 21.0613 - val_loss: 378.5566 - val_root_mean_squared_error: 19.4545 - val_mae: 15.2350\n",
      "Epoch 12/40\n",
      "246/246 [==============================] - 1s 5ms/step - loss: 717.4756 - root_mean_squared_error: 26.7842 - mae: 20.8111 - val_loss: 349.6185 - val_root_mean_squared_error: 18.6959 - val_mae: 14.6148\n",
      "Epoch 13/40\n",
      "246/246 [==============================] - 1s 5ms/step - loss: 710.6349 - root_mean_squared_error: 26.6562 - mae: 20.8990 - val_loss: 351.7325 - val_root_mean_squared_error: 18.7523 - val_mae: 14.7139\n",
      "Epoch 14/40\n",
      "246/246 [==============================] - 2s 7ms/step - loss: 706.5554 - root_mean_squared_error: 26.5795 - mae: 20.7105 - val_loss: 337.1226 - val_root_mean_squared_error: 18.3586 - val_mae: 14.5555\n",
      "Epoch 15/40\n",
      "246/246 [==============================] - 1s 5ms/step - loss: 705.7823 - root_mean_squared_error: 26.5650 - mae: 20.6942 - val_loss: 302.3422 - val_root_mean_squared_error: 17.3855 - val_mae: 13.6444\n",
      "Epoch 16/40\n",
      "246/246 [==============================] - 1s 5ms/step - loss: 672.1989 - root_mean_squared_error: 25.9251 - mae: 20.3001 - val_loss: 290.3302 - val_root_mean_squared_error: 17.0365 - val_mae: 13.3749\n",
      "Epoch 17/40\n",
      "246/246 [==============================] - 1s 5ms/step - loss: 667.0912 - root_mean_squared_error: 25.8264 - mae: 20.2996 - val_loss: 297.4079 - val_root_mean_squared_error: 17.2430 - val_mae: 13.5982\n",
      "Epoch 18/40\n",
      "246/246 [==============================] - 1s 5ms/step - loss: 657.4936 - root_mean_squared_error: 25.6399 - mae: 20.1736 - val_loss: 323.5204 - val_root_mean_squared_error: 17.9842 - val_mae: 14.3497\n",
      "Epoch 19/40\n",
      "246/246 [==============================] - 1s 5ms/step - loss: 652.3248 - root_mean_squared_error: 25.5389 - mae: 19.8141 - val_loss: 321.9513 - val_root_mean_squared_error: 17.9405 - val_mae: 14.3494\n",
      "Epoch 20/40\n",
      "246/246 [==============================] - 1s 5ms/step - loss: 654.2899 - root_mean_squared_error: 25.5774 - mae: 20.1622 - val_loss: 280.5768 - val_root_mean_squared_error: 16.7478 - val_mae: 13.1181\n",
      "Epoch 21/40\n",
      "246/246 [==============================] - 2s 7ms/step - loss: 675.5119 - root_mean_squared_error: 25.9889 - mae: 20.3615 - val_loss: 304.8502 - val_root_mean_squared_error: 17.4574 - val_mae: 13.8598\n",
      "Epoch 22/40\n",
      "246/246 [==============================] - 2s 8ms/step - loss: 669.9616 - root_mean_squared_error: 25.8819 - mae: 20.2759 - val_loss: 307.5322 - val_root_mean_squared_error: 17.5340 - val_mae: 14.0233\n",
      "Epoch 23/40\n",
      "246/246 [==============================] - 2s 7ms/step - loss: 644.5132 - root_mean_squared_error: 25.3855 - mae: 19.8820 - val_loss: 292.7545 - val_root_mean_squared_error: 17.1074 - val_mae: 13.5337\n",
      "Epoch 24/40\n",
      "246/246 [==============================] - 2s 9ms/step - loss: 640.6313 - root_mean_squared_error: 25.3089 - mae: 19.7000 - val_loss: 289.2578 - val_root_mean_squared_error: 17.0049 - val_mae: 13.4574\n",
      "Epoch 25/40\n",
      "246/246 [==============================] - 2s 6ms/step - loss: 656.1268 - root_mean_squared_error: 25.6132 - mae: 19.9007 - val_loss: 273.9362 - val_root_mean_squared_error: 16.5482 - val_mae: 12.9445\n",
      "Epoch 26/40\n",
      "246/246 [==============================] - 1s 5ms/step - loss: 638.9030 - root_mean_squared_error: 25.2747 - mae: 19.5864 - val_loss: 302.4175 - val_root_mean_squared_error: 17.3875 - val_mae: 13.8368\n",
      "Epoch 27/40\n",
      "246/246 [==============================] - 1s 6ms/step - loss: 657.7710 - root_mean_squared_error: 25.6452 - mae: 19.7989 - val_loss: 300.5500 - val_root_mean_squared_error: 17.3337 - val_mae: 13.7885\n",
      "Epoch 28/40\n",
      "246/246 [==============================] - 1s 5ms/step - loss: 634.3568 - root_mean_squared_error: 25.1846 - mae: 19.5861 - val_loss: 316.5440 - val_root_mean_squared_error: 17.7891 - val_mae: 14.1640\n",
      "Epoch 29/40\n",
      "246/246 [==============================] - 1s 5ms/step - loss: 640.5413 - root_mean_squared_error: 25.3071 - mae: 19.7202 - val_loss: 301.0359 - val_root_mean_squared_error: 17.3477 - val_mae: 13.7593\n",
      "Epoch 30/40\n",
      "246/246 [==============================] - 1s 5ms/step - loss: 613.6635 - root_mean_squared_error: 24.7703 - mae: 19.4493 - val_loss: 310.3438 - val_root_mean_squared_error: 17.6139 - val_mae: 14.0719\n",
      "Epoch 31/40\n",
      "246/246 [==============================] - 1s 5ms/step - loss: 672.2484 - root_mean_squared_error: 25.9259 - mae: 20.3030 - val_loss: 318.5641 - val_root_mean_squared_error: 17.8457 - val_mae: 14.2596\n",
      "Epoch 32/40\n",
      "246/246 [==============================] - 1s 5ms/step - loss: 639.1395 - root_mean_squared_error: 25.2794 - mae: 19.7128 - val_loss: 302.4792 - val_root_mean_squared_error: 17.3892 - val_mae: 13.8278\n",
      "Epoch 33/40\n",
      "246/246 [==============================] - 1s 5ms/step - loss: 646.0195 - root_mean_squared_error: 25.4151 - mae: 19.7611 - val_loss: 279.1436 - val_root_mean_squared_error: 16.7048 - val_mae: 13.1483\n",
      "Epoch 34/40\n",
      "246/246 [==============================] - 1s 4ms/step - loss: 622.0655 - root_mean_squared_error: 24.9394 - mae: 19.6965 - val_loss: 271.7156 - val_root_mean_squared_error: 16.4809 - val_mae: 12.8838\n",
      "Epoch 35/40\n",
      "246/246 [==============================] - 1s 4ms/step - loss: 649.3745 - root_mean_squared_error: 25.4810 - mae: 19.8911 - val_loss: 286.7686 - val_root_mean_squared_error: 16.9315 - val_mae: 13.3809\n",
      "Epoch 36/40\n",
      "246/246 [==============================] - 1s 6ms/step - loss: 646.1503 - root_mean_squared_error: 25.4176 - mae: 19.9373 - val_loss: 312.9654 - val_root_mean_squared_error: 17.6882 - val_mae: 14.1461\n",
      "Epoch 37/40\n",
      "246/246 [==============================] - 1s 6ms/step - loss: 626.4110 - root_mean_squared_error: 25.0263 - mae: 19.5856 - val_loss: 329.2734 - val_root_mean_squared_error: 18.1433 - val_mae: 14.5929\n",
      "Epoch 38/40\n",
      "246/246 [==============================] - 1s 5ms/step - loss: 636.7221 - root_mean_squared_error: 25.2315 - mae: 19.7733 - val_loss: 308.7419 - val_root_mean_squared_error: 17.5684 - val_mae: 13.9973\n",
      "Epoch 39/40\n",
      "246/246 [==============================] - 1s 5ms/step - loss: 619.2687 - root_mean_squared_error: 24.8832 - mae: 19.4448 - val_loss: 309.6157 - val_root_mean_squared_error: 17.5932 - val_mae: 14.0114\n",
      "Epoch 40/40\n",
      "246/246 [==============================] - 1s 5ms/step - loss: 654.3825 - root_mean_squared_error: 25.5791 - mae: 19.8610 - val_loss: 297.3396 - val_root_mean_squared_error: 17.2408 - val_mae: 13.7187\n"
     ]
    }
   ],
   "source": [
    "history_3 = model_3.fit(train_seq, epochs = 40, verbose = 1, validation_data = test_seq)"
   ]
  },
  {
   "cell_type": "code",
   "execution_count": 490,
   "metadata": {},
   "outputs": [
    {
     "data": {
      "image/png": "[encoded data removed]",
      "text/plain": [
       "<Figure size 432x288 with 1 Axes>"
      ]
     },
     "metadata": {
      "needs_background": "light"
     },
     "output_type": "display_data"
    }
   ],
   "source": [
    "## Plot Training & Validation Loss\n",
    "plt.plot(history_3.history['loss'], label=\"Training Loss\")\n",
    "plt.plot(history_3.history['val_loss'], label=\"Testing Loss\")\n",
    "plt.legend();"
   ]
  },
  {
   "cell_type": "code",
   "execution_count": 491,
   "metadata": {},
   "outputs": [
    {
     "data": {
      "image/png": "[encoded data removed]",
      "text/plain": [
       "<Figure size 432x288 with 1 Axes>"
      ]
     },
     "metadata": {
      "needs_background": "light"
     },
     "output_type": "display_data"
    }
   ],
   "source": [
    "## Plot Training & Validation Accuracy\n",
    "plt.plot(history_3.history['root_mean_squared_error'], label=\"Training RMSE\")\n",
    "plt.plot(history_3.history['val_root_mean_squared_error'], label=\"Testing RMSE\")\n",
    "plt.legend();\n"
   ]
  },
  {
   "cell_type": "code",
   "execution_count": 492,
   "metadata": {},
   "outputs": [
    {
     "name": "stdout",
     "output_type": "stream",
     "text": [
      "5/5 [==============================] - 0s 3ms/step - loss: 297.3396 - root_mean_squared_error: 17.2408 - mae: 13.7187\n"
     ]
    },
    {
     "data": {
      "text/plain": [
       "[297.3396301269531, 17.24078369140625, 13.718729972839355]"
      ]
     },
     "execution_count": 492,
     "metadata": {},
     "output_type": "execute_result"
    }
   ],
   "source": [
    "model_3.evaluate(test_seq)"
   ]
  },
  {
   "cell_type": "code",
   "execution_count": 365,
   "metadata": {},
   "outputs": [],
   "source": [
    "# try with len and batch_size change\n",
    "\n",
    "# 32 sequences of len=5 fed through our model at a time\n",
    "train_seq2 = TimeseriesGenerator( X_train_sc, y_train, length = 5, batch_size=16) \n",
    "test_seq2 = TimeseriesGenerator( X_test_sc, y_test, length = 5, batch_size=16) \n",
    "\n",
    "\n"
   ]
  },
  {
   "cell_type": "code",
   "execution_count": 366,
   "metadata": {},
   "outputs": [],
   "source": [
    "# baseline\n",
    "y_test_baseline = [y_train.mean()]*len(y_test)\n",
    "\n",
    "baseline_RMSE = mean_squared_error(y_test, y_test_baseline)**0.5\n",
    "baseline_mean = y_train.mean()\n",
    "\n",
    "print( f\"y_test_baseline: {y_test_baseline[0]}, y_train_baseline_mean: {baseline_mean}, baseline_RMSE: {baseline_RMSE} \")\n",
    "\n",
    "#metrics.r2_score()"
   ]
  },
  {
   "cell_type": "code",
   "execution_count": 367,
   "metadata": {},
   "outputs": [
    {
     "name": "stdout",
     "output_type": "stream",
     "text": [
      "y_test_baseline: 95.47320294640589, y_train_baseline_mean: 95.47320294640589, baseline_RMSE: 23.24519113999734 \n"
     ]
    }
   ],
   "source": [
    "print( f\"y_test_baseline: {y_test_baseline[0]}, y_train_baseline_mean: {baseline_mean}, baseline_RMSE: {baseline_RMSE} \")\n",
    "\n"
   ]
  },
  {
   "cell_type": "code",
   "execution_count": 368,
   "metadata": {},
   "outputs": [
    {
     "name": "stdout",
     "output_type": "stream",
     "text": [
      "Model: \"sequential_20\"\n",
      "_________________________________________________________________\n",
      " Layer (type)                Output Shape              Param #   \n",
      "=================================================================\n",
      " lstm_24 (LSTM)              (None, 5, 16)             1344      \n",
      "                                                                 \n",
      " lstm_25 (LSTM)              (None, 8)                 800       \n",
      "                                                                 \n",
      " dense_41 (Dense)            (None, 8)                 72        \n",
      "                                                                 \n",
      " dropout_10 (Dropout)        (None, 8)                 0         \n",
      "                                                                 \n",
      " dense_42 (Dense)            (None, 1)                 9         \n",
      "                                                                 \n",
      "=================================================================\n",
      "Total params: 2,225\n",
      "Trainable params: 2,225\n",
      "Non-trainable params: 0\n",
      "_________________________________________________________________\n"
     ]
    }
   ],
   "source": [
    "# Design RNN - Using LSTM layerxs & Regularization\n",
    "model_4 = Sequential()\n",
    "\n",
    "model_4.add(LSTM(16, input_shape = train_seq2[0][0][0].shape,\n",
    "              return_sequences=True)) ## First LSTM layer returns hidden state, passes back into self\n",
    "model_4.add(LSTM(8, return_sequences=False)) ## Second LSTM layer passes outputs forward to next layer\n",
    "\n",
    "model_4.add(Dense(8, activation = 'relu', kernel_regularizer=l2(0.001)))\n",
    "model_4.add(Dropout(0.2))\n",
    "model_4.add(Dense(1))\n",
    "\n",
    "model_4.compile(\n",
    "    optimizer=\"adam\",\n",
    "    loss=\"mean_squared_error\", \n",
    "    metrics= [tf.keras.metrics.RootMeanSquaredError(),'mae']\n",
    ")\n",
    "\n",
    "model_4.summary()\n"
   ]
  },
  {
   "cell_type": "code",
   "execution_count": 369,
   "metadata": {},
   "outputs": [
    {
     "data": {
      "text/plain": [
       "<keras.callbacks.EarlyStopping at 0x7f9696fbdd30>"
      ]
     },
     "execution_count": 369,
     "metadata": {},
     "output_type": "execute_result"
    }
   ],
   "source": [
    "EarlyStopping(monitor = \"val_root_mean_squared_error\", mode = \"min\", verbose = 1, patience = 20, restore_best_weights=True)\n"
   ]
  },
  {
   "cell_type": "code",
   "execution_count": 370,
   "metadata": {},
   "outputs": [
    {
     "name": "stdout",
     "output_type": "stream",
     "text": [
      "Epoch 1/40\n",
      "246/246 [==============================] - 27s 10ms/step - loss: 8833.5557 - root_mean_squared_error: 93.9870 - mae: 91.3816 - val_loss: 9931.2930 - val_root_mean_squared_error: 99.6558 - val_mae: 98.0059\n",
      "Epoch 2/40\n",
      "246/246 [==============================] - 1s 6ms/step - loss: 5644.6938 - root_mean_squared_error: 75.1310 - mae: 71.4254 - val_loss: 5792.4077 - val_root_mean_squared_error: 76.1077 - val_mae: 73.9352\n",
      "Epoch 3/40\n",
      "246/246 [==============================] - 1s 6ms/step - loss: 2796.6746 - root_mean_squared_error: 52.8832 - mae: 46.7495 - val_loss: 2775.8523 - val_root_mean_squared_error: 52.6859 - val_mae: 49.4960\n",
      "Epoch 4/40\n",
      "246/246 [==============================] - 2s 7ms/step - loss: 1393.7609 - root_mean_squared_error: 37.3324 - mae: 29.6617 - val_loss: 1340.4990 - val_root_mean_squared_error: 36.6120 - val_mae: 32.0455\n",
      "Epoch 5/40\n",
      "246/246 [==============================] - 2s 6ms/step - loss: 954.3629 - root_mean_squared_error: 30.8918 - mae: 24.2967 - val_loss: 879.4813 - val_root_mean_squared_error: 29.6550 - val_mae: 24.3974\n",
      "Epoch 6/40\n",
      "246/246 [==============================] - 2s 6ms/step - loss: 892.9313 - root_mean_squared_error: 29.8809 - mae: 23.4918 - val_loss: 733.5245 - val_root_mean_squared_error: 27.0824 - val_mae: 21.7468\n",
      "Epoch 7/40\n",
      "246/246 [==============================] - 2s 6ms/step - loss: 895.7516 - root_mean_squared_error: 29.9280 - mae: 23.8831 - val_loss: 723.5901 - val_root_mean_squared_error: 26.8984 - val_mae: 21.5579\n",
      "Epoch 8/40\n",
      "246/246 [==============================] - 2s 6ms/step - loss: 903.1143 - root_mean_squared_error: 30.0507 - mae: 23.8645 - val_loss: 719.7468 - val_root_mean_squared_error: 26.8269 - val_mae: 21.4843\n",
      "Epoch 9/40\n",
      "246/246 [==============================] - 2s 8ms/step - loss: 882.8203 - root_mean_squared_error: 29.7112 - mae: 23.8277 - val_loss: 715.3917 - val_root_mean_squared_error: 26.7456 - val_mae: 21.4004\n",
      "Epoch 10/40\n",
      "246/246 [==============================] - 2s 8ms/step - loss: 920.9386 - root_mean_squared_error: 30.3459 - mae: 24.2592 - val_loss: 710.0699 - val_root_mean_squared_error: 26.6459 - val_mae: 21.2973\n",
      "Epoch 11/40\n",
      "246/246 [==============================] - 2s 9ms/step - loss: 917.5984 - root_mean_squared_error: 30.2908 - mae: 24.1360 - val_loss: 720.8072 - val_root_mean_squared_error: 26.8466 - val_mae: 21.5052\n",
      "Epoch 12/40\n",
      "246/246 [==============================] - 1s 5ms/step - loss: 902.0797 - root_mean_squared_error: 30.0335 - mae: 23.7955 - val_loss: 713.9302 - val_root_mean_squared_error: 26.7182 - val_mae: 21.3755\n",
      "Epoch 13/40\n",
      "246/246 [==============================] - 2s 6ms/step - loss: 833.3777 - root_mean_squared_error: 28.8671 - mae: 22.5860 - val_loss: 593.7924 - val_root_mean_squared_error: 24.3664 - val_mae: 19.4742\n",
      "Epoch 14/40\n",
      "246/246 [==============================] - 1s 6ms/step - loss: 777.9073 - root_mean_squared_error: 27.8897 - mae: 21.7483 - val_loss: 430.5072 - val_root_mean_squared_error: 20.7469 - val_mae: 16.5202\n",
      "Epoch 15/40\n",
      "246/246 [==============================] - 2s 7ms/step - loss: 703.1909 - root_mean_squared_error: 26.5163 - mae: 20.7205 - val_loss: 366.8617 - val_root_mean_squared_error: 19.1516 - val_mae: 15.1336\n",
      "Epoch 16/40\n",
      "246/246 [==============================] - 2s 6ms/step - loss: 675.5054 - root_mean_squared_error: 25.9890 - mae: 20.0758 - val_loss: 359.6369 - val_root_mean_squared_error: 18.9620 - val_mae: 15.0549\n",
      "Epoch 17/40\n",
      "246/246 [==============================] - 2s 6ms/step - loss: 688.7170 - root_mean_squared_error: 26.2419 - mae: 20.5013 - val_loss: 284.2350 - val_root_mean_squared_error: 16.8568 - val_mae: 13.2837\n",
      "Epoch 18/40\n",
      "246/246 [==============================] - 1s 6ms/step - loss: 665.9146 - root_mean_squared_error: 25.8037 - mae: 19.9302 - val_loss: 312.5260 - val_root_mean_squared_error: 17.6760 - val_mae: 14.2191\n",
      "Epoch 19/40\n",
      "246/246 [==============================] - 1s 5ms/step - loss: 630.2285 - root_mean_squared_error: 25.1027 - mae: 19.5767 - val_loss: 321.0392 - val_root_mean_squared_error: 17.9152 - val_mae: 14.5126\n",
      "Epoch 20/40\n",
      "246/246 [==============================] - 1s 5ms/step - loss: 678.1250 - root_mean_squared_error: 26.0392 - mae: 20.2525 - val_loss: 257.4913 - val_root_mean_squared_error: 16.0439 - val_mae: 12.6994\n",
      "Epoch 21/40\n",
      "246/246 [==============================] - 1s 6ms/step - loss: 638.5994 - root_mean_squared_error: 25.2688 - mae: 19.8190 - val_loss: 284.5223 - val_root_mean_squared_error: 16.8652 - val_mae: 13.5026\n",
      "Epoch 22/40\n",
      "246/246 [==============================] - 1s 6ms/step - loss: 638.1310 - root_mean_squared_error: 25.2595 - mae: 19.6875 - val_loss: 250.9109 - val_root_mean_squared_error: 15.8374 - val_mae: 12.4650\n",
      "Epoch 23/40\n",
      "246/246 [==============================] - 1s 6ms/step - loss: 630.6432 - root_mean_squared_error: 25.1109 - mae: 19.8473 - val_loss: 287.9562 - val_root_mean_squared_error: 16.9667 - val_mae: 13.6311\n",
      "Epoch 24/40\n",
      "246/246 [==============================] - 1s 6ms/step - loss: 631.8633 - root_mean_squared_error: 25.1352 - mae: 19.6782 - val_loss: 299.3297 - val_root_mean_squared_error: 17.2986 - val_mae: 13.9373\n",
      "Epoch 25/40\n",
      "246/246 [==============================] - 1s 5ms/step - loss: 627.8132 - root_mean_squared_error: 25.0544 - mae: 19.6037 - val_loss: 300.2576 - val_root_mean_squared_error: 17.3254 - val_mae: 14.0622\n",
      "Epoch 26/40\n",
      "246/246 [==============================] - 1s 6ms/step - loss: 625.9383 - root_mean_squared_error: 25.0170 - mae: 19.6957 - val_loss: 272.6701 - val_root_mean_squared_error: 16.5101 - val_mae: 13.2712\n",
      "Epoch 27/40\n",
      "246/246 [==============================] - 1s 6ms/step - loss: 632.6798 - root_mean_squared_error: 25.1514 - mae: 19.6379 - val_loss: 254.1467 - val_root_mean_squared_error: 15.9392 - val_mae: 12.7695\n",
      "Epoch 28/40\n",
      "246/246 [==============================] - 1s 5ms/step - loss: 620.7153 - root_mean_squared_error: 24.9124 - mae: 19.4307 - val_loss: 256.9875 - val_root_mean_squared_error: 16.0281 - val_mae: 12.9301\n",
      "Epoch 29/40\n",
      "246/246 [==============================] - 1s 5ms/step - loss: 602.7377 - root_mean_squared_error: 24.5489 - mae: 19.2809 - val_loss: 242.2328 - val_root_mean_squared_error: 15.5610 - val_mae: 12.3939\n",
      "Epoch 30/40\n",
      "246/246 [==============================] - 1s 5ms/step - loss: 628.0706 - root_mean_squared_error: 25.0596 - mae: 19.6050 - val_loss: 239.5907 - val_root_mean_squared_error: 15.4758 - val_mae: 12.1990\n",
      "Epoch 31/40\n",
      "246/246 [==============================] - 1s 5ms/step - loss: 645.1887 - root_mean_squared_error: 25.3988 - mae: 19.7155 - val_loss: 256.3206 - val_root_mean_squared_error: 16.0072 - val_mae: 12.7194\n",
      "Epoch 32/40\n",
      "246/246 [==============================] - 1s 5ms/step - loss: 628.0427 - root_mean_squared_error: 25.0590 - mae: 19.6396 - val_loss: 237.5738 - val_root_mean_squared_error: 15.4105 - val_mae: 12.3068\n",
      "Epoch 33/40\n",
      "246/246 [==============================] - 1s 5ms/step - loss: 637.6951 - root_mean_squared_error: 25.2508 - mae: 19.7711 - val_loss: 255.5397 - val_root_mean_squared_error: 15.9828 - val_mae: 12.8787\n",
      "Epoch 34/40\n",
      "246/246 [==============================] - 1s 5ms/step - loss: 631.6171 - root_mean_squared_error: 25.1302 - mae: 19.7500 - val_loss: 257.9872 - val_root_mean_squared_error: 16.0592 - val_mae: 12.8938\n",
      "Epoch 35/40\n",
      "246/246 [==============================] - 1s 5ms/step - loss: 646.2780 - root_mean_squared_error: 25.4202 - mae: 19.5839 - val_loss: 237.8655 - val_root_mean_squared_error: 15.4200 - val_mae: 12.2340\n",
      "Epoch 36/40\n",
      "246/246 [==============================] - 1s 5ms/step - loss: 642.6948 - root_mean_squared_error: 25.3496 - mae: 19.6665 - val_loss: 235.8583 - val_root_mean_squared_error: 15.3547 - val_mae: 12.1193\n",
      "Epoch 37/40\n",
      "246/246 [==============================] - 1s 5ms/step - loss: 625.2150 - root_mean_squared_error: 25.0025 - mae: 19.4976 - val_loss: 269.4843 - val_root_mean_squared_error: 16.4132 - val_mae: 13.3592\n",
      "Epoch 38/40\n",
      "246/246 [==============================] - 1s 5ms/step - loss: 614.3265 - root_mean_squared_error: 24.7838 - mae: 19.3686 - val_loss: 248.5558 - val_root_mean_squared_error: 15.7628 - val_mae: 12.7281\n",
      "Epoch 39/40\n",
      "246/246 [==============================] - 1s 5ms/step - loss: 624.3574 - root_mean_squared_error: 24.9853 - mae: 19.3463 - val_loss: 234.2446 - val_root_mean_squared_error: 15.3021 - val_mae: 12.1691\n",
      "Epoch 40/40\n",
      "246/246 [==============================] - 1s 5ms/step - loss: 615.2778 - root_mean_squared_error: 24.8030 - mae: 19.3129 - val_loss: 279.6694 - val_root_mean_squared_error: 16.7206 - val_mae: 13.4663\n"
     ]
    }
   ],
   "source": [
    "history_4 = model_4.fit(train_seq2, epochs = 40, verbose = 1, validation_data = test_seq2)"
   ]
  },
  {
   "cell_type": "code",
   "execution_count": 371,
   "metadata": {},
   "outputs": [
    {
     "name": "stdout",
     "output_type": "stream",
     "text": [
      "5/5 [==============================] - 0s 2ms/step - loss: 279.6694 - root_mean_squared_error: 16.7206 - mae: 13.4663\n"
     ]
    },
    {
     "data": {
      "text/plain": [
       "[279.6694030761719, 16.720598220825195, 13.466326713562012]"
      ]
     },
     "execution_count": 371,
     "metadata": {},
     "output_type": "execute_result"
    }
   ],
   "source": [
    "model_4.evaluate(test_seq2)"
   ]
  },
  {
   "cell_type": "code",
   "execution_count": 372,
   "metadata": {},
   "outputs": [
    {
     "data": {
      "image/png": "[encoded data removed]",
      "text/plain": [
       "<Figure size 432x288 with 1 Axes>"
      ]
     },
     "metadata": {
      "needs_background": "light"
     },
     "output_type": "display_data"
    }
   ],
   "source": [
    "## Plot Training & Validation Loss\n",
    "plt.plot(history_4.history['loss'], label=\"Training Loss\")\n",
    "plt.plot(history_4.history['val_loss'], label=\"Testing Loss\")\n",
    "plt.legend();"
   ]
  },
  {
   "cell_type": "code",
   "execution_count": 373,
   "metadata": {},
   "outputs": [
    {
     "data": {
      "image/png": "[encoded data removed]",
      "text/plain": [
       "<Figure size 432x288 with 1 Axes>"
      ]
     },
     "metadata": {
      "needs_background": "light"
     },
     "output_type": "display_data"
    }
   ],
   "source": [
    "## Plot Training & Validation Accuracy\n",
    "plt.plot(history_4.history['root_mean_squared_error'], label=\"Training RMSE\")\n",
    "plt.plot(history_4.history['val_root_mean_squared_error'], label=\"Testing RMSE\")\n",
    "plt.legend();\n"
   ]
  },
  {
   "cell_type": "code",
   "execution_count": 374,
   "metadata": {},
   "outputs": [
    {
     "name": "stdout",
     "output_type": "stream",
     "text": [
      "Model: \"sequential_21\"\n",
      "_________________________________________________________________\n",
      " Layer (type)                Output Shape              Param #   \n",
      "=================================================================\n",
      " gru_18 (GRU)                (None, 5, 128)            51456     \n",
      "                                                                 \n",
      " gru_19 (GRU)                (None, 5, 64)             37248     \n",
      "                                                                 \n",
      " gru_20 (GRU)                (None, 32)                9408      \n",
      "                                                                 \n",
      " dense_43 (Dense)            (None, 32)                1056      \n",
      "                                                                 \n",
      " dropout_11 (Dropout)        (None, 32)                0         \n",
      "                                                                 \n",
      " dense_44 (Dense)            (None, 16)                528       \n",
      "                                                                 \n",
      " dropout_12 (Dropout)        (None, 16)                0         \n",
      "                                                                 \n",
      " dense_45 (Dense)            (None, 8)                 136       \n",
      "                                                                 \n",
      " dense_46 (Dense)            (None, 1)                 9         \n",
      "                                                                 \n",
      "=================================================================\n",
      "Total params: 99,841\n",
      "Trainable params: 99,841\n",
      "Non-trainable params: 0\n",
      "_________________________________________________________________\n"
     ]
    }
   ],
   "source": [
    "model_5 = Sequential()\n",
    "\n",
    "model_5.add(GRU(128, input_shape = train_seq2[0][0][0].shape, return_sequences=True))\n",
    "model_5.add(GRU(64, return_sequences=True))\n",
    "model_5.add(GRU(32, return_sequences=False))\n",
    "\n",
    "model_5.add(Dense(32, activation = \"relu\"))\n",
    "model_5.add(Dropout(0.2))\n",
    "model_5.add(Dense(16, activation = \"relu\"))\n",
    "model_5.add(Dropout(0.2))\n",
    "model_5.add(Dense(8,  activation = \"relu\"))\n",
    "model_5.add(Dense(1))\n",
    "\n",
    "model_5.compile(\n",
    "    optimizer=\"adam\",\n",
    "    loss=\"mean_squared_error\", \n",
    "    metrics= [tf.keras.metrics.RootMeanSquaredError(),'mae']\n",
    ")\n",
    "\n",
    "model_5.summary()\n"
   ]
  },
  {
   "cell_type": "code",
   "execution_count": 375,
   "metadata": {},
   "outputs": [
    {
     "name": "stdout",
     "output_type": "stream",
     "text": [
      "Epoch 1/100\n",
      "246/246 [==============================] - 9s 13ms/step - loss: 3069.5574 - root_mean_squared_error: 55.4036 - mae: 42.8264 - val_loss: 802.9247 - val_root_mean_squared_error: 28.3359 - val_mae: 23.0089\n",
      "Epoch 2/100\n",
      "246/246 [==============================] - 2s 9ms/step - loss: 846.7835 - root_mean_squared_error: 29.0995 - mae: 23.3334 - val_loss: 771.1726 - val_root_mean_squared_error: 27.7700 - val_mae: 22.4449\n",
      "Epoch 3/100\n",
      "246/246 [==============================] - 2s 8ms/step - loss: 849.8469 - root_mean_squared_error: 29.1521 - mae: 23.1413 - val_loss: 556.5012 - val_root_mean_squared_error: 23.5903 - val_mae: 18.1354\n",
      "Epoch 4/100\n",
      "246/246 [==============================] - 2s 9ms/step - loss: 768.1182 - root_mean_squared_error: 27.7149 - mae: 21.9933 - val_loss: 675.9998 - val_root_mean_squared_error: 26.0000 - val_mae: 20.6199\n",
      "Epoch 5/100\n",
      "246/246 [==============================] - 2s 9ms/step - loss: 789.5966 - root_mean_squared_error: 28.0998 - mae: 22.3001 - val_loss: 682.8962 - val_root_mean_squared_error: 26.1323 - val_mae: 20.7601\n",
      "Epoch 6/100\n",
      "246/246 [==============================] - 2s 9ms/step - loss: 762.1327 - root_mean_squared_error: 27.6068 - mae: 21.8326 - val_loss: 671.1919 - val_root_mean_squared_error: 25.9074 - val_mae: 20.5224\n",
      "Epoch 7/100\n",
      "246/246 [==============================] - 2s 9ms/step - loss: 740.4037 - root_mean_squared_error: 27.2104 - mae: 21.6640 - val_loss: 673.0427 - val_root_mean_squared_error: 25.9431 - val_mae: 20.5607\n",
      "Epoch 8/100\n",
      "246/246 [==============================] - 2s 9ms/step - loss: 754.3278 - root_mean_squared_error: 27.4650 - mae: 21.9983 - val_loss: 676.5225 - val_root_mean_squared_error: 26.0100 - val_mae: 20.6329\n",
      "Epoch 9/100\n",
      "246/246 [==============================] - 2s 9ms/step - loss: 736.0928 - root_mean_squared_error: 27.1310 - mae: 21.4561 - val_loss: 1070.7699 - val_root_mean_squared_error: 32.7226 - val_mae: 27.7620\n",
      "Epoch 10/100\n",
      "246/246 [==============================] - 2s 9ms/step - loss: 730.2578 - root_mean_squared_error: 27.0233 - mae: 21.4772 - val_loss: 880.2329 - val_root_mean_squared_error: 29.6687 - val_mae: 24.4244\n",
      "Epoch 11/100\n",
      "246/246 [==============================] - 2s 8ms/step - loss: 714.4787 - root_mean_squared_error: 26.7297 - mae: 21.2064 - val_loss: 984.7881 - val_root_mean_squared_error: 31.3813 - val_mae: 26.2892\n",
      "Epoch 12/100\n",
      "246/246 [==============================] - 2s 8ms/step - loss: 737.3820 - root_mean_squared_error: 27.1548 - mae: 21.6200 - val_loss: 921.4702 - val_root_mean_squared_error: 30.3557 - val_mae: 25.1708\n",
      "Epoch 13/100\n",
      "246/246 [==============================] - 2s 9ms/step - loss: 683.4301 - root_mean_squared_error: 26.1425 - mae: 20.6861 - val_loss: 476.1550 - val_root_mean_squared_error: 21.8210 - val_mae: 17.1048\n",
      "Epoch 14/100\n",
      "246/246 [==============================] - 2s 9ms/step - loss: 551.0647 - root_mean_squared_error: 23.4748 - mae: 18.4931 - val_loss: 450.0494 - val_root_mean_squared_error: 21.2144 - val_mae: 17.5699\n",
      "Epoch 15/100\n",
      "246/246 [==============================] - 2s 10ms/step - loss: 479.0280 - root_mean_squared_error: 21.8867 - mae: 17.1453 - val_loss: 444.8270 - val_root_mean_squared_error: 21.0909 - val_mae: 17.8776\n",
      "Epoch 16/100\n",
      "246/246 [==============================] - 2s 9ms/step - loss: 451.2855 - root_mean_squared_error: 21.2435 - mae: 16.6793 - val_loss: 300.7417 - val_root_mean_squared_error: 17.3419 - val_mae: 13.7503\n",
      "Epoch 17/100\n",
      "246/246 [==============================] - 2s 8ms/step - loss: 438.0809 - root_mean_squared_error: 20.9304 - mae: 16.3909 - val_loss: 347.7576 - val_root_mean_squared_error: 18.6483 - val_mae: 15.3195\n",
      "Epoch 18/100\n",
      "246/246 [==============================] - 2s 8ms/step - loss: 423.0839 - root_mean_squared_error: 20.5690 - mae: 16.0685 - val_loss: 488.6079 - val_root_mean_squared_error: 22.1045 - val_mae: 19.0138\n",
      "Epoch 19/100\n",
      "246/246 [==============================] - 2s 8ms/step - loss: 414.2921 - root_mean_squared_error: 20.3542 - mae: 15.9431 - val_loss: 478.3980 - val_root_mean_squared_error: 21.8723 - val_mae: 18.7165\n",
      "Epoch 20/100\n",
      "246/246 [==============================] - 2s 8ms/step - loss: 405.6010 - root_mean_squared_error: 20.1395 - mae: 15.9018 - val_loss: 357.0704 - val_root_mean_squared_error: 18.8963 - val_mae: 15.7847\n",
      "Epoch 21/100\n",
      "246/246 [==============================] - 2s 8ms/step - loss: 373.0811 - root_mean_squared_error: 19.3153 - mae: 15.2853 - val_loss: 569.3504 - val_root_mean_squared_error: 23.8611 - val_mae: 20.9215\n",
      "Epoch 22/100\n",
      "246/246 [==============================] - 2s 8ms/step - loss: 367.5109 - root_mean_squared_error: 19.1706 - mae: 15.0557 - val_loss: 538.2674 - val_root_mean_squared_error: 23.2006 - val_mae: 20.3589\n",
      "Epoch 23/100\n",
      "246/246 [==============================] - 2s 8ms/step - loss: 361.5699 - root_mean_squared_error: 19.0150 - mae: 14.8576 - val_loss: 579.3521 - val_root_mean_squared_error: 24.0697 - val_mae: 21.3146\n",
      "Epoch 24/100\n",
      "246/246 [==============================] - 2s 8ms/step - loss: 351.8702 - root_mean_squared_error: 18.7582 - mae: 14.7189 - val_loss: 657.1662 - val_root_mean_squared_error: 25.6353 - val_mae: 22.9266\n",
      "Epoch 25/100\n",
      "246/246 [==============================] - 2s 8ms/step - loss: 354.0750 - root_mean_squared_error: 18.8169 - mae: 14.7111 - val_loss: 482.1594 - val_root_mean_squared_error: 21.9581 - val_mae: 19.0244\n",
      "Epoch 26/100\n",
      "246/246 [==============================] - 2s 8ms/step - loss: 352.2710 - root_mean_squared_error: 18.7689 - mae: 14.6822 - val_loss: 519.8901 - val_root_mean_squared_error: 22.8011 - val_mae: 19.8051\n",
      "Epoch 27/100\n",
      "246/246 [==============================] - 2s 9ms/step - loss: 330.6979 - root_mean_squared_error: 18.1851 - mae: 14.2660 - val_loss: 568.8257 - val_root_mean_squared_error: 23.8501 - val_mae: 20.6608\n",
      "Epoch 28/100\n",
      "246/246 [==============================] - 2s 8ms/step - loss: 332.3372 - root_mean_squared_error: 18.2301 - mae: 14.2684 - val_loss: 655.1068 - val_root_mean_squared_error: 25.5951 - val_mae: 22.6342\n",
      "Epoch 29/100\n",
      "246/246 [==============================] - 2s 8ms/step - loss: 317.4761 - root_mean_squared_error: 17.8179 - mae: 13.9540 - val_loss: 596.3660 - val_root_mean_squared_error: 24.4206 - val_mae: 21.4191\n",
      "Epoch 30/100\n",
      "246/246 [==============================] - 2s 8ms/step - loss: 324.3498 - root_mean_squared_error: 18.0097 - mae: 14.1800 - val_loss: 778.0536 - val_root_mean_squared_error: 27.8936 - val_mae: 24.7424\n",
      "Epoch 31/100\n",
      "246/246 [==============================] - 2s 8ms/step - loss: 307.0920 - root_mean_squared_error: 17.5240 - mae: 13.7122 - val_loss: 751.9641 - val_root_mean_squared_error: 27.4220 - val_mae: 24.5297\n",
      "Epoch 32/100\n",
      "246/246 [==============================] - 2s 8ms/step - loss: 296.4693 - root_mean_squared_error: 17.2183 - mae: 13.4779 - val_loss: 999.3885 - val_root_mean_squared_error: 31.6131 - val_mae: 28.6011\n",
      "Epoch 33/100\n",
      "246/246 [==============================] - 2s 8ms/step - loss: 301.6557 - root_mean_squared_error: 17.3682 - mae: 13.6227 - val_loss: 739.9995 - val_root_mean_squared_error: 27.2029 - val_mae: 24.0641\n",
      "Epoch 34/100\n",
      "246/246 [==============================] - 2s 8ms/step - loss: 289.5317 - root_mean_squared_error: 17.0156 - mae: 13.3938 - val_loss: 720.4279 - val_root_mean_squared_error: 26.8408 - val_mae: 24.0512\n",
      "Epoch 35/100\n",
      "246/246 [==============================] - 2s 8ms/step - loss: 280.8513 - root_mean_squared_error: 16.7586 - mae: 13.0355 - val_loss: 597.0140 - val_root_mean_squared_error: 24.4339 - val_mae: 21.4519\n",
      "Epoch 36/100\n",
      "246/246 [==============================] - ETA: 0s - loss: 293.0695 - root_mean_squared_error: 17.1193 - mae: 13.3735Restoring model weights from the end of the best epoch: 16.\n",
      "246/246 [==============================] - 2s 8ms/step - loss: 293.0695 - root_mean_squared_error: 17.1193 - mae: 13.3735 - val_loss: 744.4088 - val_root_mean_squared_error: 27.2839 - val_mae: 24.4482\n",
      "Epoch 36: early stopping\n"
     ]
    }
   ],
   "source": [
    "callbacks = [\n",
    "    EarlyStopping(monitor = \"val_root_mean_squared_error\", mode = \"min\", verbose = 1, patience = 20, restore_best_weights=True),\n",
    "    ModelCheckpoint(\"model_checkpoint.keras\", save_best_only=True, monitor = \"val_root_mean_squared_error\", mode = \"min\")\n",
    "]\n",
    "\n",
    "history_5 = model_5.fit(train_seq2, epochs = 100, verbose = 1, validation_data = test_seq2,\n",
    "                        callbacks = callbacks)"
   ]
  },
  {
   "cell_type": "markdown",
   "metadata": {},
   "source": [
    "#### Epoch 30 has the best scores: \n",
    "Epoch 30/100\n",
    "- 2s 18ms/step - loss: 386.9055 - root_mean_squared_error: 19.6699 - mae: 15.4310 - val_loss: 449.8936 - val_root_mean_squared_error: 21.2107 - val_mae: 16.7633\n",
    "\n"
   ]
  },
  {
   "cell_type": "code",
   "execution_count": 376,
   "metadata": {},
   "outputs": [
    {
     "data": {
      "text/plain": [
       "date_time\n",
       "2010-01-01    134\n",
       "2010-01-02     61\n",
       "2010-01-03     54\n",
       "2010-01-04     70\n",
       "2010-01-05     68\n",
       "             ... \n",
       "2020-10-07    114\n",
       "2020-10-08    115\n",
       "2020-10-09    147\n",
       "2020-10-10    168\n",
       "2020-10-11    126\n",
       "Freq: D, Name: fatals, Length: 3937, dtype: int64"
      ]
     },
     "execution_count": 376,
     "metadata": {},
     "output_type": "execute_result"
    }
   ],
   "source": [
    "y_train"
   ]
  },
  {
   "cell_type": "code",
   "execution_count": 377,
   "metadata": {},
   "outputs": [
    {
     "data": {
      "image/png": "[encoded data removed]",
      "text/plain": [
       "<Figure size 432x288 with 1 Axes>"
      ]
     },
     "metadata": {
      "needs_background": "light"
     },
     "output_type": "display_data"
    }
   ],
   "source": [
    "## Plot Training & Validation Loss\n",
    "plt.plot(history_5.history['loss'], label=\"Training Loss\")\n",
    "plt.plot(history_5.history['val_loss'], label=\"Testing Loss\")\n",
    "plt.legend();"
   ]
  },
  {
   "cell_type": "code",
   "execution_count": 378,
   "metadata": {},
   "outputs": [
    {
     "data": {
      "image/png": "[encoded data removed]",
      "text/plain": [
       "<Figure size 432x288 with 1 Axes>"
      ]
     },
     "metadata": {
      "needs_background": "light"
     },
     "output_type": "display_data"
    }
   ],
   "source": [
    "## Plot Training & Validation Accuracy\n",
    "plt.plot(history_5.history['root_mean_squared_error'], label=\"Training RMSE\")\n",
    "plt.plot(history_5.history['val_root_mean_squared_error'], label=\"Testing RMSE\")\n",
    "plt.legend();\n"
   ]
  },
  {
   "cell_type": "code",
   "execution_count": 379,
   "metadata": {},
   "outputs": [],
   "source": [
    "# 32 sequences of len=5 fed through our model at a time\n",
    "#train_seq2 = TimeseriesGenerator( X_train_sc, y_train, length = 5, batch_size=16) \n",
    "#test_seq2 = TimeseriesGenerator( X_test_sc, y_test, length = 5, batch_size=16) \n"
   ]
  },
  {
   "cell_type": "code",
   "execution_count": 380,
   "metadata": {},
   "outputs": [
    {
     "data": {
      "text/plain": [
       "date_time\n",
       "2010-01-01    134\n",
       "2010-01-02     61\n",
       "2010-01-03     54\n",
       "2010-01-04     70\n",
       "2010-01-05     68\n",
       "             ... \n",
       "2020-10-07    114\n",
       "2020-10-08    115\n",
       "2020-10-09    147\n",
       "2020-10-10    168\n",
       "2020-10-11    126\n",
       "Freq: D, Name: fatals, Length: 3937, dtype: int64"
      ]
     },
     "execution_count": 380,
     "metadata": {},
     "output_type": "execute_result"
    }
   ],
   "source": [
    "y_train"
   ]
  },
  {
   "cell_type": "code",
   "execution_count": 381,
   "metadata": {},
   "outputs": [
    {
     "name": "stdout",
     "output_type": "stream",
     "text": [
      "5/5 [==============================] - 0s 5ms/step - loss: 300.7417 - root_mean_squared_error: 17.3419 - mae: 13.7503\n"
     ]
    },
    {
     "data": {
      "text/plain": [
       "[300.7417297363281, 17.341907501220703, 13.750338554382324]"
      ]
     },
     "execution_count": 381,
     "metadata": {},
     "output_type": "execute_result"
    }
   ],
   "source": [
    "model_5.evaluate(test_seq2)\n"
   ]
  },
  {
   "cell_type": "code",
   "execution_count": 382,
   "metadata": {},
   "outputs": [
    {
     "data": {
      "text/plain": [
       "date_time\n",
       "2010-01-06    55\n",
       "2010-01-07    84\n",
       "2010-01-08    61\n",
       "2010-01-09    84\n",
       "2010-01-10    60\n",
       "2010-01-11    68\n",
       "2010-01-12    76\n",
       "2010-01-13    70\n",
       "2010-01-14    97\n",
       "2010-01-15    75\n",
       "2010-01-16    81\n",
       "2010-01-17    85\n",
       "2010-01-18    75\n",
       "2010-01-19    77\n",
       "2010-01-20    61\n",
       "2010-01-21    71\n",
       "2010-01-22    69\n",
       "2010-01-23    89\n",
       "2010-01-24    67\n",
       "2010-01-25    70\n",
       "Freq: D, Name: fatals, dtype: int64"
      ]
     },
     "execution_count": 382,
     "metadata": {},
     "output_type": "execute_result"
    }
   ],
   "source": [
    "y_train[5:].head(20)"
   ]
  },
  {
   "cell_type": "code",
   "execution_count": 383,
   "metadata": {},
   "outputs": [
    {
     "data": {
      "text/plain": [
       "array([55, 84, 61, 84, 60, 68, 76, 70, 97, 75, 81, 85, 75, 77, 61, 71])"
      ]
     },
     "execution_count": 383,
     "metadata": {},
     "output_type": "execute_result"
    }
   ],
   "source": [
    "train_seq2[0][1] # y_train - batch of 32 - doesn't have first 5 from y_train"
   ]
  },
  {
   "cell_type": "code",
   "execution_count": 384,
   "metadata": {},
   "outputs": [],
   "source": []
  },
  {
   "cell_type": "code",
   "execution_count": 385,
   "metadata": {},
   "outputs": [],
   "source": [
    "y_train_preds = model_5.predict(train_seq2)\n",
    "y_test_preds = model_5.predict(test_seq2)\n",
    "\n"
   ]
  },
  {
   "cell_type": "code",
   "execution_count": 386,
   "metadata": {},
   "outputs": [
    {
     "name": "stdout",
     "output_type": "stream",
     "text": [
      "Training R2 score: 0.48344758608475324\n",
      "Test R2 score: -0.21425832218373286\n"
     ]
    }
   ],
   "source": [
    "# Make predictions \n",
    "# R2 scores are not releavnt for RNN - source... Roy\n",
    "\n",
    "print( f\"Training R2 score: {metrics.r2_score( y_train[5:], y_train_preds)}\")\n",
    "print( f\"Test R2 score: {metrics.r2_score( y_test[-15:], y_test_preds[-15:])}\") # last few days \n",
    "\n",
    "#print( f\"Test R2 score: {metrics.r2_score( y_test[5:], y_test_preds)}\")\n",
    "\n"
   ]
  },
  {
   "cell_type": "code",
   "execution_count": 387,
   "metadata": {},
   "outputs": [
    {
     "name": "stdout",
     "output_type": "stream",
     "text": [
      "0.0\n",
      "-0.7189155360280703\n"
     ]
    }
   ],
   "source": [
    "y_train_preds = model_5.predict(train_seq2)\n",
    "y_test_preds = model_5.predict(test_seq2)\n",
    "\n",
    "# baseline\n",
    "y_test_baseline = [y_train.mean()]*len(y_test)\n",
    "\n",
    "baseline_RMSE = mean_squared_error(y_test, y_test_baseline)**0.5\n",
    "baseline_mean = y_train.mean()\n",
    "y_train_baseline = [y_train.mean()]*len(y_train)\n",
    "\n",
    "print( metrics.r2_score(y_train, y_train_baseline) )\n",
    "print( metrics.r2_score(y_test, y_test_baseline) )\n",
    "\n",
    "print( f\"Training R2 score: {metrics.r2_score( y_train[5:], y_train_preds)}\")\n",
    "print( f\"Test R2 score: {metrics.r2_score( y_test[-15:], y_test_preds[-15:])}\") # last few days \n",
    "\n",
    "y_test_preds_df = pd.DataFrame(data = y_test_preds, index = y_test[5:].index, columns = [\"y_test_preds\"])\n",
    "\n",
    "fig, (ax1, ax2) = plt.subplots(1,2, figsize = (14,8))\n",
    "\n",
    "ax1.plot( y_test[-15:], color = 'blue')\n",
    "ax1.plot( y_test_preds_df[-15:], color = 'red')\n",
    "ax1.set_title(\"Predicted vs actual - last 15 days\")\n",
    "ax1.xaxis.set_ticks_position('none')\n",
    "ax1.tick_params(labelsize=8)\n",
    "\n",
    "ax2.plot( y_test[5:], color = 'blue')\n",
    "ax2.plot( y_test_preds_df[:], color = 'red')\n",
    "ax2.set_title(\"Predicted vs actual - All 81 days\")\n",
    "ax2.tick_params(labelsize=8)\n"
   ]
  },
  {
   "cell_type": "code",
   "execution_count": 388,
   "metadata": {},
   "outputs": [
    {
     "data": {
      "text/plain": [
       "array([[-0.59222599,  0.35314701,  1.24675697,  0.60471106],\n",
       "       [-0.51405017,  0.35314701,  0.63719273, -0.09146045],\n",
       "       [-0.82675344, -0.26726342,  1.31448633,  0.40580491],\n",
       "       [-0.59222599,  0.97355744,  0.84038081,  0.04777385],\n",
       "       [ 0.11135636,  3.14499395,  1.82245653,  1.32077319]])"
      ]
     },
     "execution_count": 388,
     "metadata": {},
     "output_type": "execute_result"
    }
   ],
   "source": [
    "test_seq2[0][0][0]"
   ]
  },
  {
   "cell_type": "code",
   "execution_count": 389,
   "metadata": {},
   "outputs": [
    {
     "data": {
      "text/plain": [
       "date_time\n",
       "2020-10-12    116\n",
       "2020-10-13    101\n",
       "2020-10-14     99\n",
       "2020-10-15    103\n",
       "2020-10-16    130\n",
       "             ... \n",
       "2020-12-27     98\n",
       "2020-12-28     98\n",
       "2020-12-29     88\n",
       "2020-12-30     96\n",
       "2020-12-31    105\n",
       "Freq: D, Name: fatals, Length: 81, dtype: int64"
      ]
     },
     "execution_count": 389,
     "metadata": {},
     "output_type": "execute_result"
    }
   ],
   "source": [
    "y_test"
   ]
  },
  {
   "cell_type": "code",
   "execution_count": 390,
   "metadata": {},
   "outputs": [
    {
     "data": {
      "text/plain": [
       "99"
      ]
     },
     "execution_count": 390,
     "metadata": {},
     "output_type": "execute_result"
    }
   ],
   "source": [
    "y_test[2]\n",
    "\n"
   ]
  },
  {
   "cell_type": "code",
   "execution_count": 391,
   "metadata": {},
   "outputs": [
    {
     "name": "stdout",
     "output_type": "stream",
     "text": [
      "5/5 [==============================] - 0s 3ms/step - loss: 300.7417 - root_mean_squared_error: 17.3419 - mae: 13.7503\n"
     ]
    },
    {
     "data": {
      "text/plain": [
       "[300.7417297363281, 17.341907501220703, 13.750338554382324]"
      ]
     },
     "execution_count": 391,
     "metadata": {},
     "output_type": "execute_result"
    }
   ],
   "source": [
    "model_5.evaluate(test_seq2) \n"
   ]
  },
  {
   "cell_type": "code",
   "execution_count": 392,
   "metadata": {},
   "outputs": [
    {
     "data": {
      "text/plain": [
       "date_time\n",
       "2020-10-17    130\n",
       "2020-10-18    143\n",
       "2020-10-19    114\n",
       "2020-10-20     97\n",
       "2020-10-21     99\n",
       "             ... \n",
       "2020-12-27     98\n",
       "2020-12-28     98\n",
       "2020-12-29     88\n",
       "2020-12-30     96\n",
       "2020-12-31    105\n",
       "Freq: D, Name: fatals, Length: 76, dtype: int64"
      ]
     },
     "execution_count": 392,
     "metadata": {},
     "output_type": "execute_result"
    }
   ],
   "source": [
    "y_test[5:]"
   ]
  },
  {
   "cell_type": "code",
   "execution_count": 393,
   "metadata": {},
   "outputs": [
    {
     "data": {
      "text/html": [
       "<div>\n",
       "<style scoped>\n",
       "    .dataframe tbody tr th:only-of-type {\n",
       "        vertical-align: middle;\n",
       "    }\n",
       "\n",
       "    .dataframe tbody tr th {\n",
       "        vertical-align: top;\n",
       "    }\n",
       "\n",
       "    .dataframe thead th {\n",
       "        text-align: right;\n",
       "    }\n",
       "</style>\n",
       "<table border=\"1\" class=\"dataframe\">\n",
       "  <thead>\n",
       "    <tr style=\"text-align: right;\">\n",
       "      <th></th>\n",
       "      <th>y_test_preds</th>\n",
       "    </tr>\n",
       "    <tr>\n",
       "      <th>date_time</th>\n",
       "      <th></th>\n",
       "    </tr>\n",
       "  </thead>\n",
       "  <tbody>\n",
       "    <tr>\n",
       "      <th>2020-10-17</th>\n",
       "      <td>114.250435</td>\n",
       "    </tr>\n",
       "    <tr>\n",
       "      <th>2020-10-18</th>\n",
       "      <td>113.864861</td>\n",
       "    </tr>\n",
       "    <tr>\n",
       "      <th>2020-10-19</th>\n",
       "      <td>105.615967</td>\n",
       "    </tr>\n",
       "    <tr>\n",
       "      <th>2020-10-20</th>\n",
       "      <td>98.090332</td>\n",
       "    </tr>\n",
       "    <tr>\n",
       "      <th>2020-10-21</th>\n",
       "      <td>98.508438</td>\n",
       "    </tr>\n",
       "  </tbody>\n",
       "</table>\n",
       "</div>"
      ],
      "text/plain": [
       "            y_test_preds\n",
       "date_time               \n",
       "2020-10-17    114.250435\n",
       "2020-10-18    113.864861\n",
       "2020-10-19    105.615967\n",
       "2020-10-20     98.090332\n",
       "2020-10-21     98.508438"
      ]
     },
     "execution_count": 393,
     "metadata": {},
     "output_type": "execute_result"
    }
   ],
   "source": [
    "#print( len(y_test_preds), len(y_test[5:]))\n",
    "\n",
    "\n",
    "y_test_preds_df = pd.DataFrame(data = y_test_preds, index = y_test[5:].index, columns = [\"y_test_preds\"])\n",
    "\n",
    "y_test_preds_df.head()\n"
   ]
  },
  {
   "cell_type": "code",
   "execution_count": 403,
   "metadata": {},
   "outputs": [
    {
     "data": {
      "text/plain": [
       "date_time\n",
       "2020-10-17    114.250435\n",
       "2020-10-18    113.864861\n",
       "2020-10-19    105.615967\n",
       "2020-10-20     98.090332\n",
       "2020-10-21     98.508438\n",
       "                 ...    \n",
       "2020-12-27     80.893692\n",
       "2020-12-28     81.862923\n",
       "2020-12-29     84.538361\n",
       "2020-12-30     87.878189\n",
       "2020-12-31     99.274628\n",
       "Freq: D, Name: y_test_preds, Length: 76, dtype: float32"
      ]
     },
     "execution_count": 403,
     "metadata": {},
     "output_type": "execute_result"
    }
   ],
   "source": [
    "y_test_preds_df['y_test_preds']"
   ]
  },
  {
   "cell_type": "code",
   "execution_count": 442,
   "metadata": {},
   "outputs": [
    {
     "data": {
      "image/png": "[encoded data removed]",
      "text/plain": [
       "<Figure size 1008x576 with 2 Axes>"
      ]
     },
     "metadata": {
      "needs_background": "light"
     },
     "output_type": "display_data"
    }
   ],
   "source": [
    "fig, (ax1, ax2) = plt.subplots(1,2, figsize = (14,8))\n",
    "\n",
    "ax1.plot( y_test[-15:], color = 'blue')\n",
    "ax1.plot( y_test_preds_df[-15:], color = 'red')\n",
    "ax1.set_title(\"Predicted vs actual - last 15 days\")\n",
    "ax1.xaxis.set_ticks_position('none')\n",
    "ax1.tick_params(labelsize=8)\n",
    "\n",
    "ax2.plot( y_test[5:], color = 'blue')\n",
    "ax2.plot( y_test_preds_df[:], color = 'red')\n",
    "ax2.set_title(\"Predicted vs actual - All 81 days\")\n",
    "ax2.tick_params(labelsize=8)\n"
   ]
  },
  {
   "cell_type": "markdown",
   "metadata": {},
   "source": [
    "#### **Interpretation** : \n",
    "The predictions are accurate only for a short interval "
   ]
  },
  {
   "cell_type": "code",
   "execution_count": 424,
   "metadata": {},
   "outputs": [
    {
     "data": {
      "text/plain": [
       "date_time\n",
       "2020-10-12    116\n",
       "2020-10-13    101\n",
       "2020-10-14     99\n",
       "2020-10-15    103\n",
       "2020-10-16    130\n",
       "             ... \n",
       "2020-12-27     98\n",
       "2020-12-28     98\n",
       "2020-12-29     88\n",
       "2020-12-30     96\n",
       "2020-12-31    105\n",
       "Freq: D, Name: fatals, Length: 81, dtype: int64"
      ]
     },
     "execution_count": 424,
     "metadata": {},
     "output_type": "execute_result"
    }
   ],
   "source": [
    "y_test"
   ]
  },
  {
   "cell_type": "code",
   "execution_count": 397,
   "metadata": {},
   "outputs": [
    {
     "data": {
      "text/plain": [
       "dict_keys(['loss', 'root_mean_squared_error', 'mae', 'val_loss', 'val_root_mean_squared_error', 'val_mae'])"
      ]
     },
     "execution_count": 397,
     "metadata": {},
     "output_type": "execute_result"
    }
   ],
   "source": [
    "history_5.history.keys()\n",
    "\n"
   ]
  },
  {
   "cell_type": "code",
   "execution_count": null,
   "metadata": {},
   "outputs": [],
   "source": []
  },
  {
   "cell_type": "code",
   "execution_count": 144,
   "metadata": {},
   "outputs": [],
   "source": [
    "# Make predictions \n",
    "\n",
    "#y_train_preds = gs_nn2.predict(X_train_sc)\n",
    "#y_test_preds = gs_nn2.predict(X_test_sc)\n",
    "\n",
    "#print( f\"Training R2 score: {metrics.r2_score( y_train, y_train_preds)}\")\n",
    "#print( f\"Test R2 score: {metrics.r2_score( y_test, y_test_preds)}\")\n"
   ]
  },
  {
   "cell_type": "code",
   "execution_count": null,
   "metadata": {},
   "outputs": [],
   "source": []
  },
  {
   "cell_type": "code",
   "execution_count": null,
   "metadata": {},
   "outputs": [],
   "source": [
    "plt.plot(history1.history['val_loss'], label='Validation MSE')\n",
    "plt.plot(history1.history['loss'], label='Training MSE')\n",
    "plt.legend();"
   ]
  },
  {
   "cell_type": "code",
   "execution_count": null,
   "metadata": {},
   "outputs": [],
   "source": [
    "import tensorboard\n",
    "import datetime\n",
    "tensorboard.__version__\n",
    "\n",
    "%load_ext tensorboard\n",
    "logdir=\"logs/fit/\" + datetime.datetime.now().strftime(\"%Y%m%d-%H%M%S\")\n",
    "\n",
    "tb_callback = tf.keras.callbacks.TensorBoard(log_dir=logdir)  \n",
    "\n",
    "history = model3.fit(\n",
    "    X_train_sc, \n",
    "    y_train, \n",
    "    validation_data = (X_test_sc, y_test),\n",
    "    batch_size=64, \n",
    "    epochs=50, \n",
    "    callbacks=[tb_callback]\n",
    ")\n",
    "\n",
    "%tensorboard --logdir logs/fit\n",
    "\n",
    "\n"
   ]
  }
 ],
 "metadata": {
  "interpreter": {
   "hash": "992d1ff092356cfc279c6c1b3b4d471c27a08f3699f455fb2c398ff39d3fb7fe"
  },
  "kernelspec": {
   "display_name": "Python 3.8.8 64-bit ('base': conda)",
   "language": "python",
   "name": "python3"
  },
  "language_info": {
   "codemirror_mode": {
    "name": "ipython",
    "version": 3
   },
   "file_extension": ".py",
   "mimetype": "text/x-python",
   "name": "python",
   "nbconvert_exporter": "python",
   "pygments_lexer": "ipython3",
   "version": "3.8.8"
  },
  "orig_nbformat": 4
 },
 "nbformat": 4,
 "nbformat_minor": 2
}
