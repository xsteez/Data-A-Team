{
 "cells": [
  {
   "cell_type": "markdown",
   "id": "8d26efd4-ad62-4d61-b9f7-94d04ca1a9f9",
   "metadata": {},
   "source": [
    "# Project 5"
   ]
  },
  {
   "cell_type": "code",
   "execution_count": 1,
   "id": "e5b16494-353a-405b-b16c-9edb17384485",
   "metadata": {},
   "outputs": [],
   "source": [
    "#First I will bring in my imports\n",
    "import numpy as np\n",
    "import pandas as pd\n",
    "import seaborn as sns\n",
    "import matplotlib.pyplot as plt\n",
    "from sklearn.linear_model import LinearRegression"
   ]
  },
  {
   "cell_type": "code",
   "execution_count": 2,
   "id": "c8a5b76e-5b14-416f-b006-d35d641443e8",
   "metadata": {},
   "outputs": [],
   "source": [
    "# function for merging data\n",
    "\n",
    "def get_merged_dataframes(main_df, main_df_columns, csv_files, year, merge_columns):\n",
    "    \n",
    "    df1 = pd.read_csv(f'./data/{year}_fars/{main_df}.csv', encoding='unicode_escape')\n",
    "    df1.columns = df1.columns.str.lower()\n",
    "    merged_dataframe = df1[df1.columns.intersection(main_df_columns)]\n",
    "    \n",
    "    for csv in csv_files:\n",
    "        try:\n",
    "            df2 = pd.read_csv(f'./data/{year}_fars/{csv}.csv')\n",
    "            df2.columns = df2.columns.str.lower() \n",
    "            merged_dataframe = pd.merge(merged_dataframe, df2, how='outer', on=merge_columns, suffixes=('', '_remove'))\n",
    "            merged_dataframe = merged_dataframe.drop([column for column in merged_dataframe.columns if 'remove' in column], axis=1)\n",
    "        except FileNotFoundError:\n",
    "            print(f'The {csv} file does not exist for the year {year}.')           \n",
    "    \n",
    "    merged_dataframe.loc[:,'data_year'] = year\n",
    "    \n",
    "    return merged_dataframe"
   ]
  },
  {
   "cell_type": "code",
   "execution_count": 3,
   "id": "88c5e6bd-3c8b-4d19-95b5-dad6256f4fa1",
   "metadata": {},
   "outputs": [],
   "source": [
    "def combine_person_data(start_year, end_year=None):  \n",
    "    \n",
    "    columns = ['state', 'peds', 've_total', 'persons', 'county', 'day', 'month', 'hour', 'minute', 'week', 'tway_id', 'route', 'rur_urb', \n",
    "               'rd_owner','nhs', 'sp_jur', 'milept', 'latitude', 'longitude', 'harm', \n",
    "               'man_coll', 'reljct1', 'reljct2', 'typ_int', 'rel_road', 'wrk_zone', 'lgt_cond', \n",
    "               'sch_bus', 'rail', 'not_hour', 'arr_hour', 'hosp_hr',\n",
    "              'eventnum', 'vnumber1', 'aoi1', 'soe', 'vnumber2', 'aoi2',\n",
    "              'weather', 'crashrf', 'st_case', 'drunk_dr', 'inj_sev', 'inj_sevname']\n",
    "    \n",
    "    csvs_to_merge = ['acc_aux', 'weather', 'crashrf', 'cevent', 'person']\n",
    "    \n",
    "    merge_columns = ['st_case']\n",
    "    \n",
    "    if end_year is None:\n",
    "        end_year = start_year\n",
    "    \n",
    "    full_df_list = [get_merged_dataframes('accident', columns, csvs_to_merge, year, merge_columns) for year in range(start_year, end_year + 1)]\n",
    "    \n",
    "    return pd.concat(full_df_list, ignore_index=True)"
   ]
  },
  {
   "cell_type": "code",
   "execution_count": 4,
   "id": "57b8ded1-f32c-405a-b539-285425bf8194",
   "metadata": {},
   "outputs": [],
   "source": [
    "accidents_df = combine_person_data(2020)"
   ]
  },
  {
   "cell_type": "code",
   "execution_count": null,
   "id": "1a4d6fae-384c-4ef5-8575-b25553f07683",
   "metadata": {},
   "outputs": [],
   "source": []
  },
  {
   "cell_type": "code",
   "execution_count": 5,
   "id": "ab5048b1-9a36-44e0-8283-33c3e5641b7e",
   "metadata": {},
   "outputs": [
    {
     "data": {
      "text/html": [
       "<div>\n",
       "<style scoped>\n",
       "    .dataframe tbody tr th:only-of-type {\n",
       "        vertical-align: middle;\n",
       "    }\n",
       "\n",
       "    .dataframe tbody tr th {\n",
       "        vertical-align: top;\n",
       "    }\n",
       "\n",
       "    .dataframe thead th {\n",
       "        text-align: right;\n",
       "    }\n",
       "</style>\n",
       "<table border=\"1\" class=\"dataframe\">\n",
       "  <thead>\n",
       "    <tr style=\"text-align: right;\">\n",
       "      <th></th>\n",
       "      <th>state</th>\n",
       "      <th>st_case</th>\n",
       "      <th>ve_total</th>\n",
       "      <th>peds</th>\n",
       "      <th>persons</th>\n",
       "      <th>county</th>\n",
       "      <th>day</th>\n",
       "      <th>month</th>\n",
       "      <th>hour</th>\n",
       "      <th>minute</th>\n",
       "      <th>nhs</th>\n",
       "      <th>route</th>\n",
       "      <th>tway_id</th>\n",
       "      <th>rur_urb</th>\n",
       "      <th>rd_owner</th>\n",
       "      <th>milept</th>\n",
       "      <th>latitude</th>\n",
       "      <th>sp_jur</th>\n",
       "      <th>man_coll</th>\n",
       "      <th>reljct1</th>\n",
       "      <th>reljct2</th>\n",
       "      <th>typ_int</th>\n",
       "      <th>wrk_zone</th>\n",
       "      <th>rel_road</th>\n",
       "      <th>lgt_cond</th>\n",
       "      <th>weather</th>\n",
       "      <th>sch_bus</th>\n",
       "      <th>rail</th>\n",
       "      <th>not_hour</th>\n",
       "      <th>arr_hour</th>\n",
       "      <th>hosp_hr</th>\n",
       "      <th>drunk_dr</th>\n",
       "      <th>year</th>\n",
       "      <th>fatals</th>\n",
       "      <th>a_crainj</th>\n",
       "      <th>a_region</th>\n",
       "      <th>a_ru</th>\n",
       "      <th>a_inter</th>\n",
       "      <th>a_relrd</th>\n",
       "      <th>a_intsec</th>\n",
       "      <th>a_roadfc</th>\n",
       "      <th>a_junc</th>\n",
       "      <th>a_mancol</th>\n",
       "      <th>a_tod</th>\n",
       "      <th>a_dow</th>\n",
       "      <th>a_ct</th>\n",
       "      <th>a_weather</th>\n",
       "      <th>a_lt</th>\n",
       "      <th>a_mc</th>\n",
       "      <th>a_spcra</th>\n",
       "      <th>a_ped</th>\n",
       "      <th>a_ped_f</th>\n",
       "      <th>a_pedal</th>\n",
       "      <th>a_pedal_f</th>\n",
       "      <th>a_roll</th>\n",
       "      <th>a_polpur</th>\n",
       "      <th>a_posbac</th>\n",
       "      <th>a_d15_19</th>\n",
       "      <th>a_d16_19</th>\n",
       "      <th>a_d15_20</th>\n",
       "      <th>a_d16_20</th>\n",
       "      <th>a_d65pls</th>\n",
       "      <th>a_d21_24</th>\n",
       "      <th>a_d16_24</th>\n",
       "      <th>a_rd</th>\n",
       "      <th>a_hr</th>\n",
       "      <th>a_dist</th>\n",
       "      <th>a_drowsy</th>\n",
       "      <th>bia</th>\n",
       "      <th>spj_indian</th>\n",
       "      <th>indian_res</th>\n",
       "      <th>statename</th>\n",
       "      <th>weathername</th>\n",
       "      <th>crashrf</th>\n",
       "      <th>crashrfname</th>\n",
       "      <th>eventnum</th>\n",
       "      <th>vnumber1</th>\n",
       "      <th>aoi1</th>\n",
       "      <th>aoi1name</th>\n",
       "      <th>soe</th>\n",
       "      <th>soename</th>\n",
       "      <th>vnumber2</th>\n",
       "      <th>vnumber2name</th>\n",
       "      <th>aoi2</th>\n",
       "      <th>aoi2name</th>\n",
       "      <th>ve_forms</th>\n",
       "      <th>veh_no</th>\n",
       "      <th>per_no</th>\n",
       "      <th>str_veh</th>\n",
       "      <th>dayname</th>\n",
       "      <th>monthname</th>\n",
       "      <th>hourname</th>\n",
       "      <th>minutename</th>\n",
       "      <th>rur_urbname</th>\n",
       "      <th>func_sys</th>\n",
       "      <th>func_sysname</th>\n",
       "      <th>harm_ev</th>\n",
       "      <th>harm_evname</th>\n",
       "      <th>man_collname</th>\n",
       "      <th>sch_busname</th>\n",
       "      <th>make</th>\n",
       "      <th>makename</th>\n",
       "      <th>mak_mod</th>\n",
       "      <th>body_typ</th>\n",
       "      <th>body_typname</th>\n",
       "      <th>mod_year</th>\n",
       "      <th>mod_yearname</th>\n",
       "      <th>tow_veh</th>\n",
       "      <th>tow_vehname</th>\n",
       "      <th>spec_use</th>\n",
       "      <th>spec_usename</th>\n",
       "      <th>emer_use</th>\n",
       "      <th>emer_usename</th>\n",
       "      <th>rollover</th>\n",
       "      <th>rollovername</th>\n",
       "      <th>impact1</th>\n",
       "      <th>impact1name</th>\n",
       "      <th>fire_exp</th>\n",
       "      <th>fire_expname</th>\n",
       "      <th>age</th>\n",
       "      <th>agename</th>\n",
       "      <th>sex</th>\n",
       "      <th>sexname</th>\n",
       "      <th>per_typ</th>\n",
       "      <th>per_typname</th>\n",
       "      <th>inj_sev</th>\n",
       "      <th>inj_sevname</th>\n",
       "      <th>seat_pos</th>\n",
       "      <th>seat_posname</th>\n",
       "      <th>rest_use</th>\n",
       "      <th>rest_usename</th>\n",
       "      <th>rest_mis</th>\n",
       "      <th>rest_misname</th>\n",
       "      <th>air_bag</th>\n",
       "      <th>air_bagname</th>\n",
       "      <th>ejection</th>\n",
       "      <th>ejectionname</th>\n",
       "      <th>ej_path</th>\n",
       "      <th>ej_pathname</th>\n",
       "      <th>extricat</th>\n",
       "      <th>extricatname</th>\n",
       "      <th>drinking</th>\n",
       "      <th>drinkingname</th>\n",
       "      <th>alc_det</th>\n",
       "      <th>alc_detname</th>\n",
       "      <th>alc_status</th>\n",
       "      <th>alc_statusname</th>\n",
       "      <th>atst_typ</th>\n",
       "      <th>atst_typname</th>\n",
       "      <th>alc_res</th>\n",
       "      <th>alc_resname</th>\n",
       "      <th>drugs</th>\n",
       "      <th>drugsname</th>\n",
       "      <th>drug_det</th>\n",
       "      <th>drug_detname</th>\n",
       "      <th>dstatus</th>\n",
       "      <th>dstatusname</th>\n",
       "      <th>hospital</th>\n",
       "      <th>hospitalname</th>\n",
       "      <th>doa</th>\n",
       "      <th>doaname</th>\n",
       "      <th>death_da</th>\n",
       "      <th>death_daname</th>\n",
       "      <th>death_mo</th>\n",
       "      <th>death_moname</th>\n",
       "      <th>death_yr</th>\n",
       "      <th>death_yrname</th>\n",
       "      <th>death_hr</th>\n",
       "      <th>death_hrname</th>\n",
       "      <th>death_mn</th>\n",
       "      <th>death_mnname</th>\n",
       "      <th>death_tm</th>\n",
       "      <th>death_tmname</th>\n",
       "      <th>lag_hrs</th>\n",
       "      <th>lag_hrsname</th>\n",
       "      <th>lag_mins</th>\n",
       "      <th>lag_minsname</th>\n",
       "      <th>work_inj</th>\n",
       "      <th>work_injname</th>\n",
       "      <th>hispanic</th>\n",
       "      <th>hispanicname</th>\n",
       "      <th>location</th>\n",
       "      <th>locationname</th>\n",
       "      <th>helm_use</th>\n",
       "      <th>helm_usename</th>\n",
       "      <th>helm_mis</th>\n",
       "      <th>helm_misname</th>\n",
       "      <th>vpicmake</th>\n",
       "      <th>vpicmakename</th>\n",
       "      <th>vpicmodel</th>\n",
       "      <th>vpicmodelname</th>\n",
       "      <th>vpicbodyclass</th>\n",
       "      <th>vpicbodyclassname</th>\n",
       "      <th>icfinalbody</th>\n",
       "      <th>icfinalbodyname</th>\n",
       "      <th>data_year</th>\n",
       "    </tr>\n",
       "  </thead>\n",
       "  <tbody>\n",
       "    <tr>\n",
       "      <th>0</th>\n",
       "      <td>1</td>\n",
       "      <td>10001</td>\n",
       "      <td>1</td>\n",
       "      <td>0</td>\n",
       "      <td>4</td>\n",
       "      <td>51</td>\n",
       "      <td>1</td>\n",
       "      <td>1</td>\n",
       "      <td>2</td>\n",
       "      <td>58</td>\n",
       "      <td>0</td>\n",
       "      <td>4</td>\n",
       "      <td>cr-4</td>\n",
       "      <td>1</td>\n",
       "      <td>2</td>\n",
       "      <td>0</td>\n",
       "      <td>32.433133</td>\n",
       "      <td>0</td>\n",
       "      <td>0</td>\n",
       "      <td>0</td>\n",
       "      <td>1</td>\n",
       "      <td>1</td>\n",
       "      <td>0</td>\n",
       "      <td>4</td>\n",
       "      <td>2</td>\n",
       "      <td>1</td>\n",
       "      <td>0</td>\n",
       "      <td>0000000</td>\n",
       "      <td>99</td>\n",
       "      <td>3</td>\n",
       "      <td>99</td>\n",
       "      <td>1</td>\n",
       "      <td>2020</td>\n",
       "      <td>3</td>\n",
       "      <td>1</td>\n",
       "      <td>4</td>\n",
       "      <td>1</td>\n",
       "      <td>2</td>\n",
       "      <td>4</td>\n",
       "      <td>2</td>\n",
       "      <td>5</td>\n",
       "      <td>2</td>\n",
       "      <td>1</td>\n",
       "      <td>2</td>\n",
       "      <td>1</td>\n",
       "      <td>1</td>\n",
       "      <td>1</td>\n",
       "      <td>2</td>\n",
       "      <td>2</td>\n",
       "      <td>1</td>\n",
       "      <td>2</td>\n",
       "      <td>2</td>\n",
       "      <td>2</td>\n",
       "      <td>2</td>\n",
       "      <td>1</td>\n",
       "      <td>2</td>\n",
       "      <td>1</td>\n",
       "      <td>2</td>\n",
       "      <td>2</td>\n",
       "      <td>2</td>\n",
       "      <td>2</td>\n",
       "      <td>2</td>\n",
       "      <td>1</td>\n",
       "      <td>1</td>\n",
       "      <td>1</td>\n",
       "      <td>2</td>\n",
       "      <td>2</td>\n",
       "      <td>2</td>\n",
       "      <td>0</td>\n",
       "      <td>0</td>\n",
       "      <td>0</td>\n",
       "      <td>Alabama</td>\n",
       "      <td>Clear</td>\n",
       "      <td>0</td>\n",
       "      <td>None</td>\n",
       "      <td>1</td>\n",
       "      <td>1</td>\n",
       "      <td>55</td>\n",
       "      <td>Non-Harmful Event</td>\n",
       "      <td>63</td>\n",
       "      <td>Ran Off Roadway - Right</td>\n",
       "      <td>5555</td>\n",
       "      <td>Non-Harmful Event</td>\n",
       "      <td>55</td>\n",
       "      <td>Non-Harmful Event</td>\n",
       "      <td>1</td>\n",
       "      <td>1</td>\n",
       "      <td>1</td>\n",
       "      <td>0</td>\n",
       "      <td>1</td>\n",
       "      <td>January</td>\n",
       "      <td>2:00am-2:59am</td>\n",
       "      <td>58</td>\n",
       "      <td>Rural</td>\n",
       "      <td>5</td>\n",
       "      <td>Major Collector</td>\n",
       "      <td>42</td>\n",
       "      <td>Tree (Standing Only)</td>\n",
       "      <td>The First Harmful Event was Not a Collision wi...</td>\n",
       "      <td>No</td>\n",
       "      <td>59.0</td>\n",
       "      <td>Lexus</td>\n",
       "      <td>Lexus ES-250/300/300h/330/ 350</td>\n",
       "      <td>4.0</td>\n",
       "      <td>4-door sedan, hardtop</td>\n",
       "      <td>1997.0</td>\n",
       "      <td>1997</td>\n",
       "      <td>0.0</td>\n",
       "      <td>No Trailing Units</td>\n",
       "      <td>0.0</td>\n",
       "      <td>No Special Use</td>\n",
       "      <td>0.0</td>\n",
       "      <td>Not Applicable</td>\n",
       "      <td>1.0</td>\n",
       "      <td>Rollover, Tripped by Object/Vehicle</td>\n",
       "      <td>12.0</td>\n",
       "      <td>12 Clock Point</td>\n",
       "      <td>0.0</td>\n",
       "      <td>No or Not Reported</td>\n",
       "      <td>24</td>\n",
       "      <td>24 Years</td>\n",
       "      <td>1</td>\n",
       "      <td>Male</td>\n",
       "      <td>1</td>\n",
       "      <td>Driver of a Motor Vehicle In-Transport</td>\n",
       "      <td>4</td>\n",
       "      <td>Fatal Injury (K)</td>\n",
       "      <td>11</td>\n",
       "      <td>Front Seat, Left Side</td>\n",
       "      <td>20</td>\n",
       "      <td>None Used/Not Applicable</td>\n",
       "      <td>7</td>\n",
       "      <td>None Used/Not Applicable</td>\n",
       "      <td>1</td>\n",
       "      <td>Deployed- Front</td>\n",
       "      <td>0</td>\n",
       "      <td>Not Ejected</td>\n",
       "      <td>0</td>\n",
       "      <td>Ejection Path Not Applicable</td>\n",
       "      <td>1</td>\n",
       "      <td>Extricated</td>\n",
       "      <td>9</td>\n",
       "      <td>Reported as Unknown</td>\n",
       "      <td>9</td>\n",
       "      <td>Not Reported</td>\n",
       "      <td>2</td>\n",
       "      <td>Test Given</td>\n",
       "      <td>1</td>\n",
       "      <td>Blood</td>\n",
       "      <td>294</td>\n",
       "      <td>0.294 % BAC</td>\n",
       "      <td>9</td>\n",
       "      <td>Reported as Unknown</td>\n",
       "      <td>8</td>\n",
       "      <td>Not Reported</td>\n",
       "      <td>2</td>\n",
       "      <td>Test Given</td>\n",
       "      <td>0</td>\n",
       "      <td>Not Transported for Treatment</td>\n",
       "      <td>7</td>\n",
       "      <td>Died at Scene</td>\n",
       "      <td>1</td>\n",
       "      <td>1</td>\n",
       "      <td>1</td>\n",
       "      <td>January</td>\n",
       "      <td>2020</td>\n",
       "      <td>2020</td>\n",
       "      <td>2</td>\n",
       "      <td>2:00-2:59</td>\n",
       "      <td>58</td>\n",
       "      <td>58</td>\n",
       "      <td>258</td>\n",
       "      <td>258</td>\n",
       "      <td>0</td>\n",
       "      <td>0</td>\n",
       "      <td>0</td>\n",
       "      <td>0</td>\n",
       "      <td>0</td>\n",
       "      <td>No</td>\n",
       "      <td>7</td>\n",
       "      <td>Non-Hispanic</td>\n",
       "      <td>0</td>\n",
       "      <td>Occupant of a Motor Vehicle</td>\n",
       "      <td>20</td>\n",
       "      <td>Not Applicable</td>\n",
       "      <td>7</td>\n",
       "      <td>None Used/Not Applicable</td>\n",
       "      <td>515.0</td>\n",
       "      <td>Lexus</td>\n",
       "      <td>2475.0</td>\n",
       "      <td>ES</td>\n",
       "      <td>13.0</td>\n",
       "      <td>Sedan/Saloon</td>\n",
       "      <td>0.0</td>\n",
       "      <td>Not Applicable</td>\n",
       "      <td>2020</td>\n",
       "    </tr>\n",
       "    <tr>\n",
       "      <th>1</th>\n",
       "      <td>1</td>\n",
       "      <td>10001</td>\n",
       "      <td>1</td>\n",
       "      <td>0</td>\n",
       "      <td>4</td>\n",
       "      <td>51</td>\n",
       "      <td>1</td>\n",
       "      <td>1</td>\n",
       "      <td>2</td>\n",
       "      <td>58</td>\n",
       "      <td>0</td>\n",
       "      <td>4</td>\n",
       "      <td>cr-4</td>\n",
       "      <td>1</td>\n",
       "      <td>2</td>\n",
       "      <td>0</td>\n",
       "      <td>32.433133</td>\n",
       "      <td>0</td>\n",
       "      <td>0</td>\n",
       "      <td>0</td>\n",
       "      <td>1</td>\n",
       "      <td>1</td>\n",
       "      <td>0</td>\n",
       "      <td>4</td>\n",
       "      <td>2</td>\n",
       "      <td>1</td>\n",
       "      <td>0</td>\n",
       "      <td>0000000</td>\n",
       "      <td>99</td>\n",
       "      <td>3</td>\n",
       "      <td>99</td>\n",
       "      <td>1</td>\n",
       "      <td>2020</td>\n",
       "      <td>3</td>\n",
       "      <td>1</td>\n",
       "      <td>4</td>\n",
       "      <td>1</td>\n",
       "      <td>2</td>\n",
       "      <td>4</td>\n",
       "      <td>2</td>\n",
       "      <td>5</td>\n",
       "      <td>2</td>\n",
       "      <td>1</td>\n",
       "      <td>2</td>\n",
       "      <td>1</td>\n",
       "      <td>1</td>\n",
       "      <td>1</td>\n",
       "      <td>2</td>\n",
       "      <td>2</td>\n",
       "      <td>1</td>\n",
       "      <td>2</td>\n",
       "      <td>2</td>\n",
       "      <td>2</td>\n",
       "      <td>2</td>\n",
       "      <td>1</td>\n",
       "      <td>2</td>\n",
       "      <td>1</td>\n",
       "      <td>2</td>\n",
       "      <td>2</td>\n",
       "      <td>2</td>\n",
       "      <td>2</td>\n",
       "      <td>2</td>\n",
       "      <td>1</td>\n",
       "      <td>1</td>\n",
       "      <td>1</td>\n",
       "      <td>2</td>\n",
       "      <td>2</td>\n",
       "      <td>2</td>\n",
       "      <td>0</td>\n",
       "      <td>0</td>\n",
       "      <td>0</td>\n",
       "      <td>Alabama</td>\n",
       "      <td>Clear</td>\n",
       "      <td>0</td>\n",
       "      <td>None</td>\n",
       "      <td>1</td>\n",
       "      <td>1</td>\n",
       "      <td>55</td>\n",
       "      <td>Non-Harmful Event</td>\n",
       "      <td>63</td>\n",
       "      <td>Ran Off Roadway - Right</td>\n",
       "      <td>5555</td>\n",
       "      <td>Non-Harmful Event</td>\n",
       "      <td>55</td>\n",
       "      <td>Non-Harmful Event</td>\n",
       "      <td>1</td>\n",
       "      <td>1</td>\n",
       "      <td>2</td>\n",
       "      <td>0</td>\n",
       "      <td>1</td>\n",
       "      <td>January</td>\n",
       "      <td>2:00am-2:59am</td>\n",
       "      <td>58</td>\n",
       "      <td>Rural</td>\n",
       "      <td>5</td>\n",
       "      <td>Major Collector</td>\n",
       "      <td>42</td>\n",
       "      <td>Tree (Standing Only)</td>\n",
       "      <td>The First Harmful Event was Not a Collision wi...</td>\n",
       "      <td>No</td>\n",
       "      <td>59.0</td>\n",
       "      <td>Lexus</td>\n",
       "      <td>Lexus ES-250/300/300h/330/ 350</td>\n",
       "      <td>4.0</td>\n",
       "      <td>4-door sedan, hardtop</td>\n",
       "      <td>1997.0</td>\n",
       "      <td>1997</td>\n",
       "      <td>0.0</td>\n",
       "      <td>No Trailing Units</td>\n",
       "      <td>0.0</td>\n",
       "      <td>No Special Use</td>\n",
       "      <td>0.0</td>\n",
       "      <td>Not Applicable</td>\n",
       "      <td>1.0</td>\n",
       "      <td>Rollover, Tripped by Object/Vehicle</td>\n",
       "      <td>12.0</td>\n",
       "      <td>12 Clock Point</td>\n",
       "      <td>0.0</td>\n",
       "      <td>No or Not Reported</td>\n",
       "      <td>21</td>\n",
       "      <td>21 Years</td>\n",
       "      <td>1</td>\n",
       "      <td>Male</td>\n",
       "      <td>2</td>\n",
       "      <td>Passenger of a Motor Vehicle In-Transport</td>\n",
       "      <td>3</td>\n",
       "      <td>Suspected Serious Injury (A)</td>\n",
       "      <td>13</td>\n",
       "      <td>Front Seat, Right Side</td>\n",
       "      <td>3</td>\n",
       "      <td>Shoulder and Lap Belt Used</td>\n",
       "      <td>0</td>\n",
       "      <td>No Indication of Mis-Use</td>\n",
       "      <td>1</td>\n",
       "      <td>Deployed- Front</td>\n",
       "      <td>0</td>\n",
       "      <td>Not Ejected</td>\n",
       "      <td>0</td>\n",
       "      <td>Ejection Path Not Applicable</td>\n",
       "      <td>1</td>\n",
       "      <td>Extricated</td>\n",
       "      <td>8</td>\n",
       "      <td>Not Reported</td>\n",
       "      <td>9</td>\n",
       "      <td>Not Reported</td>\n",
       "      <td>0</td>\n",
       "      <td>Test Not Given</td>\n",
       "      <td>0</td>\n",
       "      <td>Test Not Given</td>\n",
       "      <td>996</td>\n",
       "      <td>Test Not Given</td>\n",
       "      <td>8</td>\n",
       "      <td>Not Reported</td>\n",
       "      <td>8</td>\n",
       "      <td>Not Reported</td>\n",
       "      <td>0</td>\n",
       "      <td>Test Not Given</td>\n",
       "      <td>5</td>\n",
       "      <td>EMS Ground</td>\n",
       "      <td>0</td>\n",
       "      <td>Not Applicable</td>\n",
       "      <td>88</td>\n",
       "      <td>Not Applicable (Non-Fatal)</td>\n",
       "      <td>88</td>\n",
       "      <td>Not Applicable (Non-Fatal)</td>\n",
       "      <td>8888</td>\n",
       "      <td>Not Applicable (Non-fatal)</td>\n",
       "      <td>88</td>\n",
       "      <td>Not Applicable (Non-fatal)</td>\n",
       "      <td>88</td>\n",
       "      <td>Not Applicable (Non-fatal)</td>\n",
       "      <td>8888</td>\n",
       "      <td>Not Applicable (Non-fatal)</td>\n",
       "      <td>999</td>\n",
       "      <td>Unknown</td>\n",
       "      <td>99</td>\n",
       "      <td>Unknown</td>\n",
       "      <td>8</td>\n",
       "      <td>Not Applicable (not a fatality)</td>\n",
       "      <td>0</td>\n",
       "      <td>Not A Fatality (not Applicable)</td>\n",
       "      <td>0</td>\n",
       "      <td>Occupant of a Motor Vehicle</td>\n",
       "      <td>20</td>\n",
       "      <td>Not Applicable</td>\n",
       "      <td>7</td>\n",
       "      <td>None Used/Not Applicable</td>\n",
       "      <td>515.0</td>\n",
       "      <td>Lexus</td>\n",
       "      <td>2475.0</td>\n",
       "      <td>ES</td>\n",
       "      <td>13.0</td>\n",
       "      <td>Sedan/Saloon</td>\n",
       "      <td>0.0</td>\n",
       "      <td>Not Applicable</td>\n",
       "      <td>2020</td>\n",
       "    </tr>\n",
       "    <tr>\n",
       "      <th>2</th>\n",
       "      <td>1</td>\n",
       "      <td>10001</td>\n",
       "      <td>1</td>\n",
       "      <td>0</td>\n",
       "      <td>4</td>\n",
       "      <td>51</td>\n",
       "      <td>1</td>\n",
       "      <td>1</td>\n",
       "      <td>2</td>\n",
       "      <td>58</td>\n",
       "      <td>0</td>\n",
       "      <td>4</td>\n",
       "      <td>cr-4</td>\n",
       "      <td>1</td>\n",
       "      <td>2</td>\n",
       "      <td>0</td>\n",
       "      <td>32.433133</td>\n",
       "      <td>0</td>\n",
       "      <td>0</td>\n",
       "      <td>0</td>\n",
       "      <td>1</td>\n",
       "      <td>1</td>\n",
       "      <td>0</td>\n",
       "      <td>4</td>\n",
       "      <td>2</td>\n",
       "      <td>1</td>\n",
       "      <td>0</td>\n",
       "      <td>0000000</td>\n",
       "      <td>99</td>\n",
       "      <td>3</td>\n",
       "      <td>99</td>\n",
       "      <td>1</td>\n",
       "      <td>2020</td>\n",
       "      <td>3</td>\n",
       "      <td>1</td>\n",
       "      <td>4</td>\n",
       "      <td>1</td>\n",
       "      <td>2</td>\n",
       "      <td>4</td>\n",
       "      <td>2</td>\n",
       "      <td>5</td>\n",
       "      <td>2</td>\n",
       "      <td>1</td>\n",
       "      <td>2</td>\n",
       "      <td>1</td>\n",
       "      <td>1</td>\n",
       "      <td>1</td>\n",
       "      <td>2</td>\n",
       "      <td>2</td>\n",
       "      <td>1</td>\n",
       "      <td>2</td>\n",
       "      <td>2</td>\n",
       "      <td>2</td>\n",
       "      <td>2</td>\n",
       "      <td>1</td>\n",
       "      <td>2</td>\n",
       "      <td>1</td>\n",
       "      <td>2</td>\n",
       "      <td>2</td>\n",
       "      <td>2</td>\n",
       "      <td>2</td>\n",
       "      <td>2</td>\n",
       "      <td>1</td>\n",
       "      <td>1</td>\n",
       "      <td>1</td>\n",
       "      <td>2</td>\n",
       "      <td>2</td>\n",
       "      <td>2</td>\n",
       "      <td>0</td>\n",
       "      <td>0</td>\n",
       "      <td>0</td>\n",
       "      <td>Alabama</td>\n",
       "      <td>Clear</td>\n",
       "      <td>0</td>\n",
       "      <td>None</td>\n",
       "      <td>1</td>\n",
       "      <td>1</td>\n",
       "      <td>55</td>\n",
       "      <td>Non-Harmful Event</td>\n",
       "      <td>63</td>\n",
       "      <td>Ran Off Roadway - Right</td>\n",
       "      <td>5555</td>\n",
       "      <td>Non-Harmful Event</td>\n",
       "      <td>55</td>\n",
       "      <td>Non-Harmful Event</td>\n",
       "      <td>1</td>\n",
       "      <td>1</td>\n",
       "      <td>3</td>\n",
       "      <td>0</td>\n",
       "      <td>1</td>\n",
       "      <td>January</td>\n",
       "      <td>2:00am-2:59am</td>\n",
       "      <td>58</td>\n",
       "      <td>Rural</td>\n",
       "      <td>5</td>\n",
       "      <td>Major Collector</td>\n",
       "      <td>42</td>\n",
       "      <td>Tree (Standing Only)</td>\n",
       "      <td>The First Harmful Event was Not a Collision wi...</td>\n",
       "      <td>No</td>\n",
       "      <td>59.0</td>\n",
       "      <td>Lexus</td>\n",
       "      <td>Lexus ES-250/300/300h/330/ 350</td>\n",
       "      <td>4.0</td>\n",
       "      <td>4-door sedan, hardtop</td>\n",
       "      <td>1997.0</td>\n",
       "      <td>1997</td>\n",
       "      <td>0.0</td>\n",
       "      <td>No Trailing Units</td>\n",
       "      <td>0.0</td>\n",
       "      <td>No Special Use</td>\n",
       "      <td>0.0</td>\n",
       "      <td>Not Applicable</td>\n",
       "      <td>1.0</td>\n",
       "      <td>Rollover, Tripped by Object/Vehicle</td>\n",
       "      <td>12.0</td>\n",
       "      <td>12 Clock Point</td>\n",
       "      <td>0.0</td>\n",
       "      <td>No or Not Reported</td>\n",
       "      <td>22</td>\n",
       "      <td>22 Years</td>\n",
       "      <td>2</td>\n",
       "      <td>Female</td>\n",
       "      <td>2</td>\n",
       "      <td>Passenger of a Motor Vehicle In-Transport</td>\n",
       "      <td>4</td>\n",
       "      <td>Fatal Injury (K)</td>\n",
       "      <td>21</td>\n",
       "      <td>Second Seat, Left Side</td>\n",
       "      <td>20</td>\n",
       "      <td>None Used/Not Applicable</td>\n",
       "      <td>7</td>\n",
       "      <td>None Used/Not Applicable</td>\n",
       "      <td>20</td>\n",
       "      <td>Not Deployed</td>\n",
       "      <td>0</td>\n",
       "      <td>Not Ejected</td>\n",
       "      <td>0</td>\n",
       "      <td>Ejection Path Not Applicable</td>\n",
       "      <td>1</td>\n",
       "      <td>Extricated</td>\n",
       "      <td>8</td>\n",
       "      <td>Not Reported</td>\n",
       "      <td>9</td>\n",
       "      <td>Not Reported</td>\n",
       "      <td>2</td>\n",
       "      <td>Test Given</td>\n",
       "      <td>1</td>\n",
       "      <td>Blood</td>\n",
       "      <td>69</td>\n",
       "      <td>0.069 % BAC</td>\n",
       "      <td>8</td>\n",
       "      <td>Not Reported</td>\n",
       "      <td>8</td>\n",
       "      <td>Not Reported</td>\n",
       "      <td>2</td>\n",
       "      <td>Test Given</td>\n",
       "      <td>0</td>\n",
       "      <td>Not Transported for Treatment</td>\n",
       "      <td>7</td>\n",
       "      <td>Died at Scene</td>\n",
       "      <td>1</td>\n",
       "      <td>1</td>\n",
       "      <td>1</td>\n",
       "      <td>January</td>\n",
       "      <td>2020</td>\n",
       "      <td>2020</td>\n",
       "      <td>2</td>\n",
       "      <td>2:00-2:59</td>\n",
       "      <td>58</td>\n",
       "      <td>58</td>\n",
       "      <td>258</td>\n",
       "      <td>258</td>\n",
       "      <td>0</td>\n",
       "      <td>0</td>\n",
       "      <td>0</td>\n",
       "      <td>0</td>\n",
       "      <td>0</td>\n",
       "      <td>No</td>\n",
       "      <td>7</td>\n",
       "      <td>Non-Hispanic</td>\n",
       "      <td>0</td>\n",
       "      <td>Occupant of a Motor Vehicle</td>\n",
       "      <td>20</td>\n",
       "      <td>Not Applicable</td>\n",
       "      <td>7</td>\n",
       "      <td>None Used/Not Applicable</td>\n",
       "      <td>515.0</td>\n",
       "      <td>Lexus</td>\n",
       "      <td>2475.0</td>\n",
       "      <td>ES</td>\n",
       "      <td>13.0</td>\n",
       "      <td>Sedan/Saloon</td>\n",
       "      <td>0.0</td>\n",
       "      <td>Not Applicable</td>\n",
       "      <td>2020</td>\n",
       "    </tr>\n",
       "    <tr>\n",
       "      <th>3</th>\n",
       "      <td>1</td>\n",
       "      <td>10001</td>\n",
       "      <td>1</td>\n",
       "      <td>0</td>\n",
       "      <td>4</td>\n",
       "      <td>51</td>\n",
       "      <td>1</td>\n",
       "      <td>1</td>\n",
       "      <td>2</td>\n",
       "      <td>58</td>\n",
       "      <td>0</td>\n",
       "      <td>4</td>\n",
       "      <td>cr-4</td>\n",
       "      <td>1</td>\n",
       "      <td>2</td>\n",
       "      <td>0</td>\n",
       "      <td>32.433133</td>\n",
       "      <td>0</td>\n",
       "      <td>0</td>\n",
       "      <td>0</td>\n",
       "      <td>1</td>\n",
       "      <td>1</td>\n",
       "      <td>0</td>\n",
       "      <td>4</td>\n",
       "      <td>2</td>\n",
       "      <td>1</td>\n",
       "      <td>0</td>\n",
       "      <td>0000000</td>\n",
       "      <td>99</td>\n",
       "      <td>3</td>\n",
       "      <td>99</td>\n",
       "      <td>1</td>\n",
       "      <td>2020</td>\n",
       "      <td>3</td>\n",
       "      <td>1</td>\n",
       "      <td>4</td>\n",
       "      <td>1</td>\n",
       "      <td>2</td>\n",
       "      <td>4</td>\n",
       "      <td>2</td>\n",
       "      <td>5</td>\n",
       "      <td>2</td>\n",
       "      <td>1</td>\n",
       "      <td>2</td>\n",
       "      <td>1</td>\n",
       "      <td>1</td>\n",
       "      <td>1</td>\n",
       "      <td>2</td>\n",
       "      <td>2</td>\n",
       "      <td>1</td>\n",
       "      <td>2</td>\n",
       "      <td>2</td>\n",
       "      <td>2</td>\n",
       "      <td>2</td>\n",
       "      <td>1</td>\n",
       "      <td>2</td>\n",
       "      <td>1</td>\n",
       "      <td>2</td>\n",
       "      <td>2</td>\n",
       "      <td>2</td>\n",
       "      <td>2</td>\n",
       "      <td>2</td>\n",
       "      <td>1</td>\n",
       "      <td>1</td>\n",
       "      <td>1</td>\n",
       "      <td>2</td>\n",
       "      <td>2</td>\n",
       "      <td>2</td>\n",
       "      <td>0</td>\n",
       "      <td>0</td>\n",
       "      <td>0</td>\n",
       "      <td>Alabama</td>\n",
       "      <td>Clear</td>\n",
       "      <td>0</td>\n",
       "      <td>None</td>\n",
       "      <td>1</td>\n",
       "      <td>1</td>\n",
       "      <td>55</td>\n",
       "      <td>Non-Harmful Event</td>\n",
       "      <td>63</td>\n",
       "      <td>Ran Off Roadway - Right</td>\n",
       "      <td>5555</td>\n",
       "      <td>Non-Harmful Event</td>\n",
       "      <td>55</td>\n",
       "      <td>Non-Harmful Event</td>\n",
       "      <td>1</td>\n",
       "      <td>1</td>\n",
       "      <td>4</td>\n",
       "      <td>0</td>\n",
       "      <td>1</td>\n",
       "      <td>January</td>\n",
       "      <td>2:00am-2:59am</td>\n",
       "      <td>58</td>\n",
       "      <td>Rural</td>\n",
       "      <td>5</td>\n",
       "      <td>Major Collector</td>\n",
       "      <td>42</td>\n",
       "      <td>Tree (Standing Only)</td>\n",
       "      <td>The First Harmful Event was Not a Collision wi...</td>\n",
       "      <td>No</td>\n",
       "      <td>59.0</td>\n",
       "      <td>Lexus</td>\n",
       "      <td>Lexus ES-250/300/300h/330/ 350</td>\n",
       "      <td>4.0</td>\n",
       "      <td>4-door sedan, hardtop</td>\n",
       "      <td>1997.0</td>\n",
       "      <td>1997</td>\n",
       "      <td>0.0</td>\n",
       "      <td>No Trailing Units</td>\n",
       "      <td>0.0</td>\n",
       "      <td>No Special Use</td>\n",
       "      <td>0.0</td>\n",
       "      <td>Not Applicable</td>\n",
       "      <td>1.0</td>\n",
       "      <td>Rollover, Tripped by Object/Vehicle</td>\n",
       "      <td>12.0</td>\n",
       "      <td>12 Clock Point</td>\n",
       "      <td>0.0</td>\n",
       "      <td>No or Not Reported</td>\n",
       "      <td>22</td>\n",
       "      <td>22 Years</td>\n",
       "      <td>2</td>\n",
       "      <td>Female</td>\n",
       "      <td>2</td>\n",
       "      <td>Passenger of a Motor Vehicle In-Transport</td>\n",
       "      <td>4</td>\n",
       "      <td>Fatal Injury (K)</td>\n",
       "      <td>23</td>\n",
       "      <td>Second Seat, Right Side</td>\n",
       "      <td>20</td>\n",
       "      <td>None Used/Not Applicable</td>\n",
       "      <td>7</td>\n",
       "      <td>None Used/Not Applicable</td>\n",
       "      <td>20</td>\n",
       "      <td>Not Deployed</td>\n",
       "      <td>0</td>\n",
       "      <td>Not Ejected</td>\n",
       "      <td>0</td>\n",
       "      <td>Ejection Path Not Applicable</td>\n",
       "      <td>1</td>\n",
       "      <td>Extricated</td>\n",
       "      <td>8</td>\n",
       "      <td>Not Reported</td>\n",
       "      <td>9</td>\n",
       "      <td>Not Reported</td>\n",
       "      <td>2</td>\n",
       "      <td>Test Given</td>\n",
       "      <td>1</td>\n",
       "      <td>Blood</td>\n",
       "      <td>120</td>\n",
       "      <td>0.120 % BAC</td>\n",
       "      <td>8</td>\n",
       "      <td>Not Reported</td>\n",
       "      <td>8</td>\n",
       "      <td>Not Reported</td>\n",
       "      <td>2</td>\n",
       "      <td>Test Given</td>\n",
       "      <td>0</td>\n",
       "      <td>Not Transported for Treatment</td>\n",
       "      <td>7</td>\n",
       "      <td>Died at Scene</td>\n",
       "      <td>1</td>\n",
       "      <td>1</td>\n",
       "      <td>1</td>\n",
       "      <td>January</td>\n",
       "      <td>2020</td>\n",
       "      <td>2020</td>\n",
       "      <td>2</td>\n",
       "      <td>2:00-2:59</td>\n",
       "      <td>58</td>\n",
       "      <td>58</td>\n",
       "      <td>258</td>\n",
       "      <td>258</td>\n",
       "      <td>0</td>\n",
       "      <td>0</td>\n",
       "      <td>0</td>\n",
       "      <td>0</td>\n",
       "      <td>0</td>\n",
       "      <td>No</td>\n",
       "      <td>7</td>\n",
       "      <td>Non-Hispanic</td>\n",
       "      <td>0</td>\n",
       "      <td>Occupant of a Motor Vehicle</td>\n",
       "      <td>20</td>\n",
       "      <td>Not Applicable</td>\n",
       "      <td>7</td>\n",
       "      <td>None Used/Not Applicable</td>\n",
       "      <td>515.0</td>\n",
       "      <td>Lexus</td>\n",
       "      <td>2475.0</td>\n",
       "      <td>ES</td>\n",
       "      <td>13.0</td>\n",
       "      <td>Sedan/Saloon</td>\n",
       "      <td>0.0</td>\n",
       "      <td>Not Applicable</td>\n",
       "      <td>2020</td>\n",
       "    </tr>\n",
       "    <tr>\n",
       "      <th>4</th>\n",
       "      <td>1</td>\n",
       "      <td>10001</td>\n",
       "      <td>1</td>\n",
       "      <td>0</td>\n",
       "      <td>4</td>\n",
       "      <td>51</td>\n",
       "      <td>1</td>\n",
       "      <td>1</td>\n",
       "      <td>2</td>\n",
       "      <td>58</td>\n",
       "      <td>0</td>\n",
       "      <td>4</td>\n",
       "      <td>cr-4</td>\n",
       "      <td>1</td>\n",
       "      <td>2</td>\n",
       "      <td>0</td>\n",
       "      <td>32.433133</td>\n",
       "      <td>0</td>\n",
       "      <td>0</td>\n",
       "      <td>0</td>\n",
       "      <td>1</td>\n",
       "      <td>1</td>\n",
       "      <td>0</td>\n",
       "      <td>4</td>\n",
       "      <td>2</td>\n",
       "      <td>1</td>\n",
       "      <td>0</td>\n",
       "      <td>0000000</td>\n",
       "      <td>99</td>\n",
       "      <td>3</td>\n",
       "      <td>99</td>\n",
       "      <td>1</td>\n",
       "      <td>2020</td>\n",
       "      <td>3</td>\n",
       "      <td>1</td>\n",
       "      <td>4</td>\n",
       "      <td>1</td>\n",
       "      <td>2</td>\n",
       "      <td>4</td>\n",
       "      <td>2</td>\n",
       "      <td>5</td>\n",
       "      <td>2</td>\n",
       "      <td>1</td>\n",
       "      <td>2</td>\n",
       "      <td>1</td>\n",
       "      <td>1</td>\n",
       "      <td>1</td>\n",
       "      <td>2</td>\n",
       "      <td>2</td>\n",
       "      <td>1</td>\n",
       "      <td>2</td>\n",
       "      <td>2</td>\n",
       "      <td>2</td>\n",
       "      <td>2</td>\n",
       "      <td>1</td>\n",
       "      <td>2</td>\n",
       "      <td>1</td>\n",
       "      <td>2</td>\n",
       "      <td>2</td>\n",
       "      <td>2</td>\n",
       "      <td>2</td>\n",
       "      <td>2</td>\n",
       "      <td>1</td>\n",
       "      <td>1</td>\n",
       "      <td>1</td>\n",
       "      <td>2</td>\n",
       "      <td>2</td>\n",
       "      <td>2</td>\n",
       "      <td>0</td>\n",
       "      <td>0</td>\n",
       "      <td>0</td>\n",
       "      <td>Alabama</td>\n",
       "      <td>Clear</td>\n",
       "      <td>0</td>\n",
       "      <td>None</td>\n",
       "      <td>2</td>\n",
       "      <td>1</td>\n",
       "      <td>12</td>\n",
       "      <td>12 Clock Point</td>\n",
       "      <td>42</td>\n",
       "      <td>Tree (Standing Only)</td>\n",
       "      <td>9999</td>\n",
       "      <td>Not a Motor Vehicle</td>\n",
       "      <td>77</td>\n",
       "      <td>Not a Motor Vehicle</td>\n",
       "      <td>1</td>\n",
       "      <td>1</td>\n",
       "      <td>1</td>\n",
       "      <td>0</td>\n",
       "      <td>1</td>\n",
       "      <td>January</td>\n",
       "      <td>2:00am-2:59am</td>\n",
       "      <td>58</td>\n",
       "      <td>Rural</td>\n",
       "      <td>5</td>\n",
       "      <td>Major Collector</td>\n",
       "      <td>42</td>\n",
       "      <td>Tree (Standing Only)</td>\n",
       "      <td>The First Harmful Event was Not a Collision wi...</td>\n",
       "      <td>No</td>\n",
       "      <td>59.0</td>\n",
       "      <td>Lexus</td>\n",
       "      <td>Lexus ES-250/300/300h/330/ 350</td>\n",
       "      <td>4.0</td>\n",
       "      <td>4-door sedan, hardtop</td>\n",
       "      <td>1997.0</td>\n",
       "      <td>1997</td>\n",
       "      <td>0.0</td>\n",
       "      <td>No Trailing Units</td>\n",
       "      <td>0.0</td>\n",
       "      <td>No Special Use</td>\n",
       "      <td>0.0</td>\n",
       "      <td>Not Applicable</td>\n",
       "      <td>1.0</td>\n",
       "      <td>Rollover, Tripped by Object/Vehicle</td>\n",
       "      <td>12.0</td>\n",
       "      <td>12 Clock Point</td>\n",
       "      <td>0.0</td>\n",
       "      <td>No or Not Reported</td>\n",
       "      <td>24</td>\n",
       "      <td>24 Years</td>\n",
       "      <td>1</td>\n",
       "      <td>Male</td>\n",
       "      <td>1</td>\n",
       "      <td>Driver of a Motor Vehicle In-Transport</td>\n",
       "      <td>4</td>\n",
       "      <td>Fatal Injury (K)</td>\n",
       "      <td>11</td>\n",
       "      <td>Front Seat, Left Side</td>\n",
       "      <td>20</td>\n",
       "      <td>None Used/Not Applicable</td>\n",
       "      <td>7</td>\n",
       "      <td>None Used/Not Applicable</td>\n",
       "      <td>1</td>\n",
       "      <td>Deployed- Front</td>\n",
       "      <td>0</td>\n",
       "      <td>Not Ejected</td>\n",
       "      <td>0</td>\n",
       "      <td>Ejection Path Not Applicable</td>\n",
       "      <td>1</td>\n",
       "      <td>Extricated</td>\n",
       "      <td>9</td>\n",
       "      <td>Reported as Unknown</td>\n",
       "      <td>9</td>\n",
       "      <td>Not Reported</td>\n",
       "      <td>2</td>\n",
       "      <td>Test Given</td>\n",
       "      <td>1</td>\n",
       "      <td>Blood</td>\n",
       "      <td>294</td>\n",
       "      <td>0.294 % BAC</td>\n",
       "      <td>9</td>\n",
       "      <td>Reported as Unknown</td>\n",
       "      <td>8</td>\n",
       "      <td>Not Reported</td>\n",
       "      <td>2</td>\n",
       "      <td>Test Given</td>\n",
       "      <td>0</td>\n",
       "      <td>Not Transported for Treatment</td>\n",
       "      <td>7</td>\n",
       "      <td>Died at Scene</td>\n",
       "      <td>1</td>\n",
       "      <td>1</td>\n",
       "      <td>1</td>\n",
       "      <td>January</td>\n",
       "      <td>2020</td>\n",
       "      <td>2020</td>\n",
       "      <td>2</td>\n",
       "      <td>2:00-2:59</td>\n",
       "      <td>58</td>\n",
       "      <td>58</td>\n",
       "      <td>258</td>\n",
       "      <td>258</td>\n",
       "      <td>0</td>\n",
       "      <td>0</td>\n",
       "      <td>0</td>\n",
       "      <td>0</td>\n",
       "      <td>0</td>\n",
       "      <td>No</td>\n",
       "      <td>7</td>\n",
       "      <td>Non-Hispanic</td>\n",
       "      <td>0</td>\n",
       "      <td>Occupant of a Motor Vehicle</td>\n",
       "      <td>20</td>\n",
       "      <td>Not Applicable</td>\n",
       "      <td>7</td>\n",
       "      <td>None Used/Not Applicable</td>\n",
       "      <td>515.0</td>\n",
       "      <td>Lexus</td>\n",
       "      <td>2475.0</td>\n",
       "      <td>ES</td>\n",
       "      <td>13.0</td>\n",
       "      <td>Sedan/Saloon</td>\n",
       "      <td>0.0</td>\n",
       "      <td>Not Applicable</td>\n",
       "      <td>2020</td>\n",
       "    </tr>\n",
       "  </tbody>\n",
       "</table>\n",
       "</div>"
      ],
      "text/plain": [
       "   state  st_case  ve_total  peds  persons  county  day  month  hour  minute  \\\n",
       "0      1    10001         1     0        4      51    1      1     2      58   \n",
       "1      1    10001         1     0        4      51    1      1     2      58   \n",
       "2      1    10001         1     0        4      51    1      1     2      58   \n",
       "3      1    10001         1     0        4      51    1      1     2      58   \n",
       "4      1    10001         1     0        4      51    1      1     2      58   \n",
       "\n",
       "   nhs  route tway_id  rur_urb  rd_owner  milept   latitude  sp_jur  man_coll  \\\n",
       "0    0      4    cr-4        1         2       0  32.433133       0         0   \n",
       "1    0      4    cr-4        1         2       0  32.433133       0         0   \n",
       "2    0      4    cr-4        1         2       0  32.433133       0         0   \n",
       "3    0      4    cr-4        1         2       0  32.433133       0         0   \n",
       "4    0      4    cr-4        1         2       0  32.433133       0         0   \n",
       "\n",
       "   reljct1  reljct2  typ_int  wrk_zone  rel_road  lgt_cond  weather  sch_bus  \\\n",
       "0        0        1        1         0         4         2        1        0   \n",
       "1        0        1        1         0         4         2        1        0   \n",
       "2        0        1        1         0         4         2        1        0   \n",
       "3        0        1        1         0         4         2        1        0   \n",
       "4        0        1        1         0         4         2        1        0   \n",
       "\n",
       "      rail  not_hour  arr_hour  hosp_hr  drunk_dr  year  fatals  a_crainj  \\\n",
       "0  0000000        99         3       99         1  2020       3         1   \n",
       "1  0000000        99         3       99         1  2020       3         1   \n",
       "2  0000000        99         3       99         1  2020       3         1   \n",
       "3  0000000        99         3       99         1  2020       3         1   \n",
       "4  0000000        99         3       99         1  2020       3         1   \n",
       "\n",
       "   a_region  a_ru  a_inter  a_relrd  a_intsec  a_roadfc  a_junc  a_mancol  \\\n",
       "0         4     1        2        4         2         5       2         1   \n",
       "1         4     1        2        4         2         5       2         1   \n",
       "2         4     1        2        4         2         5       2         1   \n",
       "3         4     1        2        4         2         5       2         1   \n",
       "4         4     1        2        4         2         5       2         1   \n",
       "\n",
       "   a_tod  a_dow  a_ct  a_weather  a_lt  a_mc  a_spcra  a_ped  a_ped_f  \\\n",
       "0      2      1     1          1     2     2        1      2        2   \n",
       "1      2      1     1          1     2     2        1      2        2   \n",
       "2      2      1     1          1     2     2        1      2        2   \n",
       "3      2      1     1          1     2     2        1      2        2   \n",
       "4      2      1     1          1     2     2        1      2        2   \n",
       "\n",
       "   a_pedal  a_pedal_f  a_roll  a_polpur  a_posbac  a_d15_19  a_d16_19  \\\n",
       "0        2          2       1         2         1         2         2   \n",
       "1        2          2       1         2         1         2         2   \n",
       "2        2          2       1         2         1         2         2   \n",
       "3        2          2       1         2         1         2         2   \n",
       "4        2          2       1         2         1         2         2   \n",
       "\n",
       "   a_d15_20  a_d16_20  a_d65pls  a_d21_24  a_d16_24  a_rd  a_hr  a_dist  \\\n",
       "0         2         2         2         1         1     1     2       2   \n",
       "1         2         2         2         1         1     1     2       2   \n",
       "2         2         2         2         1         1     1     2       2   \n",
       "3         2         2         2         1         1     1     2       2   \n",
       "4         2         2         2         1         1     1     2       2   \n",
       "\n",
       "   a_drowsy  bia  spj_indian  indian_res statename weathername  crashrf  \\\n",
       "0         2    0           0           0   Alabama       Clear        0   \n",
       "1         2    0           0           0   Alabama       Clear        0   \n",
       "2         2    0           0           0   Alabama       Clear        0   \n",
       "3         2    0           0           0   Alabama       Clear        0   \n",
       "4         2    0           0           0   Alabama       Clear        0   \n",
       "\n",
       "  crashrfname  eventnum  vnumber1  aoi1           aoi1name  soe  \\\n",
       "0        None         1         1    55  Non-Harmful Event   63   \n",
       "1        None         1         1    55  Non-Harmful Event   63   \n",
       "2        None         1         1    55  Non-Harmful Event   63   \n",
       "3        None         1         1    55  Non-Harmful Event   63   \n",
       "4        None         2         1    12     12 Clock Point   42   \n",
       "\n",
       "                   soename  vnumber2         vnumber2name  aoi2  \\\n",
       "0  Ran Off Roadway - Right      5555    Non-Harmful Event    55   \n",
       "1  Ran Off Roadway - Right      5555    Non-Harmful Event    55   \n",
       "2  Ran Off Roadway - Right      5555    Non-Harmful Event    55   \n",
       "3  Ran Off Roadway - Right      5555    Non-Harmful Event    55   \n",
       "4     Tree (Standing Only)      9999  Not a Motor Vehicle    77   \n",
       "\n",
       "              aoi2name  ve_forms  veh_no  per_no  str_veh  dayname monthname  \\\n",
       "0    Non-Harmful Event         1       1       1        0        1   January   \n",
       "1    Non-Harmful Event         1       1       2        0        1   January   \n",
       "2    Non-Harmful Event         1       1       3        0        1   January   \n",
       "3    Non-Harmful Event         1       1       4        0        1   January   \n",
       "4  Not a Motor Vehicle         1       1       1        0        1   January   \n",
       "\n",
       "        hourname minutename rur_urbname  func_sys     func_sysname  harm_ev  \\\n",
       "0  2:00am-2:59am         58       Rural         5  Major Collector       42   \n",
       "1  2:00am-2:59am         58       Rural         5  Major Collector       42   \n",
       "2  2:00am-2:59am         58       Rural         5  Major Collector       42   \n",
       "3  2:00am-2:59am         58       Rural         5  Major Collector       42   \n",
       "4  2:00am-2:59am         58       Rural         5  Major Collector       42   \n",
       "\n",
       "            harm_evname                                       man_collname  \\\n",
       "0  Tree (Standing Only)  The First Harmful Event was Not a Collision wi...   \n",
       "1  Tree (Standing Only)  The First Harmful Event was Not a Collision wi...   \n",
       "2  Tree (Standing Only)  The First Harmful Event was Not a Collision wi...   \n",
       "3  Tree (Standing Only)  The First Harmful Event was Not a Collision wi...   \n",
       "4  Tree (Standing Only)  The First Harmful Event was Not a Collision wi...   \n",
       "\n",
       "  sch_busname  make makename                         mak_mod  body_typ  \\\n",
       "0          No  59.0    Lexus  Lexus ES-250/300/300h/330/ 350       4.0   \n",
       "1          No  59.0    Lexus  Lexus ES-250/300/300h/330/ 350       4.0   \n",
       "2          No  59.0    Lexus  Lexus ES-250/300/300h/330/ 350       4.0   \n",
       "3          No  59.0    Lexus  Lexus ES-250/300/300h/330/ 350       4.0   \n",
       "4          No  59.0    Lexus  Lexus ES-250/300/300h/330/ 350       4.0   \n",
       "\n",
       "            body_typname  mod_year mod_yearname  tow_veh        tow_vehname  \\\n",
       "0  4-door sedan, hardtop    1997.0         1997      0.0  No Trailing Units   \n",
       "1  4-door sedan, hardtop    1997.0         1997      0.0  No Trailing Units   \n",
       "2  4-door sedan, hardtop    1997.0         1997      0.0  No Trailing Units   \n",
       "3  4-door sedan, hardtop    1997.0         1997      0.0  No Trailing Units   \n",
       "4  4-door sedan, hardtop    1997.0         1997      0.0  No Trailing Units   \n",
       "\n",
       "   spec_use    spec_usename  emer_use    emer_usename  rollover  \\\n",
       "0       0.0  No Special Use       0.0  Not Applicable       1.0   \n",
       "1       0.0  No Special Use       0.0  Not Applicable       1.0   \n",
       "2       0.0  No Special Use       0.0  Not Applicable       1.0   \n",
       "3       0.0  No Special Use       0.0  Not Applicable       1.0   \n",
       "4       0.0  No Special Use       0.0  Not Applicable       1.0   \n",
       "\n",
       "                          rollovername  impact1     impact1name  fire_exp  \\\n",
       "0  Rollover, Tripped by Object/Vehicle     12.0  12 Clock Point       0.0   \n",
       "1  Rollover, Tripped by Object/Vehicle     12.0  12 Clock Point       0.0   \n",
       "2  Rollover, Tripped by Object/Vehicle     12.0  12 Clock Point       0.0   \n",
       "3  Rollover, Tripped by Object/Vehicle     12.0  12 Clock Point       0.0   \n",
       "4  Rollover, Tripped by Object/Vehicle     12.0  12 Clock Point       0.0   \n",
       "\n",
       "         fire_expname  age   agename  sex sexname  per_typ  \\\n",
       "0  No or Not Reported   24  24 Years    1    Male        1   \n",
       "1  No or Not Reported   21  21 Years    1    Male        2   \n",
       "2  No or Not Reported   22  22 Years    2  Female        2   \n",
       "3  No or Not Reported   22  22 Years    2  Female        2   \n",
       "4  No or Not Reported   24  24 Years    1    Male        1   \n",
       "\n",
       "                                 per_typname  inj_sev  \\\n",
       "0     Driver of a Motor Vehicle In-Transport        4   \n",
       "1  Passenger of a Motor Vehicle In-Transport        3   \n",
       "2  Passenger of a Motor Vehicle In-Transport        4   \n",
       "3  Passenger of a Motor Vehicle In-Transport        4   \n",
       "4     Driver of a Motor Vehicle In-Transport        4   \n",
       "\n",
       "                    inj_sevname  seat_pos             seat_posname  rest_use  \\\n",
       "0              Fatal Injury (K)        11    Front Seat, Left Side        20   \n",
       "1  Suspected Serious Injury (A)        13   Front Seat, Right Side         3   \n",
       "2              Fatal Injury (K)        21   Second Seat, Left Side        20   \n",
       "3              Fatal Injury (K)        23  Second Seat, Right Side        20   \n",
       "4              Fatal Injury (K)        11    Front Seat, Left Side        20   \n",
       "\n",
       "                 rest_usename  rest_mis              rest_misname  air_bag  \\\n",
       "0    None Used/Not Applicable         7  None Used/Not Applicable        1   \n",
       "1  Shoulder and Lap Belt Used         0  No Indication of Mis-Use        1   \n",
       "2    None Used/Not Applicable         7  None Used/Not Applicable       20   \n",
       "3    None Used/Not Applicable         7  None Used/Not Applicable       20   \n",
       "4    None Used/Not Applicable         7  None Used/Not Applicable        1   \n",
       "\n",
       "       air_bagname  ejection ejectionname  ej_path  \\\n",
       "0  Deployed- Front         0  Not Ejected        0   \n",
       "1  Deployed- Front         0  Not Ejected        0   \n",
       "2     Not Deployed         0  Not Ejected        0   \n",
       "3     Not Deployed         0  Not Ejected        0   \n",
       "4  Deployed- Front         0  Not Ejected        0   \n",
       "\n",
       "                    ej_pathname  extricat extricatname  drinking  \\\n",
       "0  Ejection Path Not Applicable         1   Extricated         9   \n",
       "1  Ejection Path Not Applicable         1   Extricated         8   \n",
       "2  Ejection Path Not Applicable         1   Extricated         8   \n",
       "3  Ejection Path Not Applicable         1   Extricated         8   \n",
       "4  Ejection Path Not Applicable         1   Extricated         9   \n",
       "\n",
       "          drinkingname  alc_det   alc_detname  alc_status  alc_statusname  \\\n",
       "0  Reported as Unknown        9  Not Reported           2      Test Given   \n",
       "1         Not Reported        9  Not Reported           0  Test Not Given   \n",
       "2         Not Reported        9  Not Reported           2      Test Given   \n",
       "3         Not Reported        9  Not Reported           2      Test Given   \n",
       "4  Reported as Unknown        9  Not Reported           2      Test Given   \n",
       "\n",
       "   atst_typ    atst_typname  alc_res     alc_resname  drugs  \\\n",
       "0         1           Blood      294     0.294 % BAC      9   \n",
       "1         0  Test Not Given      996  Test Not Given      8   \n",
       "2         1           Blood       69     0.069 % BAC      8   \n",
       "3         1           Blood      120     0.120 % BAC      8   \n",
       "4         1           Blood      294     0.294 % BAC      9   \n",
       "\n",
       "             drugsname  drug_det  drug_detname  dstatus     dstatusname  \\\n",
       "0  Reported as Unknown         8  Not Reported        2      Test Given   \n",
       "1         Not Reported         8  Not Reported        0  Test Not Given   \n",
       "2         Not Reported         8  Not Reported        2      Test Given   \n",
       "3         Not Reported         8  Not Reported        2      Test Given   \n",
       "4  Reported as Unknown         8  Not Reported        2      Test Given   \n",
       "\n",
       "   hospital                   hospitalname  doa         doaname  death_da  \\\n",
       "0         0  Not Transported for Treatment    7   Died at Scene         1   \n",
       "1         5                     EMS Ground    0  Not Applicable        88   \n",
       "2         0  Not Transported for Treatment    7   Died at Scene         1   \n",
       "3         0  Not Transported for Treatment    7   Died at Scene         1   \n",
       "4         0  Not Transported for Treatment    7   Died at Scene         1   \n",
       "\n",
       "                 death_daname  death_mo                death_moname  death_yr  \\\n",
       "0                           1         1                     January      2020   \n",
       "1  Not Applicable (Non-Fatal)        88  Not Applicable (Non-Fatal)      8888   \n",
       "2                           1         1                     January      2020   \n",
       "3                           1         1                     January      2020   \n",
       "4                           1         1                     January      2020   \n",
       "\n",
       "                 death_yrname  death_hr                death_hrname  death_mn  \\\n",
       "0                        2020         2                   2:00-2:59        58   \n",
       "1  Not Applicable (Non-fatal)        88  Not Applicable (Non-fatal)        88   \n",
       "2                        2020         2                   2:00-2:59        58   \n",
       "3                        2020         2                   2:00-2:59        58   \n",
       "4                        2020         2                   2:00-2:59        58   \n",
       "\n",
       "                 death_mnname  death_tm                death_tmname  lag_hrs  \\\n",
       "0                          58       258                         258        0   \n",
       "1  Not Applicable (Non-fatal)      8888  Not Applicable (Non-fatal)      999   \n",
       "2                          58       258                         258        0   \n",
       "3                          58       258                         258        0   \n",
       "4                          58       258                         258        0   \n",
       "\n",
       "  lag_hrsname  lag_mins lag_minsname  work_inj  \\\n",
       "0           0         0            0         0   \n",
       "1     Unknown        99      Unknown         8   \n",
       "2           0         0            0         0   \n",
       "3           0         0            0         0   \n",
       "4           0         0            0         0   \n",
       "\n",
       "                      work_injname  hispanic                     hispanicname  \\\n",
       "0                               No         7                     Non-Hispanic   \n",
       "1  Not Applicable (not a fatality)         0  Not A Fatality (not Applicable)   \n",
       "2                               No         7                     Non-Hispanic   \n",
       "3                               No         7                     Non-Hispanic   \n",
       "4                               No         7                     Non-Hispanic   \n",
       "\n",
       "   location                 locationname  helm_use    helm_usename  helm_mis  \\\n",
       "0         0  Occupant of a Motor Vehicle        20  Not Applicable         7   \n",
       "1         0  Occupant of a Motor Vehicle        20  Not Applicable         7   \n",
       "2         0  Occupant of a Motor Vehicle        20  Not Applicable         7   \n",
       "3         0  Occupant of a Motor Vehicle        20  Not Applicable         7   \n",
       "4         0  Occupant of a Motor Vehicle        20  Not Applicable         7   \n",
       "\n",
       "               helm_misname  vpicmake vpicmakename  vpicmodel vpicmodelname  \\\n",
       "0  None Used/Not Applicable     515.0        Lexus     2475.0            ES   \n",
       "1  None Used/Not Applicable     515.0        Lexus     2475.0            ES   \n",
       "2  None Used/Not Applicable     515.0        Lexus     2475.0            ES   \n",
       "3  None Used/Not Applicable     515.0        Lexus     2475.0            ES   \n",
       "4  None Used/Not Applicable     515.0        Lexus     2475.0            ES   \n",
       "\n",
       "   vpicbodyclass vpicbodyclassname  icfinalbody icfinalbodyname  data_year  \n",
       "0           13.0      Sedan/Saloon          0.0  Not Applicable       2020  \n",
       "1           13.0      Sedan/Saloon          0.0  Not Applicable       2020  \n",
       "2           13.0      Sedan/Saloon          0.0  Not Applicable       2020  \n",
       "3           13.0      Sedan/Saloon          0.0  Not Applicable       2020  \n",
       "4           13.0      Sedan/Saloon          0.0  Not Applicable       2020  "
      ]
     },
     "execution_count": 5,
     "metadata": {},
     "output_type": "execute_result"
    }
   ],
   "source": [
    "#Lets take a look at the columns to see if there are any interesting takeaways\n",
    "pd.set_option('display.max.columns', None)\n",
    "accidents_df.head(5)\n"
   ]
  },
  {
   "cell_type": "markdown",
   "id": "5fcc0c2a-91e5-4b68-837f-5b26cf92570d",
   "metadata": {},
   "source": [
    "# More data exploration and cleaning"
   ]
  },
  {
   "cell_type": "code",
   "execution_count": 6,
   "id": "69798a17-5744-4b4d-a102-09e28f42882a",
   "metadata": {},
   "outputs": [
    {
     "data": {
      "text/html": [
       "<div>\n",
       "<style scoped>\n",
       "    .dataframe tbody tr th:only-of-type {\n",
       "        vertical-align: middle;\n",
       "    }\n",
       "\n",
       "    .dataframe tbody tr th {\n",
       "        vertical-align: top;\n",
       "    }\n",
       "\n",
       "    .dataframe thead th {\n",
       "        text-align: right;\n",
       "    }\n",
       "</style>\n",
       "<table border=\"1\" class=\"dataframe\">\n",
       "  <thead>\n",
       "    <tr style=\"text-align: right;\">\n",
       "      <th></th>\n",
       "      <th>fatals</th>\n",
       "      <th>persons</th>\n",
       "      <th>peds</th>\n",
       "    </tr>\n",
       "  </thead>\n",
       "  <tbody>\n",
       "    <tr>\n",
       "      <th>1249</th>\n",
       "      <td>2</td>\n",
       "      <td>1</td>\n",
       "      <td>2</td>\n",
       "    </tr>\n",
       "    <tr>\n",
       "      <th>1250</th>\n",
       "      <td>2</td>\n",
       "      <td>1</td>\n",
       "      <td>2</td>\n",
       "    </tr>\n",
       "    <tr>\n",
       "      <th>1251</th>\n",
       "      <td>2</td>\n",
       "      <td>1</td>\n",
       "      <td>2</td>\n",
       "    </tr>\n",
       "    <tr>\n",
       "      <th>1252</th>\n",
       "      <td>2</td>\n",
       "      <td>1</td>\n",
       "      <td>2</td>\n",
       "    </tr>\n",
       "    <tr>\n",
       "      <th>1253</th>\n",
       "      <td>2</td>\n",
       "      <td>1</td>\n",
       "      <td>2</td>\n",
       "    </tr>\n",
       "    <tr>\n",
       "      <th>...</th>\n",
       "      <td>...</td>\n",
       "      <td>...</td>\n",
       "      <td>...</td>\n",
       "    </tr>\n",
       "    <tr>\n",
       "      <th>256954</th>\n",
       "      <td>2</td>\n",
       "      <td>1</td>\n",
       "      <td>2</td>\n",
       "    </tr>\n",
       "    <tr>\n",
       "      <th>256955</th>\n",
       "      <td>2</td>\n",
       "      <td>1</td>\n",
       "      <td>2</td>\n",
       "    </tr>\n",
       "    <tr>\n",
       "      <th>256956</th>\n",
       "      <td>2</td>\n",
       "      <td>1</td>\n",
       "      <td>2</td>\n",
       "    </tr>\n",
       "    <tr>\n",
       "      <th>258219</th>\n",
       "      <td>1</td>\n",
       "      <td>0</td>\n",
       "      <td>1</td>\n",
       "    </tr>\n",
       "    <tr>\n",
       "      <th>264564</th>\n",
       "      <td>1</td>\n",
       "      <td>0</td>\n",
       "      <td>1</td>\n",
       "    </tr>\n",
       "  </tbody>\n",
       "</table>\n",
       "<p>1318 rows × 3 columns</p>\n",
       "</div>"
      ],
      "text/plain": [
       "        fatals  persons  peds\n",
       "1249         2        1     2\n",
       "1250         2        1     2\n",
       "1251         2        1     2\n",
       "1252         2        1     2\n",
       "1253         2        1     2\n",
       "...        ...      ...   ...\n",
       "256954       2        1     2\n",
       "256955       2        1     2\n",
       "256956       2        1     2\n",
       "258219       1        0     1\n",
       "264564       1        0     1\n",
       "\n",
       "[1318 rows x 3 columns]"
      ]
     },
     "execution_count": 6,
     "metadata": {},
     "output_type": "execute_result"
    }
   ],
   "source": [
    "# First lets take a look at the fatals, persons, oeds columns\n",
    "# To note- not everyone involved in the crashes died\n",
    "\n",
    "accidents_df.loc[(accidents_df['fatals'] > accidents_df['persons']), ['fatals', 'persons', 'peds']]"
   ]
  },
  {
   "cell_type": "code",
   "execution_count": 7,
   "id": "77638a87-c1e3-4cad-9472-c4e51ec5fcc0",
   "metadata": {},
   "outputs": [
    {
     "data": {
      "text/plain": [
       "array(['Died at Scene', 'Not Applicable', 'Died En Route', 'Unknown'],\n",
       "      dtype=object)"
      ]
     },
     "execution_count": 7,
     "metadata": {},
     "output_type": "execute_result"
    }
   ],
   "source": [
    "# This column represents those who died at the scene or en route\n",
    "# Taking a deeper look - I would need to binarize this column to make use of it\n",
    "accidents_df['doaname'].unique()"
   ]
  },
  {
   "cell_type": "code",
   "execution_count": 8,
   "id": "bba55bde-6dcb-4608-9cf3-7e4c868ef618",
   "metadata": {},
   "outputs": [
    {
     "data": {
      "text/plain": [
       "Not Applicable    190244\n",
       "Died at Scene      71342\n",
       "Unknown             2852\n",
       "Died En Route        753\n",
       "Name: doaname, dtype: int64"
      ]
     },
     "execution_count": 8,
     "metadata": {},
     "output_type": "execute_result"
    }
   ],
   "source": [
    "### far too many not applicable- will have to drop column\n",
    "accidents_df['doaname'].value_counts()"
   ]
  },
  {
   "cell_type": "code",
   "execution_count": 9,
   "id": "838f7247-4ad3-4a5b-8d4a-edfba3dc8b39",
   "metadata": {},
   "outputs": [],
   "source": [
    "#the doaname column has been dropped\n",
    "accidents_df = accidents_df.drop(columns=['doaname'])"
   ]
  },
  {
   "cell_type": "code",
   "execution_count": 10,
   "id": "33994994-1037-48e3-bb29-2b646d4c923c",
   "metadata": {},
   "outputs": [
    {
     "data": {
      "text/plain": [
       "1    225889\n",
       "2     30537\n",
       "3      6284\n",
       "4      1766\n",
       "5       547\n",
       "6       104\n",
       "7        40\n",
       "8        24\n",
       "Name: fatals, dtype: int64"
      ]
     },
     "execution_count": 10,
     "metadata": {},
     "output_type": "execute_result"
    }
   ],
   "source": [
    "#Let's take a look at the total number of fatals in a unique state case\n",
    "# As we can see the majority of fatal accidents that occur in this data set involve one person... why?\n",
    "accidents_df['fatals'].value_counts()"
   ]
  },
  {
   "cell_type": "code",
   "execution_count": 11,
   "id": "9aee8a96-d6f2-4c37-9095-1c7de6ebe192",
   "metadata": {},
   "outputs": [],
   "source": [
    "#here I will bin the columns to make them binary- either fatals = 1 or fatal > 1\n",
    "\n",
    "## Make a seasons function that bins fatals\n",
    "def binary_fatals(x):\n",
    "    if x == 1:\n",
    "        return 0\n",
    "    elif x > 0:\n",
    "        return 1"
   ]
  },
  {
   "cell_type": "code",
   "execution_count": 12,
   "id": "24005dd5-77de-4933-afda-47e99525d670",
   "metadata": {},
   "outputs": [],
   "source": [
    "# Lets save the previous equation to the df\n",
    "accidents_df['binary_fatals'] = accidents_df['fatals'].map(binary_fatals)"
   ]
  },
  {
   "cell_type": "code",
   "execution_count": 13,
   "id": "fb725397-c197-445a-b7fd-320cfc6f1933",
   "metadata": {},
   "outputs": [
    {
     "data": {
      "text/plain": [
       "0    225889\n",
       "1     39302\n",
       "Name: binary_fatals, dtype: int64"
      ]
     },
     "execution_count": 13,
     "metadata": {},
     "output_type": "execute_result"
    }
   ],
   "source": [
    "# now lets take a look at the totals\n",
    "accidents_df['binary_fatals'].value_counts()"
   ]
  },
  {
   "cell_type": "code",
   "execution_count": 14,
   "id": "916422ff-b33c-451c-8edb-b6593b3fb065",
   "metadata": {},
   "outputs": [
    {
     "data": {
      "text/html": [
       "<div>\n",
       "<style scoped>\n",
       "    .dataframe tbody tr th:only-of-type {\n",
       "        vertical-align: middle;\n",
       "    }\n",
       "\n",
       "    .dataframe tbody tr th {\n",
       "        vertical-align: top;\n",
       "    }\n",
       "\n",
       "    .dataframe thead th {\n",
       "        text-align: right;\n",
       "    }\n",
       "</style>\n",
       "<table border=\"1\" class=\"dataframe\">\n",
       "  <thead>\n",
       "    <tr style=\"text-align: right;\">\n",
       "      <th></th>\n",
       "      <th>binary_fatals</th>\n",
       "      <th>inj_sev</th>\n",
       "    </tr>\n",
       "  </thead>\n",
       "  <tbody>\n",
       "    <tr>\n",
       "      <th>binary_fatals</th>\n",
       "      <td>1.000000</td>\n",
       "      <td>0.082831</td>\n",
       "    </tr>\n",
       "    <tr>\n",
       "      <th>inj_sev</th>\n",
       "      <td>0.082831</td>\n",
       "      <td>1.000000</td>\n",
       "    </tr>\n",
       "  </tbody>\n",
       "</table>\n",
       "</div>"
      ],
      "text/plain": [
       "               binary_fatals   inj_sev\n",
       "binary_fatals       1.000000  0.082831\n",
       "inj_sev             0.082831  1.000000"
      ]
     },
     "execution_count": 14,
     "metadata": {},
     "output_type": "execute_result"
    }
   ],
   "source": [
    "# I want to check the correlation between inj_sev and binary_fatals\n",
    "# The correlation is weak\n",
    "# Lets take a closer look inj_sev\n",
    "accidents_df[['binary_fatals', 'inj_sev']].corr()"
   ]
  },
  {
   "cell_type": "code",
   "execution_count": 15,
   "id": "d656f94a-5662-40b1-b644-6b0b1dc1edae",
   "metadata": {},
   "outputs": [
    {
     "data": {
      "text/plain": [
       "4    117315\n",
       "0     57797\n",
       "3     33335\n",
       "2     31109\n",
       "1     21740\n",
       "9      2743\n",
       "5      1141\n",
       "6        11\n",
       "Name: inj_sev, dtype: int64"
      ]
     },
     "execution_count": 15,
     "metadata": {},
     "output_type": "execute_result"
    }
   ],
   "source": [
    "# The majority of inj_sev are denoted as fatal\n",
    "# In order to get a netter understanding I need to drop some rows from this column\n",
    "# I also need to binarize it\n",
    "accidents_df['inj_sev'].value_counts()"
   ]
  },
  {
   "cell_type": "code",
   "execution_count": 16,
   "id": "4afa8e73-e048-4dda-8d67-aac3f4106b5b",
   "metadata": {},
   "outputs": [],
   "source": [
    "#here I will bin the columns to make them binary- either fatals = 1 or fatal > 1\n",
    "\n",
    "## Make a seasons function that bins fatals\n",
    "def inj_sev_binary(x):\n",
    "    if x == 4:\n",
    "        return 0\n",
    "    elif x != 4:\n",
    "        return 1"
   ]
  },
  {
   "cell_type": "code",
   "execution_count": 17,
   "id": "fb8e9b9f-0697-48ba-896e-3e076eda6d1d",
   "metadata": {},
   "outputs": [],
   "source": [
    "# Saving the changes to the dataframe\n",
    "accidents_df['inj_sev_binary'] = accidents_df['inj_sev'].map(inj_sev_binary)"
   ]
  },
  {
   "cell_type": "code",
   "execution_count": 18,
   "id": "10b1e357-a323-428f-8d76-24bfb96dfaa5",
   "metadata": {},
   "outputs": [
    {
     "data": {
      "text/plain": [
       "array([0, 1], dtype=int64)"
      ]
     },
     "execution_count": 18,
     "metadata": {},
     "output_type": "execute_result"
    }
   ],
   "source": [
    "#Lets take a look to make sure the changes were made\n",
    "accidents_df['inj_sev_binary'].unique()"
   ]
  },
  {
   "cell_type": "code",
   "execution_count": 19,
   "id": "099d09a8-d23e-4a4a-b72b-6a5b0f810dbd",
   "metadata": {},
   "outputs": [
    {
     "data": {
      "text/plain": [
       "1    147876\n",
       "0    117315\n",
       "Name: inj_sev_binary, dtype: int64"
      ]
     },
     "execution_count": 19,
     "metadata": {},
     "output_type": "execute_result"
    }
   ],
   "source": [
    "#Let's see how many there are of each\n",
    "accidents_df['inj_sev_binary'].value_counts()"
   ]
  },
  {
   "cell_type": "code",
   "execution_count": 20,
   "id": "120ff0c4-d374-4321-b914-1a4bc5e67456",
   "metadata": {},
   "outputs": [
    {
     "data": {
      "text/html": [
       "<div>\n",
       "<style scoped>\n",
       "    .dataframe tbody tr th:only-of-type {\n",
       "        vertical-align: middle;\n",
       "    }\n",
       "\n",
       "    .dataframe tbody tr th {\n",
       "        vertical-align: top;\n",
       "    }\n",
       "\n",
       "    .dataframe thead th {\n",
       "        text-align: right;\n",
       "    }\n",
       "</style>\n",
       "<table border=\"1\" class=\"dataframe\">\n",
       "  <thead>\n",
       "    <tr style=\"text-align: right;\">\n",
       "      <th></th>\n",
       "      <th>binary_fatals</th>\n",
       "      <th>inj_sev</th>\n",
       "    </tr>\n",
       "  </thead>\n",
       "  <tbody>\n",
       "    <tr>\n",
       "      <th>binary_fatals</th>\n",
       "      <td>1.000000</td>\n",
       "      <td>0.082831</td>\n",
       "    </tr>\n",
       "    <tr>\n",
       "      <th>inj_sev</th>\n",
       "      <td>0.082831</td>\n",
       "      <td>1.000000</td>\n",
       "    </tr>\n",
       "  </tbody>\n",
       "</table>\n",
       "</div>"
      ],
      "text/plain": [
       "               binary_fatals   inj_sev\n",
       "binary_fatals       1.000000  0.082831\n",
       "inj_sev             0.082831  1.000000"
      ]
     },
     "execution_count": 20,
     "metadata": {},
     "output_type": "execute_result"
    }
   ],
   "source": [
    "# The correlation has improved\n",
    "accidents_df[['binary_fatals', 'inj_sev']].corr()"
   ]
  },
  {
   "cell_type": "code",
   "execution_count": 21,
   "id": "ffb0feec-f16e-48ea-be5d-0c49741a48e4",
   "metadata": {},
   "outputs": [],
   "source": [
    "#accidents_df.loc[accidents_df['st_case'] == 80224].duplicated().any()"
   ]
  },
  {
   "cell_type": "code",
   "execution_count": 22,
   "id": "96716896-5026-49cf-b70d-800f3f2529b1",
   "metadata": {},
   "outputs": [],
   "source": [
    "#accidents_df.loc[accidents_df['st_case'] == 80224, ['inj_sev', 'fatals', 'st_case', 'persons', 'peds', 'per_no', 'veh_no', 'per_typ']].duplicated().any()"
   ]
  },
  {
   "cell_type": "code",
   "execution_count": 23,
   "id": "d7bc7433-c43d-44bb-90ad-51b6170e20ba",
   "metadata": {},
   "outputs": [],
   "source": [
    "#Lets take a closer look at the persons column along with a few others\n",
    "accidents_df_persons = accidents_df.loc[accidents_df['persons'] > 5, ['inj_sev', 'fatals', 'st_case', 'persons', 'peds', 'veh_no','inj_sev_binary']]"
   ]
  },
  {
   "cell_type": "code",
   "execution_count": 24,
   "id": "09552ef2-d4bb-4ad1-95d8-da50b6448605",
   "metadata": {},
   "outputs": [
    {
     "data": {
      "text/html": [
       "<div>\n",
       "<style scoped>\n",
       "    .dataframe tbody tr th:only-of-type {\n",
       "        vertical-align: middle;\n",
       "    }\n",
       "\n",
       "    .dataframe tbody tr th {\n",
       "        vertical-align: top;\n",
       "    }\n",
       "\n",
       "    .dataframe thead th {\n",
       "        text-align: right;\n",
       "    }\n",
       "</style>\n",
       "<table border=\"1\" class=\"dataframe\">\n",
       "  <thead>\n",
       "    <tr style=\"text-align: right;\">\n",
       "      <th></th>\n",
       "      <th>inj_sev</th>\n",
       "      <th>fatals</th>\n",
       "      <th>st_case</th>\n",
       "      <th>peds</th>\n",
       "      <th>veh_no</th>\n",
       "      <th>inj_sev_binary</th>\n",
       "    </tr>\n",
       "    <tr>\n",
       "      <th>persons</th>\n",
       "      <th></th>\n",
       "      <th></th>\n",
       "      <th></th>\n",
       "      <th></th>\n",
       "      <th></th>\n",
       "      <th></th>\n",
       "    </tr>\n",
       "  </thead>\n",
       "  <tbody>\n",
       "    <tr>\n",
       "      <th>6</th>\n",
       "      <td>1.998068</td>\n",
       "      <td>1.340397</td>\n",
       "      <td>264587.453601</td>\n",
       "      <td>0.074805</td>\n",
       "      <td>1.963352</td>\n",
       "      <td>0.778482</td>\n",
       "    </tr>\n",
       "    <tr>\n",
       "      <th>7</th>\n",
       "      <td>1.729460</td>\n",
       "      <td>1.338920</td>\n",
       "      <td>257677.038560</td>\n",
       "      <td>0.101183</td>\n",
       "      <td>2.198560</td>\n",
       "      <td>0.811105</td>\n",
       "    </tr>\n",
       "    <tr>\n",
       "      <th>8</th>\n",
       "      <td>1.792552</td>\n",
       "      <td>1.428592</td>\n",
       "      <td>275054.414039</td>\n",
       "      <td>0.096590</td>\n",
       "      <td>2.451134</td>\n",
       "      <td>0.823085</td>\n",
       "    </tr>\n",
       "    <tr>\n",
       "      <th>9</th>\n",
       "      <td>1.770030</td>\n",
       "      <td>1.649713</td>\n",
       "      <td>312112.722177</td>\n",
       "      <td>0.168991</td>\n",
       "      <td>2.654908</td>\n",
       "      <td>0.818430</td>\n",
       "    </tr>\n",
       "    <tr>\n",
       "      <th>10</th>\n",
       "      <td>1.584937</td>\n",
       "      <td>1.552301</td>\n",
       "      <td>322338.958159</td>\n",
       "      <td>0.000000</td>\n",
       "      <td>2.744770</td>\n",
       "      <td>0.844770</td>\n",
       "    </tr>\n",
       "    <tr>\n",
       "      <th>11</th>\n",
       "      <td>1.609426</td>\n",
       "      <td>1.713976</td>\n",
       "      <td>234937.588841</td>\n",
       "      <td>0.058505</td>\n",
       "      <td>2.957746</td>\n",
       "      <td>0.845070</td>\n",
       "    </tr>\n",
       "    <tr>\n",
       "      <th>12</th>\n",
       "      <td>1.459677</td>\n",
       "      <td>1.346774</td>\n",
       "      <td>344525.532258</td>\n",
       "      <td>0.000000</td>\n",
       "      <td>3.906586</td>\n",
       "      <td>0.887769</td>\n",
       "    </tr>\n",
       "    <tr>\n",
       "      <th>13</th>\n",
       "      <td>1.428054</td>\n",
       "      <td>1.341176</td>\n",
       "      <td>118945.976471</td>\n",
       "      <td>0.000000</td>\n",
       "      <td>3.866968</td>\n",
       "      <td>0.896833</td>\n",
       "    </tr>\n",
       "    <tr>\n",
       "      <th>14</th>\n",
       "      <td>1.186023</td>\n",
       "      <td>1.143885</td>\n",
       "      <td>313422.302158</td>\n",
       "      <td>0.000000</td>\n",
       "      <td>4.373073</td>\n",
       "      <td>0.918294</td>\n",
       "    </tr>\n",
       "    <tr>\n",
       "      <th>15</th>\n",
       "      <td>1.863768</td>\n",
       "      <td>1.173913</td>\n",
       "      <td>127950.152174</td>\n",
       "      <td>0.000000</td>\n",
       "      <td>3.272464</td>\n",
       "      <td>0.921739</td>\n",
       "    </tr>\n",
       "    <tr>\n",
       "      <th>16</th>\n",
       "      <td>0.656250</td>\n",
       "      <td>1.000000</td>\n",
       "      <td>239625.062500</td>\n",
       "      <td>0.000000</td>\n",
       "      <td>4.597656</td>\n",
       "      <td>0.937500</td>\n",
       "    </tr>\n",
       "    <tr>\n",
       "      <th>17</th>\n",
       "      <td>0.588235</td>\n",
       "      <td>2.000000</td>\n",
       "      <td>61128.000000</td>\n",
       "      <td>0.000000</td>\n",
       "      <td>4.705882</td>\n",
       "      <td>0.882353</td>\n",
       "    </tr>\n",
       "    <tr>\n",
       "      <th>19</th>\n",
       "      <td>1.319838</td>\n",
       "      <td>1.000000</td>\n",
       "      <td>78156.307692</td>\n",
       "      <td>0.000000</td>\n",
       "      <td>5.587045</td>\n",
       "      <td>0.947368</td>\n",
       "    </tr>\n",
       "    <tr>\n",
       "      <th>20</th>\n",
       "      <td>2.300000</td>\n",
       "      <td>1.636364</td>\n",
       "      <td>475154.000000</td>\n",
       "      <td>0.000000</td>\n",
       "      <td>1.604545</td>\n",
       "      <td>0.918182</td>\n",
       "    </tr>\n",
       "    <tr>\n",
       "      <th>21</th>\n",
       "      <td>2.104762</td>\n",
       "      <td>2.200000</td>\n",
       "      <td>41036.000000</td>\n",
       "      <td>0.000000</td>\n",
       "      <td>1.380952</td>\n",
       "      <td>0.895238</td>\n",
       "    </tr>\n",
       "    <tr>\n",
       "      <th>22</th>\n",
       "      <td>0.181818</td>\n",
       "      <td>1.000000</td>\n",
       "      <td>220483.000000</td>\n",
       "      <td>0.000000</td>\n",
       "      <td>1.500000</td>\n",
       "      <td>0.954545</td>\n",
       "    </tr>\n",
       "    <tr>\n",
       "      <th>24</th>\n",
       "      <td>1.125000</td>\n",
       "      <td>1.000000</td>\n",
       "      <td>80575.000000</td>\n",
       "      <td>0.000000</td>\n",
       "      <td>8.791667</td>\n",
       "      <td>0.958333</td>\n",
       "    </tr>\n",
       "    <tr>\n",
       "      <th>26</th>\n",
       "      <td>2.076923</td>\n",
       "      <td>3.000000</td>\n",
       "      <td>180021.000000</td>\n",
       "      <td>0.000000</td>\n",
       "      <td>5.269231</td>\n",
       "      <td>0.884615</td>\n",
       "    </tr>\n",
       "    <tr>\n",
       "      <th>28</th>\n",
       "      <td>1.071429</td>\n",
       "      <td>1.000000</td>\n",
       "      <td>370149.000000</td>\n",
       "      <td>0.000000</td>\n",
       "      <td>1.035714</td>\n",
       "      <td>0.964286</td>\n",
       "    </tr>\n",
       "    <tr>\n",
       "      <th>31</th>\n",
       "      <td>2.161290</td>\n",
       "      <td>1.000000</td>\n",
       "      <td>482487.000000</td>\n",
       "      <td>0.000000</td>\n",
       "      <td>1.967742</td>\n",
       "      <td>0.967742</td>\n",
       "    </tr>\n",
       "    <tr>\n",
       "      <th>61</th>\n",
       "      <td>4.983607</td>\n",
       "      <td>1.000000</td>\n",
       "      <td>420105.000000</td>\n",
       "      <td>0.000000</td>\n",
       "      <td>1.000000</td>\n",
       "      <td>0.983607</td>\n",
       "    </tr>\n",
       "  </tbody>\n",
       "</table>\n",
       "</div>"
      ],
      "text/plain": [
       "          inj_sev    fatals        st_case      peds    veh_no  inj_sev_binary\n",
       "persons                                                                       \n",
       "6        1.998068  1.340397  264587.453601  0.074805  1.963352        0.778482\n",
       "7        1.729460  1.338920  257677.038560  0.101183  2.198560        0.811105\n",
       "8        1.792552  1.428592  275054.414039  0.096590  2.451134        0.823085\n",
       "9        1.770030  1.649713  312112.722177  0.168991  2.654908        0.818430\n",
       "10       1.584937  1.552301  322338.958159  0.000000  2.744770        0.844770\n",
       "11       1.609426  1.713976  234937.588841  0.058505  2.957746        0.845070\n",
       "12       1.459677  1.346774  344525.532258  0.000000  3.906586        0.887769\n",
       "13       1.428054  1.341176  118945.976471  0.000000  3.866968        0.896833\n",
       "14       1.186023  1.143885  313422.302158  0.000000  4.373073        0.918294\n",
       "15       1.863768  1.173913  127950.152174  0.000000  3.272464        0.921739\n",
       "16       0.656250  1.000000  239625.062500  0.000000  4.597656        0.937500\n",
       "17       0.588235  2.000000   61128.000000  0.000000  4.705882        0.882353\n",
       "19       1.319838  1.000000   78156.307692  0.000000  5.587045        0.947368\n",
       "20       2.300000  1.636364  475154.000000  0.000000  1.604545        0.918182\n",
       "21       2.104762  2.200000   41036.000000  0.000000  1.380952        0.895238\n",
       "22       0.181818  1.000000  220483.000000  0.000000  1.500000        0.954545\n",
       "24       1.125000  1.000000   80575.000000  0.000000  8.791667        0.958333\n",
       "26       2.076923  3.000000  180021.000000  0.000000  5.269231        0.884615\n",
       "28       1.071429  1.000000  370149.000000  0.000000  1.035714        0.964286\n",
       "31       2.161290  1.000000  482487.000000  0.000000  1.967742        0.967742\n",
       "61       4.983607  1.000000  420105.000000  0.000000  1.000000        0.983607"
      ]
     },
     "execution_count": 24,
     "metadata": {},
     "output_type": "execute_result"
    }
   ],
   "source": [
    "# The injury severity binary column is ti;tinh towards one for every row\n",
    "# Most accidents above 5 persons seems to be moderately severe\n",
    "accidents_df_persons.groupby('persons').mean()"
   ]
  },
  {
   "cell_type": "code",
   "execution_count": 25,
   "id": "6fefd65c-6cb5-404e-8e23-a3d7279cdaf4",
   "metadata": {},
   "outputs": [
    {
     "data": {
      "text/plain": [
       "Fatal Injury (K)                117315\n",
       "No Apparent Injury (O)           57797\n",
       "Suspected Serious Injury (A)     33335\n",
       "Suspected Minor Injury (B)       31109\n",
       "Possible Injury (C)              21740\n",
       "Unknown/Not Reported              2743\n",
       "Injured, Severity Unknown         1141\n",
       "Died Prior to Crash*                11\n",
       "Name: inj_sevname, dtype: int64"
      ]
     },
     "execution_count": 25,
     "metadata": {},
     "output_type": "execute_result"
    }
   ],
   "source": [
    "accidents_df['inj_sevname'].value_counts()"
   ]
  },
  {
   "cell_type": "code",
   "execution_count": 26,
   "id": "c8a541b4-8cfa-4708-a438-3220839e29fc",
   "metadata": {},
   "outputs": [
    {
     "data": {
      "text/plain": [
       "array(['Fatal Injury (K)', 'Suspected Serious Injury (A)',\n",
       "       'No Apparent Injury (O)', 'Suspected Minor Injury (B)',\n",
       "       'Possible Injury (C)', 'Unknown/Not Reported',\n",
       "       'Injured, Severity Unknown'], dtype=object)"
      ]
     },
     "execution_count": 26,
     "metadata": {},
     "output_type": "execute_result"
    }
   ],
   "source": [
    "accidents_df = accidents_df[accidents_df[\"inj_sevname\"].str.contains(\"Died Prior to Crash*\") == False]\n",
    "accidents_df['inj_sevname'].unique()"
   ]
  },
  {
   "cell_type": "code",
   "execution_count": 27,
   "id": "b841a49d-cccc-4597-ae01-9b69b891777c",
   "metadata": {},
   "outputs": [],
   "source": [
    "accidents_df = accidents_df[accidents_df[\"inj_sevname\"].str.contains(\"Unknown/Not Reported\") == False]"
   ]
  },
  {
   "cell_type": "code",
   "execution_count": 28,
   "id": "1ea704c7-a827-4c7d-88d9-1248dfaa1ac5",
   "metadata": {},
   "outputs": [
    {
     "data": {
      "text/plain": [
       "array(['Fatal Injury (K)', 'Suspected Serious Injury (A)',\n",
       "       'No Apparent Injury (O)', 'Suspected Minor Injury (B)',\n",
       "       'Possible Injury (C)', 'Injured, Severity Unknown'], dtype=object)"
      ]
     },
     "execution_count": 28,
     "metadata": {},
     "output_type": "execute_result"
    }
   ],
   "source": [
    "accidents_df['inj_sevname'].unique()"
   ]
  },
  {
   "cell_type": "code",
   "execution_count": 29,
   "id": "4c193c9e-5d4f-4cb1-887f-bce13e58a8a7",
   "metadata": {},
   "outputs": [
    {
     "data": {
      "text/plain": [
       "array(['Fatal Injury (K)', 'Suspected Serious Injury (A)',\n",
       "       'No Apparent Injury (O)', 'Suspected Minor Injury (B)',\n",
       "       'Possible Injury (C)'], dtype=object)"
      ]
     },
     "execution_count": 29,
     "metadata": {},
     "output_type": "execute_result"
    }
   ],
   "source": [
    "accidents_df = accidents_df[accidents_df[\"inj_sevname\"].str.contains(\"Injured, Severity Unknown\") == False]\n",
    "accidents_df['inj_sevname'].unique()"
   ]
  },
  {
   "cell_type": "code",
   "execution_count": 30,
   "id": "e8e5ca5f-1ee7-428d-a322-153c4c434e39",
   "metadata": {},
   "outputs": [
    {
     "data": {
      "text/plain": [
       "array([0, 2, 1, 3], dtype=int64)"
      ]
     },
     "execution_count": 30,
     "metadata": {},
     "output_type": "execute_result"
    }
   ],
   "source": [
    "accidents_df = accidents_df[accidents_df['wrk_zone'] != 4]\n",
    "accidents_df['wrk_zone'].unique()"
   ]
  },
  {
   "cell_type": "code",
   "execution_count": 31,
   "id": "735ec071-4b5a-47fd-bee5-4e72ee9a433c",
   "metadata": {},
   "outputs": [],
   "source": [
    "#here I will bin the columns to make them binary- either drunk or not drunk\n",
    "\n",
    "## Make a seasons function that bins months into seasons\n",
    "def work_zone_binary(x):\n",
    "    if x == 0:\n",
    "        return 0\n",
    "    elif x != 0:\n",
    "        return 1"
   ]
  },
  {
   "cell_type": "code",
   "execution_count": 32,
   "id": "5ce81f6c-8a3d-4d00-a796-f2e2ed69a7eb",
   "metadata": {},
   "outputs": [],
   "source": [
    "\n",
    "accidents_df['work_zone_binary'] = accidents_df['wrk_zone'].map(work_zone_binary) "
   ]
  },
  {
   "cell_type": "code",
   "execution_count": 33,
   "id": "e49e4cb0-f355-44f2-a210-fb6e2420bab9",
   "metadata": {},
   "outputs": [
    {
     "data": {
      "text/plain": [
       "array([0, 1], dtype=int64)"
      ]
     },
     "execution_count": 33,
     "metadata": {},
     "output_type": "execute_result"
    }
   ],
   "source": [
    "accidents_df['work_zone_binary'].unique()"
   ]
  },
  {
   "cell_type": "code",
   "execution_count": 34,
   "id": "0ee1a62e-bce1-42aa-a118-fec0ce4004b7",
   "metadata": {},
   "outputs": [
    {
     "data": {
      "text/html": [
       "<div>\n",
       "<style scoped>\n",
       "    .dataframe tbody tr th:only-of-type {\n",
       "        vertical-align: middle;\n",
       "    }\n",
       "\n",
       "    .dataframe tbody tr th {\n",
       "        vertical-align: top;\n",
       "    }\n",
       "\n",
       "    .dataframe thead th {\n",
       "        text-align: right;\n",
       "    }\n",
       "</style>\n",
       "<table border=\"1\" class=\"dataframe\">\n",
       "  <thead>\n",
       "    <tr style=\"text-align: right;\">\n",
       "      <th></th>\n",
       "      <th>binary_fatals</th>\n",
       "      <th>work_zone_binary</th>\n",
       "    </tr>\n",
       "  </thead>\n",
       "  <tbody>\n",
       "    <tr>\n",
       "      <th>binary_fatals</th>\n",
       "      <td>1.000000</td>\n",
       "      <td>0.007718</td>\n",
       "    </tr>\n",
       "    <tr>\n",
       "      <th>work_zone_binary</th>\n",
       "      <td>0.007718</td>\n",
       "      <td>1.000000</td>\n",
       "    </tr>\n",
       "  </tbody>\n",
       "</table>\n",
       "</div>"
      ],
      "text/plain": [
       "                  binary_fatals  work_zone_binary\n",
       "binary_fatals          1.000000          0.007718\n",
       "work_zone_binary       0.007718          1.000000"
      ]
     },
     "execution_count": 34,
     "metadata": {},
     "output_type": "execute_result"
    }
   ],
   "source": [
    "accidents_df[['binary_fatals', 'work_zone_binary']].corr()"
   ]
  },
  {
   "cell_type": "code",
   "execution_count": 35,
   "id": "ca6cc456-b78b-45bd-96f0-76edbb102789",
   "metadata": {},
   "outputs": [
    {
     "data": {
      "text/plain": [
       "array([2, 3, 1, 5, 4, 9, 6, 8, 7], dtype=int64)"
      ]
     },
     "execution_count": 35,
     "metadata": {},
     "output_type": "execute_result"
    }
   ],
   "source": [
    "accidents_df['lgt_cond'].unique()"
   ]
  },
  {
   "cell_type": "code",
   "execution_count": 36,
   "id": "7e533b94-a37c-4fd3-933c-fbea8dd01a77",
   "metadata": {},
   "outputs": [
    {
     "data": {
      "text/plain": [
       "array([2, 3, 1, 5, 4, 6, 8, 7], dtype=int64)"
      ]
     },
     "execution_count": 36,
     "metadata": {},
     "output_type": "execute_result"
    }
   ],
   "source": [
    "accidents_df = accidents_df[accidents_df['lgt_cond'] != 9]\n",
    "accidents_df['lgt_cond'].unique()"
   ]
  },
  {
   "cell_type": "code",
   "execution_count": 37,
   "id": "6fe68b63-1d57-4b3a-b5c6-d257651d4e95",
   "metadata": {},
   "outputs": [
    {
     "data": {
      "text/plain": [
       "array([2, 3, 1, 5, 4, 6, 7], dtype=int64)"
      ]
     },
     "execution_count": 37,
     "metadata": {},
     "output_type": "execute_result"
    }
   ],
   "source": [
    "accidents_df = accidents_df[accidents_df['lgt_cond'] != 8]\n",
    "accidents_df['lgt_cond'].unique()"
   ]
  },
  {
   "cell_type": "code",
   "execution_count": 38,
   "id": "038d30ad-765a-40e1-8aa7-1d5160d141dd",
   "metadata": {},
   "outputs": [
    {
     "data": {
      "text/plain": [
       "array([2, 3, 1, 5, 4, 6], dtype=int64)"
      ]
     },
     "execution_count": 38,
     "metadata": {},
     "output_type": "execute_result"
    }
   ],
   "source": [
    "accidents_df = accidents_df[accidents_df['lgt_cond'] != 7]\n",
    "accidents_df['lgt_cond'].unique()"
   ]
  },
  {
   "cell_type": "code",
   "execution_count": 39,
   "id": "e347d676-d808-4257-9cdf-a4af31cd68a2",
   "metadata": {},
   "outputs": [],
   "source": [
    "#here I will bin the columns to make them binary- either drunk or not drunk\n",
    "\n",
    "## Make a seasons function that bins months into seasons\n",
    "def lgt_cond_binary(x):\n",
    "    if x == 1:\n",
    "        return 0\n",
    "    elif x != 1:\n",
    "        return 1"
   ]
  },
  {
   "cell_type": "code",
   "execution_count": 40,
   "id": "08212b0c-136e-4b32-b0c3-1c3d0a0d2ef4",
   "metadata": {},
   "outputs": [],
   "source": [
    "accidents_df['lgt_cond_binary'] = accidents_df['lgt_cond'].map(lgt_cond_binary) "
   ]
  },
  {
   "cell_type": "code",
   "execution_count": 41,
   "id": "507233a9-a113-4797-8693-0ee2f0bcad62",
   "metadata": {},
   "outputs": [
    {
     "data": {
      "text/plain": [
       "array([0, 1], dtype=int64)"
      ]
     },
     "execution_count": 41,
     "metadata": {},
     "output_type": "execute_result"
    }
   ],
   "source": [
    "accidents_df['work_zone_binary'].unique()"
   ]
  },
  {
   "cell_type": "code",
   "execution_count": 42,
   "id": "8ff808ff-ee69-4f27-887f-c695dfecc129",
   "metadata": {},
   "outputs": [
    {
     "data": {
      "text/html": [
       "<div>\n",
       "<style scoped>\n",
       "    .dataframe tbody tr th:only-of-type {\n",
       "        vertical-align: middle;\n",
       "    }\n",
       "\n",
       "    .dataframe tbody tr th {\n",
       "        vertical-align: top;\n",
       "    }\n",
       "\n",
       "    .dataframe thead th {\n",
       "        text-align: right;\n",
       "    }\n",
       "</style>\n",
       "<table border=\"1\" class=\"dataframe\">\n",
       "  <thead>\n",
       "    <tr style=\"text-align: right;\">\n",
       "      <th></th>\n",
       "      <th>binary_fatals</th>\n",
       "      <th>lgt_cond_binary</th>\n",
       "    </tr>\n",
       "  </thead>\n",
       "  <tbody>\n",
       "    <tr>\n",
       "      <th>binary_fatals</th>\n",
       "      <td>1.000000</td>\n",
       "      <td>0.000918</td>\n",
       "    </tr>\n",
       "    <tr>\n",
       "      <th>lgt_cond_binary</th>\n",
       "      <td>0.000918</td>\n",
       "      <td>1.000000</td>\n",
       "    </tr>\n",
       "  </tbody>\n",
       "</table>\n",
       "</div>"
      ],
      "text/plain": [
       "                 binary_fatals  lgt_cond_binary\n",
       "binary_fatals         1.000000         0.000918\n",
       "lgt_cond_binary       0.000918         1.000000"
      ]
     },
     "execution_count": 42,
     "metadata": {},
     "output_type": "execute_result"
    }
   ],
   "source": [
    "accidents_df[['binary_fatals', 'lgt_cond_binary']].corr()"
   ]
  },
  {
   "cell_type": "code",
   "execution_count": 43,
   "id": "82ca9c9b-b447-4aad-94cd-26a7de4ca304",
   "metadata": {},
   "outputs": [
    {
     "data": {
      "text/html": [
       "<div>\n",
       "<style scoped>\n",
       "    .dataframe tbody tr th:only-of-type {\n",
       "        vertical-align: middle;\n",
       "    }\n",
       "\n",
       "    .dataframe tbody tr th {\n",
       "        vertical-align: top;\n",
       "    }\n",
       "\n",
       "    .dataframe thead th {\n",
       "        text-align: right;\n",
       "    }\n",
       "</style>\n",
       "<table border=\"1\" class=\"dataframe\">\n",
       "  <thead>\n",
       "    <tr style=\"text-align: right;\">\n",
       "      <th></th>\n",
       "      <th>binary_fatals</th>\n",
       "      <th>hour</th>\n",
       "    </tr>\n",
       "  </thead>\n",
       "  <tbody>\n",
       "    <tr>\n",
       "      <th>binary_fatals</th>\n",
       "      <td>1.000000</td>\n",
       "      <td>-0.000175</td>\n",
       "    </tr>\n",
       "    <tr>\n",
       "      <th>hour</th>\n",
       "      <td>-0.000175</td>\n",
       "      <td>1.000000</td>\n",
       "    </tr>\n",
       "  </tbody>\n",
       "</table>\n",
       "</div>"
      ],
      "text/plain": [
       "               binary_fatals      hour\n",
       "binary_fatals       1.000000 -0.000175\n",
       "hour               -0.000175  1.000000"
      ]
     },
     "execution_count": 43,
     "metadata": {},
     "output_type": "execute_result"
    }
   ],
   "source": [
    "accidents_df[['binary_fatals', 'hour']].corr()"
   ]
  },
  {
   "cell_type": "code",
   "execution_count": 44,
   "id": "2143b257-e0ea-4f97-a3eb-68ab73cd3f59",
   "metadata": {},
   "outputs": [
    {
     "data": {
      "text/plain": [
       "inj_sevname\n",
       "Fatal Injury (K)                1.248047\n",
       "No Apparent Injury (O)          1.109554\n",
       "Possible Injury (C)             1.147678\n",
       "Suspected Minor Injury (B)      1.157776\n",
       "Suspected Serious Injury (A)    1.237976\n",
       "Name: fatals, dtype: float64"
      ]
     },
     "execution_count": 44,
     "metadata": {},
     "output_type": "execute_result"
    }
   ],
   "source": [
    "accidents_df.groupby('inj_sevname')['fatals'].mean()"
   ]
  },
  {
   "cell_type": "code",
   "execution_count": 45,
   "id": "d8a154ee-43b0-4f0e-8ecd-694913621dfd",
   "metadata": {},
   "outputs": [
    {
     "data": {
      "text/plain": [
       "fatals\n",
       "1    2.428551\n",
       "2    2.828426\n",
       "3    3.066913\n",
       "4    3.370392\n",
       "5    3.233397\n",
       "6    3.840000\n",
       "7    3.400000\n",
       "8    4.000000\n",
       "Name: inj_sev, dtype: float64"
      ]
     },
     "execution_count": 45,
     "metadata": {},
     "output_type": "execute_result"
    }
   ],
   "source": [
    "accidents_df.groupby('fatals')['inj_sev'].mean()"
   ]
  },
  {
   "cell_type": "code",
   "execution_count": 46,
   "id": "43fca73b-734b-45f2-8363-2209a5cc66bf",
   "metadata": {},
   "outputs": [
    {
     "data": {
      "text/plain": [
       "array([3, 1, 2, 4, 8, 6, 5, 7], dtype=int64)"
      ]
     },
     "execution_count": 46,
     "metadata": {},
     "output_type": "execute_result"
    }
   ],
   "source": [
    "accidents_df['fatals'].unique()"
   ]
  },
  {
   "cell_type": "code",
   "execution_count": 47,
   "id": "4506251f-929c-47c3-bbf7-6204fd9b3d0d",
   "metadata": {},
   "outputs": [
    {
     "data": {
      "text/html": [
       "<div>\n",
       "<style scoped>\n",
       "    .dataframe tbody tr th:only-of-type {\n",
       "        vertical-align: middle;\n",
       "    }\n",
       "\n",
       "    .dataframe tbody tr th {\n",
       "        vertical-align: top;\n",
       "    }\n",
       "\n",
       "    .dataframe thead th {\n",
       "        text-align: right;\n",
       "    }\n",
       "</style>\n",
       "<table border=\"1\" class=\"dataframe\">\n",
       "  <thead>\n",
       "    <tr style=\"text-align: right;\">\n",
       "      <th></th>\n",
       "      <th>drunk_dr</th>\n",
       "    </tr>\n",
       "  </thead>\n",
       "  <tbody>\n",
       "    <tr>\n",
       "      <th>0</th>\n",
       "      <td>1</td>\n",
       "    </tr>\n",
       "    <tr>\n",
       "      <th>1</th>\n",
       "      <td>1</td>\n",
       "    </tr>\n",
       "    <tr>\n",
       "      <th>2</th>\n",
       "      <td>1</td>\n",
       "    </tr>\n",
       "    <tr>\n",
       "      <th>3</th>\n",
       "      <td>1</td>\n",
       "    </tr>\n",
       "    <tr>\n",
       "      <th>4</th>\n",
       "      <td>1</td>\n",
       "    </tr>\n",
       "    <tr>\n",
       "      <th>...</th>\n",
       "      <td>...</td>\n",
       "    </tr>\n",
       "    <tr>\n",
       "      <th>265186</th>\n",
       "      <td>0</td>\n",
       "    </tr>\n",
       "    <tr>\n",
       "      <th>265187</th>\n",
       "      <td>0</td>\n",
       "    </tr>\n",
       "    <tr>\n",
       "      <th>265188</th>\n",
       "      <td>0</td>\n",
       "    </tr>\n",
       "    <tr>\n",
       "      <th>265189</th>\n",
       "      <td>0</td>\n",
       "    </tr>\n",
       "    <tr>\n",
       "      <th>265190</th>\n",
       "      <td>0</td>\n",
       "    </tr>\n",
       "  </tbody>\n",
       "</table>\n",
       "<p>257072 rows × 1 columns</p>\n",
       "</div>"
      ],
      "text/plain": [
       "        drunk_dr\n",
       "0              1\n",
       "1              1\n",
       "2              1\n",
       "3              1\n",
       "4              1\n",
       "...          ...\n",
       "265186         0\n",
       "265187         0\n",
       "265188         0\n",
       "265189         0\n",
       "265190         0\n",
       "\n",
       "[257072 rows x 1 columns]"
      ]
     },
     "execution_count": 47,
     "metadata": {},
     "output_type": "execute_result"
    }
   ],
   "source": [
    "accidents_df[['drunk_dr']]"
   ]
  },
  {
   "cell_type": "code",
   "execution_count": null,
   "id": "4664b256-6982-4ca3-8007-684a5362216a",
   "metadata": {},
   "outputs": [],
   "source": [
    "\n",
    "    "
   ]
  },
  {
   "cell_type": "code",
   "execution_count": 48,
   "id": "0e4d7ef9-22ec-4b6c-a622-5e5461d974f7",
   "metadata": {},
   "outputs": [
    {
     "data": {
      "text/plain": [
       "array([1, 0, 2, 3, 4], dtype=int64)"
      ]
     },
     "execution_count": 48,
     "metadata": {},
     "output_type": "execute_result"
    }
   ],
   "source": [
    "accidents_df['drunk_dr'].unique()"
   ]
  },
  {
   "cell_type": "code",
   "execution_count": 49,
   "id": "7121efb8-ae8a-48d3-b501-bcd87a61a566",
   "metadata": {},
   "outputs": [],
   "source": [
    "#here I will bin the columns to make them binary- either drunk or not drunk\n",
    "\n",
    "## Make a seasons function that bins months into seasons\n",
    "def drunk(x):\n",
    "    if x == 0:\n",
    "        return 0\n",
    "    elif x != 0:\n",
    "        return 1\n",
    "    "
   ]
  },
  {
   "cell_type": "code",
   "execution_count": 50,
   "id": "029d9bec-aee8-47b2-b3be-3bfc8d9ffead",
   "metadata": {},
   "outputs": [],
   "source": [
    "accidents_df['drunk'] = accidents_df['drunk_dr'].map(drunk)"
   ]
  },
  {
   "cell_type": "code",
   "execution_count": 51,
   "id": "8aa1e76b-a34e-41ee-a8fc-19108c005b71",
   "metadata": {},
   "outputs": [
    {
     "data": {
      "text/plain": [
       "array([1, 0], dtype=int64)"
      ]
     },
     "execution_count": 51,
     "metadata": {},
     "output_type": "execute_result"
    }
   ],
   "source": [
    "accidents_df['drunk'].unique()"
   ]
  },
  {
   "cell_type": "code",
   "execution_count": 52,
   "id": "7a3d1166-7c8c-41b3-a733-b0ab90c2f571",
   "metadata": {},
   "outputs": [
    {
     "data": {
      "text/plain": [
       "0    186553\n",
       "1     70519\n",
       "Name: drunk, dtype: int64"
      ]
     },
     "execution_count": 52,
     "metadata": {},
     "output_type": "execute_result"
    }
   ],
   "source": [
    "accidents_df['drunk'].value_counts()"
   ]
  },
  {
   "cell_type": "code",
   "execution_count": 53,
   "id": "e6c38d42-9866-4ce3-9acf-b9cbaadcfd4b",
   "metadata": {},
   "outputs": [
    {
     "data": {
      "text/html": [
       "<div>\n",
       "<style scoped>\n",
       "    .dataframe tbody tr th:only-of-type {\n",
       "        vertical-align: middle;\n",
       "    }\n",
       "\n",
       "    .dataframe tbody tr th {\n",
       "        vertical-align: top;\n",
       "    }\n",
       "\n",
       "    .dataframe thead th {\n",
       "        text-align: right;\n",
       "    }\n",
       "</style>\n",
       "<table border=\"1\" class=\"dataframe\">\n",
       "  <thead>\n",
       "    <tr style=\"text-align: right;\">\n",
       "      <th></th>\n",
       "      <th>drunk</th>\n",
       "      <th>inj_sev</th>\n",
       "    </tr>\n",
       "  </thead>\n",
       "  <tbody>\n",
       "    <tr>\n",
       "      <th>drunk</th>\n",
       "      <td>1.000000</td>\n",
       "      <td>0.101006</td>\n",
       "    </tr>\n",
       "    <tr>\n",
       "      <th>inj_sev</th>\n",
       "      <td>0.101006</td>\n",
       "      <td>1.000000</td>\n",
       "    </tr>\n",
       "  </tbody>\n",
       "</table>\n",
       "</div>"
      ],
      "text/plain": [
       "            drunk   inj_sev\n",
       "drunk    1.000000  0.101006\n",
       "inj_sev  0.101006  1.000000"
      ]
     },
     "execution_count": 53,
     "metadata": {},
     "output_type": "execute_result"
    }
   ],
   "source": [
    "accidents_df[['drunk', 'inj_sev']].corr()"
   ]
  },
  {
   "cell_type": "code",
   "execution_count": 54,
   "id": "2c563da3-ced1-404a-9c79-8a110ac6a190",
   "metadata": {},
   "outputs": [
    {
     "data": {
      "text/plain": [
       "array(['Fatal Injury (K)', 'Suspected Serious Injury (A)',\n",
       "       'No Apparent Injury (O)', 'Suspected Minor Injury (B)',\n",
       "       'Possible Injury (C)'], dtype=object)"
      ]
     },
     "execution_count": 54,
     "metadata": {},
     "output_type": "execute_result"
    }
   ],
   "source": [
    "accidents_df['inj_sevname'].unique()"
   ]
  },
  {
   "cell_type": "code",
   "execution_count": 55,
   "id": "c282e925-cc21-46f6-b58d-41649b48afa6",
   "metadata": {},
   "outputs": [
    {
     "data": {
      "text/html": [
       "<div>\n",
       "<style scoped>\n",
       "    .dataframe tbody tr th:only-of-type {\n",
       "        vertical-align: middle;\n",
       "    }\n",
       "\n",
       "    .dataframe tbody tr th {\n",
       "        vertical-align: top;\n",
       "    }\n",
       "\n",
       "    .dataframe thead th {\n",
       "        text-align: right;\n",
       "    }\n",
       "</style>\n",
       "<table border=\"1\" class=\"dataframe\">\n",
       "  <thead>\n",
       "    <tr style=\"text-align: right;\">\n",
       "      <th></th>\n",
       "      <th>Null</th>\n",
       "    </tr>\n",
       "  </thead>\n",
       "  <tbody>\n",
       "    <tr>\n",
       "      <th>make</th>\n",
       "      <td>16113</td>\n",
       "    </tr>\n",
       "    <tr>\n",
       "      <th>fire_expname</th>\n",
       "      <td>16113</td>\n",
       "    </tr>\n",
       "    <tr>\n",
       "      <th>impact1name</th>\n",
       "      <td>16113</td>\n",
       "    </tr>\n",
       "    <tr>\n",
       "      <th>impact1</th>\n",
       "      <td>16113</td>\n",
       "    </tr>\n",
       "    <tr>\n",
       "      <th>rollovername</th>\n",
       "      <td>16113</td>\n",
       "    </tr>\n",
       "    <tr>\n",
       "      <th>...</th>\n",
       "      <td>...</td>\n",
       "    </tr>\n",
       "    <tr>\n",
       "      <th>spj_indian</th>\n",
       "      <td>0</td>\n",
       "    </tr>\n",
       "    <tr>\n",
       "      <th>indian_res</th>\n",
       "      <td>0</td>\n",
       "    </tr>\n",
       "    <tr>\n",
       "      <th>statename</th>\n",
       "      <td>0</td>\n",
       "    </tr>\n",
       "    <tr>\n",
       "      <th>weathername</th>\n",
       "      <td>0</td>\n",
       "    </tr>\n",
       "    <tr>\n",
       "      <th>drunk</th>\n",
       "      <td>0</td>\n",
       "    </tr>\n",
       "  </tbody>\n",
       "</table>\n",
       "<p>200 rows × 1 columns</p>\n",
       "</div>"
      ],
      "text/plain": [
       "               Null\n",
       "make          16113\n",
       "fire_expname  16113\n",
       "impact1name   16113\n",
       "impact1       16113\n",
       "rollovername  16113\n",
       "...             ...\n",
       "spj_indian        0\n",
       "indian_res        0\n",
       "statename         0\n",
       "weathername       0\n",
       "drunk             0\n",
       "\n",
       "[200 rows x 1 columns]"
      ]
     },
     "execution_count": 55,
     "metadata": {},
     "output_type": "execute_result"
    }
   ],
   "source": [
    "#lets take a look at the missing values\n",
    "missin_values_count = pd.DataFrame({'Null': accidents_df.isnull().sum()})\n",
    "missin_values_count.sort_values(by= 'Null', ascending = False)"
   ]
  },
  {
   "cell_type": "code",
   "execution_count": 56,
   "id": "d64110ac-e3c0-44e1-864c-f3525b17bdc3",
   "metadata": {},
   "outputs": [
    {
     "data": {
      "text/plain": [
       "array([2, 3, 1, 5, 4, 6], dtype=int64)"
      ]
     },
     "execution_count": 56,
     "metadata": {},
     "output_type": "execute_result"
    }
   ],
   "source": [
    "accidents_df['lgt_cond'].unique()"
   ]
  },
  {
   "cell_type": "markdown",
   "id": "7f92a492-08cd-4db6-9c9b-16b4ef629a34",
   "metadata": {},
   "source": [
    "# Great! There are no null values! "
   ]
  },
  {
   "cell_type": "code",
   "execution_count": 57,
   "id": "8f46a7a5-27cb-42c0-a223-0a84d3a0bb22",
   "metadata": {},
   "outputs": [],
   "source": [
    "# sns.set(font_scale=.4, style='white')\n",
    "# corr = accidents_df.drop(columns = ['fatals']).corr()\n",
    "# mask = np.zeros_like(corr, dtype= bool)\n",
    "# mask[np.triu_indices_from(mask)] = True\n",
    "# f, ax = plt.subplots(figsize=(25,25))\n",
    "# cmap = sns.diverging_palette(220, 10, as_cmap=True)\n",
    "# sns.heatmap(corr, mask=mask, cmap=cmap, vmax=.3, center=0, square=True, linewidth=.5,\n",
    "#            cbar_kws={'shrink': .5}, annot = True);"
   ]
  },
  {
   "cell_type": "code",
   "execution_count": null,
   "id": "0c763a3f-fcc3-4809-b556-ddc960b2f6e1",
   "metadata": {},
   "outputs": [],
   "source": []
  },
  {
   "cell_type": "code",
   "execution_count": 58,
   "id": "b2cbcbfc-0ac6-462e-a565-553b1e38dd62",
   "metadata": {},
   "outputs": [],
   "source": [
    "#accidents_df.info()"
   ]
  },
  {
   "cell_type": "code",
   "execution_count": 59,
   "id": "79119246-df9b-41a1-93f2-dc63c211bf98",
   "metadata": {},
   "outputs": [],
   "source": [
    "#accidents_df.isnull().sum()"
   ]
  },
  {
   "cell_type": "code",
   "execution_count": 60,
   "id": "28813226-e0cd-40de-bb99-e6423ce178e0",
   "metadata": {},
   "outputs": [],
   "source": [
    "#accidents_df['crashrf'].isnull().sum()"
   ]
  },
  {
   "cell_type": "code",
   "execution_count": 61,
   "id": "c04dddf8-0d50-44ef-8bcf-d0952517bcbd",
   "metadata": {},
   "outputs": [],
   "source": [
    "#accidents_df.drop(columns='crashrfname', inplace=True)"
   ]
  },
  {
   "cell_type": "code",
   "execution_count": 62,
   "id": "3f6a5642-1659-412d-a753-a7587752a3ef",
   "metadata": {},
   "outputs": [],
   "source": [
    "#accidents_df.head()"
   ]
  },
  {
   "cell_type": "code",
   "execution_count": 63,
   "id": "f87dba96-b5a4-486e-8b7b-c676caf6387d",
   "metadata": {},
   "outputs": [],
   "source": [
    "#accidents_df['county'].unique()"
   ]
  },
  {
   "cell_type": "code",
   "execution_count": null,
   "id": "75551210-e16e-48f6-9066-877b4fba13a5",
   "metadata": {},
   "outputs": [],
   "source": []
  },
  {
   "cell_type": "code",
   "execution_count": 64,
   "id": "023b0674-9a2c-46f5-9af5-f312ac3ac84b",
   "metadata": {},
   "outputs": [
    {
     "data": {
      "text/html": [
       "<div>\n",
       "<style scoped>\n",
       "    .dataframe tbody tr th:only-of-type {\n",
       "        vertical-align: middle;\n",
       "    }\n",
       "\n",
       "    .dataframe tbody tr th {\n",
       "        vertical-align: top;\n",
       "    }\n",
       "\n",
       "    .dataframe thead th {\n",
       "        text-align: right;\n",
       "    }\n",
       "</style>\n",
       "<table border=\"1\" class=\"dataframe\">\n",
       "  <thead>\n",
       "    <tr style=\"text-align: right;\">\n",
       "      <th></th>\n",
       "      <th>fatals</th>\n",
       "      <th>weather</th>\n",
       "    </tr>\n",
       "  </thead>\n",
       "  <tbody>\n",
       "    <tr>\n",
       "      <th>fatals</th>\n",
       "      <td>1.000000</td>\n",
       "      <td>-0.007273</td>\n",
       "    </tr>\n",
       "    <tr>\n",
       "      <th>weather</th>\n",
       "      <td>-0.007273</td>\n",
       "      <td>1.000000</td>\n",
       "    </tr>\n",
       "  </tbody>\n",
       "</table>\n",
       "</div>"
      ],
      "text/plain": [
       "           fatals   weather\n",
       "fatals   1.000000 -0.007273\n",
       "weather -0.007273  1.000000"
      ]
     },
     "execution_count": 64,
     "metadata": {},
     "output_type": "execute_result"
    }
   ],
   "source": [
    "accidents_df[['fatals', 'weather']].corr()"
   ]
  },
  {
   "cell_type": "code",
   "execution_count": 65,
   "id": "90a13e7e-f01d-4a20-a7da-dc81d3532d9a",
   "metadata": {},
   "outputs": [
    {
     "data": {
      "text/html": [
       "<div>\n",
       "<style scoped>\n",
       "    .dataframe tbody tr th:only-of-type {\n",
       "        vertical-align: middle;\n",
       "    }\n",
       "\n",
       "    .dataframe tbody tr th {\n",
       "        vertical-align: top;\n",
       "    }\n",
       "\n",
       "    .dataframe thead th {\n",
       "        text-align: right;\n",
       "    }\n",
       "</style>\n",
       "<table border=\"1\" class=\"dataframe\">\n",
       "  <thead>\n",
       "    <tr style=\"text-align: right;\">\n",
       "      <th></th>\n",
       "      <th>weather</th>\n",
       "    </tr>\n",
       "  </thead>\n",
       "  <tbody>\n",
       "    <tr>\n",
       "      <th>0</th>\n",
       "      <td>1</td>\n",
       "    </tr>\n",
       "    <tr>\n",
       "      <th>1</th>\n",
       "      <td>1</td>\n",
       "    </tr>\n",
       "    <tr>\n",
       "      <th>2</th>\n",
       "      <td>1</td>\n",
       "    </tr>\n",
       "    <tr>\n",
       "      <th>3</th>\n",
       "      <td>1</td>\n",
       "    </tr>\n",
       "    <tr>\n",
       "      <th>4</th>\n",
       "      <td>1</td>\n",
       "    </tr>\n",
       "    <tr>\n",
       "      <th>...</th>\n",
       "      <td>...</td>\n",
       "    </tr>\n",
       "    <tr>\n",
       "      <th>265186</th>\n",
       "      <td>6</td>\n",
       "    </tr>\n",
       "    <tr>\n",
       "      <th>265187</th>\n",
       "      <td>6</td>\n",
       "    </tr>\n",
       "    <tr>\n",
       "      <th>265188</th>\n",
       "      <td>6</td>\n",
       "    </tr>\n",
       "    <tr>\n",
       "      <th>265189</th>\n",
       "      <td>6</td>\n",
       "    </tr>\n",
       "    <tr>\n",
       "      <th>265190</th>\n",
       "      <td>6</td>\n",
       "    </tr>\n",
       "  </tbody>\n",
       "</table>\n",
       "<p>257072 rows × 1 columns</p>\n",
       "</div>"
      ],
      "text/plain": [
       "        weather\n",
       "0             1\n",
       "1             1\n",
       "2             1\n",
       "3             1\n",
       "4             1\n",
       "...         ...\n",
       "265186        6\n",
       "265187        6\n",
       "265188        6\n",
       "265189        6\n",
       "265190        6\n",
       "\n",
       "[257072 rows x 1 columns]"
      ]
     },
     "execution_count": 65,
     "metadata": {},
     "output_type": "execute_result"
    }
   ],
   "source": [
    "accidents_df[['weather']]"
   ]
  },
  {
   "cell_type": "code",
   "execution_count": 66,
   "id": "6f6354d7-7dec-49df-9742-dd673eb7fd15",
   "metadata": {},
   "outputs": [],
   "source": [
    "#accidents_df[['vnumber2', 'fatals', 'aoi2']].corr()"
   ]
  },
  {
   "cell_type": "code",
   "execution_count": 67,
   "id": "2abc6474-ec9d-4bf5-a940-29d3ebba2753",
   "metadata": {},
   "outputs": [],
   "source": [
    "#accidents_df.groupby('state')['fatals'].agg(['count', 'mean'])"
   ]
  },
  {
   "cell_type": "code",
   "execution_count": 68,
   "id": "59c199e7-3bd1-4802-aaf1-2af351ddfa07",
   "metadata": {},
   "outputs": [
    {
     "data": {
      "text/plain": [
       "array([0, 2, 1, 3], dtype=int64)"
      ]
     },
     "execution_count": 68,
     "metadata": {},
     "output_type": "execute_result"
    }
   ],
   "source": [
    "# Here I want to clean the work zone column and see if there is a corr between that and fatals\n",
    "accidents_df['wrk_zone'].unique()"
   ]
  },
  {
   "cell_type": "code",
   "execution_count": null,
   "id": "8b701917-0a7b-4cf3-b1a9-e3e2a0803127",
   "metadata": {},
   "outputs": [],
   "source": []
  },
  {
   "cell_type": "code",
   "execution_count": null,
   "id": "6eec8323-c7fa-430f-aff1-4bbfe45cbada",
   "metadata": {},
   "outputs": [],
   "source": []
  },
  {
   "cell_type": "markdown",
   "id": "cabae443-3ef5-4d49-adbb-a089e2606c72",
   "metadata": {},
   "source": [
    "#### Let's take a look at the correlations between X features and Y(fatals)"
   ]
  },
  {
   "cell_type": "code",
   "execution_count": 69,
   "id": "38fb70e2-77ab-43b5-82cc-feaf75042844",
   "metadata": {},
   "outputs": [
    {
     "data": {
      "text/plain": [
       "binary_fatals    1.000000\n",
       "fatals           0.872888\n",
       "persons          0.201581\n",
       "per_no           0.146894\n",
       "doa              0.117993\n",
       "                   ...   \n",
       "lag_hrs         -0.080950\n",
       "lag_mins        -0.091552\n",
       "year                  NaN\n",
       "a_crainj              NaN\n",
       "data_year             NaN\n",
       "Name: binary_fatals, Length: 136, dtype: float64"
      ]
     },
     "execution_count": 69,
     "metadata": {},
     "output_type": "execute_result"
    }
   ],
   "source": [
    "correlations = accidents_df.corr()['binary_fatals'].sort_values(ascending = False)\n",
    "correlations"
   ]
  },
  {
   "cell_type": "code",
   "execution_count": 70,
   "id": "7a69fd41-a7e8-43e0-a991-2e3a7139d805",
   "metadata": {},
   "outputs": [
    {
     "data": {
      "text/plain": [
       "binary_fatals    1.000000\n",
       "fatals           0.872888\n",
       "persons          0.201581\n",
       "per_no           0.146894\n",
       "doa              0.117993\n",
       "fire_exp         0.108002\n",
       "seat_pos         0.106745\n",
       "a_ct             0.105935\n",
       "inj_sev          0.103747\n",
       "ve_total         0.100664\n",
       "ve_forms         0.092218\n",
       "eventnum         0.091395\n",
       "a_mancol         0.082711\n",
       "a_mc             0.079400\n",
       "peds             0.059763\n",
       "drinking         0.058062\n",
       "veh_no           0.057839\n",
       "a_hr             0.049823\n",
       "man_coll         0.047103\n",
       "per_typ          0.044444\n",
       "a_ped            0.044441\n",
       "vnumber1         0.043959\n",
       "drugs            0.042447\n",
       "helm_mis         0.042149\n",
       "a_ped_f          0.040071\n",
       "extricat         0.039228\n",
       "bia              0.032168\n",
       "hispanic         0.030579\n",
       "a_pedal          0.030061\n",
       "Name: binary_fatals, dtype: float64"
      ]
     },
     "execution_count": 70,
     "metadata": {},
     "output_type": "execute_result"
    }
   ],
   "source": [
    "pd.set_option('display.max.columns', None)\n",
    "correlations.head(29)"
   ]
  },
  {
   "cell_type": "code",
   "execution_count": 71,
   "id": "972940c5-0c3a-4bc2-a875-5ebc605bfc6f",
   "metadata": {},
   "outputs": [
    {
     "data": {
      "text/plain": [
       "inj_sev_binary    1.000000\n",
       "death_mo          0.956085\n",
       "death_yr          0.955728\n",
       "death_da          0.943833\n",
       "lag_hrs           0.920259\n",
       "                    ...   \n",
       "doa              -0.699278\n",
       "inj_sev          -0.833264\n",
       "year                   NaN\n",
       "a_crainj               NaN\n",
       "data_year              NaN\n",
       "Name: inj_sev_binary, Length: 136, dtype: float64"
      ]
     },
     "execution_count": 71,
     "metadata": {},
     "output_type": "execute_result"
    }
   ],
   "source": [
    "correlations2 = accidents_df.corr()['inj_sev_binary'].sort_values(ascending = False)\n",
    "correlations2"
   ]
  },
  {
   "cell_type": "code",
   "execution_count": 72,
   "id": "d6285fdc-68d7-427d-b4e1-11229973a981",
   "metadata": {},
   "outputs": [
    {
     "data": {
      "text/plain": [
       "inj_sev_binary      1.000000\n",
       "death_mo            0.956085\n",
       "death_yr            0.955728\n",
       "death_da            0.943833\n",
       "lag_hrs             0.920259\n",
       "death_tm            0.901124\n",
       "death_hr            0.901080\n",
       "lag_mins            0.891601\n",
       "death_mn            0.838143\n",
       "work_inj            0.828424\n",
       "alc_res             0.424592\n",
       "persons             0.345023\n",
       "a_ct                0.337104\n",
       "veh_no              0.334827\n",
       "ve_forms            0.283374\n",
       "ve_total            0.282724\n",
       "a_mancol            0.212092\n",
       "a_rd                0.206076\n",
       "per_no              0.197930\n",
       "vnumber1            0.156433\n",
       "seat_pos            0.145476\n",
       "hospital            0.138576\n",
       "helm_mis            0.125556\n",
       "drug_det            0.123566\n",
       "a_posbac            0.121060\n",
       "alc_det             0.114681\n",
       "sex                 0.103914\n",
       "man_coll            0.097483\n",
       "tow_veh             0.093987\n",
       "peds                0.072816\n",
       "eventnum            0.068544\n",
       "a_ru                0.068477\n",
       "a_roll              0.058994\n",
       "age                 0.047806\n",
       "rur_urb             0.041842\n",
       "work_zone_binary    0.039742\n",
       "nhs                 0.037889\n",
       "wrk_zone            0.035363\n",
       "emer_use            0.034716\n",
       "a_mc                0.033027\n",
       "Name: inj_sev_binary, dtype: float64"
      ]
     },
     "execution_count": 72,
     "metadata": {},
     "output_type": "execute_result"
    }
   ],
   "source": [
    "pd.set_option('display.max.columns', None)\n",
    "correlations2.head(40)"
   ]
  },
  {
   "cell_type": "code",
   "execution_count": 73,
   "id": "84866c47-5a32-4070-82be-d3d410f89c18",
   "metadata": {},
   "outputs": [],
   "source": [
    "accidents_df = accidents_df.drop(columns=['tway_id', 'statename', 'weathername', 'year', 'aoi1name', 'soename', 'vnumber2name', 'aoi2name', 'rail', 'crashrfname'])"
   ]
  },
  {
   "cell_type": "markdown",
   "id": "6005e8d3-9dce-48ba-abde-0af2f060ffe2",
   "metadata": {},
   "source": [
    "# Let's check to see which features would be the best to use to predict fatality "
   ]
  },
  {
   "cell_type": "code",
   "execution_count": 131,
   "id": "789aaac9-8e81-4bc0-89e2-bd5f16bf6aa6",
   "metadata": {},
   "outputs": [],
   "source": [
    "from sklearn.feature_selection import SelectKBest\n",
    "from sklearn.feature_selection import chi2"
   ]
  },
  {
   "cell_type": "code",
   "execution_count": 135,
   "id": "4b3dbfb0-79e2-417d-a6fd-f7fe681c2793",
   "metadata": {},
   "outputs": [],
   "source": [
    "features = ['inj_sev', 'persons', 'peds', 've_total', 'drunk_dr', 'inj_sev_binary', 'lgt_cond_binary', 'work_zone_binary' ]"
   ]
  },
  {
   "cell_type": "code",
   "execution_count": 136,
   "id": "383a52c5-6e0d-4f5a-81a5-e8060e113b7a",
   "metadata": {},
   "outputs": [
    {
     "name": "stdout",
     "output_type": "stream",
     "text": [
      "              Specs         Score\n",
      "1           persons  26074.760656\n",
      "0           inj_sev   2927.346604\n",
      "3          ve_total   2886.277084\n",
      "2              peds   2084.111283\n",
      "5    inj_sev_binary    741.583297\n",
      "4          drunk_dr    157.526996\n",
      "7  work_zone_binary     14.987448\n",
      "6   lgt_cond_binary      0.110774\n"
     ]
    }
   ],
   "source": [
    "X = accidents_df[features]\n",
    "y = accidents_df['binary_fatals']\n",
    "\n",
    "bestfeatures = SelectKBest(score_func=chi2, k=2)\n",
    "fit = bestfeatures.fit(X,y)\n",
    "dfscores = pd.DataFrame(fit.scores_)\n",
    "dfcolumns = pd.DataFrame(X.columns)\n",
    "\n",
    "featureScores = pd.concat([dfcolumns, dfscores], axis=1)\n",
    "featureScores.columns = ['Specs', 'Score']\n",
    "print(featureScores.nlargest(10, 'Score'))\n"
   ]
  },
  {
   "cell_type": "markdown",
   "id": "a7300b13-e5f4-4ba4-81e1-cadb33656a5f",
   "metadata": {},
   "source": [
    "### Now we will try a Feature Importance Method"
   ]
  },
  {
   "cell_type": "code",
   "execution_count": 138,
   "id": "43783716-4f92-475f-9f7e-07819f7d457e",
   "metadata": {},
   "outputs": [
    {
     "name": "stdout",
     "output_type": "stream",
     "text": [
      "[0.06360422 0.4350662  0.11512054 0.19147199 0.06976901 0.04817425\n",
      " 0.04929495 0.02749885]\n"
     ]
    },
    {
     "data": {
      "image/png": "[encoded data removed]",
      "text/plain": [
       "<Figure size 1080x504 with 1 Axes>"
      ]
     },
     "metadata": {
      "needs_background": "light"
     },
     "output_type": "display_data"
    }
   ],
   "source": [
    "from sklearn.ensemble import ExtraTreesRegressor\n",
    "\n",
    "plt.figure(figsize=(15,7))\n",
    "\n",
    "plt.xlabel('Totals', size = 20)\n",
    "plt.ylabel('Inputs', size = 30)\n",
    "plt.title('Graph of  Best Coefficients', size = 40)\n",
    "plt.xticks(size = 10)\n",
    "plt.yticks(size = 10)\n",
    "\n",
    "model = ExtraTreesRegressor()\n",
    "model.fit(X,y)\n",
    "print(model.feature_importances_)\n",
    "feat_importances = pd.Series(model.feature_importances_, index=X.columns)\n",
    "feat_importances.nlargest(10).plot(kind='barh')\n",
    "plt.show()"
   ]
  },
  {
   "cell_type": "code",
   "execution_count": 78,
   "id": "ed1ec96d-edc7-4621-a9a1-81a7c6e47ba2",
   "metadata": {},
   "outputs": [],
   "source": [
    "#[['st_case', 'vnumber2', 'milept', 'crashrf', 'persons', 'man_coll', 'rd_owner', 'weather', 'a_weather', 'county', 'persons', 'hosp_hr', 'county', 'day', 'minute', \n",
    " #               'month', 'hour', 'latitude', 'peds']]"
   ]
  },
  {
   "cell_type": "markdown",
   "id": "6a1a2cb1-50c0-4e28-942b-92a29dc2687e",
   "metadata": {},
   "source": [
    "#### Lets create our mini Databases"
   ]
  },
  {
   "cell_type": "code",
   "execution_count": 79,
   "id": "21f9d08e-177d-48a9-97c7-62564d1d5383",
   "metadata": {},
   "outputs": [],
   "source": [
    "from scipy.stats import entropy\n"
   ]
  },
  {
   "cell_type": "code",
   "execution_count": 80,
   "id": "3e1be802-767c-4c86-815a-e47c36300ec2",
   "metadata": {},
   "outputs": [],
   "source": [
    "# THis db is for the chi squared version\n",
    "\n",
    "X= accidents_df[features]\n",
    "\n",
    "y = accidents_df[['binary_fatals']]\n",
    "\n",
    "# drop state case from model\n",
    "# add workzone/ light condition / weather/ \n",
    "# make sure to clean data from columns"
   ]
  },
  {
   "cell_type": "code",
   "execution_count": 81,
   "id": "ec098180-8d4b-46aa-ab9d-9c1922722c2c",
   "metadata": {},
   "outputs": [],
   "source": [
    "#split data into train test split\n",
    "\n",
    "from sklearn.model_selection import train_test_split\n",
    "X_train, X_test, y_train, y_test = train_test_split(X, y, test_size = .2, random_state = 42, stratify=y)"
   ]
  },
  {
   "cell_type": "code",
   "execution_count": 82,
   "id": "6b855bb5-ce78-4255-ad4f-e54e2f11d000",
   "metadata": {},
   "outputs": [],
   "source": [
    "from sklearn.preprocessing import StandardScaler"
   ]
  },
  {
   "cell_type": "code",
   "execution_count": 83,
   "id": "425ac7cb-2af0-4b73-91d4-c2752688f974",
   "metadata": {},
   "outputs": [],
   "source": [
    "sc_X = StandardScaler()\n",
    "\n",
    "X_train2 = pd.DataFrame(sc_X.fit_transform(X_train))\n",
    "\n",
    "X_test2 = pd.DataFrame(sc_X.transform(X_test)) #we do the feature scaling\n",
    "\n",
    "X_train2.columns = X_train.columns.values\n",
    "X_test2.columns = X_test.columns.values\n",
    "\n",
    "X_train2.index = X_train.index.values\n",
    "X_test2.index = X_test.index.values\n",
    "\n",
    "X_train = X_train2\n",
    "X_test = X_test2"
   ]
  },
  {
   "cell_type": "code",
   "execution_count": 84,
   "id": "d06c6552-cd6a-4041-b5cc-2aa2d7976aef",
   "metadata": {},
   "outputs": [],
   "source": [
    "from sklearn.neighbors import KNeighborsRegressor\n",
    "from sklearn.linear_model import LogisticRegression\n",
    "from sklearn.naive_bayes import GaussianNB\n",
    "from sklearn.tree import DecisionTreeRegressor\n",
    "from sklearn.ensemble import RandomForestRegressor\n",
    "\n",
    "forest = RandomForestRegressor(n_estimators=10, #criterion='crossentropy',\n",
    "                              random_state=0)\n",
    "tree = DecisionTreeRegressor(#criterion='crossentropy', \n",
    "                             random_state=0)\n",
    "bayes = GaussianNB()\n",
    "k_nn = KNeighborsRegressor(n_neighbors=5, metric='minkowski', p =2)\n",
    "log = LogisticRegression(random_state=0)\n",
    "\n",
    "models = [forest, tree, bayes, k_nn, log]\n",
    "scores = []"
   ]
  },
  {
   "cell_type": "code",
   "execution_count": 85,
   "id": "47a94ccc-0422-44fc-8446-b40cbf92a32a",
   "metadata": {},
   "outputs": [
    {
     "data": {
      "text/plain": [
       "LinearRegression()"
      ]
     },
     "execution_count": 85,
     "metadata": {},
     "output_type": "execute_result"
    }
   ],
   "source": [
    "lr = LinearRegression()\n",
    "lr.fit(X_train,y_train)\n",
    "#try this as a regressor "
   ]
  },
  {
   "cell_type": "code",
   "execution_count": 86,
   "id": "46fa9f6b-6e10-46b3-bcd6-cfa7c1c76008",
   "metadata": {},
   "outputs": [
    {
     "data": {
      "text/plain": [
       "0.08743924024804095"
      ]
     },
     "execution_count": 86,
     "metadata": {},
     "output_type": "execute_result"
    }
   ],
   "source": [
    "# Train score\n",
    "lr.score(X_train,y_train)"
   ]
  },
  {
   "cell_type": "code",
   "execution_count": 87,
   "id": "56523be8-5c2e-49d6-9af5-d4f4e1cd9f24",
   "metadata": {},
   "outputs": [
    {
     "name": "stderr",
     "output_type": "stream",
     "text": [
      "C:\\Users\\Ricardo\\anaconda3\\lib\\site-packages\\sklearn\\utils\\validation.py:63: DataConversionWarning: A column-vector y was passed when a 1d array was expected. Please change the shape of y to (n_samples, ), for example using ravel().\n",
      "  return f(*args, **kwargs)\n"
     ]
    },
    {
     "data": {
      "text/plain": [
       "LogisticRegression()"
      ]
     },
     "execution_count": 87,
     "metadata": {},
     "output_type": "execute_result"
    }
   ],
   "source": [
    "lg = LogisticRegression()\n",
    "lg.fit(X_train, y_train)"
   ]
  },
  {
   "cell_type": "code",
   "execution_count": 88,
   "id": "9f9f9810-dae4-4295-a52d-c850745d6035",
   "metadata": {},
   "outputs": [
    {
     "data": {
      "text/plain": [
       "0.8498713877961849"
      ]
     },
     "execution_count": 88,
     "metadata": {},
     "output_type": "execute_result"
    }
   ],
   "source": [
    "lg.score(X_train, y_train)"
   ]
  },
  {
   "cell_type": "code",
   "execution_count": 105,
   "id": "fb91617f-5866-4a84-abc7-b0174c71ad9c",
   "metadata": {},
   "outputs": [
    {
     "data": {
      "text/plain": [
       "array([[ 0.45818437,  0.81304226,  0.29086116, -0.17238768,  0.11252729,\n",
       "        -0.16811878]])"
      ]
     },
     "execution_count": 105,
     "metadata": {},
     "output_type": "execute_result"
    }
   ],
   "source": [
    "lg.coef_"
   ]
  },
  {
   "cell_type": "code",
   "execution_count": 89,
   "id": "448a29f8-6d6d-48f1-8871-c4c6d3f227cd",
   "metadata": {},
   "outputs": [
    {
     "name": "stderr",
     "output_type": "stream",
     "text": [
      "<ipython-input-89-e0147d7dbc7c>:1: DataConversionWarning: A column-vector y was passed when a 1d array was expected. Please change the shape of y to (n_samples,), for example using ravel().\n",
      "  forest.fit(X_train, y_train)\n"
     ]
    },
    {
     "data": {
      "text/plain": [
       "RandomForestRegressor(n_estimators=10, random_state=0)"
      ]
     },
     "execution_count": 89,
     "metadata": {},
     "output_type": "execute_result"
    }
   ],
   "source": [
    "forest.fit(X_train, y_train)"
   ]
  },
  {
   "cell_type": "code",
   "execution_count": 90,
   "id": "34970de3-e29f-4f0b-b080-ffacf085a0ee",
   "metadata": {},
   "outputs": [
    {
     "data": {
      "text/plain": [
       "0.3107465905411846"
      ]
     },
     "execution_count": 90,
     "metadata": {},
     "output_type": "execute_result"
    }
   ],
   "source": [
    "forest.score(X_train, y_train)"
   ]
  },
  {
   "cell_type": "code",
   "execution_count": 91,
   "id": "f3c26926-cb41-43a5-8aab-50be3aee6287",
   "metadata": {},
   "outputs": [
    {
     "data": {
      "text/plain": [
       "0.3106402357096866"
      ]
     },
     "execution_count": 91,
     "metadata": {},
     "output_type": "execute_result"
    }
   ],
   "source": [
    "forest.score(X_test, y_test)"
   ]
  },
  {
   "cell_type": "code",
   "execution_count": 92,
   "id": "73c9ab28-34fb-4767-a87a-ccc6d7e965c4",
   "metadata": {},
   "outputs": [],
   "source": [
    "from sklearn.neighbors import KNeighborsClassifier"
   ]
  },
  {
   "cell_type": "code",
   "execution_count": 93,
   "id": "505534a8-973d-45e4-a6b5-8f26209a8db3",
   "metadata": {},
   "outputs": [],
   "source": [
    "knn = KNeighborsClassifier()"
   ]
  },
  {
   "cell_type": "code",
   "execution_count": 94,
   "id": "fad48edb-5384-404f-8ef7-8227652fc49d",
   "metadata": {},
   "outputs": [
    {
     "data": {
      "text/plain": [
       "KNeighborsClassifier()"
      ]
     },
     "execution_count": 94,
     "metadata": {},
     "output_type": "execute_result"
    }
   ],
   "source": [
    "knn.fit(X_train, y_train.values.ravel())"
   ]
  },
  {
   "cell_type": "code",
   "execution_count": 95,
   "id": "b5005ebd-2aec-4fb5-8734-faea1277f303",
   "metadata": {},
   "outputs": [
    {
     "data": {
      "text/plain": [
       "0.8629708689711509"
      ]
     },
     "execution_count": 95,
     "metadata": {},
     "output_type": "execute_result"
    }
   ],
   "source": [
    "knn.score(X_train, y_train)"
   ]
  },
  {
   "cell_type": "code",
   "execution_count": 96,
   "id": "86559015-c68c-4b5e-8318-3765629f7f1e",
   "metadata": {},
   "outputs": [
    {
     "data": {
      "text/plain": [
       "0.8601964407274142"
      ]
     },
     "execution_count": 96,
     "metadata": {},
     "output_type": "execute_result"
    }
   ],
   "source": [
    "knn.score(X_test, y_test)"
   ]
  },
  {
   "cell_type": "code",
   "execution_count": 97,
   "id": "6ef84bef-802e-4546-ab01-6da924eda1a8",
   "metadata": {},
   "outputs": [],
   "source": [
    "from sklearn.ensemble import RandomForestClassifier"
   ]
  },
  {
   "cell_type": "code",
   "execution_count": 98,
   "id": "30b4dcf4-7e8c-472e-b05c-fa5b54290636",
   "metadata": {},
   "outputs": [],
   "source": [
    "rf = RandomForestClassifier()"
   ]
  },
  {
   "cell_type": "code",
   "execution_count": 99,
   "id": "20c9e334-3085-4059-b2da-33ff2a2058af",
   "metadata": {},
   "outputs": [
    {
     "name": "stderr",
     "output_type": "stream",
     "text": [
      "<ipython-input-99-168a6fc83696>:1: DataConversionWarning: A column-vector y was passed when a 1d array was expected. Please change the shape of y to (n_samples,), for example using ravel().\n",
      "  rf.fit(X_train, y_train)\n"
     ]
    },
    {
     "data": {
      "text/plain": [
       "RandomForestClassifier()"
      ]
     },
     "execution_count": 99,
     "metadata": {},
     "output_type": "execute_result"
    }
   ],
   "source": [
    "rf.fit(X_train, y_train)"
   ]
  },
  {
   "cell_type": "code",
   "execution_count": 100,
   "id": "24219bcd-5b53-48c6-929f-e33920ba3082",
   "metadata": {},
   "outputs": [
    {
     "data": {
      "text/plain": [
       "0.8771564718467373"
      ]
     },
     "execution_count": 100,
     "metadata": {},
     "output_type": "execute_result"
    }
   ],
   "source": [
    "rf.score(X_test, y_test)"
   ]
  },
  {
   "cell_type": "code",
   "execution_count": 101,
   "id": "4fecaa22-abc1-4d37-be43-539f756d7f4c",
   "metadata": {},
   "outputs": [],
   "source": [
    "#accidents_df['binary_fatals'].value_counts()"
   ]
  },
  {
   "cell_type": "code",
   "execution_count": 102,
   "id": "51e03248-13c5-4aa1-b0c6-f21b7aed9646",
   "metadata": {},
   "outputs": [],
   "source": [
    "#accidents_df['binary_fatals'].mean()"
   ]
  },
  {
   "cell_type": "code",
   "execution_count": null,
   "id": "d780c602-fd57-46a7-bb80-1fb76c78bd57",
   "metadata": {},
   "outputs": [],
   "source": []
  },
  {
   "cell_type": "code",
   "execution_count": 103,
   "id": "cd2dab49-7338-4f2f-87da-53d5d1cd3e82",
   "metadata": {},
   "outputs": [],
   "source": [
    "# from sklearn.model_selection import cross_val_score\n",
    "# from sklearn.model_selection import StratifiedKFold\n",
    "\n",
    "# kfold = StratifiedKFold(n_splits=10, shuffle=True, random_state=1)\n",
    "\n",
    "# for mod in models:\n",
    "#     mod.fit(X_train, y_train.values.ravel())\n",
    "#     acc = cross_val_score(mod, X_train, y_train.values.ravel(),\n",
    "#                          scoring = 'accuracy', cv=kfold, n_jobs=-1)\n",
    "#     scores.append(acc.mean())"
   ]
  },
  {
   "cell_type": "code",
   "execution_count": 104,
   "id": "898d8aac-3d27-46a4-a29f-427766fc1e55",
   "metadata": {},
   "outputs": [],
   "source": [
    "# results = pd.DataFrame({\n",
    "#     'Model': ['Random Forest', 'Decision Tree', 'Naive Bayes',\n",
    "#              'K Nearest Neighbor', 'Logistic Regression'],\n",
    "#     'Accuracy (Chi-Squared)': scores})\n",
    "\n",
    "# result_df = results.sort_values(by='Accuracy (Chi-Squared)',\n",
    "#                                ascending=False).reset_index(drop=True)\n",
    "# result_df = result_df.transpose()"
   ]
  },
  {
   "cell_type": "code",
   "execution_count": null,
   "id": "772e99bc-1e4e-4057-bc37-86a3d026a0fe",
   "metadata": {},
   "outputs": [],
   "source": [
    "coef_"
   ]
  },
  {
   "cell_type": "code",
   "execution_count": null,
   "id": "85133fe8-c86a-40df-911b-2e751fbf86d9",
   "metadata": {},
   "outputs": [],
   "source": []
  },
  {
   "cell_type": "code",
   "execution_count": null,
   "id": "86d9d431-cbc6-4a9a-a77d-0d9535d9369d",
   "metadata": {},
   "outputs": [],
   "source": []
  },
  {
   "cell_type": "markdown",
   "id": "26a7c92a-d725-4a18-8713-675aeaffd231",
   "metadata": {},
   "source": [
    "# Lets run the models again on injury severity"
   ]
  },
  {
   "cell_type": "code",
   "execution_count": 139,
   "id": "915035c2-79b9-44d3-a493-f4c0f6292840",
   "metadata": {},
   "outputs": [],
   "source": [
    "features = ['persons', 'peds', 've_total', 'drunk_dr', 'lgt_cond_binary', 'work_zone_binary']"
   ]
  },
  {
   "cell_type": "code",
   "execution_count": 140,
   "id": "9719288d-51e6-451e-b8f6-70fa0d82da3d",
   "metadata": {},
   "outputs": [],
   "source": [
    "# THis db is for the chi squared version\n",
    "\n",
    "X= accidents_df[features]\n",
    "\n",
    "y = accidents_df[['inj_sev_binary']]\n",
    "\n",
    "# drop state case from model\n",
    "# add workzone/ light condition / weather/ \n",
    "# make sure to clean data from columns"
   ]
  },
  {
   "cell_type": "code",
   "execution_count": 141,
   "id": "c2af8065-b8e1-45d1-ad95-bf0fb1a33436",
   "metadata": {},
   "outputs": [
    {
     "name": "stdout",
     "output_type": "stream",
     "text": [
      "              Specs         Score\n",
      "0           persons  76386.771434\n",
      "2          ve_total  22767.693429\n",
      "1              peds   3093.861243\n",
      "3          drunk_dr    920.511683\n",
      "4   lgt_cond_binary    426.749213\n",
      "5  work_zone_binary    396.459942\n"
     ]
    }
   ],
   "source": [
    "X = accidents_df[features]\n",
    "y = accidents_df['inj_sev_binary']\n",
    "\n",
    "bestfeatures = SelectKBest(score_func=chi2, k=2)\n",
    "fit = bestfeatures.fit(X,y)\n",
    "dfscores = pd.DataFrame(fit.scores_)\n",
    "dfcolumns = pd.DataFrame(X.columns)\n",
    "\n",
    "featureScores = pd.concat([dfcolumns, dfscores], axis=1)\n",
    "featureScores.columns = ['Specs', 'Score']\n",
    "print(featureScores.nlargest(10, 'Score'))"
   ]
  },
  {
   "cell_type": "code",
   "execution_count": 142,
   "id": "68d5f5c3-0063-44f2-acfd-0d082b47bda5",
   "metadata": {},
   "outputs": [],
   "source": [
    "from sklearn.model_selection import train_test_split\n",
    "X_train, X_test, y_train, y_test = train_test_split(X, y, test_size = .2, random_state = 42, stratify=y)"
   ]
  },
  {
   "cell_type": "code",
   "execution_count": 143,
   "id": "86b5d8f4-c918-4cf4-aa16-30a458398437",
   "metadata": {},
   "outputs": [],
   "source": [
    "sc_X = StandardScaler()\n",
    "\n",
    "X_train2 = pd.DataFrame(sc_X.fit_transform(X_train))\n",
    "\n",
    "X_test2 = pd.DataFrame(sc_X.transform(X_test)) #we do the feature scaling\n",
    "\n",
    "X_train2.columns = X_train.columns.values\n",
    "X_test2.columns = X_test.columns.values\n",
    "\n",
    "X_train2.index = X_train.index.values\n",
    "X_test2.index = X_test.index.values\n",
    "\n",
    "X_train = X_train2\n",
    "X_test = X_test2"
   ]
  },
  {
   "cell_type": "code",
   "execution_count": 144,
   "id": "dbbbb966-2c5a-4be5-9b57-f6059bd5fd95",
   "metadata": {},
   "outputs": [
    {
     "name": "stdout",
     "output_type": "stream",
     "text": [
      "[0.55038046 0.12645585 0.30519365 0.01039741 0.00579426 0.00177838]\n"
     ]
    },
    {
     "data": {
      "image/png": "[encoded data removed]",
      "text/plain": [
       "<Figure size 1080x504 with 1 Axes>"
      ]
     },
     "metadata": {
      "needs_background": "light"
     },
     "output_type": "display_data"
    }
   ],
   "source": [
    "\n",
    "plt.figure(figsize=(15,7))\n",
    "\n",
    "plt.xlabel('Totals', size = 20)\n",
    "plt.ylabel('Inputs', size = 30)\n",
    "plt.title('Graph of  Best Coefficients', size = 40)\n",
    "plt.xticks(size = 10)\n",
    "plt.yticks(size = 10)\n",
    "\n",
    "model = ExtraTreesRegressor()\n",
    "model.fit(X,y)\n",
    "print(model.feature_importances_)\n",
    "feat_importances = pd.Series(model.feature_importances_, index=X.columns)\n",
    "feat_importances.nlargest(10).plot(kind='barh')\n",
    "plt.show()"
   ]
  },
  {
   "cell_type": "code",
   "execution_count": 145,
   "id": "1459a692-f289-49a4-9c3b-06e9d355f97c",
   "metadata": {},
   "outputs": [
    {
     "data": {
      "text/plain": [
       "LogisticRegression()"
      ]
     },
     "execution_count": 145,
     "metadata": {},
     "output_type": "execute_result"
    }
   ],
   "source": [
    "lg = LogisticRegression()\n",
    "lg.fit(X_train, y_train)"
   ]
  },
  {
   "cell_type": "code",
   "execution_count": 146,
   "id": "7c611141-d9c9-4547-ab68-8de577ee8b8a",
   "metadata": {},
   "outputs": [
    {
     "data": {
      "text/plain": [
       "0.6923858657862363"
      ]
     },
     "execution_count": 146,
     "metadata": {},
     "output_type": "execute_result"
    }
   ],
   "source": [
    "lg.score(X_train, y_train)"
   ]
  },
  {
   "cell_type": "code",
   "execution_count": 147,
   "id": "e7d8da76-c079-46f3-b791-d9d7c6fcae94",
   "metadata": {},
   "outputs": [
    {
     "data": {
      "text/plain": [
       "array([[ 1.20703697,  0.34558234,  0.16227215, -0.06590143, -0.01986731,\n",
       "        -0.0045333 ]])"
      ]
     },
     "execution_count": 147,
     "metadata": {},
     "output_type": "execute_result"
    }
   ],
   "source": [
    "lg.coef_"
   ]
  },
  {
   "cell_type": "code",
   "execution_count": 148,
   "id": "c7bc2075-adea-4329-b149-c5c35b3a6b38",
   "metadata": {},
   "outputs": [
    {
     "data": {
      "text/plain": [
       "0.6936886122726831"
      ]
     },
     "execution_count": 148,
     "metadata": {},
     "output_type": "execute_result"
    }
   ],
   "source": [
    "lg.score(X_test, y_test)"
   ]
  },
  {
   "cell_type": "code",
   "execution_count": 149,
   "id": "8cd8bd6e-a464-4de3-b693-0e856331943f",
   "metadata": {},
   "outputs": [],
   "source": [
    "rf = RandomForestClassifier()"
   ]
  },
  {
   "cell_type": "code",
   "execution_count": 150,
   "id": "3a0798c4-52b9-427b-acc9-fa5e2fda181a",
   "metadata": {},
   "outputs": [
    {
     "data": {
      "text/plain": [
       "RandomForestClassifier()"
      ]
     },
     "execution_count": 150,
     "metadata": {},
     "output_type": "execute_result"
    }
   ],
   "source": [
    "rf.fit(X_train, y_train)"
   ]
  },
  {
   "cell_type": "code",
   "execution_count": 151,
   "id": "e7a5a9c5-1040-41c6-bb66-82bc7ac1d9ee",
   "metadata": {},
   "outputs": [
    {
     "data": {
      "text/plain": [
       "0.711251580278129"
      ]
     },
     "execution_count": 151,
     "metadata": {},
     "output_type": "execute_result"
    }
   ],
   "source": [
    "rf.score(X_test, y_test)"
   ]
  },
  {
   "cell_type": "code",
   "execution_count": 152,
   "id": "42759c56-4b73-41f7-9f7e-eb003a30fd23",
   "metadata": {},
   "outputs": [
    {
     "data": {
      "text/plain": [
       "0.7124727094142188"
      ]
     },
     "execution_count": 152,
     "metadata": {},
     "output_type": "execute_result"
    }
   ],
   "source": [
    "rf.score(X_train, y_train)"
   ]
  },
  {
   "cell_type": "code",
   "execution_count": null,
   "id": "ceb1ece2-9a10-4eeb-b7ed-3805a1c5a135",
   "metadata": {},
   "outputs": [],
   "source": []
  },
  {
   "cell_type": "code",
   "execution_count": 163,
   "id": "e00e3d48-5d32-4499-bb45-feeb6d5b51df",
   "metadata": {},
   "outputs": [],
   "source": [
    "# Generate predictions.\n",
    "preds = lg.predict(X_test)"
   ]
  },
  {
   "cell_type": "code",
   "execution_count": null,
   "id": "b4ffab9b-7298-4eec-a919-604b1ba2fb92",
   "metadata": {},
   "outputs": [],
   "source": []
  },
  {
   "cell_type": "code",
   "execution_count": null,
   "id": "b4326d84-ece8-482d-9e01-aa43be411d81",
   "metadata": {},
   "outputs": [],
   "source": []
  },
  {
   "cell_type": "code",
   "execution_count": null,
   "id": "e67fb754-1426-4a80-8633-92d320a3c485",
   "metadata": {},
   "outputs": [],
   "source": []
  },
  {
   "cell_type": "code",
   "execution_count": 164,
   "id": "6274e68e-3ba8-4d72-ab25-75f7aa7d3482",
   "metadata": {},
   "outputs": [
    {
     "data": {
      "text/plain": [
       "(51415,)"
      ]
     },
     "execution_count": 164,
     "metadata": {},
     "output_type": "execute_result"
    }
   ],
   "source": [
    "y_test.shape"
   ]
  },
  {
   "cell_type": "code",
   "execution_count": 165,
   "id": "90ddab10-e767-4b40-a32b-1504233c9ba5",
   "metadata": {},
   "outputs": [
    {
     "data": {
      "text/plain": [
       "(51415, 6)"
      ]
     },
     "execution_count": 165,
     "metadata": {},
     "output_type": "execute_result"
    }
   ],
   "source": [
    "X_test.shape"
   ]
  },
  {
   "cell_type": "code",
   "execution_count": 166,
   "id": "58a913f7-2cf7-442b-90f5-2ba6b54f5688",
   "metadata": {},
   "outputs": [],
   "source": [
    "from sklearn.metrics import confusion_matrix, plot_confusion_matrix, accuracy_score, plot_roc_curve, roc_auc_score, precision_score, f1_score, recall_score"
   ]
  },
  {
   "cell_type": "code",
   "execution_count": 167,
   "id": "02da622f-ab35-4d4a-88b5-405f628d10ce",
   "metadata": {},
   "outputs": [
    {
     "data": {
      "text/plain": [
       "array([[15933,  7161],\n",
       "       [ 8588, 19733]], dtype=int64)"
      ]
     },
     "execution_count": 167,
     "metadata": {},
     "output_type": "execute_result"
    }
   ],
   "source": [
    "confusion_matrix(y_test,preds)\n"
   ]
  },
  {
   "cell_type": "code",
   "execution_count": 168,
   "id": "ceeb900a-a0ed-4d85-ab93-08d68136e5bc",
   "metadata": {},
   "outputs": [
    {
     "data": {
      "image/png": "[encoded data removed]",
      "text/plain": [
       "<Figure size 432x288 with 2 Axes>"
      ]
     },
     "metadata": {
      "needs_background": "light"
     },
     "output_type": "display_data"
    }
   ],
   "source": [
    "plot_confusion_matrix(lg, X_test, y_test, cmap='Blues', \n",
    "                      values_format='d', display_labels=['inj_sev_fatal', 'inj_sev_not_fatal']);"
   ]
  },
  {
   "cell_type": "code",
   "execution_count": 169,
   "id": "c3f2f44d-8e0d-4c83-ba17-7bbb021ea8d7",
   "metadata": {},
   "outputs": [
    {
     "data": {
      "text/plain": [
       "1    0.550826\n",
       "0    0.449174\n",
       "Name: inj_sev_binary, dtype: float64"
      ]
     },
     "execution_count": 169,
     "metadata": {},
     "output_type": "execute_result"
    }
   ],
   "source": [
    "accidents_df['inj_sev_binary'].value_counts(normalize=True)"
   ]
  },
  {
   "cell_type": "code",
   "execution_count": null,
   "id": "e82c0775-2cdc-478d-953a-668aacc99bf5",
   "metadata": {},
   "outputs": [],
   "source": []
  }
 ],
 "metadata": {
  "kernelspec": {
   "display_name": "Python 3",
   "language": "python",
   "name": "python3"
  },
  "language_info": {
   "codemirror_mode": {
    "name": "ipython",
    "version": 3
   },
   "file_extension": ".py",
   "mimetype": "text/x-python",
   "name": "python",
   "nbconvert_exporter": "python",
   "pygments_lexer": "ipython3",
   "version": "3.8.8"
  }
 },
 "nbformat": 4,
 "nbformat_minor": 5
}
