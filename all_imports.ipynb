{
 "cells": [
  {
   "cell_type": "markdown",
   "id": "8d26efd4-ad62-4d61-b9f7-94d04ca1a9f9",
   "metadata": {},
   "source": [
    "# Project 5"
   ]
  },
  {
   "cell_type": "code",
   "execution_count": 1,
   "id": "e5b16494-353a-405b-b16c-9edb17384485",
   "metadata": {},
   "outputs": [],
   "source": [
    "#First I will bring in my imports\n",
    "import numpy as np\n",
    "import pandas as pd\n",
    "import seaborn as sns\n",
    "import matplotlib.pyplot as plt\n",
    "from sklearn.linear_model import LinearRegression"
   ]
  },
  {
   "cell_type": "code",
   "execution_count": 2,
   "id": "c8a5b76e-5b14-416f-b006-d35d641443e8",
   "metadata": {},
   "outputs": [],
   "source": [
    "# function for merging data\n",
    "\n",
    "def get_merged_dataframes(main_df, main_df_columns, csv_files, year, merge_columns):\n",
    "    \n",
    "    df1 = pd.read_csv(f'./data/{year}_fars/{main_df}.csv', encoding='unicode_escape')\n",
    "    df1.columns = df1.columns.str.lower()\n",
    "    merged_dataframe = df1[df1.columns.intersection(main_df_columns)]\n",
    "    \n",
    "    for csv in csv_files:\n",
    "        try:\n",
    "            df2 = pd.read_csv(f'./data/{year}_fars/{csv}.csv')\n",
    "            df2.columns = df2.columns.str.lower() \n",
    "            merged_dataframe = pd.merge(merged_dataframe, df2, how='outer', on=merge_columns, suffixes=('', '_remove'))\n",
    "            merged_dataframe = merged_dataframe.drop([column for column in merged_dataframe.columns if 'remove' in column], axis=1)\n",
    "        except FileNotFoundError:\n",
    "            print(f'The {csv} file does not exist for the year {year}.')           \n",
    "    \n",
    "    merged_dataframe.loc[:,'data_year'] = year\n",
    "    \n",
    "    return merged_dataframe"
   ]
  },
  {
   "cell_type": "code",
   "execution_count": 3,
   "id": "88c5e6bd-3c8b-4d19-95b5-dad6256f4fa1",
   "metadata": {},
   "outputs": [],
   "source": [
    "def combine_person_data(start_year, end_year=None):  \n",
    "    \n",
    "    columns = ['state', 'peds', 've_total', 'persons', 'county', 'day', 'month', 'hour', 'minute', 'week', 'tway_id', 'route', 'rur_urb', \n",
    "               'rd_owner','nhs', 'sp_jur', 'milept', 'latitude', 'longitude', 'harm', \n",
    "               'man_coll', 'reljct1', 'reljct2', 'typ_int', 'rel_road', 'wrk_zone', 'lgt_cond', \n",
    "               'sch_bus', 'rail', 'not_hour', 'arr_hour', 'hosp_hr',\n",
    "              'eventnum', 'vnumber1', 'aoi1', 'soe', 'vnumber2', 'aoi2',\n",
    "              'weather', 'crashrf', 'st_case', 'drunk_dr', 'inj_sev', 'inj_sevname']\n",
    "    \n",
    "    csvs_to_merge = ['acc_aux', 'weather', 'crashrf', 'cevent', 'person']\n",
    "    \n",
    "    merge_columns = ['st_case']\n",
    "    \n",
    "    if end_year is None:\n",
    "        end_year = start_year\n",
    "    \n",
    "    full_df_list = [get_merged_dataframes('accident', columns, csvs_to_merge, year, merge_columns) for year in range(start_year, end_year + 1)]\n",
    "    \n",
    "    return pd.concat(full_df_list, ignore_index=True)"
   ]
  },
  {
   "cell_type": "code",
   "execution_count": 4,
   "id": "57b8ded1-f32c-405a-b539-285425bf8194",
   "metadata": {},
   "outputs": [],
   "source": [
    "accidents_df = combine_person_data(2020)"
   ]
  },
  {
   "cell_type": "code",
   "execution_count": null,
   "id": "1a4d6fae-384c-4ef5-8575-b25553f07683",
   "metadata": {},
   "outputs": [],
   "source": []
  },
  {
   "cell_type": "code",
   "execution_count": 126,
   "id": "ab5048b1-9a36-44e0-8283-33c3e5641b7e",
   "metadata": {},
   "outputs": [
    {
     "data": {
      "text/html": [
       "<div>\n",
       "<style scoped>\n",
       "    .dataframe tbody tr th:only-of-type {\n",
       "        vertical-align: middle;\n",
       "    }\n",
       "\n",
       "    .dataframe tbody tr th {\n",
       "        vertical-align: top;\n",
       "    }\n",
       "\n",
       "    .dataframe thead th {\n",
       "        text-align: right;\n",
       "    }\n",
       "</style>\n",
       "<table border=\"1\" class=\"dataframe\">\n",
       "  <thead>\n",
       "    <tr style=\"text-align: right;\">\n",
       "      <th></th>\n",
       "      <th>state</th>\n",
       "      <th>st_case</th>\n",
       "      <th>ve_total</th>\n",
       "      <th>peds</th>\n",
       "      <th>persons</th>\n",
       "      <th>county</th>\n",
       "      <th>day</th>\n",
       "      <th>month</th>\n",
       "      <th>hour</th>\n",
       "      <th>minute</th>\n",
       "      <th>nhs</th>\n",
       "      <th>route</th>\n",
       "      <th>rur_urb</th>\n",
       "      <th>rd_owner</th>\n",
       "      <th>milept</th>\n",
       "      <th>latitude</th>\n",
       "      <th>sp_jur</th>\n",
       "      <th>man_coll</th>\n",
       "      <th>reljct1</th>\n",
       "      <th>reljct2</th>\n",
       "      <th>typ_int</th>\n",
       "      <th>wrk_zone</th>\n",
       "      <th>rel_road</th>\n",
       "      <th>lgt_cond</th>\n",
       "      <th>weather</th>\n",
       "      <th>sch_bus</th>\n",
       "      <th>not_hour</th>\n",
       "      <th>arr_hour</th>\n",
       "      <th>hosp_hr</th>\n",
       "      <th>drunk_dr</th>\n",
       "      <th>fatals</th>\n",
       "      <th>a_crainj</th>\n",
       "      <th>a_region</th>\n",
       "      <th>a_ru</th>\n",
       "      <th>a_inter</th>\n",
       "      <th>a_relrd</th>\n",
       "      <th>a_intsec</th>\n",
       "      <th>a_roadfc</th>\n",
       "      <th>a_junc</th>\n",
       "      <th>a_mancol</th>\n",
       "      <th>a_tod</th>\n",
       "      <th>a_dow</th>\n",
       "      <th>a_ct</th>\n",
       "      <th>a_weather</th>\n",
       "      <th>a_lt</th>\n",
       "      <th>a_mc</th>\n",
       "      <th>a_spcra</th>\n",
       "      <th>a_ped</th>\n",
       "      <th>a_ped_f</th>\n",
       "      <th>a_pedal</th>\n",
       "      <th>a_pedal_f</th>\n",
       "      <th>a_roll</th>\n",
       "      <th>a_polpur</th>\n",
       "      <th>a_posbac</th>\n",
       "      <th>a_d15_19</th>\n",
       "      <th>a_d16_19</th>\n",
       "      <th>a_d15_20</th>\n",
       "      <th>a_d16_20</th>\n",
       "      <th>a_d65pls</th>\n",
       "      <th>a_d21_24</th>\n",
       "      <th>a_d16_24</th>\n",
       "      <th>a_rd</th>\n",
       "      <th>a_hr</th>\n",
       "      <th>a_dist</th>\n",
       "      <th>a_drowsy</th>\n",
       "      <th>bia</th>\n",
       "      <th>spj_indian</th>\n",
       "      <th>indian_res</th>\n",
       "      <th>crashrf</th>\n",
       "      <th>eventnum</th>\n",
       "      <th>vnumber1</th>\n",
       "      <th>aoi1</th>\n",
       "      <th>soe</th>\n",
       "      <th>vnumber2</th>\n",
       "      <th>aoi2</th>\n",
       "      <th>ve_forms</th>\n",
       "      <th>veh_no</th>\n",
       "      <th>per_no</th>\n",
       "      <th>str_veh</th>\n",
       "      <th>dayname</th>\n",
       "      <th>monthname</th>\n",
       "      <th>hourname</th>\n",
       "      <th>minutename</th>\n",
       "      <th>rur_urbname</th>\n",
       "      <th>func_sys</th>\n",
       "      <th>func_sysname</th>\n",
       "      <th>harm_ev</th>\n",
       "      <th>harm_evname</th>\n",
       "      <th>man_collname</th>\n",
       "      <th>sch_busname</th>\n",
       "      <th>make</th>\n",
       "      <th>makename</th>\n",
       "      <th>mak_mod</th>\n",
       "      <th>body_typ</th>\n",
       "      <th>body_typname</th>\n",
       "      <th>mod_year</th>\n",
       "      <th>mod_yearname</th>\n",
       "      <th>tow_veh</th>\n",
       "      <th>tow_vehname</th>\n",
       "      <th>spec_use</th>\n",
       "      <th>spec_usename</th>\n",
       "      <th>emer_use</th>\n",
       "      <th>emer_usename</th>\n",
       "      <th>rollover</th>\n",
       "      <th>rollovername</th>\n",
       "      <th>impact1</th>\n",
       "      <th>impact1name</th>\n",
       "      <th>fire_exp</th>\n",
       "      <th>fire_expname</th>\n",
       "      <th>age</th>\n",
       "      <th>agename</th>\n",
       "      <th>sex</th>\n",
       "      <th>sexname</th>\n",
       "      <th>per_typ</th>\n",
       "      <th>per_typname</th>\n",
       "      <th>inj_sev</th>\n",
       "      <th>inj_sevname</th>\n",
       "      <th>seat_pos</th>\n",
       "      <th>seat_posname</th>\n",
       "      <th>rest_use</th>\n",
       "      <th>rest_usename</th>\n",
       "      <th>rest_mis</th>\n",
       "      <th>rest_misname</th>\n",
       "      <th>air_bag</th>\n",
       "      <th>air_bagname</th>\n",
       "      <th>ejection</th>\n",
       "      <th>ejectionname</th>\n",
       "      <th>ej_path</th>\n",
       "      <th>ej_pathname</th>\n",
       "      <th>extricat</th>\n",
       "      <th>extricatname</th>\n",
       "      <th>drinking</th>\n",
       "      <th>drinkingname</th>\n",
       "      <th>alc_det</th>\n",
       "      <th>alc_detname</th>\n",
       "      <th>alc_status</th>\n",
       "      <th>alc_statusname</th>\n",
       "      <th>atst_typ</th>\n",
       "      <th>atst_typname</th>\n",
       "      <th>alc_res</th>\n",
       "      <th>alc_resname</th>\n",
       "      <th>drugs</th>\n",
       "      <th>drugsname</th>\n",
       "      <th>drug_det</th>\n",
       "      <th>drug_detname</th>\n",
       "      <th>dstatus</th>\n",
       "      <th>dstatusname</th>\n",
       "      <th>hospital</th>\n",
       "      <th>hospitalname</th>\n",
       "      <th>doa</th>\n",
       "      <th>doaname</th>\n",
       "      <th>death_da</th>\n",
       "      <th>death_daname</th>\n",
       "      <th>death_mo</th>\n",
       "      <th>death_moname</th>\n",
       "      <th>death_yr</th>\n",
       "      <th>death_yrname</th>\n",
       "      <th>death_hr</th>\n",
       "      <th>death_hrname</th>\n",
       "      <th>death_mn</th>\n",
       "      <th>death_mnname</th>\n",
       "      <th>death_tm</th>\n",
       "      <th>death_tmname</th>\n",
       "      <th>lag_hrs</th>\n",
       "      <th>lag_hrsname</th>\n",
       "      <th>lag_mins</th>\n",
       "      <th>lag_minsname</th>\n",
       "      <th>work_inj</th>\n",
       "      <th>work_injname</th>\n",
       "      <th>hispanic</th>\n",
       "      <th>hispanicname</th>\n",
       "      <th>location</th>\n",
       "      <th>locationname</th>\n",
       "      <th>helm_use</th>\n",
       "      <th>helm_usename</th>\n",
       "      <th>helm_mis</th>\n",
       "      <th>helm_misname</th>\n",
       "      <th>vpicmake</th>\n",
       "      <th>vpicmakename</th>\n",
       "      <th>vpicmodel</th>\n",
       "      <th>vpicmodelname</th>\n",
       "      <th>vpicbodyclass</th>\n",
       "      <th>vpicbodyclassname</th>\n",
       "      <th>icfinalbody</th>\n",
       "      <th>icfinalbodyname</th>\n",
       "      <th>data_year</th>\n",
       "      <th>binary_fatals</th>\n",
       "      <th>inj_sev_binary</th>\n",
       "      <th>drunk</th>\n",
       "      <th>work_zone_binary</th>\n",
       "      <th>lgt_cond_binary</th>\n",
       "    </tr>\n",
       "  </thead>\n",
       "  <tbody>\n",
       "    <tr>\n",
       "      <th>0</th>\n",
       "      <td>1</td>\n",
       "      <td>10001</td>\n",
       "      <td>1</td>\n",
       "      <td>0</td>\n",
       "      <td>4</td>\n",
       "      <td>51</td>\n",
       "      <td>1</td>\n",
       "      <td>1</td>\n",
       "      <td>2</td>\n",
       "      <td>58</td>\n",
       "      <td>0</td>\n",
       "      <td>4</td>\n",
       "      <td>1</td>\n",
       "      <td>2</td>\n",
       "      <td>0</td>\n",
       "      <td>32.433133</td>\n",
       "      <td>0</td>\n",
       "      <td>0</td>\n",
       "      <td>0</td>\n",
       "      <td>1</td>\n",
       "      <td>1</td>\n",
       "      <td>0</td>\n",
       "      <td>4</td>\n",
       "      <td>2</td>\n",
       "      <td>1</td>\n",
       "      <td>0</td>\n",
       "      <td>99</td>\n",
       "      <td>3</td>\n",
       "      <td>99</td>\n",
       "      <td>1</td>\n",
       "      <td>3</td>\n",
       "      <td>1</td>\n",
       "      <td>4</td>\n",
       "      <td>1</td>\n",
       "      <td>2</td>\n",
       "      <td>4</td>\n",
       "      <td>2</td>\n",
       "      <td>5</td>\n",
       "      <td>2</td>\n",
       "      <td>1</td>\n",
       "      <td>2</td>\n",
       "      <td>1</td>\n",
       "      <td>1</td>\n",
       "      <td>1</td>\n",
       "      <td>2</td>\n",
       "      <td>2</td>\n",
       "      <td>1</td>\n",
       "      <td>2</td>\n",
       "      <td>2</td>\n",
       "      <td>2</td>\n",
       "      <td>2</td>\n",
       "      <td>1</td>\n",
       "      <td>2</td>\n",
       "      <td>1</td>\n",
       "      <td>2</td>\n",
       "      <td>2</td>\n",
       "      <td>2</td>\n",
       "      <td>2</td>\n",
       "      <td>2</td>\n",
       "      <td>1</td>\n",
       "      <td>1</td>\n",
       "      <td>1</td>\n",
       "      <td>2</td>\n",
       "      <td>2</td>\n",
       "      <td>2</td>\n",
       "      <td>0</td>\n",
       "      <td>0</td>\n",
       "      <td>0</td>\n",
       "      <td>0</td>\n",
       "      <td>1</td>\n",
       "      <td>1</td>\n",
       "      <td>55</td>\n",
       "      <td>63</td>\n",
       "      <td>5555</td>\n",
       "      <td>55</td>\n",
       "      <td>1</td>\n",
       "      <td>1</td>\n",
       "      <td>1</td>\n",
       "      <td>0</td>\n",
       "      <td>1</td>\n",
       "      <td>January</td>\n",
       "      <td>2:00am-2:59am</td>\n",
       "      <td>58</td>\n",
       "      <td>Rural</td>\n",
       "      <td>5</td>\n",
       "      <td>Major Collector</td>\n",
       "      <td>42</td>\n",
       "      <td>Tree (Standing Only)</td>\n",
       "      <td>The First Harmful Event was Not a Collision wi...</td>\n",
       "      <td>No</td>\n",
       "      <td>59.0</td>\n",
       "      <td>Lexus</td>\n",
       "      <td>Lexus ES-250/300/300h/330/ 350</td>\n",
       "      <td>4.0</td>\n",
       "      <td>4-door sedan, hardtop</td>\n",
       "      <td>1997.0</td>\n",
       "      <td>1997</td>\n",
       "      <td>0.0</td>\n",
       "      <td>No Trailing Units</td>\n",
       "      <td>0.0</td>\n",
       "      <td>No Special Use</td>\n",
       "      <td>0.0</td>\n",
       "      <td>Not Applicable</td>\n",
       "      <td>1.0</td>\n",
       "      <td>Rollover, Tripped by Object/Vehicle</td>\n",
       "      <td>12.0</td>\n",
       "      <td>12 Clock Point</td>\n",
       "      <td>0.0</td>\n",
       "      <td>No or Not Reported</td>\n",
       "      <td>24</td>\n",
       "      <td>24 Years</td>\n",
       "      <td>1</td>\n",
       "      <td>Male</td>\n",
       "      <td>1</td>\n",
       "      <td>Driver of a Motor Vehicle In-Transport</td>\n",
       "      <td>4</td>\n",
       "      <td>Fatal Injury (K)</td>\n",
       "      <td>11</td>\n",
       "      <td>Front Seat, Left Side</td>\n",
       "      <td>20</td>\n",
       "      <td>None Used/Not Applicable</td>\n",
       "      <td>7</td>\n",
       "      <td>None Used/Not Applicable</td>\n",
       "      <td>1</td>\n",
       "      <td>Deployed- Front</td>\n",
       "      <td>0</td>\n",
       "      <td>Not Ejected</td>\n",
       "      <td>0</td>\n",
       "      <td>Ejection Path Not Applicable</td>\n",
       "      <td>1</td>\n",
       "      <td>Extricated</td>\n",
       "      <td>9</td>\n",
       "      <td>Reported as Unknown</td>\n",
       "      <td>9</td>\n",
       "      <td>Not Reported</td>\n",
       "      <td>2</td>\n",
       "      <td>Test Given</td>\n",
       "      <td>1</td>\n",
       "      <td>Blood</td>\n",
       "      <td>294</td>\n",
       "      <td>0.294 % BAC</td>\n",
       "      <td>9</td>\n",
       "      <td>Reported as Unknown</td>\n",
       "      <td>8</td>\n",
       "      <td>Not Reported</td>\n",
       "      <td>2</td>\n",
       "      <td>Test Given</td>\n",
       "      <td>0</td>\n",
       "      <td>Not Transported for Treatment</td>\n",
       "      <td>7</td>\n",
       "      <td>Died at Scene</td>\n",
       "      <td>1</td>\n",
       "      <td>1</td>\n",
       "      <td>1</td>\n",
       "      <td>January</td>\n",
       "      <td>2020</td>\n",
       "      <td>2020</td>\n",
       "      <td>2</td>\n",
       "      <td>2:00-2:59</td>\n",
       "      <td>58</td>\n",
       "      <td>58</td>\n",
       "      <td>258</td>\n",
       "      <td>258</td>\n",
       "      <td>0</td>\n",
       "      <td>0</td>\n",
       "      <td>0</td>\n",
       "      <td>0</td>\n",
       "      <td>0</td>\n",
       "      <td>No</td>\n",
       "      <td>7</td>\n",
       "      <td>Non-Hispanic</td>\n",
       "      <td>0</td>\n",
       "      <td>Occupant of a Motor Vehicle</td>\n",
       "      <td>20</td>\n",
       "      <td>Not Applicable</td>\n",
       "      <td>7</td>\n",
       "      <td>None Used/Not Applicable</td>\n",
       "      <td>515.0</td>\n",
       "      <td>Lexus</td>\n",
       "      <td>2475.0</td>\n",
       "      <td>ES</td>\n",
       "      <td>13.0</td>\n",
       "      <td>Sedan/Saloon</td>\n",
       "      <td>0.0</td>\n",
       "      <td>Not Applicable</td>\n",
       "      <td>2020</td>\n",
       "      <td>1</td>\n",
       "      <td>1</td>\n",
       "      <td>1</td>\n",
       "      <td>0</td>\n",
       "      <td>1</td>\n",
       "    </tr>\n",
       "    <tr>\n",
       "      <th>1</th>\n",
       "      <td>1</td>\n",
       "      <td>10001</td>\n",
       "      <td>1</td>\n",
       "      <td>0</td>\n",
       "      <td>4</td>\n",
       "      <td>51</td>\n",
       "      <td>1</td>\n",
       "      <td>1</td>\n",
       "      <td>2</td>\n",
       "      <td>58</td>\n",
       "      <td>0</td>\n",
       "      <td>4</td>\n",
       "      <td>1</td>\n",
       "      <td>2</td>\n",
       "      <td>0</td>\n",
       "      <td>32.433133</td>\n",
       "      <td>0</td>\n",
       "      <td>0</td>\n",
       "      <td>0</td>\n",
       "      <td>1</td>\n",
       "      <td>1</td>\n",
       "      <td>0</td>\n",
       "      <td>4</td>\n",
       "      <td>2</td>\n",
       "      <td>1</td>\n",
       "      <td>0</td>\n",
       "      <td>99</td>\n",
       "      <td>3</td>\n",
       "      <td>99</td>\n",
       "      <td>1</td>\n",
       "      <td>3</td>\n",
       "      <td>1</td>\n",
       "      <td>4</td>\n",
       "      <td>1</td>\n",
       "      <td>2</td>\n",
       "      <td>4</td>\n",
       "      <td>2</td>\n",
       "      <td>5</td>\n",
       "      <td>2</td>\n",
       "      <td>1</td>\n",
       "      <td>2</td>\n",
       "      <td>1</td>\n",
       "      <td>1</td>\n",
       "      <td>1</td>\n",
       "      <td>2</td>\n",
       "      <td>2</td>\n",
       "      <td>1</td>\n",
       "      <td>2</td>\n",
       "      <td>2</td>\n",
       "      <td>2</td>\n",
       "      <td>2</td>\n",
       "      <td>1</td>\n",
       "      <td>2</td>\n",
       "      <td>1</td>\n",
       "      <td>2</td>\n",
       "      <td>2</td>\n",
       "      <td>2</td>\n",
       "      <td>2</td>\n",
       "      <td>2</td>\n",
       "      <td>1</td>\n",
       "      <td>1</td>\n",
       "      <td>1</td>\n",
       "      <td>2</td>\n",
       "      <td>2</td>\n",
       "      <td>2</td>\n",
       "      <td>0</td>\n",
       "      <td>0</td>\n",
       "      <td>0</td>\n",
       "      <td>0</td>\n",
       "      <td>1</td>\n",
       "      <td>1</td>\n",
       "      <td>55</td>\n",
       "      <td>63</td>\n",
       "      <td>5555</td>\n",
       "      <td>55</td>\n",
       "      <td>1</td>\n",
       "      <td>1</td>\n",
       "      <td>2</td>\n",
       "      <td>0</td>\n",
       "      <td>1</td>\n",
       "      <td>January</td>\n",
       "      <td>2:00am-2:59am</td>\n",
       "      <td>58</td>\n",
       "      <td>Rural</td>\n",
       "      <td>5</td>\n",
       "      <td>Major Collector</td>\n",
       "      <td>42</td>\n",
       "      <td>Tree (Standing Only)</td>\n",
       "      <td>The First Harmful Event was Not a Collision wi...</td>\n",
       "      <td>No</td>\n",
       "      <td>59.0</td>\n",
       "      <td>Lexus</td>\n",
       "      <td>Lexus ES-250/300/300h/330/ 350</td>\n",
       "      <td>4.0</td>\n",
       "      <td>4-door sedan, hardtop</td>\n",
       "      <td>1997.0</td>\n",
       "      <td>1997</td>\n",
       "      <td>0.0</td>\n",
       "      <td>No Trailing Units</td>\n",
       "      <td>0.0</td>\n",
       "      <td>No Special Use</td>\n",
       "      <td>0.0</td>\n",
       "      <td>Not Applicable</td>\n",
       "      <td>1.0</td>\n",
       "      <td>Rollover, Tripped by Object/Vehicle</td>\n",
       "      <td>12.0</td>\n",
       "      <td>12 Clock Point</td>\n",
       "      <td>0.0</td>\n",
       "      <td>No or Not Reported</td>\n",
       "      <td>21</td>\n",
       "      <td>21 Years</td>\n",
       "      <td>1</td>\n",
       "      <td>Male</td>\n",
       "      <td>2</td>\n",
       "      <td>Passenger of a Motor Vehicle In-Transport</td>\n",
       "      <td>3</td>\n",
       "      <td>Suspected Serious Injury (A)</td>\n",
       "      <td>13</td>\n",
       "      <td>Front Seat, Right Side</td>\n",
       "      <td>3</td>\n",
       "      <td>Shoulder and Lap Belt Used</td>\n",
       "      <td>0</td>\n",
       "      <td>No Indication of Mis-Use</td>\n",
       "      <td>1</td>\n",
       "      <td>Deployed- Front</td>\n",
       "      <td>0</td>\n",
       "      <td>Not Ejected</td>\n",
       "      <td>0</td>\n",
       "      <td>Ejection Path Not Applicable</td>\n",
       "      <td>1</td>\n",
       "      <td>Extricated</td>\n",
       "      <td>8</td>\n",
       "      <td>Not Reported</td>\n",
       "      <td>9</td>\n",
       "      <td>Not Reported</td>\n",
       "      <td>0</td>\n",
       "      <td>Test Not Given</td>\n",
       "      <td>0</td>\n",
       "      <td>Test Not Given</td>\n",
       "      <td>996</td>\n",
       "      <td>Test Not Given</td>\n",
       "      <td>8</td>\n",
       "      <td>Not Reported</td>\n",
       "      <td>8</td>\n",
       "      <td>Not Reported</td>\n",
       "      <td>0</td>\n",
       "      <td>Test Not Given</td>\n",
       "      <td>5</td>\n",
       "      <td>EMS Ground</td>\n",
       "      <td>0</td>\n",
       "      <td>Not Applicable</td>\n",
       "      <td>88</td>\n",
       "      <td>Not Applicable (Non-Fatal)</td>\n",
       "      <td>88</td>\n",
       "      <td>Not Applicable (Non-Fatal)</td>\n",
       "      <td>8888</td>\n",
       "      <td>Not Applicable (Non-fatal)</td>\n",
       "      <td>88</td>\n",
       "      <td>Not Applicable (Non-fatal)</td>\n",
       "      <td>88</td>\n",
       "      <td>Not Applicable (Non-fatal)</td>\n",
       "      <td>8888</td>\n",
       "      <td>Not Applicable (Non-fatal)</td>\n",
       "      <td>999</td>\n",
       "      <td>Unknown</td>\n",
       "      <td>99</td>\n",
       "      <td>Unknown</td>\n",
       "      <td>8</td>\n",
       "      <td>Not Applicable (not a fatality)</td>\n",
       "      <td>0</td>\n",
       "      <td>Not A Fatality (not Applicable)</td>\n",
       "      <td>0</td>\n",
       "      <td>Occupant of a Motor Vehicle</td>\n",
       "      <td>20</td>\n",
       "      <td>Not Applicable</td>\n",
       "      <td>7</td>\n",
       "      <td>None Used/Not Applicable</td>\n",
       "      <td>515.0</td>\n",
       "      <td>Lexus</td>\n",
       "      <td>2475.0</td>\n",
       "      <td>ES</td>\n",
       "      <td>13.0</td>\n",
       "      <td>Sedan/Saloon</td>\n",
       "      <td>0.0</td>\n",
       "      <td>Not Applicable</td>\n",
       "      <td>2020</td>\n",
       "      <td>1</td>\n",
       "      <td>1</td>\n",
       "      <td>1</td>\n",
       "      <td>0</td>\n",
       "      <td>1</td>\n",
       "    </tr>\n",
       "    <tr>\n",
       "      <th>2</th>\n",
       "      <td>1</td>\n",
       "      <td>10001</td>\n",
       "      <td>1</td>\n",
       "      <td>0</td>\n",
       "      <td>4</td>\n",
       "      <td>51</td>\n",
       "      <td>1</td>\n",
       "      <td>1</td>\n",
       "      <td>2</td>\n",
       "      <td>58</td>\n",
       "      <td>0</td>\n",
       "      <td>4</td>\n",
       "      <td>1</td>\n",
       "      <td>2</td>\n",
       "      <td>0</td>\n",
       "      <td>32.433133</td>\n",
       "      <td>0</td>\n",
       "      <td>0</td>\n",
       "      <td>0</td>\n",
       "      <td>1</td>\n",
       "      <td>1</td>\n",
       "      <td>0</td>\n",
       "      <td>4</td>\n",
       "      <td>2</td>\n",
       "      <td>1</td>\n",
       "      <td>0</td>\n",
       "      <td>99</td>\n",
       "      <td>3</td>\n",
       "      <td>99</td>\n",
       "      <td>1</td>\n",
       "      <td>3</td>\n",
       "      <td>1</td>\n",
       "      <td>4</td>\n",
       "      <td>1</td>\n",
       "      <td>2</td>\n",
       "      <td>4</td>\n",
       "      <td>2</td>\n",
       "      <td>5</td>\n",
       "      <td>2</td>\n",
       "      <td>1</td>\n",
       "      <td>2</td>\n",
       "      <td>1</td>\n",
       "      <td>1</td>\n",
       "      <td>1</td>\n",
       "      <td>2</td>\n",
       "      <td>2</td>\n",
       "      <td>1</td>\n",
       "      <td>2</td>\n",
       "      <td>2</td>\n",
       "      <td>2</td>\n",
       "      <td>2</td>\n",
       "      <td>1</td>\n",
       "      <td>2</td>\n",
       "      <td>1</td>\n",
       "      <td>2</td>\n",
       "      <td>2</td>\n",
       "      <td>2</td>\n",
       "      <td>2</td>\n",
       "      <td>2</td>\n",
       "      <td>1</td>\n",
       "      <td>1</td>\n",
       "      <td>1</td>\n",
       "      <td>2</td>\n",
       "      <td>2</td>\n",
       "      <td>2</td>\n",
       "      <td>0</td>\n",
       "      <td>0</td>\n",
       "      <td>0</td>\n",
       "      <td>0</td>\n",
       "      <td>1</td>\n",
       "      <td>1</td>\n",
       "      <td>55</td>\n",
       "      <td>63</td>\n",
       "      <td>5555</td>\n",
       "      <td>55</td>\n",
       "      <td>1</td>\n",
       "      <td>1</td>\n",
       "      <td>3</td>\n",
       "      <td>0</td>\n",
       "      <td>1</td>\n",
       "      <td>January</td>\n",
       "      <td>2:00am-2:59am</td>\n",
       "      <td>58</td>\n",
       "      <td>Rural</td>\n",
       "      <td>5</td>\n",
       "      <td>Major Collector</td>\n",
       "      <td>42</td>\n",
       "      <td>Tree (Standing Only)</td>\n",
       "      <td>The First Harmful Event was Not a Collision wi...</td>\n",
       "      <td>No</td>\n",
       "      <td>59.0</td>\n",
       "      <td>Lexus</td>\n",
       "      <td>Lexus ES-250/300/300h/330/ 350</td>\n",
       "      <td>4.0</td>\n",
       "      <td>4-door sedan, hardtop</td>\n",
       "      <td>1997.0</td>\n",
       "      <td>1997</td>\n",
       "      <td>0.0</td>\n",
       "      <td>No Trailing Units</td>\n",
       "      <td>0.0</td>\n",
       "      <td>No Special Use</td>\n",
       "      <td>0.0</td>\n",
       "      <td>Not Applicable</td>\n",
       "      <td>1.0</td>\n",
       "      <td>Rollover, Tripped by Object/Vehicle</td>\n",
       "      <td>12.0</td>\n",
       "      <td>12 Clock Point</td>\n",
       "      <td>0.0</td>\n",
       "      <td>No or Not Reported</td>\n",
       "      <td>22</td>\n",
       "      <td>22 Years</td>\n",
       "      <td>2</td>\n",
       "      <td>Female</td>\n",
       "      <td>2</td>\n",
       "      <td>Passenger of a Motor Vehicle In-Transport</td>\n",
       "      <td>4</td>\n",
       "      <td>Fatal Injury (K)</td>\n",
       "      <td>21</td>\n",
       "      <td>Second Seat, Left Side</td>\n",
       "      <td>20</td>\n",
       "      <td>None Used/Not Applicable</td>\n",
       "      <td>7</td>\n",
       "      <td>None Used/Not Applicable</td>\n",
       "      <td>20</td>\n",
       "      <td>Not Deployed</td>\n",
       "      <td>0</td>\n",
       "      <td>Not Ejected</td>\n",
       "      <td>0</td>\n",
       "      <td>Ejection Path Not Applicable</td>\n",
       "      <td>1</td>\n",
       "      <td>Extricated</td>\n",
       "      <td>8</td>\n",
       "      <td>Not Reported</td>\n",
       "      <td>9</td>\n",
       "      <td>Not Reported</td>\n",
       "      <td>2</td>\n",
       "      <td>Test Given</td>\n",
       "      <td>1</td>\n",
       "      <td>Blood</td>\n",
       "      <td>69</td>\n",
       "      <td>0.069 % BAC</td>\n",
       "      <td>8</td>\n",
       "      <td>Not Reported</td>\n",
       "      <td>8</td>\n",
       "      <td>Not Reported</td>\n",
       "      <td>2</td>\n",
       "      <td>Test Given</td>\n",
       "      <td>0</td>\n",
       "      <td>Not Transported for Treatment</td>\n",
       "      <td>7</td>\n",
       "      <td>Died at Scene</td>\n",
       "      <td>1</td>\n",
       "      <td>1</td>\n",
       "      <td>1</td>\n",
       "      <td>January</td>\n",
       "      <td>2020</td>\n",
       "      <td>2020</td>\n",
       "      <td>2</td>\n",
       "      <td>2:00-2:59</td>\n",
       "      <td>58</td>\n",
       "      <td>58</td>\n",
       "      <td>258</td>\n",
       "      <td>258</td>\n",
       "      <td>0</td>\n",
       "      <td>0</td>\n",
       "      <td>0</td>\n",
       "      <td>0</td>\n",
       "      <td>0</td>\n",
       "      <td>No</td>\n",
       "      <td>7</td>\n",
       "      <td>Non-Hispanic</td>\n",
       "      <td>0</td>\n",
       "      <td>Occupant of a Motor Vehicle</td>\n",
       "      <td>20</td>\n",
       "      <td>Not Applicable</td>\n",
       "      <td>7</td>\n",
       "      <td>None Used/Not Applicable</td>\n",
       "      <td>515.0</td>\n",
       "      <td>Lexus</td>\n",
       "      <td>2475.0</td>\n",
       "      <td>ES</td>\n",
       "      <td>13.0</td>\n",
       "      <td>Sedan/Saloon</td>\n",
       "      <td>0.0</td>\n",
       "      <td>Not Applicable</td>\n",
       "      <td>2020</td>\n",
       "      <td>1</td>\n",
       "      <td>1</td>\n",
       "      <td>1</td>\n",
       "      <td>0</td>\n",
       "      <td>1</td>\n",
       "    </tr>\n",
       "    <tr>\n",
       "      <th>3</th>\n",
       "      <td>1</td>\n",
       "      <td>10001</td>\n",
       "      <td>1</td>\n",
       "      <td>0</td>\n",
       "      <td>4</td>\n",
       "      <td>51</td>\n",
       "      <td>1</td>\n",
       "      <td>1</td>\n",
       "      <td>2</td>\n",
       "      <td>58</td>\n",
       "      <td>0</td>\n",
       "      <td>4</td>\n",
       "      <td>1</td>\n",
       "      <td>2</td>\n",
       "      <td>0</td>\n",
       "      <td>32.433133</td>\n",
       "      <td>0</td>\n",
       "      <td>0</td>\n",
       "      <td>0</td>\n",
       "      <td>1</td>\n",
       "      <td>1</td>\n",
       "      <td>0</td>\n",
       "      <td>4</td>\n",
       "      <td>2</td>\n",
       "      <td>1</td>\n",
       "      <td>0</td>\n",
       "      <td>99</td>\n",
       "      <td>3</td>\n",
       "      <td>99</td>\n",
       "      <td>1</td>\n",
       "      <td>3</td>\n",
       "      <td>1</td>\n",
       "      <td>4</td>\n",
       "      <td>1</td>\n",
       "      <td>2</td>\n",
       "      <td>4</td>\n",
       "      <td>2</td>\n",
       "      <td>5</td>\n",
       "      <td>2</td>\n",
       "      <td>1</td>\n",
       "      <td>2</td>\n",
       "      <td>1</td>\n",
       "      <td>1</td>\n",
       "      <td>1</td>\n",
       "      <td>2</td>\n",
       "      <td>2</td>\n",
       "      <td>1</td>\n",
       "      <td>2</td>\n",
       "      <td>2</td>\n",
       "      <td>2</td>\n",
       "      <td>2</td>\n",
       "      <td>1</td>\n",
       "      <td>2</td>\n",
       "      <td>1</td>\n",
       "      <td>2</td>\n",
       "      <td>2</td>\n",
       "      <td>2</td>\n",
       "      <td>2</td>\n",
       "      <td>2</td>\n",
       "      <td>1</td>\n",
       "      <td>1</td>\n",
       "      <td>1</td>\n",
       "      <td>2</td>\n",
       "      <td>2</td>\n",
       "      <td>2</td>\n",
       "      <td>0</td>\n",
       "      <td>0</td>\n",
       "      <td>0</td>\n",
       "      <td>0</td>\n",
       "      <td>1</td>\n",
       "      <td>1</td>\n",
       "      <td>55</td>\n",
       "      <td>63</td>\n",
       "      <td>5555</td>\n",
       "      <td>55</td>\n",
       "      <td>1</td>\n",
       "      <td>1</td>\n",
       "      <td>4</td>\n",
       "      <td>0</td>\n",
       "      <td>1</td>\n",
       "      <td>January</td>\n",
       "      <td>2:00am-2:59am</td>\n",
       "      <td>58</td>\n",
       "      <td>Rural</td>\n",
       "      <td>5</td>\n",
       "      <td>Major Collector</td>\n",
       "      <td>42</td>\n",
       "      <td>Tree (Standing Only)</td>\n",
       "      <td>The First Harmful Event was Not a Collision wi...</td>\n",
       "      <td>No</td>\n",
       "      <td>59.0</td>\n",
       "      <td>Lexus</td>\n",
       "      <td>Lexus ES-250/300/300h/330/ 350</td>\n",
       "      <td>4.0</td>\n",
       "      <td>4-door sedan, hardtop</td>\n",
       "      <td>1997.0</td>\n",
       "      <td>1997</td>\n",
       "      <td>0.0</td>\n",
       "      <td>No Trailing Units</td>\n",
       "      <td>0.0</td>\n",
       "      <td>No Special Use</td>\n",
       "      <td>0.0</td>\n",
       "      <td>Not Applicable</td>\n",
       "      <td>1.0</td>\n",
       "      <td>Rollover, Tripped by Object/Vehicle</td>\n",
       "      <td>12.0</td>\n",
       "      <td>12 Clock Point</td>\n",
       "      <td>0.0</td>\n",
       "      <td>No or Not Reported</td>\n",
       "      <td>22</td>\n",
       "      <td>22 Years</td>\n",
       "      <td>2</td>\n",
       "      <td>Female</td>\n",
       "      <td>2</td>\n",
       "      <td>Passenger of a Motor Vehicle In-Transport</td>\n",
       "      <td>4</td>\n",
       "      <td>Fatal Injury (K)</td>\n",
       "      <td>23</td>\n",
       "      <td>Second Seat, Right Side</td>\n",
       "      <td>20</td>\n",
       "      <td>None Used/Not Applicable</td>\n",
       "      <td>7</td>\n",
       "      <td>None Used/Not Applicable</td>\n",
       "      <td>20</td>\n",
       "      <td>Not Deployed</td>\n",
       "      <td>0</td>\n",
       "      <td>Not Ejected</td>\n",
       "      <td>0</td>\n",
       "      <td>Ejection Path Not Applicable</td>\n",
       "      <td>1</td>\n",
       "      <td>Extricated</td>\n",
       "      <td>8</td>\n",
       "      <td>Not Reported</td>\n",
       "      <td>9</td>\n",
       "      <td>Not Reported</td>\n",
       "      <td>2</td>\n",
       "      <td>Test Given</td>\n",
       "      <td>1</td>\n",
       "      <td>Blood</td>\n",
       "      <td>120</td>\n",
       "      <td>0.120 % BAC</td>\n",
       "      <td>8</td>\n",
       "      <td>Not Reported</td>\n",
       "      <td>8</td>\n",
       "      <td>Not Reported</td>\n",
       "      <td>2</td>\n",
       "      <td>Test Given</td>\n",
       "      <td>0</td>\n",
       "      <td>Not Transported for Treatment</td>\n",
       "      <td>7</td>\n",
       "      <td>Died at Scene</td>\n",
       "      <td>1</td>\n",
       "      <td>1</td>\n",
       "      <td>1</td>\n",
       "      <td>January</td>\n",
       "      <td>2020</td>\n",
       "      <td>2020</td>\n",
       "      <td>2</td>\n",
       "      <td>2:00-2:59</td>\n",
       "      <td>58</td>\n",
       "      <td>58</td>\n",
       "      <td>258</td>\n",
       "      <td>258</td>\n",
       "      <td>0</td>\n",
       "      <td>0</td>\n",
       "      <td>0</td>\n",
       "      <td>0</td>\n",
       "      <td>0</td>\n",
       "      <td>No</td>\n",
       "      <td>7</td>\n",
       "      <td>Non-Hispanic</td>\n",
       "      <td>0</td>\n",
       "      <td>Occupant of a Motor Vehicle</td>\n",
       "      <td>20</td>\n",
       "      <td>Not Applicable</td>\n",
       "      <td>7</td>\n",
       "      <td>None Used/Not Applicable</td>\n",
       "      <td>515.0</td>\n",
       "      <td>Lexus</td>\n",
       "      <td>2475.0</td>\n",
       "      <td>ES</td>\n",
       "      <td>13.0</td>\n",
       "      <td>Sedan/Saloon</td>\n",
       "      <td>0.0</td>\n",
       "      <td>Not Applicable</td>\n",
       "      <td>2020</td>\n",
       "      <td>1</td>\n",
       "      <td>1</td>\n",
       "      <td>1</td>\n",
       "      <td>0</td>\n",
       "      <td>1</td>\n",
       "    </tr>\n",
       "    <tr>\n",
       "      <th>4</th>\n",
       "      <td>1</td>\n",
       "      <td>10001</td>\n",
       "      <td>1</td>\n",
       "      <td>0</td>\n",
       "      <td>4</td>\n",
       "      <td>51</td>\n",
       "      <td>1</td>\n",
       "      <td>1</td>\n",
       "      <td>2</td>\n",
       "      <td>58</td>\n",
       "      <td>0</td>\n",
       "      <td>4</td>\n",
       "      <td>1</td>\n",
       "      <td>2</td>\n",
       "      <td>0</td>\n",
       "      <td>32.433133</td>\n",
       "      <td>0</td>\n",
       "      <td>0</td>\n",
       "      <td>0</td>\n",
       "      <td>1</td>\n",
       "      <td>1</td>\n",
       "      <td>0</td>\n",
       "      <td>4</td>\n",
       "      <td>2</td>\n",
       "      <td>1</td>\n",
       "      <td>0</td>\n",
       "      <td>99</td>\n",
       "      <td>3</td>\n",
       "      <td>99</td>\n",
       "      <td>1</td>\n",
       "      <td>3</td>\n",
       "      <td>1</td>\n",
       "      <td>4</td>\n",
       "      <td>1</td>\n",
       "      <td>2</td>\n",
       "      <td>4</td>\n",
       "      <td>2</td>\n",
       "      <td>5</td>\n",
       "      <td>2</td>\n",
       "      <td>1</td>\n",
       "      <td>2</td>\n",
       "      <td>1</td>\n",
       "      <td>1</td>\n",
       "      <td>1</td>\n",
       "      <td>2</td>\n",
       "      <td>2</td>\n",
       "      <td>1</td>\n",
       "      <td>2</td>\n",
       "      <td>2</td>\n",
       "      <td>2</td>\n",
       "      <td>2</td>\n",
       "      <td>1</td>\n",
       "      <td>2</td>\n",
       "      <td>1</td>\n",
       "      <td>2</td>\n",
       "      <td>2</td>\n",
       "      <td>2</td>\n",
       "      <td>2</td>\n",
       "      <td>2</td>\n",
       "      <td>1</td>\n",
       "      <td>1</td>\n",
       "      <td>1</td>\n",
       "      <td>2</td>\n",
       "      <td>2</td>\n",
       "      <td>2</td>\n",
       "      <td>0</td>\n",
       "      <td>0</td>\n",
       "      <td>0</td>\n",
       "      <td>0</td>\n",
       "      <td>2</td>\n",
       "      <td>1</td>\n",
       "      <td>12</td>\n",
       "      <td>42</td>\n",
       "      <td>9999</td>\n",
       "      <td>77</td>\n",
       "      <td>1</td>\n",
       "      <td>1</td>\n",
       "      <td>1</td>\n",
       "      <td>0</td>\n",
       "      <td>1</td>\n",
       "      <td>January</td>\n",
       "      <td>2:00am-2:59am</td>\n",
       "      <td>58</td>\n",
       "      <td>Rural</td>\n",
       "      <td>5</td>\n",
       "      <td>Major Collector</td>\n",
       "      <td>42</td>\n",
       "      <td>Tree (Standing Only)</td>\n",
       "      <td>The First Harmful Event was Not a Collision wi...</td>\n",
       "      <td>No</td>\n",
       "      <td>59.0</td>\n",
       "      <td>Lexus</td>\n",
       "      <td>Lexus ES-250/300/300h/330/ 350</td>\n",
       "      <td>4.0</td>\n",
       "      <td>4-door sedan, hardtop</td>\n",
       "      <td>1997.0</td>\n",
       "      <td>1997</td>\n",
       "      <td>0.0</td>\n",
       "      <td>No Trailing Units</td>\n",
       "      <td>0.0</td>\n",
       "      <td>No Special Use</td>\n",
       "      <td>0.0</td>\n",
       "      <td>Not Applicable</td>\n",
       "      <td>1.0</td>\n",
       "      <td>Rollover, Tripped by Object/Vehicle</td>\n",
       "      <td>12.0</td>\n",
       "      <td>12 Clock Point</td>\n",
       "      <td>0.0</td>\n",
       "      <td>No or Not Reported</td>\n",
       "      <td>24</td>\n",
       "      <td>24 Years</td>\n",
       "      <td>1</td>\n",
       "      <td>Male</td>\n",
       "      <td>1</td>\n",
       "      <td>Driver of a Motor Vehicle In-Transport</td>\n",
       "      <td>4</td>\n",
       "      <td>Fatal Injury (K)</td>\n",
       "      <td>11</td>\n",
       "      <td>Front Seat, Left Side</td>\n",
       "      <td>20</td>\n",
       "      <td>None Used/Not Applicable</td>\n",
       "      <td>7</td>\n",
       "      <td>None Used/Not Applicable</td>\n",
       "      <td>1</td>\n",
       "      <td>Deployed- Front</td>\n",
       "      <td>0</td>\n",
       "      <td>Not Ejected</td>\n",
       "      <td>0</td>\n",
       "      <td>Ejection Path Not Applicable</td>\n",
       "      <td>1</td>\n",
       "      <td>Extricated</td>\n",
       "      <td>9</td>\n",
       "      <td>Reported as Unknown</td>\n",
       "      <td>9</td>\n",
       "      <td>Not Reported</td>\n",
       "      <td>2</td>\n",
       "      <td>Test Given</td>\n",
       "      <td>1</td>\n",
       "      <td>Blood</td>\n",
       "      <td>294</td>\n",
       "      <td>0.294 % BAC</td>\n",
       "      <td>9</td>\n",
       "      <td>Reported as Unknown</td>\n",
       "      <td>8</td>\n",
       "      <td>Not Reported</td>\n",
       "      <td>2</td>\n",
       "      <td>Test Given</td>\n",
       "      <td>0</td>\n",
       "      <td>Not Transported for Treatment</td>\n",
       "      <td>7</td>\n",
       "      <td>Died at Scene</td>\n",
       "      <td>1</td>\n",
       "      <td>1</td>\n",
       "      <td>1</td>\n",
       "      <td>January</td>\n",
       "      <td>2020</td>\n",
       "      <td>2020</td>\n",
       "      <td>2</td>\n",
       "      <td>2:00-2:59</td>\n",
       "      <td>58</td>\n",
       "      <td>58</td>\n",
       "      <td>258</td>\n",
       "      <td>258</td>\n",
       "      <td>0</td>\n",
       "      <td>0</td>\n",
       "      <td>0</td>\n",
       "      <td>0</td>\n",
       "      <td>0</td>\n",
       "      <td>No</td>\n",
       "      <td>7</td>\n",
       "      <td>Non-Hispanic</td>\n",
       "      <td>0</td>\n",
       "      <td>Occupant of a Motor Vehicle</td>\n",
       "      <td>20</td>\n",
       "      <td>Not Applicable</td>\n",
       "      <td>7</td>\n",
       "      <td>None Used/Not Applicable</td>\n",
       "      <td>515.0</td>\n",
       "      <td>Lexus</td>\n",
       "      <td>2475.0</td>\n",
       "      <td>ES</td>\n",
       "      <td>13.0</td>\n",
       "      <td>Sedan/Saloon</td>\n",
       "      <td>0.0</td>\n",
       "      <td>Not Applicable</td>\n",
       "      <td>2020</td>\n",
       "      <td>1</td>\n",
       "      <td>1</td>\n",
       "      <td>1</td>\n",
       "      <td>0</td>\n",
       "      <td>1</td>\n",
       "    </tr>\n",
       "  </tbody>\n",
       "</table>\n",
       "</div>"
      ],
      "text/plain": [
       "   state  st_case  ve_total  peds  persons  county  day  month  hour  minute  \\\n",
       "0      1    10001         1     0        4      51    1      1     2      58   \n",
       "1      1    10001         1     0        4      51    1      1     2      58   \n",
       "2      1    10001         1     0        4      51    1      1     2      58   \n",
       "3      1    10001         1     0        4      51    1      1     2      58   \n",
       "4      1    10001         1     0        4      51    1      1     2      58   \n",
       "\n",
       "   nhs  route  rur_urb  rd_owner  milept   latitude  sp_jur  man_coll  \\\n",
       "0    0      4        1         2       0  32.433133       0         0   \n",
       "1    0      4        1         2       0  32.433133       0         0   \n",
       "2    0      4        1         2       0  32.433133       0         0   \n",
       "3    0      4        1         2       0  32.433133       0         0   \n",
       "4    0      4        1         2       0  32.433133       0         0   \n",
       "\n",
       "   reljct1  reljct2  typ_int  wrk_zone  rel_road  lgt_cond  weather  sch_bus  \\\n",
       "0        0        1        1         0         4         2        1        0   \n",
       "1        0        1        1         0         4         2        1        0   \n",
       "2        0        1        1         0         4         2        1        0   \n",
       "3        0        1        1         0         4         2        1        0   \n",
       "4        0        1        1         0         4         2        1        0   \n",
       "\n",
       "   not_hour  arr_hour  hosp_hr  drunk_dr  fatals  a_crainj  a_region  a_ru  \\\n",
       "0        99         3       99         1       3         1         4     1   \n",
       "1        99         3       99         1       3         1         4     1   \n",
       "2        99         3       99         1       3         1         4     1   \n",
       "3        99         3       99         1       3         1         4     1   \n",
       "4        99         3       99         1       3         1         4     1   \n",
       "\n",
       "   a_inter  a_relrd  a_intsec  a_roadfc  a_junc  a_mancol  a_tod  a_dow  a_ct  \\\n",
       "0        2        4         2         5       2         1      2      1     1   \n",
       "1        2        4         2         5       2         1      2      1     1   \n",
       "2        2        4         2         5       2         1      2      1     1   \n",
       "3        2        4         2         5       2         1      2      1     1   \n",
       "4        2        4         2         5       2         1      2      1     1   \n",
       "\n",
       "   a_weather  a_lt  a_mc  a_spcra  a_ped  a_ped_f  a_pedal  a_pedal_f  a_roll  \\\n",
       "0          1     2     2        1      2        2        2          2       1   \n",
       "1          1     2     2        1      2        2        2          2       1   \n",
       "2          1     2     2        1      2        2        2          2       1   \n",
       "3          1     2     2        1      2        2        2          2       1   \n",
       "4          1     2     2        1      2        2        2          2       1   \n",
       "\n",
       "   a_polpur  a_posbac  a_d15_19  a_d16_19  a_d15_20  a_d16_20  a_d65pls  \\\n",
       "0         2         1         2         2         2         2         2   \n",
       "1         2         1         2         2         2         2         2   \n",
       "2         2         1         2         2         2         2         2   \n",
       "3         2         1         2         2         2         2         2   \n",
       "4         2         1         2         2         2         2         2   \n",
       "\n",
       "   a_d21_24  a_d16_24  a_rd  a_hr  a_dist  a_drowsy  bia  spj_indian  \\\n",
       "0         1         1     1     2       2         2    0           0   \n",
       "1         1         1     1     2       2         2    0           0   \n",
       "2         1         1     1     2       2         2    0           0   \n",
       "3         1         1     1     2       2         2    0           0   \n",
       "4         1         1     1     2       2         2    0           0   \n",
       "\n",
       "   indian_res  crashrf  eventnum  vnumber1  aoi1  soe  vnumber2  aoi2  \\\n",
       "0           0        0         1         1    55   63      5555    55   \n",
       "1           0        0         1         1    55   63      5555    55   \n",
       "2           0        0         1         1    55   63      5555    55   \n",
       "3           0        0         1         1    55   63      5555    55   \n",
       "4           0        0         2         1    12   42      9999    77   \n",
       "\n",
       "   ve_forms  veh_no  per_no  str_veh  dayname monthname       hourname  \\\n",
       "0         1       1       1        0        1   January  2:00am-2:59am   \n",
       "1         1       1       2        0        1   January  2:00am-2:59am   \n",
       "2         1       1       3        0        1   January  2:00am-2:59am   \n",
       "3         1       1       4        0        1   January  2:00am-2:59am   \n",
       "4         1       1       1        0        1   January  2:00am-2:59am   \n",
       "\n",
       "  minutename rur_urbname  func_sys     func_sysname  harm_ev  \\\n",
       "0         58       Rural         5  Major Collector       42   \n",
       "1         58       Rural         5  Major Collector       42   \n",
       "2         58       Rural         5  Major Collector       42   \n",
       "3         58       Rural         5  Major Collector       42   \n",
       "4         58       Rural         5  Major Collector       42   \n",
       "\n",
       "            harm_evname                                       man_collname  \\\n",
       "0  Tree (Standing Only)  The First Harmful Event was Not a Collision wi...   \n",
       "1  Tree (Standing Only)  The First Harmful Event was Not a Collision wi...   \n",
       "2  Tree (Standing Only)  The First Harmful Event was Not a Collision wi...   \n",
       "3  Tree (Standing Only)  The First Harmful Event was Not a Collision wi...   \n",
       "4  Tree (Standing Only)  The First Harmful Event was Not a Collision wi...   \n",
       "\n",
       "  sch_busname  make makename                         mak_mod  body_typ  \\\n",
       "0          No  59.0    Lexus  Lexus ES-250/300/300h/330/ 350       4.0   \n",
       "1          No  59.0    Lexus  Lexus ES-250/300/300h/330/ 350       4.0   \n",
       "2          No  59.0    Lexus  Lexus ES-250/300/300h/330/ 350       4.0   \n",
       "3          No  59.0    Lexus  Lexus ES-250/300/300h/330/ 350       4.0   \n",
       "4          No  59.0    Lexus  Lexus ES-250/300/300h/330/ 350       4.0   \n",
       "\n",
       "            body_typname  mod_year mod_yearname  tow_veh        tow_vehname  \\\n",
       "0  4-door sedan, hardtop    1997.0         1997      0.0  No Trailing Units   \n",
       "1  4-door sedan, hardtop    1997.0         1997      0.0  No Trailing Units   \n",
       "2  4-door sedan, hardtop    1997.0         1997      0.0  No Trailing Units   \n",
       "3  4-door sedan, hardtop    1997.0         1997      0.0  No Trailing Units   \n",
       "4  4-door sedan, hardtop    1997.0         1997      0.0  No Trailing Units   \n",
       "\n",
       "   spec_use    spec_usename  emer_use    emer_usename  rollover  \\\n",
       "0       0.0  No Special Use       0.0  Not Applicable       1.0   \n",
       "1       0.0  No Special Use       0.0  Not Applicable       1.0   \n",
       "2       0.0  No Special Use       0.0  Not Applicable       1.0   \n",
       "3       0.0  No Special Use       0.0  Not Applicable       1.0   \n",
       "4       0.0  No Special Use       0.0  Not Applicable       1.0   \n",
       "\n",
       "                          rollovername  impact1     impact1name  fire_exp  \\\n",
       "0  Rollover, Tripped by Object/Vehicle     12.0  12 Clock Point       0.0   \n",
       "1  Rollover, Tripped by Object/Vehicle     12.0  12 Clock Point       0.0   \n",
       "2  Rollover, Tripped by Object/Vehicle     12.0  12 Clock Point       0.0   \n",
       "3  Rollover, Tripped by Object/Vehicle     12.0  12 Clock Point       0.0   \n",
       "4  Rollover, Tripped by Object/Vehicle     12.0  12 Clock Point       0.0   \n",
       "\n",
       "         fire_expname  age   agename  sex sexname  per_typ  \\\n",
       "0  No or Not Reported   24  24 Years    1    Male        1   \n",
       "1  No or Not Reported   21  21 Years    1    Male        2   \n",
       "2  No or Not Reported   22  22 Years    2  Female        2   \n",
       "3  No or Not Reported   22  22 Years    2  Female        2   \n",
       "4  No or Not Reported   24  24 Years    1    Male        1   \n",
       "\n",
       "                                 per_typname  inj_sev  \\\n",
       "0     Driver of a Motor Vehicle In-Transport        4   \n",
       "1  Passenger of a Motor Vehicle In-Transport        3   \n",
       "2  Passenger of a Motor Vehicle In-Transport        4   \n",
       "3  Passenger of a Motor Vehicle In-Transport        4   \n",
       "4     Driver of a Motor Vehicle In-Transport        4   \n",
       "\n",
       "                    inj_sevname  seat_pos             seat_posname  rest_use  \\\n",
       "0              Fatal Injury (K)        11    Front Seat, Left Side        20   \n",
       "1  Suspected Serious Injury (A)        13   Front Seat, Right Side         3   \n",
       "2              Fatal Injury (K)        21   Second Seat, Left Side        20   \n",
       "3              Fatal Injury (K)        23  Second Seat, Right Side        20   \n",
       "4              Fatal Injury (K)        11    Front Seat, Left Side        20   \n",
       "\n",
       "                 rest_usename  rest_mis              rest_misname  air_bag  \\\n",
       "0    None Used/Not Applicable         7  None Used/Not Applicable        1   \n",
       "1  Shoulder and Lap Belt Used         0  No Indication of Mis-Use        1   \n",
       "2    None Used/Not Applicable         7  None Used/Not Applicable       20   \n",
       "3    None Used/Not Applicable         7  None Used/Not Applicable       20   \n",
       "4    None Used/Not Applicable         7  None Used/Not Applicable        1   \n",
       "\n",
       "       air_bagname  ejection ejectionname  ej_path  \\\n",
       "0  Deployed- Front         0  Not Ejected        0   \n",
       "1  Deployed- Front         0  Not Ejected        0   \n",
       "2     Not Deployed         0  Not Ejected        0   \n",
       "3     Not Deployed         0  Not Ejected        0   \n",
       "4  Deployed- Front         0  Not Ejected        0   \n",
       "\n",
       "                    ej_pathname  extricat extricatname  drinking  \\\n",
       "0  Ejection Path Not Applicable         1   Extricated         9   \n",
       "1  Ejection Path Not Applicable         1   Extricated         8   \n",
       "2  Ejection Path Not Applicable         1   Extricated         8   \n",
       "3  Ejection Path Not Applicable         1   Extricated         8   \n",
       "4  Ejection Path Not Applicable         1   Extricated         9   \n",
       "\n",
       "          drinkingname  alc_det   alc_detname  alc_status  alc_statusname  \\\n",
       "0  Reported as Unknown        9  Not Reported           2      Test Given   \n",
       "1         Not Reported        9  Not Reported           0  Test Not Given   \n",
       "2         Not Reported        9  Not Reported           2      Test Given   \n",
       "3         Not Reported        9  Not Reported           2      Test Given   \n",
       "4  Reported as Unknown        9  Not Reported           2      Test Given   \n",
       "\n",
       "   atst_typ    atst_typname  alc_res     alc_resname  drugs  \\\n",
       "0         1           Blood      294     0.294 % BAC      9   \n",
       "1         0  Test Not Given      996  Test Not Given      8   \n",
       "2         1           Blood       69     0.069 % BAC      8   \n",
       "3         1           Blood      120     0.120 % BAC      8   \n",
       "4         1           Blood      294     0.294 % BAC      9   \n",
       "\n",
       "             drugsname  drug_det  drug_detname  dstatus     dstatusname  \\\n",
       "0  Reported as Unknown         8  Not Reported        2      Test Given   \n",
       "1         Not Reported         8  Not Reported        0  Test Not Given   \n",
       "2         Not Reported         8  Not Reported        2      Test Given   \n",
       "3         Not Reported         8  Not Reported        2      Test Given   \n",
       "4  Reported as Unknown         8  Not Reported        2      Test Given   \n",
       "\n",
       "   hospital                   hospitalname  doa         doaname  death_da  \\\n",
       "0         0  Not Transported for Treatment    7   Died at Scene         1   \n",
       "1         5                     EMS Ground    0  Not Applicable        88   \n",
       "2         0  Not Transported for Treatment    7   Died at Scene         1   \n",
       "3         0  Not Transported for Treatment    7   Died at Scene         1   \n",
       "4         0  Not Transported for Treatment    7   Died at Scene         1   \n",
       "\n",
       "                 death_daname  death_mo                death_moname  death_yr  \\\n",
       "0                           1         1                     January      2020   \n",
       "1  Not Applicable (Non-Fatal)        88  Not Applicable (Non-Fatal)      8888   \n",
       "2                           1         1                     January      2020   \n",
       "3                           1         1                     January      2020   \n",
       "4                           1         1                     January      2020   \n",
       "\n",
       "                 death_yrname  death_hr                death_hrname  death_mn  \\\n",
       "0                        2020         2                   2:00-2:59        58   \n",
       "1  Not Applicable (Non-fatal)        88  Not Applicable (Non-fatal)        88   \n",
       "2                        2020         2                   2:00-2:59        58   \n",
       "3                        2020         2                   2:00-2:59        58   \n",
       "4                        2020         2                   2:00-2:59        58   \n",
       "\n",
       "                 death_mnname  death_tm                death_tmname  lag_hrs  \\\n",
       "0                          58       258                         258        0   \n",
       "1  Not Applicable (Non-fatal)      8888  Not Applicable (Non-fatal)      999   \n",
       "2                          58       258                         258        0   \n",
       "3                          58       258                         258        0   \n",
       "4                          58       258                         258        0   \n",
       "\n",
       "  lag_hrsname  lag_mins lag_minsname  work_inj  \\\n",
       "0           0         0            0         0   \n",
       "1     Unknown        99      Unknown         8   \n",
       "2           0         0            0         0   \n",
       "3           0         0            0         0   \n",
       "4           0         0            0         0   \n",
       "\n",
       "                      work_injname  hispanic                     hispanicname  \\\n",
       "0                               No         7                     Non-Hispanic   \n",
       "1  Not Applicable (not a fatality)         0  Not A Fatality (not Applicable)   \n",
       "2                               No         7                     Non-Hispanic   \n",
       "3                               No         7                     Non-Hispanic   \n",
       "4                               No         7                     Non-Hispanic   \n",
       "\n",
       "   location                 locationname  helm_use    helm_usename  helm_mis  \\\n",
       "0         0  Occupant of a Motor Vehicle        20  Not Applicable         7   \n",
       "1         0  Occupant of a Motor Vehicle        20  Not Applicable         7   \n",
       "2         0  Occupant of a Motor Vehicle        20  Not Applicable         7   \n",
       "3         0  Occupant of a Motor Vehicle        20  Not Applicable         7   \n",
       "4         0  Occupant of a Motor Vehicle        20  Not Applicable         7   \n",
       "\n",
       "               helm_misname  vpicmake vpicmakename  vpicmodel vpicmodelname  \\\n",
       "0  None Used/Not Applicable     515.0        Lexus     2475.0            ES   \n",
       "1  None Used/Not Applicable     515.0        Lexus     2475.0            ES   \n",
       "2  None Used/Not Applicable     515.0        Lexus     2475.0            ES   \n",
       "3  None Used/Not Applicable     515.0        Lexus     2475.0            ES   \n",
       "4  None Used/Not Applicable     515.0        Lexus     2475.0            ES   \n",
       "\n",
       "   vpicbodyclass vpicbodyclassname  icfinalbody icfinalbodyname  data_year  \\\n",
       "0           13.0      Sedan/Saloon          0.0  Not Applicable       2020   \n",
       "1           13.0      Sedan/Saloon          0.0  Not Applicable       2020   \n",
       "2           13.0      Sedan/Saloon          0.0  Not Applicable       2020   \n",
       "3           13.0      Sedan/Saloon          0.0  Not Applicable       2020   \n",
       "4           13.0      Sedan/Saloon          0.0  Not Applicable       2020   \n",
       "\n",
       "   binary_fatals  inj_sev_binary  drunk  work_zone_binary  lgt_cond_binary  \n",
       "0              1               1      1                 0                1  \n",
       "1              1               1      1                 0                1  \n",
       "2              1               1      1                 0                1  \n",
       "3              1               1      1                 0                1  \n",
       "4              1               1      1                 0                1  "
      ]
     },
     "execution_count": 126,
     "metadata": {},
     "output_type": "execute_result"
    }
   ],
   "source": [
    "#Lets take a look at the columns to see if there are any interesting takeaways\n",
    "pd.set_option('display.max.columns', None)\n",
    "accidents_df.head(5)\n"
   ]
  },
  {
   "cell_type": "markdown",
   "id": "5fcc0c2a-91e5-4b68-837f-5b26cf92570d",
   "metadata": {},
   "source": [
    "# More data exploration and cleaning"
   ]
  },
  {
   "cell_type": "code",
   "execution_count": 6,
   "id": "69798a17-5744-4b4d-a102-09e28f42882a",
   "metadata": {},
   "outputs": [
    {
     "data": {
      "text/html": [
       "<div>\n",
       "<style scoped>\n",
       "    .dataframe tbody tr th:only-of-type {\n",
       "        vertical-align: middle;\n",
       "    }\n",
       "\n",
       "    .dataframe tbody tr th {\n",
       "        vertical-align: top;\n",
       "    }\n",
       "\n",
       "    .dataframe thead th {\n",
       "        text-align: right;\n",
       "    }\n",
       "</style>\n",
       "<table border=\"1\" class=\"dataframe\">\n",
       "  <thead>\n",
       "    <tr style=\"text-align: right;\">\n",
       "      <th></th>\n",
       "      <th>fatals</th>\n",
       "      <th>persons</th>\n",
       "      <th>peds</th>\n",
       "    </tr>\n",
       "  </thead>\n",
       "  <tbody>\n",
       "    <tr>\n",
       "      <th>1249</th>\n",
       "      <td>2</td>\n",
       "      <td>1</td>\n",
       "      <td>2</td>\n",
       "    </tr>\n",
       "    <tr>\n",
       "      <th>1250</th>\n",
       "      <td>2</td>\n",
       "      <td>1</td>\n",
       "      <td>2</td>\n",
       "    </tr>\n",
       "    <tr>\n",
       "      <th>1251</th>\n",
       "      <td>2</td>\n",
       "      <td>1</td>\n",
       "      <td>2</td>\n",
       "    </tr>\n",
       "    <tr>\n",
       "      <th>1252</th>\n",
       "      <td>2</td>\n",
       "      <td>1</td>\n",
       "      <td>2</td>\n",
       "    </tr>\n",
       "    <tr>\n",
       "      <th>1253</th>\n",
       "      <td>2</td>\n",
       "      <td>1</td>\n",
       "      <td>2</td>\n",
       "    </tr>\n",
       "    <tr>\n",
       "      <th>...</th>\n",
       "      <td>...</td>\n",
       "      <td>...</td>\n",
       "      <td>...</td>\n",
       "    </tr>\n",
       "    <tr>\n",
       "      <th>256954</th>\n",
       "      <td>2</td>\n",
       "      <td>1</td>\n",
       "      <td>2</td>\n",
       "    </tr>\n",
       "    <tr>\n",
       "      <th>256955</th>\n",
       "      <td>2</td>\n",
       "      <td>1</td>\n",
       "      <td>2</td>\n",
       "    </tr>\n",
       "    <tr>\n",
       "      <th>256956</th>\n",
       "      <td>2</td>\n",
       "      <td>1</td>\n",
       "      <td>2</td>\n",
       "    </tr>\n",
       "    <tr>\n",
       "      <th>258219</th>\n",
       "      <td>1</td>\n",
       "      <td>0</td>\n",
       "      <td>1</td>\n",
       "    </tr>\n",
       "    <tr>\n",
       "      <th>264564</th>\n",
       "      <td>1</td>\n",
       "      <td>0</td>\n",
       "      <td>1</td>\n",
       "    </tr>\n",
       "  </tbody>\n",
       "</table>\n",
       "<p>1318 rows × 3 columns</p>\n",
       "</div>"
      ],
      "text/plain": [
       "        fatals  persons  peds\n",
       "1249         2        1     2\n",
       "1250         2        1     2\n",
       "1251         2        1     2\n",
       "1252         2        1     2\n",
       "1253         2        1     2\n",
       "...        ...      ...   ...\n",
       "256954       2        1     2\n",
       "256955       2        1     2\n",
       "256956       2        1     2\n",
       "258219       1        0     1\n",
       "264564       1        0     1\n",
       "\n",
       "[1318 rows x 3 columns]"
      ]
     },
     "execution_count": 6,
     "metadata": {},
     "output_type": "execute_result"
    }
   ],
   "source": [
    "# First lets take a look at the fatals, persons, oeds columns\n",
    "# To note- not everyone involved in the crashes died\n",
    "\n",
    "accidents_df.loc[(accidents_df['fatals'] > accidents_df['persons']), ['fatals', 'persons', 'peds']]"
   ]
  },
  {
   "cell_type": "code",
   "execution_count": 7,
   "id": "77638a87-c1e3-4cad-9472-c4e51ec5fcc0",
   "metadata": {},
   "outputs": [
    {
     "data": {
      "text/plain": [
       "array(['Died at Scene', 'Not Applicable', 'Died En Route', 'Unknown'],\n",
       "      dtype=object)"
      ]
     },
     "execution_count": 7,
     "metadata": {},
     "output_type": "execute_result"
    }
   ],
   "source": [
    "# This column represents those who died at the scene or en route\n",
    "# Taking a deeper look - I would need to binarize this column to make use of it\n",
    "accidents_df['doaname'].unique()"
   ]
  },
  {
   "cell_type": "code",
   "execution_count": 8,
   "id": "bba55bde-6dcb-4608-9cf3-7e4c868ef618",
   "metadata": {},
   "outputs": [
    {
     "data": {
      "text/plain": [
       "Not Applicable    190244\n",
       "Died at Scene      71342\n",
       "Unknown             2852\n",
       "Died En Route        753\n",
       "Name: doaname, dtype: int64"
      ]
     },
     "execution_count": 8,
     "metadata": {},
     "output_type": "execute_result"
    }
   ],
   "source": [
    "### far too many not applicable- will have to drop column\n",
    "accidents_df['doaname'].value_counts()"
   ]
  },
  {
   "cell_type": "code",
   "execution_count": 130,
   "id": "838f7247-4ad3-4a5b-8d4a-edfba3dc8b39",
   "metadata": {},
   "outputs": [],
   "source": [
    "#the doaname column has been dropped\n",
    "accidents_df = accidents_df.drop(columns=['doaname'])"
   ]
  },
  {
   "cell_type": "code",
   "execution_count": 9,
   "id": "33994994-1037-48e3-bb29-2b646d4c923c",
   "metadata": {},
   "outputs": [
    {
     "data": {
      "text/plain": [
       "1    225889\n",
       "2     30537\n",
       "3      6284\n",
       "4      1766\n",
       "5       547\n",
       "6       104\n",
       "7        40\n",
       "8        24\n",
       "Name: fatals, dtype: int64"
      ]
     },
     "execution_count": 9,
     "metadata": {},
     "output_type": "execute_result"
    }
   ],
   "source": [
    "#Let's take a look at the total number of fatals in a unique state case\n",
    "# As we can see the majority of fatal accidents that occur in this data set involve one person... why?\n",
    "accidents_df['fatals'].value_counts()"
   ]
  },
  {
   "cell_type": "code",
   "execution_count": 10,
   "id": "9aee8a96-d6f2-4c37-9095-1c7de6ebe192",
   "metadata": {},
   "outputs": [],
   "source": [
    "#here I will bin the columns to make them binary- either fatals = 1 or fatal > 1\n",
    "\n",
    "## Make a seasons function that bins fatals\n",
    "def binary_fatals(x):\n",
    "    if x == 1:\n",
    "        return 0\n",
    "    elif x > 0:\n",
    "        return 1"
   ]
  },
  {
   "cell_type": "code",
   "execution_count": 11,
   "id": "24005dd5-77de-4933-afda-47e99525d670",
   "metadata": {},
   "outputs": [],
   "source": [
    "# Lets save the previous equation to the df\n",
    "accidents_df['binary_fatals'] = accidents_df['fatals'].map(binary_fatals)"
   ]
  },
  {
   "cell_type": "code",
   "execution_count": 12,
   "id": "fb725397-c197-445a-b7fd-320cfc6f1933",
   "metadata": {},
   "outputs": [
    {
     "data": {
      "text/plain": [
       "0    225889\n",
       "1     39302\n",
       "Name: binary_fatals, dtype: int64"
      ]
     },
     "execution_count": 12,
     "metadata": {},
     "output_type": "execute_result"
    }
   ],
   "source": [
    "# now lets take a look at the totals\n",
    "accidents_df['binary_fatals'].value_counts()"
   ]
  },
  {
   "cell_type": "code",
   "execution_count": 141,
   "id": "916422ff-b33c-451c-8edb-b6593b3fb065",
   "metadata": {},
   "outputs": [
    {
     "data": {
      "text/html": [
       "<div>\n",
       "<style scoped>\n",
       "    .dataframe tbody tr th:only-of-type {\n",
       "        vertical-align: middle;\n",
       "    }\n",
       "\n",
       "    .dataframe tbody tr th {\n",
       "        vertical-align: top;\n",
       "    }\n",
       "\n",
       "    .dataframe thead th {\n",
       "        text-align: right;\n",
       "    }\n",
       "</style>\n",
       "<table border=\"1\" class=\"dataframe\">\n",
       "  <thead>\n",
       "    <tr style=\"text-align: right;\">\n",
       "      <th></th>\n",
       "      <th>binary_fatals</th>\n",
       "      <th>inj_sev</th>\n",
       "    </tr>\n",
       "  </thead>\n",
       "  <tbody>\n",
       "    <tr>\n",
       "      <th>binary_fatals</th>\n",
       "      <td>1.000000</td>\n",
       "      <td>0.103747</td>\n",
       "    </tr>\n",
       "    <tr>\n",
       "      <th>inj_sev</th>\n",
       "      <td>0.103747</td>\n",
       "      <td>1.000000</td>\n",
       "    </tr>\n",
       "  </tbody>\n",
       "</table>\n",
       "</div>"
      ],
      "text/plain": [
       "               binary_fatals   inj_sev\n",
       "binary_fatals       1.000000  0.103747\n",
       "inj_sev             0.103747  1.000000"
      ]
     },
     "execution_count": 141,
     "metadata": {},
     "output_type": "execute_result"
    }
   ],
   "source": [
    "# I want to check the correlation between inj_sev and binary_fatals\n",
    "# The correlation is weak\n",
    "# Lets take a closer look inj_sev\n",
    "accidents_df[['binary_fatals', 'inj_sev']].corr()"
   ]
  },
  {
   "cell_type": "code",
   "execution_count": 133,
   "id": "d656f94a-5662-40b1-b644-6b0b1dc1edae",
   "metadata": {},
   "outputs": [
    {
     "data": {
      "text/plain": [
       "4    115470\n",
       "0     57004\n",
       "3     32747\n",
       "2     30575\n",
       "1     21276\n",
       "Name: inj_sev, dtype: int64"
      ]
     },
     "execution_count": 133,
     "metadata": {},
     "output_type": "execute_result"
    }
   ],
   "source": [
    "# The majority of inj_sev are denoted as fatal\n",
    "# In order to get a netter understanding I need to drop some rows from this column\n",
    "# I also need to binarize it\n",
    "accidents_df['inj_sev'].value_counts()"
   ]
  },
  {
   "cell_type": "code",
   "execution_count": 134,
   "id": "4afa8e73-e048-4dda-8d67-aac3f4106b5b",
   "metadata": {},
   "outputs": [],
   "source": [
    "#here I will bin the columns to make them binary- either fatals = 1 or fatal > 1\n",
    "\n",
    "## Make a seasons function that bins fatals\n",
    "def inj_sev_binary(x):\n",
    "    if x == 4:\n",
    "        return 0\n",
    "    elif x != 4:\n",
    "        return 1"
   ]
  },
  {
   "cell_type": "code",
   "execution_count": 135,
   "id": "fb8e9b9f-0697-48ba-896e-3e076eda6d1d",
   "metadata": {},
   "outputs": [],
   "source": [
    "# Saving the changes to the dataframe\n",
    "accidents_df['inj_sev_binary'] = accidents_df['inj_sev'].map(inj_sev_binary)"
   ]
  },
  {
   "cell_type": "code",
   "execution_count": 140,
   "id": "10b1e357-a323-428f-8d76-24bfb96dfaa5",
   "metadata": {},
   "outputs": [
    {
     "data": {
      "text/plain": [
       "array([0, 1], dtype=int64)"
      ]
     },
     "execution_count": 140,
     "metadata": {},
     "output_type": "execute_result"
    }
   ],
   "source": [
    "#Lets take a look to make sure the changes were made\n",
    "accidents_df['inj_sev_binary'].unique()"
   ]
  },
  {
   "cell_type": "code",
   "execution_count": 139,
   "id": "099d09a8-d23e-4a4a-b72b-6a5b0f810dbd",
   "metadata": {},
   "outputs": [
    {
     "data": {
      "text/plain": [
       "1    141602\n",
       "0    115470\n",
       "Name: inj_sev_binary, dtype: int64"
      ]
     },
     "execution_count": 139,
     "metadata": {},
     "output_type": "execute_result"
    }
   ],
   "source": [
    "#Let's see how many there are of each\n",
    "accidents_df['inj_sev_binary'].value_counts()"
   ]
  },
  {
   "cell_type": "code",
   "execution_count": 142,
   "id": "120ff0c4-d374-4321-b914-1a4bc5e67456",
   "metadata": {},
   "outputs": [
    {
     "data": {
      "text/html": [
       "<div>\n",
       "<style scoped>\n",
       "    .dataframe tbody tr th:only-of-type {\n",
       "        vertical-align: middle;\n",
       "    }\n",
       "\n",
       "    .dataframe tbody tr th {\n",
       "        vertical-align: top;\n",
       "    }\n",
       "\n",
       "    .dataframe thead th {\n",
       "        text-align: right;\n",
       "    }\n",
       "</style>\n",
       "<table border=\"1\" class=\"dataframe\">\n",
       "  <thead>\n",
       "    <tr style=\"text-align: right;\">\n",
       "      <th></th>\n",
       "      <th>binary_fatals</th>\n",
       "      <th>inj_sev</th>\n",
       "    </tr>\n",
       "  </thead>\n",
       "  <tbody>\n",
       "    <tr>\n",
       "      <th>binary_fatals</th>\n",
       "      <td>1.000000</td>\n",
       "      <td>0.103747</td>\n",
       "    </tr>\n",
       "    <tr>\n",
       "      <th>inj_sev</th>\n",
       "      <td>0.103747</td>\n",
       "      <td>1.000000</td>\n",
       "    </tr>\n",
       "  </tbody>\n",
       "</table>\n",
       "</div>"
      ],
      "text/plain": [
       "               binary_fatals   inj_sev\n",
       "binary_fatals       1.000000  0.103747\n",
       "inj_sev             0.103747  1.000000"
      ]
     },
     "execution_count": 142,
     "metadata": {},
     "output_type": "execute_result"
    }
   ],
   "source": [
    "# The correlation has improved\n",
    "accidents_df[['binary_fatals', 'inj_sev']].corr()"
   ]
  },
  {
   "cell_type": "code",
   "execution_count": 144,
   "id": "ffb0feec-f16e-48ea-be5d-0c49741a48e4",
   "metadata": {},
   "outputs": [],
   "source": [
    "#accidents_df.loc[accidents_df['st_case'] == 80224].duplicated().any()"
   ]
  },
  {
   "cell_type": "code",
   "execution_count": 145,
   "id": "96716896-5026-49cf-b70d-800f3f2529b1",
   "metadata": {},
   "outputs": [],
   "source": [
    "#accidents_df.loc[accidents_df['st_case'] == 80224, ['inj_sev', 'fatals', 'st_case', 'persons', 'peds', 'per_no', 'veh_no', 'per_typ']].duplicated().any()"
   ]
  },
  {
   "cell_type": "code",
   "execution_count": 157,
   "id": "d7bc7433-c43d-44bb-90ad-51b6170e20ba",
   "metadata": {},
   "outputs": [],
   "source": [
    "#Lets take a closer look at the persons column along with a few others\n",
    "accidents_df_persons = accidents_df.loc[accidents_df['persons'] > 5, ['inj_sev', 'fatals', 'st_case', 'persons', 'peds', 'veh_no','inj_sev_binary']]"
   ]
  },
  {
   "cell_type": "code",
   "execution_count": 158,
   "id": "09552ef2-d4bb-4ad1-95d8-da50b6448605",
   "metadata": {},
   "outputs": [
    {
     "data": {
      "text/html": [
       "<div>\n",
       "<style scoped>\n",
       "    .dataframe tbody tr th:only-of-type {\n",
       "        vertical-align: middle;\n",
       "    }\n",
       "\n",
       "    .dataframe tbody tr th {\n",
       "        vertical-align: top;\n",
       "    }\n",
       "\n",
       "    .dataframe thead th {\n",
       "        text-align: right;\n",
       "    }\n",
       "</style>\n",
       "<table border=\"1\" class=\"dataframe\">\n",
       "  <thead>\n",
       "    <tr style=\"text-align: right;\">\n",
       "      <th></th>\n",
       "      <th>inj_sev</th>\n",
       "      <th>fatals</th>\n",
       "      <th>st_case</th>\n",
       "      <th>peds</th>\n",
       "      <th>veh_no</th>\n",
       "      <th>inj_sev_binary</th>\n",
       "    </tr>\n",
       "    <tr>\n",
       "      <th>persons</th>\n",
       "      <th></th>\n",
       "      <th></th>\n",
       "      <th></th>\n",
       "      <th></th>\n",
       "      <th></th>\n",
       "      <th></th>\n",
       "    </tr>\n",
       "  </thead>\n",
       "  <tbody>\n",
       "    <tr>\n",
       "      <th>6</th>\n",
       "      <td>1.938142</td>\n",
       "      <td>1.345416</td>\n",
       "      <td>263658.094148</td>\n",
       "      <td>0.075776</td>\n",
       "      <td>1.954720</td>\n",
       "      <td>0.775393</td>\n",
       "    </tr>\n",
       "    <tr>\n",
       "      <th>7</th>\n",
       "      <td>1.676724</td>\n",
       "      <td>1.345984</td>\n",
       "      <td>257387.770921</td>\n",
       "      <td>0.103133</td>\n",
       "      <td>2.203848</td>\n",
       "      <td>0.808978</td>\n",
       "    </tr>\n",
       "    <tr>\n",
       "      <th>8</th>\n",
       "      <td>1.700776</td>\n",
       "      <td>1.430830</td>\n",
       "      <td>273042.834285</td>\n",
       "      <td>0.099107</td>\n",
       "      <td>2.464646</td>\n",
       "      <td>0.820524</td>\n",
       "    </tr>\n",
       "    <tr>\n",
       "      <th>9</th>\n",
       "      <td>1.660251</td>\n",
       "      <td>1.682123</td>\n",
       "      <td>313142.612423</td>\n",
       "      <td>0.165646</td>\n",
       "      <td>2.654710</td>\n",
       "      <td>0.811899</td>\n",
       "    </tr>\n",
       "    <tr>\n",
       "      <th>10</th>\n",
       "      <td>1.503384</td>\n",
       "      <td>1.558376</td>\n",
       "      <td>321543.253807</td>\n",
       "      <td>0.000000</td>\n",
       "      <td>2.750846</td>\n",
       "      <td>0.843063</td>\n",
       "    </tr>\n",
       "    <tr>\n",
       "      <th>11</th>\n",
       "      <td>1.536652</td>\n",
       "      <td>1.721007</td>\n",
       "      <td>236848.903173</td>\n",
       "      <td>0.059081</td>\n",
       "      <td>2.963895</td>\n",
       "      <td>0.843545</td>\n",
       "    </tr>\n",
       "    <tr>\n",
       "      <th>12</th>\n",
       "      <td>1.270517</td>\n",
       "      <td>1.319149</td>\n",
       "      <td>353581.680851</td>\n",
       "      <td>0.000000</td>\n",
       "      <td>3.900456</td>\n",
       "      <td>0.885258</td>\n",
       "    </tr>\n",
       "    <tr>\n",
       "      <th>13</th>\n",
       "      <td>1.428054</td>\n",
       "      <td>1.341176</td>\n",
       "      <td>118945.976471</td>\n",
       "      <td>0.000000</td>\n",
       "      <td>3.866968</td>\n",
       "      <td>0.896833</td>\n",
       "    </tr>\n",
       "    <tr>\n",
       "      <th>14</th>\n",
       "      <td>1.166322</td>\n",
       "      <td>1.144628</td>\n",
       "      <td>313283.362603</td>\n",
       "      <td>0.000000</td>\n",
       "      <td>4.364669</td>\n",
       "      <td>0.917872</td>\n",
       "    </tr>\n",
       "    <tr>\n",
       "      <th>15</th>\n",
       "      <td>1.660870</td>\n",
       "      <td>1.347826</td>\n",
       "      <td>192749.304348</td>\n",
       "      <td>0.000000</td>\n",
       "      <td>3.411594</td>\n",
       "      <td>0.910145</td>\n",
       "    </tr>\n",
       "    <tr>\n",
       "      <th>16</th>\n",
       "      <td>0.656250</td>\n",
       "      <td>1.000000</td>\n",
       "      <td>239625.062500</td>\n",
       "      <td>0.000000</td>\n",
       "      <td>4.597656</td>\n",
       "      <td>0.937500</td>\n",
       "    </tr>\n",
       "    <tr>\n",
       "      <th>17</th>\n",
       "      <td>0.588235</td>\n",
       "      <td>2.000000</td>\n",
       "      <td>61128.000000</td>\n",
       "      <td>0.000000</td>\n",
       "      <td>4.705882</td>\n",
       "      <td>0.882353</td>\n",
       "    </tr>\n",
       "    <tr>\n",
       "      <th>19</th>\n",
       "      <td>1.319838</td>\n",
       "      <td>1.000000</td>\n",
       "      <td>78156.307692</td>\n",
       "      <td>0.000000</td>\n",
       "      <td>5.587045</td>\n",
       "      <td>0.947368</td>\n",
       "    </tr>\n",
       "    <tr>\n",
       "      <th>20</th>\n",
       "      <td>2.300000</td>\n",
       "      <td>1.636364</td>\n",
       "      <td>475154.000000</td>\n",
       "      <td>0.000000</td>\n",
       "      <td>1.604545</td>\n",
       "      <td>0.918182</td>\n",
       "    </tr>\n",
       "    <tr>\n",
       "      <th>21</th>\n",
       "      <td>2.104762</td>\n",
       "      <td>2.200000</td>\n",
       "      <td>41036.000000</td>\n",
       "      <td>0.000000</td>\n",
       "      <td>1.380952</td>\n",
       "      <td>0.895238</td>\n",
       "    </tr>\n",
       "    <tr>\n",
       "      <th>22</th>\n",
       "      <td>0.181818</td>\n",
       "      <td>1.000000</td>\n",
       "      <td>220483.000000</td>\n",
       "      <td>0.000000</td>\n",
       "      <td>1.500000</td>\n",
       "      <td>0.954545</td>\n",
       "    </tr>\n",
       "    <tr>\n",
       "      <th>24</th>\n",
       "      <td>1.125000</td>\n",
       "      <td>1.000000</td>\n",
       "      <td>80575.000000</td>\n",
       "      <td>0.000000</td>\n",
       "      <td>8.791667</td>\n",
       "      <td>0.958333</td>\n",
       "    </tr>\n",
       "    <tr>\n",
       "      <th>26</th>\n",
       "      <td>2.076923</td>\n",
       "      <td>3.000000</td>\n",
       "      <td>180021.000000</td>\n",
       "      <td>0.000000</td>\n",
       "      <td>5.269231</td>\n",
       "      <td>0.884615</td>\n",
       "    </tr>\n",
       "    <tr>\n",
       "      <th>28</th>\n",
       "      <td>1.071429</td>\n",
       "      <td>1.000000</td>\n",
       "      <td>370149.000000</td>\n",
       "      <td>0.000000</td>\n",
       "      <td>1.035714</td>\n",
       "      <td>0.964286</td>\n",
       "    </tr>\n",
       "    <tr>\n",
       "      <th>31</th>\n",
       "      <td>2.161290</td>\n",
       "      <td>1.000000</td>\n",
       "      <td>482487.000000</td>\n",
       "      <td>0.000000</td>\n",
       "      <td>1.967742</td>\n",
       "      <td>0.967742</td>\n",
       "    </tr>\n",
       "    <tr>\n",
       "      <th>61</th>\n",
       "      <td>4.000000</td>\n",
       "      <td>1.000000</td>\n",
       "      <td>420105.000000</td>\n",
       "      <td>0.000000</td>\n",
       "      <td>1.000000</td>\n",
       "      <td>0.000000</td>\n",
       "    </tr>\n",
       "  </tbody>\n",
       "</table>\n",
       "</div>"
      ],
      "text/plain": [
       "          inj_sev    fatals        st_case      peds    veh_no  inj_sev_binary\n",
       "persons                                                                       \n",
       "6        1.938142  1.345416  263658.094148  0.075776  1.954720        0.775393\n",
       "7        1.676724  1.345984  257387.770921  0.103133  2.203848        0.808978\n",
       "8        1.700776  1.430830  273042.834285  0.099107  2.464646        0.820524\n",
       "9        1.660251  1.682123  313142.612423  0.165646  2.654710        0.811899\n",
       "10       1.503384  1.558376  321543.253807  0.000000  2.750846        0.843063\n",
       "11       1.536652  1.721007  236848.903173  0.059081  2.963895        0.843545\n",
       "12       1.270517  1.319149  353581.680851  0.000000  3.900456        0.885258\n",
       "13       1.428054  1.341176  118945.976471  0.000000  3.866968        0.896833\n",
       "14       1.166322  1.144628  313283.362603  0.000000  4.364669        0.917872\n",
       "15       1.660870  1.347826  192749.304348  0.000000  3.411594        0.910145\n",
       "16       0.656250  1.000000  239625.062500  0.000000  4.597656        0.937500\n",
       "17       0.588235  2.000000   61128.000000  0.000000  4.705882        0.882353\n",
       "19       1.319838  1.000000   78156.307692  0.000000  5.587045        0.947368\n",
       "20       2.300000  1.636364  475154.000000  0.000000  1.604545        0.918182\n",
       "21       2.104762  2.200000   41036.000000  0.000000  1.380952        0.895238\n",
       "22       0.181818  1.000000  220483.000000  0.000000  1.500000        0.954545\n",
       "24       1.125000  1.000000   80575.000000  0.000000  8.791667        0.958333\n",
       "26       2.076923  3.000000  180021.000000  0.000000  5.269231        0.884615\n",
       "28       1.071429  1.000000  370149.000000  0.000000  1.035714        0.964286\n",
       "31       2.161290  1.000000  482487.000000  0.000000  1.967742        0.967742\n",
       "61       4.000000  1.000000  420105.000000  0.000000  1.000000        0.000000"
      ]
     },
     "execution_count": 158,
     "metadata": {},
     "output_type": "execute_result"
    }
   ],
   "source": [
    "# The injury severity binary column is ti;tinh towards one for every row\n",
    "# Most accidents above 5 persons seems to be moderately severe\n",
    "accidents_df_persons.groupby('persons').mean()"
   ]
  },
  {
   "cell_type": "code",
   "execution_count": 21,
   "id": "6fefd65c-6cb5-404e-8e23-a3d7279cdaf4",
   "metadata": {},
   "outputs": [
    {
     "data": {
      "text/plain": [
       "Fatal Injury (K)                117315\n",
       "No Apparent Injury (O)           57797\n",
       "Suspected Serious Injury (A)     33335\n",
       "Suspected Minor Injury (B)       31109\n",
       "Possible Injury (C)              21740\n",
       "Unknown/Not Reported              2743\n",
       "Injured, Severity Unknown         1141\n",
       "Died Prior to Crash*                11\n",
       "Name: inj_sevname, dtype: int64"
      ]
     },
     "execution_count": 21,
     "metadata": {},
     "output_type": "execute_result"
    }
   ],
   "source": [
    "accidents_df['inj_sevname'].value_counts()"
   ]
  },
  {
   "cell_type": "code",
   "execution_count": 22,
   "id": "c8a541b4-8cfa-4708-a438-3220839e29fc",
   "metadata": {},
   "outputs": [
    {
     "data": {
      "text/plain": [
       "array(['Fatal Injury (K)', 'Suspected Serious Injury (A)',\n",
       "       'No Apparent Injury (O)', 'Suspected Minor Injury (B)',\n",
       "       'Possible Injury (C)', 'Unknown/Not Reported',\n",
       "       'Injured, Severity Unknown'], dtype=object)"
      ]
     },
     "execution_count": 22,
     "metadata": {},
     "output_type": "execute_result"
    }
   ],
   "source": [
    "accidents_df = accidents_df[accidents_df[\"inj_sevname\"].str.contains(\"Died Prior to Crash*\") == False]\n",
    "accidents_df['inj_sevname'].unique()"
   ]
  },
  {
   "cell_type": "code",
   "execution_count": 23,
   "id": "b841a49d-cccc-4597-ae01-9b69b891777c",
   "metadata": {},
   "outputs": [],
   "source": [
    "accidents_df = accidents_df[accidents_df[\"inj_sevname\"].str.contains(\"Unknown/Not Reported\") == False]"
   ]
  },
  {
   "cell_type": "code",
   "execution_count": 24,
   "id": "1ea704c7-a827-4c7d-88d9-1248dfaa1ac5",
   "metadata": {},
   "outputs": [
    {
     "data": {
      "text/plain": [
       "array(['Fatal Injury (K)', 'Suspected Serious Injury (A)',\n",
       "       'No Apparent Injury (O)', 'Suspected Minor Injury (B)',\n",
       "       'Possible Injury (C)', 'Injured, Severity Unknown'], dtype=object)"
      ]
     },
     "execution_count": 24,
     "metadata": {},
     "output_type": "execute_result"
    }
   ],
   "source": [
    "accidents_df['inj_sevname'].unique()"
   ]
  },
  {
   "cell_type": "code",
   "execution_count": 25,
   "id": "4c193c9e-5d4f-4cb1-887f-bce13e58a8a7",
   "metadata": {},
   "outputs": [
    {
     "data": {
      "text/plain": [
       "array(['Fatal Injury (K)', 'Suspected Serious Injury (A)',\n",
       "       'No Apparent Injury (O)', 'Suspected Minor Injury (B)',\n",
       "       'Possible Injury (C)'], dtype=object)"
      ]
     },
     "execution_count": 25,
     "metadata": {},
     "output_type": "execute_result"
    }
   ],
   "source": [
    "accidents_df = accidents_df[accidents_df[\"inj_sevname\"].str.contains(\"Injured, Severity Unknown\") == False]\n",
    "accidents_df['inj_sevname'].unique()"
   ]
  },
  {
   "cell_type": "code",
   "execution_count": 26,
   "id": "e8e5ca5f-1ee7-428d-a322-153c4c434e39",
   "metadata": {},
   "outputs": [
    {
     "data": {
      "text/plain": [
       "array([0, 2, 1, 3], dtype=int64)"
      ]
     },
     "execution_count": 26,
     "metadata": {},
     "output_type": "execute_result"
    }
   ],
   "source": [
    "accidents_df = accidents_df[accidents_df['wrk_zone'] != 4]\n",
    "accidents_df['wrk_zone'].unique()"
   ]
  },
  {
   "cell_type": "code",
   "execution_count": 61,
   "id": "735ec071-4b5a-47fd-bee5-4e72ee9a433c",
   "metadata": {},
   "outputs": [],
   "source": [
    "#here I will bin the columns to make them binary- either drunk or not drunk\n",
    "\n",
    "## Make a seasons function that bins months into seasons\n",
    "def work_zone_binary(x):\n",
    "    if x == 0:\n",
    "        return 0\n",
    "    elif x != 0:\n",
    "        return 1"
   ]
  },
  {
   "cell_type": "code",
   "execution_count": 62,
   "id": "5ce81f6c-8a3d-4d00-a796-f2e2ed69a7eb",
   "metadata": {},
   "outputs": [],
   "source": [
    "\n",
    "accidents_df['work_zone_binary'] = accidents_df['wrk_zone'].map(work_zone_binary) "
   ]
  },
  {
   "cell_type": "code",
   "execution_count": 64,
   "id": "e49e4cb0-f355-44f2-a210-fb6e2420bab9",
   "metadata": {},
   "outputs": [
    {
     "data": {
      "text/plain": [
       "array([0, 1], dtype=int64)"
      ]
     },
     "execution_count": 64,
     "metadata": {},
     "output_type": "execute_result"
    }
   ],
   "source": [
    "accidents_df['work_zone_binary'].unique()"
   ]
  },
  {
   "cell_type": "code",
   "execution_count": 72,
   "id": "0ee1a62e-bce1-42aa-a118-fec0ce4004b7",
   "metadata": {},
   "outputs": [
    {
     "data": {
      "text/html": [
       "<div>\n",
       "<style scoped>\n",
       "    .dataframe tbody tr th:only-of-type {\n",
       "        vertical-align: middle;\n",
       "    }\n",
       "\n",
       "    .dataframe tbody tr th {\n",
       "        vertical-align: top;\n",
       "    }\n",
       "\n",
       "    .dataframe thead th {\n",
       "        text-align: right;\n",
       "    }\n",
       "</style>\n",
       "<table border=\"1\" class=\"dataframe\">\n",
       "  <thead>\n",
       "    <tr style=\"text-align: right;\">\n",
       "      <th></th>\n",
       "      <th>binary_fatals</th>\n",
       "      <th>work_zone_binary</th>\n",
       "    </tr>\n",
       "  </thead>\n",
       "  <tbody>\n",
       "    <tr>\n",
       "      <th>binary_fatals</th>\n",
       "      <td>1.000000</td>\n",
       "      <td>0.007718</td>\n",
       "    </tr>\n",
       "    <tr>\n",
       "      <th>work_zone_binary</th>\n",
       "      <td>0.007718</td>\n",
       "      <td>1.000000</td>\n",
       "    </tr>\n",
       "  </tbody>\n",
       "</table>\n",
       "</div>"
      ],
      "text/plain": [
       "                  binary_fatals  work_zone_binary\n",
       "binary_fatals          1.000000          0.007718\n",
       "work_zone_binary       0.007718          1.000000"
      ]
     },
     "execution_count": 72,
     "metadata": {},
     "output_type": "execute_result"
    }
   ],
   "source": [
    "accidents_df[['binary_fatals', 'work_zone_binary']].corr()"
   ]
  },
  {
   "cell_type": "code",
   "execution_count": 74,
   "id": "ca6cc456-b78b-45bd-96f0-76edbb102789",
   "metadata": {},
   "outputs": [
    {
     "data": {
      "text/plain": [
       "array([2, 3, 1, 5, 4, 9, 6, 8, 7], dtype=int64)"
      ]
     },
     "execution_count": 74,
     "metadata": {},
     "output_type": "execute_result"
    }
   ],
   "source": [
    "accidents_df['lgt_cond'].unique()"
   ]
  },
  {
   "cell_type": "code",
   "execution_count": 75,
   "id": "7e533b94-a37c-4fd3-933c-fbea8dd01a77",
   "metadata": {},
   "outputs": [
    {
     "data": {
      "text/plain": [
       "array([2, 3, 1, 5, 4, 6, 8, 7], dtype=int64)"
      ]
     },
     "execution_count": 75,
     "metadata": {},
     "output_type": "execute_result"
    }
   ],
   "source": [
    "accidents_df = accidents_df[accidents_df['lgt_cond'] != 9]\n",
    "accidents_df['lgt_cond'].unique()"
   ]
  },
  {
   "cell_type": "code",
   "execution_count": 76,
   "id": "6fe68b63-1d57-4b3a-b5c6-d257651d4e95",
   "metadata": {},
   "outputs": [
    {
     "data": {
      "text/plain": [
       "array([2, 3, 1, 5, 4, 6, 7], dtype=int64)"
      ]
     },
     "execution_count": 76,
     "metadata": {},
     "output_type": "execute_result"
    }
   ],
   "source": [
    "accidents_df = accidents_df[accidents_df['lgt_cond'] != 8]\n",
    "accidents_df['lgt_cond'].unique()"
   ]
  },
  {
   "cell_type": "code",
   "execution_count": 77,
   "id": "038d30ad-765a-40e1-8aa7-1d5160d141dd",
   "metadata": {},
   "outputs": [
    {
     "data": {
      "text/plain": [
       "array([2, 3, 1, 5, 4, 6], dtype=int64)"
      ]
     },
     "execution_count": 77,
     "metadata": {},
     "output_type": "execute_result"
    }
   ],
   "source": [
    "accidents_df = accidents_df[accidents_df['lgt_cond'] != 7]\n",
    "accidents_df['lgt_cond'].unique()"
   ]
  },
  {
   "cell_type": "code",
   "execution_count": 78,
   "id": "e347d676-d808-4257-9cdf-a4af31cd68a2",
   "metadata": {},
   "outputs": [],
   "source": [
    "#here I will bin the columns to make them binary- either drunk or not drunk\n",
    "\n",
    "## Make a seasons function that bins months into seasons\n",
    "def lgt_cond_binary(x):\n",
    "    if x == 1:\n",
    "        return 0\n",
    "    elif x != 1:\n",
    "        return 1"
   ]
  },
  {
   "cell_type": "code",
   "execution_count": 80,
   "id": "08212b0c-136e-4b32-b0c3-1c3d0a0d2ef4",
   "metadata": {},
   "outputs": [],
   "source": [
    "accidents_df['lgt_cond_binary'] = accidents_df['lgt_cond'].map(lgt_cond_binary) "
   ]
  },
  {
   "cell_type": "code",
   "execution_count": 81,
   "id": "507233a9-a113-4797-8693-0ee2f0bcad62",
   "metadata": {},
   "outputs": [
    {
     "data": {
      "text/plain": [
       "array([0, 1], dtype=int64)"
      ]
     },
     "execution_count": 81,
     "metadata": {},
     "output_type": "execute_result"
    }
   ],
   "source": [
    "accidents_df['work_zone_binary'].unique()"
   ]
  },
  {
   "cell_type": "code",
   "execution_count": 82,
   "id": "8ff808ff-ee69-4f27-887f-c695dfecc129",
   "metadata": {},
   "outputs": [
    {
     "data": {
      "text/html": [
       "<div>\n",
       "<style scoped>\n",
       "    .dataframe tbody tr th:only-of-type {\n",
       "        vertical-align: middle;\n",
       "    }\n",
       "\n",
       "    .dataframe tbody tr th {\n",
       "        vertical-align: top;\n",
       "    }\n",
       "\n",
       "    .dataframe thead th {\n",
       "        text-align: right;\n",
       "    }\n",
       "</style>\n",
       "<table border=\"1\" class=\"dataframe\">\n",
       "  <thead>\n",
       "    <tr style=\"text-align: right;\">\n",
       "      <th></th>\n",
       "      <th>binary_fatals</th>\n",
       "      <th>lgt_cond_binary</th>\n",
       "    </tr>\n",
       "  </thead>\n",
       "  <tbody>\n",
       "    <tr>\n",
       "      <th>binary_fatals</th>\n",
       "      <td>1.000000</td>\n",
       "      <td>0.000918</td>\n",
       "    </tr>\n",
       "    <tr>\n",
       "      <th>lgt_cond_binary</th>\n",
       "      <td>0.000918</td>\n",
       "      <td>1.000000</td>\n",
       "    </tr>\n",
       "  </tbody>\n",
       "</table>\n",
       "</div>"
      ],
      "text/plain": [
       "                 binary_fatals  lgt_cond_binary\n",
       "binary_fatals         1.000000         0.000918\n",
       "lgt_cond_binary       0.000918         1.000000"
      ]
     },
     "execution_count": 82,
     "metadata": {},
     "output_type": "execute_result"
    }
   ],
   "source": [
    "accidents_df[['binary_fatals', 'lgt_cond_binary']].corr()"
   ]
  },
  {
   "cell_type": "code",
   "execution_count": 83,
   "id": "82ca9c9b-b447-4aad-94cd-26a7de4ca304",
   "metadata": {},
   "outputs": [
    {
     "data": {
      "text/html": [
       "<div>\n",
       "<style scoped>\n",
       "    .dataframe tbody tr th:only-of-type {\n",
       "        vertical-align: middle;\n",
       "    }\n",
       "\n",
       "    .dataframe tbody tr th {\n",
       "        vertical-align: top;\n",
       "    }\n",
       "\n",
       "    .dataframe thead th {\n",
       "        text-align: right;\n",
       "    }\n",
       "</style>\n",
       "<table border=\"1\" class=\"dataframe\">\n",
       "  <thead>\n",
       "    <tr style=\"text-align: right;\">\n",
       "      <th></th>\n",
       "      <th>binary_fatals</th>\n",
       "      <th>hour</th>\n",
       "    </tr>\n",
       "  </thead>\n",
       "  <tbody>\n",
       "    <tr>\n",
       "      <th>binary_fatals</th>\n",
       "      <td>1.000000</td>\n",
       "      <td>-0.000175</td>\n",
       "    </tr>\n",
       "    <tr>\n",
       "      <th>hour</th>\n",
       "      <td>-0.000175</td>\n",
       "      <td>1.000000</td>\n",
       "    </tr>\n",
       "  </tbody>\n",
       "</table>\n",
       "</div>"
      ],
      "text/plain": [
       "               binary_fatals      hour\n",
       "binary_fatals       1.000000 -0.000175\n",
       "hour               -0.000175  1.000000"
      ]
     },
     "execution_count": 83,
     "metadata": {},
     "output_type": "execute_result"
    }
   ],
   "source": [
    "accidents_df[['binary_fatals', 'hour']].corr()"
   ]
  },
  {
   "cell_type": "code",
   "execution_count": 27,
   "id": "2143b257-e0ea-4f97-a3eb-68ab73cd3f59",
   "metadata": {},
   "outputs": [
    {
     "data": {
      "text/plain": [
       "inj_sevname\n",
       "Fatal Injury (K)                1.247568\n",
       "No Apparent Injury (O)          1.109339\n",
       "Possible Injury (C)             1.147727\n",
       "Suspected Minor Injury (B)      1.157416\n",
       "Suspected Serious Injury (A)    1.237266\n",
       "Name: fatals, dtype: float64"
      ]
     },
     "execution_count": 27,
     "metadata": {},
     "output_type": "execute_result"
    }
   ],
   "source": [
    "accidents_df.groupby('inj_sevname')['fatals'].mean()"
   ]
  },
  {
   "cell_type": "code",
   "execution_count": 28,
   "id": "d8a154ee-43b0-4f0e-8ecd-694913621dfd",
   "metadata": {},
   "outputs": [
    {
     "data": {
      "text/plain": [
       "fatals\n",
       "1    2.432324\n",
       "2    2.830602\n",
       "3    3.068258\n",
       "4    3.377563\n",
       "5    3.233397\n",
       "6    3.840000\n",
       "7    3.400000\n",
       "8    4.000000\n",
       "Name: inj_sev, dtype: float64"
      ]
     },
     "execution_count": 28,
     "metadata": {},
     "output_type": "execute_result"
    }
   ],
   "source": [
    "accidents_df.groupby('fatals')['inj_sev'].mean()"
   ]
  },
  {
   "cell_type": "code",
   "execution_count": 29,
   "id": "43fca73b-734b-45f2-8363-2209a5cc66bf",
   "metadata": {},
   "outputs": [
    {
     "data": {
      "text/plain": [
       "array([3, 1, 2, 4, 8, 6, 5, 7], dtype=int64)"
      ]
     },
     "execution_count": 29,
     "metadata": {},
     "output_type": "execute_result"
    }
   ],
   "source": [
    "accidents_df['fatals'].unique()"
   ]
  },
  {
   "cell_type": "code",
   "execution_count": 30,
   "id": "4506251f-929c-47c3-bbf7-6204fd9b3d0d",
   "metadata": {},
   "outputs": [
    {
     "data": {
      "text/html": [
       "<div>\n",
       "<style scoped>\n",
       "    .dataframe tbody tr th:only-of-type {\n",
       "        vertical-align: middle;\n",
       "    }\n",
       "\n",
       "    .dataframe tbody tr th {\n",
       "        vertical-align: top;\n",
       "    }\n",
       "\n",
       "    .dataframe thead th {\n",
       "        text-align: right;\n",
       "    }\n",
       "</style>\n",
       "<table border=\"1\" class=\"dataframe\">\n",
       "  <thead>\n",
       "    <tr style=\"text-align: right;\">\n",
       "      <th></th>\n",
       "      <th>drunk_dr</th>\n",
       "    </tr>\n",
       "  </thead>\n",
       "  <tbody>\n",
       "    <tr>\n",
       "      <th>0</th>\n",
       "      <td>1</td>\n",
       "    </tr>\n",
       "    <tr>\n",
       "      <th>1</th>\n",
       "      <td>1</td>\n",
       "    </tr>\n",
       "    <tr>\n",
       "      <th>2</th>\n",
       "      <td>1</td>\n",
       "    </tr>\n",
       "    <tr>\n",
       "      <th>3</th>\n",
       "      <td>1</td>\n",
       "    </tr>\n",
       "    <tr>\n",
       "      <th>4</th>\n",
       "      <td>1</td>\n",
       "    </tr>\n",
       "    <tr>\n",
       "      <th>...</th>\n",
       "      <td>...</td>\n",
       "    </tr>\n",
       "    <tr>\n",
       "      <th>265186</th>\n",
       "      <td>0</td>\n",
       "    </tr>\n",
       "    <tr>\n",
       "      <th>265187</th>\n",
       "      <td>0</td>\n",
       "    </tr>\n",
       "    <tr>\n",
       "      <th>265188</th>\n",
       "      <td>0</td>\n",
       "    </tr>\n",
       "    <tr>\n",
       "      <th>265189</th>\n",
       "      <td>0</td>\n",
       "    </tr>\n",
       "    <tr>\n",
       "      <th>265190</th>\n",
       "      <td>0</td>\n",
       "    </tr>\n",
       "  </tbody>\n",
       "</table>\n",
       "<p>258161 rows × 1 columns</p>\n",
       "</div>"
      ],
      "text/plain": [
       "        drunk_dr\n",
       "0              1\n",
       "1              1\n",
       "2              1\n",
       "3              1\n",
       "4              1\n",
       "...          ...\n",
       "265186         0\n",
       "265187         0\n",
       "265188         0\n",
       "265189         0\n",
       "265190         0\n",
       "\n",
       "[258161 rows x 1 columns]"
      ]
     },
     "execution_count": 30,
     "metadata": {},
     "output_type": "execute_result"
    }
   ],
   "source": [
    "accidents_df[['drunk_dr']]"
   ]
  },
  {
   "cell_type": "code",
   "execution_count": null,
   "id": "4664b256-6982-4ca3-8007-684a5362216a",
   "metadata": {},
   "outputs": [],
   "source": [
    "\n",
    "    "
   ]
  },
  {
   "cell_type": "code",
   "execution_count": 31,
   "id": "0e4d7ef9-22ec-4b6c-a622-5e5461d974f7",
   "metadata": {},
   "outputs": [
    {
     "data": {
      "text/plain": [
       "array([1, 0, 2, 3, 4], dtype=int64)"
      ]
     },
     "execution_count": 31,
     "metadata": {},
     "output_type": "execute_result"
    }
   ],
   "source": [
    "accidents_df['drunk_dr'].unique()"
   ]
  },
  {
   "cell_type": "code",
   "execution_count": 32,
   "id": "7121efb8-ae8a-48d3-b501-bcd87a61a566",
   "metadata": {},
   "outputs": [],
   "source": [
    "#here I will bin the columns to make them binary- either drunk or not drunk\n",
    "\n",
    "## Make a seasons function that bins months into seasons\n",
    "def drunk(x):\n",
    "    if x == 0:\n",
    "        return 0\n",
    "    elif x != 0:\n",
    "        return 1\n",
    "    "
   ]
  },
  {
   "cell_type": "code",
   "execution_count": 33,
   "id": "029d9bec-aee8-47b2-b3be-3bfc8d9ffead",
   "metadata": {},
   "outputs": [],
   "source": [
    "accidents_df['drunk'] = accidents_df['drunk_dr'].map(drunk)"
   ]
  },
  {
   "cell_type": "code",
   "execution_count": 34,
   "id": "8aa1e76b-a34e-41ee-a8fc-19108c005b71",
   "metadata": {},
   "outputs": [
    {
     "data": {
      "text/plain": [
       "array([1, 0], dtype=int64)"
      ]
     },
     "execution_count": 34,
     "metadata": {},
     "output_type": "execute_result"
    }
   ],
   "source": [
    "accidents_df['drunk'].unique()"
   ]
  },
  {
   "cell_type": "code",
   "execution_count": 35,
   "id": "7a3d1166-7c8c-41b3-a733-b0ab90c2f571",
   "metadata": {},
   "outputs": [
    {
     "data": {
      "text/plain": [
       "0    187331\n",
       "1     70830\n",
       "Name: drunk, dtype: int64"
      ]
     },
     "execution_count": 35,
     "metadata": {},
     "output_type": "execute_result"
    }
   ],
   "source": [
    "accidents_df['drunk'].value_counts()"
   ]
  },
  {
   "cell_type": "code",
   "execution_count": 36,
   "id": "e6c38d42-9866-4ce3-9acf-b9cbaadcfd4b",
   "metadata": {},
   "outputs": [
    {
     "data": {
      "text/html": [
       "<div>\n",
       "<style scoped>\n",
       "    .dataframe tbody tr th:only-of-type {\n",
       "        vertical-align: middle;\n",
       "    }\n",
       "\n",
       "    .dataframe tbody tr th {\n",
       "        vertical-align: top;\n",
       "    }\n",
       "\n",
       "    .dataframe thead th {\n",
       "        text-align: right;\n",
       "    }\n",
       "</style>\n",
       "<table border=\"1\" class=\"dataframe\">\n",
       "  <thead>\n",
       "    <tr style=\"text-align: right;\">\n",
       "      <th></th>\n",
       "      <th>drunk</th>\n",
       "      <th>inj_sev</th>\n",
       "    </tr>\n",
       "  </thead>\n",
       "  <tbody>\n",
       "    <tr>\n",
       "      <th>drunk</th>\n",
       "      <td>1.000000</td>\n",
       "      <td>0.100945</td>\n",
       "    </tr>\n",
       "    <tr>\n",
       "      <th>inj_sev</th>\n",
       "      <td>0.100945</td>\n",
       "      <td>1.000000</td>\n",
       "    </tr>\n",
       "  </tbody>\n",
       "</table>\n",
       "</div>"
      ],
      "text/plain": [
       "            drunk   inj_sev\n",
       "drunk    1.000000  0.100945\n",
       "inj_sev  0.100945  1.000000"
      ]
     },
     "execution_count": 36,
     "metadata": {},
     "output_type": "execute_result"
    }
   ],
   "source": [
    "accidents_df[['drunk', 'inj_sev']].corr()"
   ]
  },
  {
   "cell_type": "code",
   "execution_count": 37,
   "id": "2c563da3-ced1-404a-9c79-8a110ac6a190",
   "metadata": {},
   "outputs": [
    {
     "data": {
      "text/plain": [
       "array(['Fatal Injury (K)', 'Suspected Serious Injury (A)',\n",
       "       'No Apparent Injury (O)', 'Suspected Minor Injury (B)',\n",
       "       'Possible Injury (C)'], dtype=object)"
      ]
     },
     "execution_count": 37,
     "metadata": {},
     "output_type": "execute_result"
    }
   ],
   "source": [
    "accidents_df['inj_sevname'].unique()"
   ]
  },
  {
   "cell_type": "code",
   "execution_count": 38,
   "id": "c282e925-cc21-46f6-b58d-41649b48afa6",
   "metadata": {},
   "outputs": [
    {
     "data": {
      "text/html": [
       "<div>\n",
       "<style scoped>\n",
       "    .dataframe tbody tr th:only-of-type {\n",
       "        vertical-align: middle;\n",
       "    }\n",
       "\n",
       "    .dataframe tbody tr th {\n",
       "        vertical-align: top;\n",
       "    }\n",
       "\n",
       "    .dataframe thead th {\n",
       "        text-align: right;\n",
       "    }\n",
       "</style>\n",
       "<table border=\"1\" class=\"dataframe\">\n",
       "  <thead>\n",
       "    <tr style=\"text-align: right;\">\n",
       "      <th></th>\n",
       "      <th>Null</th>\n",
       "    </tr>\n",
       "  </thead>\n",
       "  <tbody>\n",
       "    <tr>\n",
       "      <th>makename</th>\n",
       "      <td>16185</td>\n",
       "    </tr>\n",
       "    <tr>\n",
       "      <th>mod_yearname</th>\n",
       "      <td>16185</td>\n",
       "    </tr>\n",
       "    <tr>\n",
       "      <th>make</th>\n",
       "      <td>16185</td>\n",
       "    </tr>\n",
       "    <tr>\n",
       "      <th>fire_expname</th>\n",
       "      <td>16185</td>\n",
       "    </tr>\n",
       "    <tr>\n",
       "      <th>fire_exp</th>\n",
       "      <td>16185</td>\n",
       "    </tr>\n",
       "    <tr>\n",
       "      <th>...</th>\n",
       "      <td>...</td>\n",
       "    </tr>\n",
       "    <tr>\n",
       "      <th>spj_indian</th>\n",
       "      <td>0</td>\n",
       "    </tr>\n",
       "    <tr>\n",
       "      <th>indian_res</th>\n",
       "      <td>0</td>\n",
       "    </tr>\n",
       "    <tr>\n",
       "      <th>statename</th>\n",
       "      <td>0</td>\n",
       "    </tr>\n",
       "    <tr>\n",
       "      <th>weathername</th>\n",
       "      <td>0</td>\n",
       "    </tr>\n",
       "    <tr>\n",
       "      <th>drunk</th>\n",
       "      <td>0</td>\n",
       "    </tr>\n",
       "  </tbody>\n",
       "</table>\n",
       "<p>199 rows × 1 columns</p>\n",
       "</div>"
      ],
      "text/plain": [
       "               Null\n",
       "makename      16185\n",
       "mod_yearname  16185\n",
       "make          16185\n",
       "fire_expname  16185\n",
       "fire_exp      16185\n",
       "...             ...\n",
       "spj_indian        0\n",
       "indian_res        0\n",
       "statename         0\n",
       "weathername       0\n",
       "drunk             0\n",
       "\n",
       "[199 rows x 1 columns]"
      ]
     },
     "execution_count": 38,
     "metadata": {},
     "output_type": "execute_result"
    }
   ],
   "source": [
    "#lets take a look at the missing values\n",
    "missin_values_count = pd.DataFrame({'Null': accidents_df.isnull().sum()})\n",
    "missin_values_count.sort_values(by= 'Null', ascending = False)"
   ]
  },
  {
   "cell_type": "code",
   "execution_count": 39,
   "id": "d64110ac-e3c0-44e1-864c-f3525b17bdc3",
   "metadata": {},
   "outputs": [
    {
     "data": {
      "text/plain": [
       "array([2, 3, 1, 5, 4, 9, 6, 8, 7], dtype=int64)"
      ]
     },
     "execution_count": 39,
     "metadata": {},
     "output_type": "execute_result"
    }
   ],
   "source": [
    "accidents_df['lgt_cond'].unique()"
   ]
  },
  {
   "cell_type": "markdown",
   "id": "7f92a492-08cd-4db6-9c9b-16b4ef629a34",
   "metadata": {},
   "source": [
    "# Great! There are no null values! "
   ]
  },
  {
   "cell_type": "code",
   "execution_count": 40,
   "id": "8f46a7a5-27cb-42c0-a223-0a84d3a0bb22",
   "metadata": {},
   "outputs": [],
   "source": [
    "# sns.set(font_scale=.4, style='white')\n",
    "# corr = accidents_df.drop(columns = ['fatals']).corr()\n",
    "# mask = np.zeros_like(corr, dtype= bool)\n",
    "# mask[np.triu_indices_from(mask)] = True\n",
    "# f, ax = plt.subplots(figsize=(25,25))\n",
    "# cmap = sns.diverging_palette(220, 10, as_cmap=True)\n",
    "# sns.heatmap(corr, mask=mask, cmap=cmap, vmax=.3, center=0, square=True, linewidth=.5,\n",
    "#            cbar_kws={'shrink': .5}, annot = True);"
   ]
  },
  {
   "cell_type": "code",
   "execution_count": null,
   "id": "0c763a3f-fcc3-4809-b556-ddc960b2f6e1",
   "metadata": {},
   "outputs": [],
   "source": []
  },
  {
   "cell_type": "code",
   "execution_count": 41,
   "id": "b2cbcbfc-0ac6-462e-a565-553b1e38dd62",
   "metadata": {},
   "outputs": [],
   "source": [
    "#accidents_df.info()"
   ]
  },
  {
   "cell_type": "code",
   "execution_count": 42,
   "id": "79119246-df9b-41a1-93f2-dc63c211bf98",
   "metadata": {},
   "outputs": [],
   "source": [
    "#accidents_df.isnull().sum()"
   ]
  },
  {
   "cell_type": "code",
   "execution_count": 43,
   "id": "28813226-e0cd-40de-bb99-e6423ce178e0",
   "metadata": {},
   "outputs": [],
   "source": [
    "#accidents_df['crashrf'].isnull().sum()"
   ]
  },
  {
   "cell_type": "code",
   "execution_count": 44,
   "id": "c04dddf8-0d50-44ef-8bcf-d0952517bcbd",
   "metadata": {},
   "outputs": [],
   "source": [
    "#accidents_df.drop(columns='crashrfname', inplace=True)"
   ]
  },
  {
   "cell_type": "code",
   "execution_count": 45,
   "id": "3f6a5642-1659-412d-a753-a7587752a3ef",
   "metadata": {},
   "outputs": [],
   "source": [
    "#accidents_df.head()"
   ]
  },
  {
   "cell_type": "code",
   "execution_count": 46,
   "id": "f87dba96-b5a4-486e-8b7b-c676caf6387d",
   "metadata": {},
   "outputs": [],
   "source": [
    "#accidents_df['county'].unique()"
   ]
  },
  {
   "cell_type": "code",
   "execution_count": null,
   "id": "75551210-e16e-48f6-9066-877b4fba13a5",
   "metadata": {},
   "outputs": [],
   "source": []
  },
  {
   "cell_type": "code",
   "execution_count": 47,
   "id": "023b0674-9a2c-46f5-9af5-f312ac3ac84b",
   "metadata": {},
   "outputs": [
    {
     "data": {
      "text/html": [
       "<div>\n",
       "<style scoped>\n",
       "    .dataframe tbody tr th:only-of-type {\n",
       "        vertical-align: middle;\n",
       "    }\n",
       "\n",
       "    .dataframe tbody tr th {\n",
       "        vertical-align: top;\n",
       "    }\n",
       "\n",
       "    .dataframe thead th {\n",
       "        text-align: right;\n",
       "    }\n",
       "</style>\n",
       "<table border=\"1\" class=\"dataframe\">\n",
       "  <thead>\n",
       "    <tr style=\"text-align: right;\">\n",
       "      <th></th>\n",
       "      <th>fatals</th>\n",
       "      <th>weather</th>\n",
       "    </tr>\n",
       "  </thead>\n",
       "  <tbody>\n",
       "    <tr>\n",
       "      <th>fatals</th>\n",
       "      <td>1.000000</td>\n",
       "      <td>-0.007542</td>\n",
       "    </tr>\n",
       "    <tr>\n",
       "      <th>weather</th>\n",
       "      <td>-0.007542</td>\n",
       "      <td>1.000000</td>\n",
       "    </tr>\n",
       "  </tbody>\n",
       "</table>\n",
       "</div>"
      ],
      "text/plain": [
       "           fatals   weather\n",
       "fatals   1.000000 -0.007542\n",
       "weather -0.007542  1.000000"
      ]
     },
     "execution_count": 47,
     "metadata": {},
     "output_type": "execute_result"
    }
   ],
   "source": [
    "accidents_df[['fatals', 'weather']].corr()"
   ]
  },
  {
   "cell_type": "code",
   "execution_count": 48,
   "id": "90a13e7e-f01d-4a20-a7da-dc81d3532d9a",
   "metadata": {},
   "outputs": [
    {
     "data": {
      "text/html": [
       "<div>\n",
       "<style scoped>\n",
       "    .dataframe tbody tr th:only-of-type {\n",
       "        vertical-align: middle;\n",
       "    }\n",
       "\n",
       "    .dataframe tbody tr th {\n",
       "        vertical-align: top;\n",
       "    }\n",
       "\n",
       "    .dataframe thead th {\n",
       "        text-align: right;\n",
       "    }\n",
       "</style>\n",
       "<table border=\"1\" class=\"dataframe\">\n",
       "  <thead>\n",
       "    <tr style=\"text-align: right;\">\n",
       "      <th></th>\n",
       "      <th>weather</th>\n",
       "    </tr>\n",
       "  </thead>\n",
       "  <tbody>\n",
       "    <tr>\n",
       "      <th>0</th>\n",
       "      <td>1</td>\n",
       "    </tr>\n",
       "    <tr>\n",
       "      <th>1</th>\n",
       "      <td>1</td>\n",
       "    </tr>\n",
       "    <tr>\n",
       "      <th>2</th>\n",
       "      <td>1</td>\n",
       "    </tr>\n",
       "    <tr>\n",
       "      <th>3</th>\n",
       "      <td>1</td>\n",
       "    </tr>\n",
       "    <tr>\n",
       "      <th>4</th>\n",
       "      <td>1</td>\n",
       "    </tr>\n",
       "    <tr>\n",
       "      <th>...</th>\n",
       "      <td>...</td>\n",
       "    </tr>\n",
       "    <tr>\n",
       "      <th>265186</th>\n",
       "      <td>6</td>\n",
       "    </tr>\n",
       "    <tr>\n",
       "      <th>265187</th>\n",
       "      <td>6</td>\n",
       "    </tr>\n",
       "    <tr>\n",
       "      <th>265188</th>\n",
       "      <td>6</td>\n",
       "    </tr>\n",
       "    <tr>\n",
       "      <th>265189</th>\n",
       "      <td>6</td>\n",
       "    </tr>\n",
       "    <tr>\n",
       "      <th>265190</th>\n",
       "      <td>6</td>\n",
       "    </tr>\n",
       "  </tbody>\n",
       "</table>\n",
       "<p>258161 rows × 1 columns</p>\n",
       "</div>"
      ],
      "text/plain": [
       "        weather\n",
       "0             1\n",
       "1             1\n",
       "2             1\n",
       "3             1\n",
       "4             1\n",
       "...         ...\n",
       "265186        6\n",
       "265187        6\n",
       "265188        6\n",
       "265189        6\n",
       "265190        6\n",
       "\n",
       "[258161 rows x 1 columns]"
      ]
     },
     "execution_count": 48,
     "metadata": {},
     "output_type": "execute_result"
    }
   ],
   "source": [
    "accidents_df[['weather']]"
   ]
  },
  {
   "cell_type": "code",
   "execution_count": 49,
   "id": "6f6354d7-7dec-49df-9742-dd673eb7fd15",
   "metadata": {},
   "outputs": [],
   "source": [
    "#accidents_df[['vnumber2', 'fatals', 'aoi2']].corr()"
   ]
  },
  {
   "cell_type": "code",
   "execution_count": 50,
   "id": "2abc6474-ec9d-4bf5-a940-29d3ebba2753",
   "metadata": {},
   "outputs": [],
   "source": [
    "#accidents_df.groupby('state')['fatals'].agg(['count', 'mean'])"
   ]
  },
  {
   "cell_type": "code",
   "execution_count": 65,
   "id": "59c199e7-3bd1-4802-aaf1-2af351ddfa07",
   "metadata": {},
   "outputs": [
    {
     "data": {
      "text/plain": [
       "array([0, 2, 1, 3], dtype=int64)"
      ]
     },
     "execution_count": 65,
     "metadata": {},
     "output_type": "execute_result"
    }
   ],
   "source": [
    "# Here I want to clean the work zone column and see if there is a corr between that and fatals\n",
    "accidents_df['wrk_zone'].unique()"
   ]
  },
  {
   "cell_type": "code",
   "execution_count": 52,
   "id": "8b701917-0a7b-4cf3-b1a9-e3e2a0803127",
   "metadata": {},
   "outputs": [],
   "source": []
  },
  {
   "cell_type": "code",
   "execution_count": 53,
   "id": "6eec8323-c7fa-430f-aff1-4bbfe45cbada",
   "metadata": {},
   "outputs": [],
   "source": []
  },
  {
   "cell_type": "markdown",
   "id": "cabae443-3ef5-4d49-adbb-a089e2606c72",
   "metadata": {},
   "source": [
    "#### Let's take a look at the correlations between X features and Y(fatals)"
   ]
  },
  {
   "cell_type": "code",
   "execution_count": 67,
   "id": "38fb70e2-77ab-43b5-82cc-feaf75042844",
   "metadata": {},
   "outputs": [
    {
     "data": {
      "text/plain": [
       "binary_fatals    1.000000\n",
       "fatals           0.872857\n",
       "persons          0.201811\n",
       "per_no           0.147054\n",
       "doa              0.117546\n",
       "                   ...   \n",
       "death_mo        -0.078453\n",
       "lag_hrs         -0.081366\n",
       "lag_mins        -0.092025\n",
       "a_crainj              NaN\n",
       "data_year             NaN\n",
       "Name: binary_fatals, Length: 134, dtype: float64"
      ]
     },
     "execution_count": 67,
     "metadata": {},
     "output_type": "execute_result"
    }
   ],
   "source": [
    "correlations = accidents_df.corr()['binary_fatals'].sort_values(ascending = False)\n",
    "correlations"
   ]
  },
  {
   "cell_type": "code",
   "execution_count": 68,
   "id": "7a69fd41-a7e8-43e0-a991-2e3a7139d805",
   "metadata": {},
   "outputs": [
    {
     "data": {
      "text/plain": [
       "binary_fatals     1.000000\n",
       "fatals            0.872857\n",
       "persons           0.201811\n",
       "per_no            0.147054\n",
       "doa               0.117546\n",
       "fire_exp          0.107382\n",
       "seat_pos          0.107069\n",
       "a_ct              0.106132\n",
       "inj_sev           0.103392\n",
       "inj_sev_binary    0.100872\n",
       "ve_total          0.100752\n",
       "ve_forms          0.092420\n",
       "eventnum          0.091351\n",
       "a_mancol          0.083266\n",
       "a_mc              0.079372\n",
       "peds              0.059633\n",
       "drinking          0.058035\n",
       "veh_no            0.058004\n",
       "a_hr              0.049796\n",
       "man_coll          0.046731\n",
       "a_ped             0.044469\n",
       "per_typ           0.044345\n",
       "vnumber1          0.044196\n",
       "drugs             0.042506\n",
       "helm_mis          0.042143\n",
       "a_ped_f           0.040128\n",
       "extricat          0.038032\n",
       "bia               0.033462\n",
       "hispanic          0.030342\n",
       "Name: binary_fatals, dtype: float64"
      ]
     },
     "execution_count": 68,
     "metadata": {},
     "output_type": "execute_result"
    }
   ],
   "source": [
    "pd.set_option('display.max.columns', None)\n",
    "correlations.head(29)"
   ]
  },
  {
   "cell_type": "code",
   "execution_count": 84,
   "id": "972940c5-0c3a-4bc2-a875-5ebc605bfc6f",
   "metadata": {},
   "outputs": [
    {
     "data": {
      "text/plain": [
       "inj_sev           1.000000\n",
       "inj_sev_binary    0.918192\n",
       "doa               0.582624\n",
       "rest_mis          0.437821\n",
       "hispanic          0.354670\n",
       "                    ...   \n",
       "death_da         -0.786463\n",
       "death_yr         -0.796375\n",
       "death_mo         -0.796672\n",
       "a_crainj               NaN\n",
       "data_year              NaN\n",
       "Name: inj_sev, Length: 135, dtype: float64"
      ]
     },
     "execution_count": 84,
     "metadata": {},
     "output_type": "execute_result"
    }
   ],
   "source": [
    "correlations2 = accidents_df.corr()['inj_sev'].sort_values(ascending = False)\n",
    "correlations2"
   ]
  },
  {
   "cell_type": "code",
   "execution_count": 125,
   "id": "d6285fdc-68d7-427d-b4e1-11229973a981",
   "metadata": {},
   "outputs": [
    {
     "data": {
      "text/plain": [
       "inj_sev           1.000000\n",
       "inj_sev_binary    0.918192\n",
       "doa               0.582624\n",
       "rest_mis          0.437821\n",
       "hispanic          0.354670\n",
       "a_relrd           0.316291\n",
       "ejection          0.302215\n",
       "alc_status        0.280794\n",
       "dstatus           0.268884\n",
       "ej_path           0.260809\n",
       "harm_ev           0.244584\n",
       "rest_use          0.213689\n",
       "hospital          0.188351\n",
       "atst_typ          0.169746\n",
       "helm_use          0.169570\n",
       "extricat          0.158379\n",
       "str_veh           0.157990\n",
       "rollover          0.156082\n",
       "rel_road          0.153681\n",
       "vnumber2          0.149691\n",
       "a_roadfc          0.146419\n",
       "fire_exp          0.143041\n",
       "a_ped             0.142591\n",
       "a_ped_f           0.141005\n",
       "a_lt              0.140541\n",
       "soe               0.139265\n",
       "location          0.131404\n",
       "aoi2              0.127872\n",
       "per_typ           0.114434\n",
       "fatals            0.107609\n",
       "binary_fatals     0.103747\n",
       "drunk             0.101006\n",
       "drunk_dr          0.094594\n",
       "a_inter           0.094145\n",
       "air_bag           0.089008\n",
       "a_intsec          0.083291\n",
       "a_hr              0.065674\n",
       "route             0.065664\n",
       "a_d21_24          0.063707\n",
       "a_d65pls          0.062713\n",
       "Name: inj_sev, dtype: float64"
      ]
     },
     "execution_count": 125,
     "metadata": {},
     "output_type": "execute_result"
    }
   ],
   "source": [
    "pd.set_option('display.max.columns', None)\n",
    "correlations2.head(40)"
   ]
  },
  {
   "cell_type": "code",
   "execution_count": 56,
   "id": "84866c47-5a32-4070-82be-d3d410f89c18",
   "metadata": {},
   "outputs": [],
   "source": [
    "accidents_df = accidents_df.drop(columns=['tway_id', 'statename', 'weathername', 'year', 'aoi1name', 'soename', 'vnumber2name', 'aoi2name', 'rail', 'crashrfname'])"
   ]
  },
  {
   "cell_type": "markdown",
   "id": "6005e8d3-9dce-48ba-abde-0af2f060ffe2",
   "metadata": {},
   "source": [
    "# Let's check to see which features would be the best to use to predict fatality "
   ]
  },
  {
   "cell_type": "code",
   "execution_count": 86,
   "id": "789aaac9-8e81-4bc0-89e2-bd5f16bf6aa6",
   "metadata": {},
   "outputs": [],
   "source": [
    "from sklearn.feature_selection import SelectKBest\n",
    "from sklearn.feature_selection import chi2"
   ]
  },
  {
   "cell_type": "code",
   "execution_count": 87,
   "id": "4b3dbfb0-79e2-417d-a6fd-f7fe681c2793",
   "metadata": {},
   "outputs": [],
   "source": [
    "features = ['inj_sev', 'persons', 'peds', 've_total']"
   ]
  },
  {
   "cell_type": "code",
   "execution_count": 124,
   "id": "383a52c5-6e0d-4f5a-81a5-e8060e113b7a",
   "metadata": {},
   "outputs": [
    {
     "name": "stdout",
     "output_type": "stream",
     "text": [
      "      Specs         Score\n",
      "1   persons  26074.760656\n",
      "0   inj_sev   2927.346604\n",
      "3  ve_total   2886.277084\n",
      "2      peds   2084.111283\n"
     ]
    }
   ],
   "source": [
    "X = accidents_df[features]\n",
    "y = accidents_df['binary_fatals']\n",
    "\n",
    "bestfeatures = SelectKBest(score_func=chi2, k=2)\n",
    "fit = bestfeatures.fit(X,y)\n",
    "dfscores = pd.DataFrame(fit.scores_)\n",
    "dfcolumns = pd.DataFrame(X.columns)\n",
    "\n",
    "featureScores = pd.concat([dfcolumns, dfscores], axis=1)\n",
    "featureScores.columns = ['Specs', 'Score']\n",
    "print(featureScores.nlargest(10, 'Score'))\n"
   ]
  },
  {
   "cell_type": "markdown",
   "id": "a7300b13-e5f4-4ba4-81e1-cadb33656a5f",
   "metadata": {},
   "source": [
    "### Now we will try a Feature Importance Method"
   ]
  },
  {
   "cell_type": "code",
   "execution_count": 89,
   "id": "43783716-4f92-475f-9f7e-07819f7d457e",
   "metadata": {},
   "outputs": [
    {
     "name": "stdout",
     "output_type": "stream",
     "text": [
      "[0.13800425 0.51778714 0.13921318 0.20499544]\n"
     ]
    },
    {
     "data": {
      "image/png": "[encoded data removed]",
      "text/plain": [
       "<Figure size 1440x720 with 1 Axes>"
      ]
     },
     "metadata": {
      "needs_background": "light"
     },
     "output_type": "display_data"
    }
   ],
   "source": [
    "from sklearn.ensemble import ExtraTreesRegressor\n",
    "\n",
    "plt.figure(figsize=(20,10))\n",
    "\n",
    "plt.xlabel('my x label', size = 20)\n",
    "plt.ylabel('my y label', size = 30)\n",
    "plt.title('my title', size = 40)\n",
    "plt.xticks(size = 10)\n",
    "plt.yticks(size = 10)\n",
    "\n",
    "model = ExtraTreesRegressor()\n",
    "model.fit(X,y)\n",
    "print(model.feature_importances_)\n",
    "feat_importances = pd.Series(model.feature_importances_, index=X.columns)\n",
    "feat_importances.nlargest(10).plot(kind='barh')\n",
    "plt.show()"
   ]
  },
  {
   "cell_type": "code",
   "execution_count": 90,
   "id": "ed1ec96d-edc7-4621-a9a1-81a7c6e47ba2",
   "metadata": {},
   "outputs": [],
   "source": [
    "#[['st_case', 'vnumber2', 'milept', 'crashrf', 'persons', 'man_coll', 'rd_owner', 'weather', 'a_weather', 'county', 'persons', 'hosp_hr', 'county', 'day', 'minute', \n",
    " #               'month', 'hour', 'latitude', 'peds']]"
   ]
  },
  {
   "cell_type": "markdown",
   "id": "6a1a2cb1-50c0-4e28-942b-92a29dc2687e",
   "metadata": {},
   "source": [
    "#### Lets create our mini Databases"
   ]
  },
  {
   "cell_type": "code",
   "execution_count": 91,
   "id": "21f9d08e-177d-48a9-97c7-62564d1d5383",
   "metadata": {},
   "outputs": [],
   "source": [
    "from scipy.stats import entropy\n"
   ]
  },
  {
   "cell_type": "code",
   "execution_count": 92,
   "id": "3e1be802-767c-4c86-815a-e47c36300ec2",
   "metadata": {},
   "outputs": [],
   "source": [
    "# THis db is for the chi squared version\n",
    "\n",
    "X= accidents_df[features]\n",
    "\n",
    "y = accidents_df[['binary_fatals']]\n",
    "\n",
    "# drop state case from model\n",
    "# add workzone/ light condition / weather/ \n",
    "# make sure to clean data from columns"
   ]
  },
  {
   "cell_type": "code",
   "execution_count": 93,
   "id": "ec098180-8d4b-46aa-ab9d-9c1922722c2c",
   "metadata": {},
   "outputs": [],
   "source": [
    "#split data into train test split\n",
    "\n",
    "from sklearn.model_selection import train_test_split\n",
    "X_train, X_test, y_train, y_test = train_test_split(X, y, test_size = .2, random_state = 42, stratify=y)"
   ]
  },
  {
   "cell_type": "code",
   "execution_count": 94,
   "id": "6b855bb5-ce78-4255-ad4f-e54e2f11d000",
   "metadata": {},
   "outputs": [],
   "source": [
    "from sklearn.preprocessing import StandardScaler"
   ]
  },
  {
   "cell_type": "code",
   "execution_count": 95,
   "id": "425ac7cb-2af0-4b73-91d4-c2752688f974",
   "metadata": {},
   "outputs": [],
   "source": [
    "sc_X = StandardScaler()\n",
    "\n",
    "X_train2 = pd.DataFrame(sc_X.fit_transform(X_train))\n",
    "\n",
    "X_test2 = pd.DataFrame(sc_X.transform(X_test)) #we do the feature scaling\n",
    "\n",
    "X_train2.columns = X_train.columns.values\n",
    "X_test2.columns = X_test.columns.values\n",
    "\n",
    "X_train2.index = X_train.index.values\n",
    "X_test2.index = X_test.index.values\n",
    "\n",
    "X_train = X_train2\n",
    "X_test = X_test2"
   ]
  },
  {
   "cell_type": "code",
   "execution_count": 96,
   "id": "d06c6552-cd6a-4041-b5cc-2aa2d7976aef",
   "metadata": {},
   "outputs": [],
   "source": [
    "from sklearn.neighbors import KNeighborsRegressor\n",
    "from sklearn.linear_model import LogisticRegression\n",
    "from sklearn.naive_bayes import GaussianNB\n",
    "from sklearn.tree import DecisionTreeRegressor\n",
    "from sklearn.ensemble import RandomForestRegressor\n",
    "\n",
    "forest = RandomForestRegressor(n_estimators=10, #criterion='crossentropy',\n",
    "                              random_state=0)\n",
    "tree = DecisionTreeRegressor(#criterion='crossentropy', \n",
    "                             random_state=0)\n",
    "bayes = GaussianNB()\n",
    "k_nn = KNeighborsRegressor(n_neighbors=5, metric='minkowski', p =2)\n",
    "log = LogisticRegression(random_state=0)\n",
    "\n",
    "models = [forest, tree, bayes, k_nn, log]\n",
    "scores = []"
   ]
  },
  {
   "cell_type": "code",
   "execution_count": 97,
   "id": "47a94ccc-0422-44fc-8446-b40cbf92a32a",
   "metadata": {},
   "outputs": [
    {
     "data": {
      "text/plain": [
       "LinearRegression()"
      ]
     },
     "execution_count": 97,
     "metadata": {},
     "output_type": "execute_result"
    }
   ],
   "source": [
    "lr = LinearRegression()\n",
    "lr.fit(X_train,y_train)\n",
    "#try this as a regressor "
   ]
  },
  {
   "cell_type": "code",
   "execution_count": 98,
   "id": "46fa9f6b-6e10-46b3-bcd6-cfa7c1c76008",
   "metadata": {},
   "outputs": [
    {
     "data": {
      "text/plain": [
       "0.0856988862314928"
      ]
     },
     "execution_count": 98,
     "metadata": {},
     "output_type": "execute_result"
    }
   ],
   "source": [
    "# Train score\n",
    "lr.score(X_train,y_train)"
   ]
  },
  {
   "cell_type": "code",
   "execution_count": 101,
   "id": "56523be8-5c2e-49d6-9af5-d4f4e1cd9f24",
   "metadata": {},
   "outputs": [
    {
     "name": "stderr",
     "output_type": "stream",
     "text": [
      "C:\\Users\\Ricardo\\anaconda3\\lib\\site-packages\\sklearn\\utils\\validation.py:63: DataConversionWarning: A column-vector y was passed when a 1d array was expected. Please change the shape of y to (n_samples, ), for example using ravel().\n",
      "  return f(*args, **kwargs)\n"
     ]
    },
    {
     "data": {
      "text/plain": [
       "LogisticRegression()"
      ]
     },
     "execution_count": 101,
     "metadata": {},
     "output_type": "execute_result"
    }
   ],
   "source": [
    "lg = LogisticRegression()\n",
    "lg.fit(X_train, y_train)"
   ]
  },
  {
   "cell_type": "code",
   "execution_count": 102,
   "id": "9f9f9810-dae4-4295-a52d-c850745d6035",
   "metadata": {},
   "outputs": [
    {
     "data": {
      "text/plain": [
       "0.8491809177416767"
      ]
     },
     "execution_count": 102,
     "metadata": {},
     "output_type": "execute_result"
    }
   ],
   "source": [
    "lg.score(X_train, y_train)"
   ]
  },
  {
   "cell_type": "code",
   "execution_count": 103,
   "id": "448a29f8-6d6d-48f1-8871-c4c6d3f227cd",
   "metadata": {},
   "outputs": [
    {
     "name": "stderr",
     "output_type": "stream",
     "text": [
      "<ipython-input-103-e0147d7dbc7c>:1: DataConversionWarning: A column-vector y was passed when a 1d array was expected. Please change the shape of y to (n_samples,), for example using ravel().\n",
      "  forest.fit(X_train, y_train)\n"
     ]
    },
    {
     "data": {
      "text/plain": [
       "RandomForestRegressor(n_estimators=10, random_state=0)"
      ]
     },
     "execution_count": 103,
     "metadata": {},
     "output_type": "execute_result"
    }
   ],
   "source": [
    "forest.fit(X_train, y_train)"
   ]
  },
  {
   "cell_type": "code",
   "execution_count": 104,
   "id": "34970de3-e29f-4f0b-b080-ffacf085a0ee",
   "metadata": {},
   "outputs": [
    {
     "data": {
      "text/plain": [
       "0.2783946420891572"
      ]
     },
     "execution_count": 104,
     "metadata": {},
     "output_type": "execute_result"
    }
   ],
   "source": [
    "forest.score(X_train, y_train)"
   ]
  },
  {
   "cell_type": "code",
   "execution_count": 106,
   "id": "73c9ab28-34fb-4767-a87a-ccc6d7e965c4",
   "metadata": {},
   "outputs": [],
   "source": [
    "from sklearn.neighbors import KNeighborsClassifier"
   ]
  },
  {
   "cell_type": "code",
   "execution_count": 107,
   "id": "505534a8-973d-45e4-a6b5-8f26209a8db3",
   "metadata": {},
   "outputs": [],
   "source": [
    "knn = KNeighborsClassifier()"
   ]
  },
  {
   "cell_type": "code",
   "execution_count": 111,
   "id": "fad48edb-5384-404f-8ef7-8227652fc49d",
   "metadata": {},
   "outputs": [
    {
     "data": {
      "text/plain": [
       "KNeighborsClassifier()"
      ]
     },
     "execution_count": 111,
     "metadata": {},
     "output_type": "execute_result"
    }
   ],
   "source": [
    "knn.fit(X_train, y_train.values.ravel())"
   ]
  },
  {
   "cell_type": "code",
   "execution_count": 112,
   "id": "b5005ebd-2aec-4fb5-8734-faea1277f303",
   "metadata": {},
   "outputs": [
    {
     "data": {
      "text/plain": [
       "0.8631361927870191"
      ]
     },
     "execution_count": 112,
     "metadata": {},
     "output_type": "execute_result"
    }
   ],
   "source": [
    "knn.score(X_train, y_train)"
   ]
  },
  {
   "cell_type": "code",
   "execution_count": 118,
   "id": "86559015-c68c-4b5e-8318-3765629f7f1e",
   "metadata": {},
   "outputs": [
    {
     "data": {
      "text/plain": [
       "0.8608188271905086"
      ]
     },
     "execution_count": 118,
     "metadata": {},
     "output_type": "execute_result"
    }
   ],
   "source": [
    "knn.score(X_test, y_test)"
   ]
  },
  {
   "cell_type": "code",
   "execution_count": 119,
   "id": "6ef84bef-802e-4546-ab01-6da924eda1a8",
   "metadata": {},
   "outputs": [],
   "source": [
    "from sklearn.ensemble import RandomForestClassifier"
   ]
  },
  {
   "cell_type": "code",
   "execution_count": 120,
   "id": "30b4dcf4-7e8c-472e-b05c-fa5b54290636",
   "metadata": {},
   "outputs": [],
   "source": [
    "rf = RandomForestClassifier()"
   ]
  },
  {
   "cell_type": "code",
   "execution_count": 121,
   "id": "20c9e334-3085-4059-b2da-33ff2a2058af",
   "metadata": {},
   "outputs": [
    {
     "name": "stderr",
     "output_type": "stream",
     "text": [
      "<ipython-input-121-168a6fc83696>:1: DataConversionWarning: A column-vector y was passed when a 1d array was expected. Please change the shape of y to (n_samples,), for example using ravel().\n",
      "  rf.fit(X_train, y_train)\n"
     ]
    },
    {
     "data": {
      "text/plain": [
       "RandomForestClassifier()"
      ]
     },
     "execution_count": 121,
     "metadata": {},
     "output_type": "execute_result"
    }
   ],
   "source": [
    "rf.fit(X_train, y_train)"
   ]
  },
  {
   "cell_type": "code",
   "execution_count": 122,
   "id": "24219bcd-5b53-48c6-929f-e33920ba3082",
   "metadata": {},
   "outputs": [
    {
     "data": {
      "text/plain": [
       "0.8686764562870758"
      ]
     },
     "execution_count": 122,
     "metadata": {},
     "output_type": "execute_result"
    }
   ],
   "source": [
    "rf.score(X_test, y_test)"
   ]
  },
  {
   "cell_type": "code",
   "execution_count": 115,
   "id": "4fecaa22-abc1-4d37-be43-539f756d7f4c",
   "metadata": {},
   "outputs": [],
   "source": [
    "#accidents_df['binary_fatals'].value_counts()"
   ]
  },
  {
   "cell_type": "code",
   "execution_count": 116,
   "id": "51e03248-13c5-4aa1-b0c6-f21b7aed9646",
   "metadata": {},
   "outputs": [],
   "source": [
    "#accidents_df['binary_fatals'].mean()"
   ]
  },
  {
   "cell_type": "code",
   "execution_count": null,
   "id": "d780c602-fd57-46a7-bb80-1fb76c78bd57",
   "metadata": {},
   "outputs": [],
   "source": []
  },
  {
   "cell_type": "code",
   "execution_count": 113,
   "id": "cd2dab49-7338-4f2f-87da-53d5d1cd3e82",
   "metadata": {},
   "outputs": [],
   "source": [
    "from sklearn.model_selection import cross_val_score\n",
    "from sklearn.model_selection import StratifiedKFold\n",
    "\n",
    "kfold = StratifiedKFold(n_splits=10, shuffle=True, random_state=1)\n",
    "\n",
    "for mod in models:\n",
    "    mod.fit(X_train, y_train.values.ravel())\n",
    "    acc = cross_val_score(mod, X_train, y_train.values.ravel(),\n",
    "                         scoring = 'accuracy', cv=kfold, n_jobs=-1)\n",
    "    scores.append(acc.mean())"
   ]
  },
  {
   "cell_type": "code",
   "execution_count": 114,
   "id": "898d8aac-3d27-46a4-a29f-427766fc1e55",
   "metadata": {},
   "outputs": [],
   "source": [
    "results = pd.DataFrame({\n",
    "    'Model': ['Random Forest', 'Decision Tree', 'Naive Bayes',\n",
    "             'K Nearest Neighbor', 'Logistic Regression'],\n",
    "    'Accuracy (Chi-Squared)': scores})\n",
    "\n",
    "result_df = results.sort_values(by='Accuracy (Chi-Squared)',\n",
    "                               ascending=False).reset_index(drop=True)\n",
    "result_df = result_df.transpose()"
   ]
  },
  {
   "cell_type": "code",
   "execution_count": null,
   "id": "772e99bc-1e4e-4057-bc37-86a3d026a0fe",
   "metadata": {},
   "outputs": [],
   "source": []
  },
  {
   "cell_type": "code",
   "execution_count": null,
   "id": "85133fe8-c86a-40df-911b-2e751fbf86d9",
   "metadata": {},
   "outputs": [],
   "source": []
  },
  {
   "cell_type": "code",
   "execution_count": null,
   "id": "86d9d431-cbc6-4a9a-a77d-0d9535d9369d",
   "metadata": {},
   "outputs": [],
   "source": []
  },
  {
   "cell_type": "code",
   "execution_count": null,
   "id": "bca43431-535f-414f-bbd6-7bb17dba223e",
   "metadata": {},
   "outputs": [],
   "source": []
  },
  {
   "cell_type": "code",
   "execution_count": null,
   "id": "915035c2-79b9-44d3-a493-f4c0f6292840",
   "metadata": {},
   "outputs": [],
   "source": []
  },
  {
   "cell_type": "code",
   "execution_count": null,
   "id": "9719288d-51e6-451e-b8f6-70fa0d82da3d",
   "metadata": {},
   "outputs": [],
   "source": []
  }
 ],
 "metadata": {
  "kernelspec": {
   "display_name": "Python 3",
   "language": "python",
   "name": "python3"
  },
  "language_info": {
   "codemirror_mode": {
    "name": "ipython",
    "version": 3
   },
   "file_extension": ".py",
   "mimetype": "text/x-python",
   "name": "python",
   "nbconvert_exporter": "python",
   "pygments_lexer": "ipython3",
   "version": "3.8.8"
  }
 },
 "nbformat": 4,
 "nbformat_minor": 5
}
