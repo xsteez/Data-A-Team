{
 "cells": [
  {
   "cell_type": "markdown",
   "metadata": {},
   "source": [
    "# PROJECT 5 \n",
    "Kehinde Ajayi"
   ]
  },
  {
   "cell_type": "markdown",
   "metadata": {},
   "source": [
    "## CREATE MULTI-YEAR DATAFRAMES FROM FARS DATA"
   ]
  },
  {
   "cell_type": "code",
   "execution_count": 2,
   "metadata": {},
   "outputs": [],
   "source": [
    "import numpy as np\n",
    "import pandas as pd\n",
    "\n",
    "import os\n",
    "\n"
   ]
  },
  {
   "cell_type": "code",
   "execution_count": 15,
   "metadata": {},
   "outputs": [],
   "source": [
    "# function for merging data\n",
    "\n",
    "def get_merged_dataframes(main_df, main_df_columns, csv_files, year, merge_columns):\n",
    "    \n",
    "    df1 = pd.read_csv(f'./data/{year}_fars/{main_df}.csv', encoding='unicode_escape')\n",
    "    df1.columns = df1.columns.str.lower()\n",
    "    merged_dataframe = df1[df1.columns.intersection(main_df_columns)]\n",
    "    \n",
    "    for csv in csv_files:\n",
    "        try:\n",
    "            df2 = pd.read_csv(f'./data/{year}_fars/{csv}.csv')\n",
    "            df2.columns = df2.columns.str.lower() \n",
    "            merged_dataframe = pd.merge(merged_dataframe, df2, how='outer', on=merge_columns, suffixes=('', '_remove'))\n",
    "            merged_dataframe = merged_dataframe.drop([column for column in merged_dataframe.columns if 'remove' in column], axis=1)\n",
    "        except FileNotFoundError:\n",
    "            print(f'The {csv} file does not exist for the year {year}.')           \n",
    "    \n",
    "    merged_dataframe.loc[:,'data_year'] = year\n",
    "    \n",
    "    return merged_dataframe"
   ]
  },
  {
   "cell_type": "markdown",
   "metadata": {},
   "source": [
    "#### Merge all person-level data"
   ]
  },
  {
   "cell_type": "code",
   "execution_count": 7,
   "metadata": {},
   "outputs": [],
   "source": [
    "def combine_person_data(start_year, end_year=None):  \n",
    "    \n",
    "    person_columns = ['state', 'st_case', 'veh_no', 'per_no', 'county', 'age', 'sex', \n",
    "                      'per_typ', 'inj_sev', 'seat_pos', 'rest_use', 'rest_mis', 'air_bag', 'ejection',\n",
    "                      'ej_path', 'extricat', 'drinking', 'alc_det', 'alc_status', 'atst_typ', 'alc_res',\n",
    "                      'drugs', 'drug_det', 'dstatus', 'hospital', 'doa', 'death_da', 'death_mo', \n",
    "                      'death_yr', 'death_hr', 'death_mn', 'death_tm', 'n_mot_no', 'location',\n",
    "                      'helm_use', 'helm_mis', 'str_veh']\n",
    "    \n",
    "    csvs_to_merge = ['nmprior', 'nmcrash', 'nmimpair',\n",
    "                       'safetyeq', 'nmdistract', 'drugs']\n",
    "    \n",
    "    merge_columns = ['state', 'st_case', 'veh_no', 'per_no']\n",
    "    \n",
    "    if end_year is None:\n",
    "        end_year = start_year\n",
    "    \n",
    "    full_df_list = [get_merged_dataframes('person', person_columns, csvs_to_merge, year, merge_columns) for year in range(start_year, end_year + 1)]\n",
    "    \n",
    "    return pd.concat(full_df_list, ignore_index=True)\n",
    "        "
   ]
  },
  {
   "cell_type": "code",
   "execution_count": null,
   "metadata": {},
   "outputs": [],
   "source": [
    "      \n",
    "full_person_df = combine_person_data(2010, 2020)\n"
   ]
  },
  {
   "cell_type": "code",
   "execution_count": null,
   "metadata": {},
   "outputs": [],
   "source": [
    "full_person_df.shape"
   ]
  },
  {
   "cell_type": "code",
   "execution_count": null,
   "metadata": {},
   "outputs": [],
   "source": [
    "full_person_df.head()"
   ]
  },
  {
   "cell_type": "markdown",
   "metadata": {},
   "source": [
    "#### Merge all driver-level data"
   ]
  },
  {
   "cell_type": "code",
   "execution_count": 18,
   "metadata": {},
   "outputs": [],
   "source": [
    "def combine_driver_data(start_year, end_year=None):  \n",
    "    \n",
    "    driver_columns = ['state', 'st_case', 'veh_no', 'dr_pres', 'l_state', 'dr_zip', 'l_type', 'l_status', \n",
    "                      'cdl_stat', 'l_endors', 'l_compl', 'l_restri', 'dr_hgt', 'dr_wgt', 'prev_oth',\n",
    "                      'first_mo', 'first_yr', 'last_mo', 'last_yr', 'speedrel' ]\n",
    "          \n",
    "    csvs_to_merge = ['violatn', 'drimpair', 'driverrf'] \n",
    "    \n",
    "    merge_columns = ['state', 'st_case', 'veh_no']\n",
    "    \n",
    "    if end_year is None:\n",
    "        end_year = start_year\n",
    "    \n",
    "    full_df_list = [get_merged_dataframes('vehicle', driver_columns, csvs_to_merge, year, merge_columns) for year in range(start_year, end_year + 1)]\n",
    "    \n",
    "    return pd.concat(full_df_list, ignore_index=True)\n",
    "        "
   ]
  },
  {
   "cell_type": "code",
   "execution_count": null,
   "metadata": {},
   "outputs": [],
   "source": [
    "      \n",
    "full_driver_df = combine_driver_data(2010, 2020)\n"
   ]
  },
  {
   "cell_type": "code",
   "execution_count": null,
   "metadata": {},
   "outputs": [],
   "source": [
    "full_driver_df.shape"
   ]
  },
  {
   "cell_type": "code",
   "execution_count": null,
   "metadata": {},
   "outputs": [],
   "source": [
    "full_driver_df.head()"
   ]
  },
  {
   "cell_type": "markdown",
   "metadata": {},
   "source": [
    "### Save multi-year person- and driver-level data in separate .csv files"
   ]
  },
  {
   "cell_type": "code",
   "execution_count": 18,
   "metadata": {},
   "outputs": [],
   "source": [
    "full_person_df.to_csv('./data/person-level_data_2010-2020.csv', index=False)"
   ]
  },
  {
   "cell_type": "code",
   "execution_count": 19,
   "metadata": {},
   "outputs": [],
   "source": [
    "full_driver_df.to_csv('./data/driver-level_data_2010-2020.csv', index=False)"
   ]
  }
 ],
 "metadata": {
  "interpreter": {
   "hash": "14fbf35ae29aaef9ec85ed54127d8f739882b43edc5189ff8e97bf95ba3ac371"
  },
  "kernelspec": {
   "display_name": "Python 3 (ipykernel)",
   "language": "python",
   "name": "python3"
  },
  "language_info": {
   "codemirror_mode": {
    "name": "ipython",
    "version": 3
   },
   "file_extension": ".py",
   "mimetype": "text/x-python",
   "name": "python",
   "nbconvert_exporter": "python",
   "pygments_lexer": "ipython3",
   "version": "3.8.12"
  }
 },
 "nbformat": 4,
 "nbformat_minor": 4
}
